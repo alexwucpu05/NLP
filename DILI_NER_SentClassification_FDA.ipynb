{
  "nbformat": 4,
  "nbformat_minor": 0,
  "metadata": {
    "colab": {
      "name": "DILI_NER-SentClassification_FDA.ipynb",
      "provenance": [],
      "collapsed_sections": [],
      "toc_visible": true,
      "authorship_tag": "ABX9TyN459/K6K116hh6bgR5Wgv6",
      "include_colab_link": true
    },
    "kernelspec": {
      "name": "python3",
      "display_name": "Python 3"
    },
    "accelerator": "GPU",
    "widgets": {
      "application/vnd.jupyter.widget-state+json": {
        "27a45d2ee8ff4001a702a59e1b315ae5": {
          "model_module": "@jupyter-widgets/controls",
          "model_name": "HBoxModel",
          "model_module_version": "1.5.0",
          "state": {
            "_view_name": "HBoxView",
            "_dom_classes": [],
            "_model_name": "HBoxModel",
            "_view_module": "@jupyter-widgets/controls",
            "_model_module_version": "1.5.0",
            "_view_count": null,
            "_view_module_version": "1.5.0",
            "box_style": "",
            "layout": "IPY_MODEL_410cd2993b9747eeb6cac75fe17b7637",
            "_model_module": "@jupyter-widgets/controls",
            "children": [
              "IPY_MODEL_63611f2e29af4f749cb7b18816916a04",
              "IPY_MODEL_9b3f90e5cd4244e184c0f2023418f10b",
              "IPY_MODEL_3b79258fd0be417d9b2ecec1eb535fdf"
            ]
          }
        },
        "410cd2993b9747eeb6cac75fe17b7637": {
          "model_module": "@jupyter-widgets/base",
          "model_name": "LayoutModel",
          "model_module_version": "1.2.0",
          "state": {
            "_view_name": "LayoutView",
            "grid_template_rows": null,
            "right": null,
            "justify_content": null,
            "_view_module": "@jupyter-widgets/base",
            "overflow": null,
            "_model_module_version": "1.2.0",
            "_view_count": null,
            "flex_flow": null,
            "width": null,
            "min_width": null,
            "border": null,
            "align_items": null,
            "bottom": null,
            "_model_module": "@jupyter-widgets/base",
            "top": null,
            "grid_column": null,
            "overflow_y": null,
            "overflow_x": null,
            "grid_auto_flow": null,
            "grid_area": null,
            "grid_template_columns": null,
            "flex": null,
            "_model_name": "LayoutModel",
            "justify_items": null,
            "grid_row": null,
            "max_height": null,
            "align_content": null,
            "visibility": null,
            "align_self": null,
            "height": null,
            "min_height": null,
            "padding": null,
            "grid_auto_rows": null,
            "grid_gap": null,
            "max_width": null,
            "order": null,
            "_view_module_version": "1.2.0",
            "grid_template_areas": null,
            "object_position": null,
            "object_fit": null,
            "grid_auto_columns": null,
            "margin": null,
            "display": null,
            "left": null
          }
        },
        "63611f2e29af4f749cb7b18816916a04": {
          "model_module": "@jupyter-widgets/controls",
          "model_name": "HTMLModel",
          "model_module_version": "1.5.0",
          "state": {
            "_view_name": "HTMLView",
            "style": "IPY_MODEL_ba5cb9f7e22f4324b2e216310233c0d7",
            "_dom_classes": [],
            "description": "",
            "_model_name": "HTMLModel",
            "placeholder": "​",
            "_view_module": "@jupyter-widgets/controls",
            "_model_module_version": "1.5.0",
            "value": "Downloading: 100%",
            "_view_count": null,
            "_view_module_version": "1.5.0",
            "description_tooltip": null,
            "_model_module": "@jupyter-widgets/controls",
            "layout": "IPY_MODEL_8f26b879a9854a98a775183b226668b8"
          }
        },
        "9b3f90e5cd4244e184c0f2023418f10b": {
          "model_module": "@jupyter-widgets/controls",
          "model_name": "FloatProgressModel",
          "model_module_version": "1.5.0",
          "state": {
            "_view_name": "ProgressView",
            "style": "IPY_MODEL_badadc1d6ae247919428e4d6c12302ea",
            "_dom_classes": [],
            "description": "",
            "_model_name": "FloatProgressModel",
            "bar_style": "success",
            "max": 231508,
            "_view_module": "@jupyter-widgets/controls",
            "_model_module_version": "1.5.0",
            "value": 231508,
            "_view_count": null,
            "_view_module_version": "1.5.0",
            "orientation": "horizontal",
            "min": 0,
            "description_tooltip": null,
            "_model_module": "@jupyter-widgets/controls",
            "layout": "IPY_MODEL_9fea6b196fad47a483498e6ff00ee237"
          }
        },
        "3b79258fd0be417d9b2ecec1eb535fdf": {
          "model_module": "@jupyter-widgets/controls",
          "model_name": "HTMLModel",
          "model_module_version": "1.5.0",
          "state": {
            "_view_name": "HTMLView",
            "style": "IPY_MODEL_1da688b19efd4b799634d1e717384907",
            "_dom_classes": [],
            "description": "",
            "_model_name": "HTMLModel",
            "placeholder": "​",
            "_view_module": "@jupyter-widgets/controls",
            "_model_module_version": "1.5.0",
            "value": " 226k/226k [00:00&lt;00:00, 926kB/s]",
            "_view_count": null,
            "_view_module_version": "1.5.0",
            "description_tooltip": null,
            "_model_module": "@jupyter-widgets/controls",
            "layout": "IPY_MODEL_bdba7aead1cb4e83892a089235d5c005"
          }
        },
        "ba5cb9f7e22f4324b2e216310233c0d7": {
          "model_module": "@jupyter-widgets/controls",
          "model_name": "DescriptionStyleModel",
          "model_module_version": "1.5.0",
          "state": {
            "_view_name": "StyleView",
            "_model_name": "DescriptionStyleModel",
            "description_width": "",
            "_view_module": "@jupyter-widgets/base",
            "_model_module_version": "1.5.0",
            "_view_count": null,
            "_view_module_version": "1.2.0",
            "_model_module": "@jupyter-widgets/controls"
          }
        },
        "8f26b879a9854a98a775183b226668b8": {
          "model_module": "@jupyter-widgets/base",
          "model_name": "LayoutModel",
          "model_module_version": "1.2.0",
          "state": {
            "_view_name": "LayoutView",
            "grid_template_rows": null,
            "right": null,
            "justify_content": null,
            "_view_module": "@jupyter-widgets/base",
            "overflow": null,
            "_model_module_version": "1.2.0",
            "_view_count": null,
            "flex_flow": null,
            "width": null,
            "min_width": null,
            "border": null,
            "align_items": null,
            "bottom": null,
            "_model_module": "@jupyter-widgets/base",
            "top": null,
            "grid_column": null,
            "overflow_y": null,
            "overflow_x": null,
            "grid_auto_flow": null,
            "grid_area": null,
            "grid_template_columns": null,
            "flex": null,
            "_model_name": "LayoutModel",
            "justify_items": null,
            "grid_row": null,
            "max_height": null,
            "align_content": null,
            "visibility": null,
            "align_self": null,
            "height": null,
            "min_height": null,
            "padding": null,
            "grid_auto_rows": null,
            "grid_gap": null,
            "max_width": null,
            "order": null,
            "_view_module_version": "1.2.0",
            "grid_template_areas": null,
            "object_position": null,
            "object_fit": null,
            "grid_auto_columns": null,
            "margin": null,
            "display": null,
            "left": null
          }
        },
        "badadc1d6ae247919428e4d6c12302ea": {
          "model_module": "@jupyter-widgets/controls",
          "model_name": "ProgressStyleModel",
          "model_module_version": "1.5.0",
          "state": {
            "_view_name": "StyleView",
            "_model_name": "ProgressStyleModel",
            "description_width": "",
            "_view_module": "@jupyter-widgets/base",
            "_model_module_version": "1.5.0",
            "_view_count": null,
            "_view_module_version": "1.2.0",
            "bar_color": null,
            "_model_module": "@jupyter-widgets/controls"
          }
        },
        "9fea6b196fad47a483498e6ff00ee237": {
          "model_module": "@jupyter-widgets/base",
          "model_name": "LayoutModel",
          "model_module_version": "1.2.0",
          "state": {
            "_view_name": "LayoutView",
            "grid_template_rows": null,
            "right": null,
            "justify_content": null,
            "_view_module": "@jupyter-widgets/base",
            "overflow": null,
            "_model_module_version": "1.2.0",
            "_view_count": null,
            "flex_flow": null,
            "width": null,
            "min_width": null,
            "border": null,
            "align_items": null,
            "bottom": null,
            "_model_module": "@jupyter-widgets/base",
            "top": null,
            "grid_column": null,
            "overflow_y": null,
            "overflow_x": null,
            "grid_auto_flow": null,
            "grid_area": null,
            "grid_template_columns": null,
            "flex": null,
            "_model_name": "LayoutModel",
            "justify_items": null,
            "grid_row": null,
            "max_height": null,
            "align_content": null,
            "visibility": null,
            "align_self": null,
            "height": null,
            "min_height": null,
            "padding": null,
            "grid_auto_rows": null,
            "grid_gap": null,
            "max_width": null,
            "order": null,
            "_view_module_version": "1.2.0",
            "grid_template_areas": null,
            "object_position": null,
            "object_fit": null,
            "grid_auto_columns": null,
            "margin": null,
            "display": null,
            "left": null
          }
        },
        "1da688b19efd4b799634d1e717384907": {
          "model_module": "@jupyter-widgets/controls",
          "model_name": "DescriptionStyleModel",
          "model_module_version": "1.5.0",
          "state": {
            "_view_name": "StyleView",
            "_model_name": "DescriptionStyleModel",
            "description_width": "",
            "_view_module": "@jupyter-widgets/base",
            "_model_module_version": "1.5.0",
            "_view_count": null,
            "_view_module_version": "1.2.0",
            "_model_module": "@jupyter-widgets/controls"
          }
        },
        "bdba7aead1cb4e83892a089235d5c005": {
          "model_module": "@jupyter-widgets/base",
          "model_name": "LayoutModel",
          "model_module_version": "1.2.0",
          "state": {
            "_view_name": "LayoutView",
            "grid_template_rows": null,
            "right": null,
            "justify_content": null,
            "_view_module": "@jupyter-widgets/base",
            "overflow": null,
            "_model_module_version": "1.2.0",
            "_view_count": null,
            "flex_flow": null,
            "width": null,
            "min_width": null,
            "border": null,
            "align_items": null,
            "bottom": null,
            "_model_module": "@jupyter-widgets/base",
            "top": null,
            "grid_column": null,
            "overflow_y": null,
            "overflow_x": null,
            "grid_auto_flow": null,
            "grid_area": null,
            "grid_template_columns": null,
            "flex": null,
            "_model_name": "LayoutModel",
            "justify_items": null,
            "grid_row": null,
            "max_height": null,
            "align_content": null,
            "visibility": null,
            "align_self": null,
            "height": null,
            "min_height": null,
            "padding": null,
            "grid_auto_rows": null,
            "grid_gap": null,
            "max_width": null,
            "order": null,
            "_view_module_version": "1.2.0",
            "grid_template_areas": null,
            "object_position": null,
            "object_fit": null,
            "grid_auto_columns": null,
            "margin": null,
            "display": null,
            "left": null
          }
        },
        "c3fb14eff7224128a2e9d5d8ce604c99": {
          "model_module": "@jupyter-widgets/controls",
          "model_name": "HBoxModel",
          "model_module_version": "1.5.0",
          "state": {
            "_view_name": "HBoxView",
            "_dom_classes": [],
            "_model_name": "HBoxModel",
            "_view_module": "@jupyter-widgets/controls",
            "_model_module_version": "1.5.0",
            "_view_count": null,
            "_view_module_version": "1.5.0",
            "box_style": "",
            "layout": "IPY_MODEL_e4f0e3d94f4341a0857a6e3d4d3d4c0e",
            "_model_module": "@jupyter-widgets/controls",
            "children": [
              "IPY_MODEL_02ea5cfb582c4eefb9315a133a414dce",
              "IPY_MODEL_4fa0c3fb9c6a477db8e1cb58ec0c2746",
              "IPY_MODEL_48f0424fbf9b47f9b1d74279a76f5ef9"
            ]
          }
        },
        "e4f0e3d94f4341a0857a6e3d4d3d4c0e": {
          "model_module": "@jupyter-widgets/base",
          "model_name": "LayoutModel",
          "model_module_version": "1.2.0",
          "state": {
            "_view_name": "LayoutView",
            "grid_template_rows": null,
            "right": null,
            "justify_content": null,
            "_view_module": "@jupyter-widgets/base",
            "overflow": null,
            "_model_module_version": "1.2.0",
            "_view_count": null,
            "flex_flow": null,
            "width": null,
            "min_width": null,
            "border": null,
            "align_items": null,
            "bottom": null,
            "_model_module": "@jupyter-widgets/base",
            "top": null,
            "grid_column": null,
            "overflow_y": null,
            "overflow_x": null,
            "grid_auto_flow": null,
            "grid_area": null,
            "grid_template_columns": null,
            "flex": null,
            "_model_name": "LayoutModel",
            "justify_items": null,
            "grid_row": null,
            "max_height": null,
            "align_content": null,
            "visibility": null,
            "align_self": null,
            "height": null,
            "min_height": null,
            "padding": null,
            "grid_auto_rows": null,
            "grid_gap": null,
            "max_width": null,
            "order": null,
            "_view_module_version": "1.2.0",
            "grid_template_areas": null,
            "object_position": null,
            "object_fit": null,
            "grid_auto_columns": null,
            "margin": null,
            "display": null,
            "left": null
          }
        },
        "02ea5cfb582c4eefb9315a133a414dce": {
          "model_module": "@jupyter-widgets/controls",
          "model_name": "HTMLModel",
          "model_module_version": "1.5.0",
          "state": {
            "_view_name": "HTMLView",
            "style": "IPY_MODEL_eeda30b463164a40a58fb67e2e677b80",
            "_dom_classes": [],
            "description": "",
            "_model_name": "HTMLModel",
            "placeholder": "​",
            "_view_module": "@jupyter-widgets/controls",
            "_model_module_version": "1.5.0",
            "value": "Downloading: 100%",
            "_view_count": null,
            "_view_module_version": "1.5.0",
            "description_tooltip": null,
            "_model_module": "@jupyter-widgets/controls",
            "layout": "IPY_MODEL_fe06f414d08c4d1bbb5ffa167ec62f70"
          }
        },
        "4fa0c3fb9c6a477db8e1cb58ec0c2746": {
          "model_module": "@jupyter-widgets/controls",
          "model_name": "FloatProgressModel",
          "model_module_version": "1.5.0",
          "state": {
            "_view_name": "ProgressView",
            "style": "IPY_MODEL_78dacb7bc51d434aafd1bb4db01cc512",
            "_dom_classes": [],
            "description": "",
            "_model_name": "FloatProgressModel",
            "bar_style": "success",
            "max": 28,
            "_view_module": "@jupyter-widgets/controls",
            "_model_module_version": "1.5.0",
            "value": 28,
            "_view_count": null,
            "_view_module_version": "1.5.0",
            "orientation": "horizontal",
            "min": 0,
            "description_tooltip": null,
            "_model_module": "@jupyter-widgets/controls",
            "layout": "IPY_MODEL_b99d4114b78641f1a2ea66afea914913"
          }
        },
        "48f0424fbf9b47f9b1d74279a76f5ef9": {
          "model_module": "@jupyter-widgets/controls",
          "model_name": "HTMLModel",
          "model_module_version": "1.5.0",
          "state": {
            "_view_name": "HTMLView",
            "style": "IPY_MODEL_63ba94c4121a44f294f0a4cd260c676f",
            "_dom_classes": [],
            "description": "",
            "_model_name": "HTMLModel",
            "placeholder": "​",
            "_view_module": "@jupyter-widgets/controls",
            "_model_module_version": "1.5.0",
            "value": " 28.0/28.0 [00:00&lt;00:00, 722B/s]",
            "_view_count": null,
            "_view_module_version": "1.5.0",
            "description_tooltip": null,
            "_model_module": "@jupyter-widgets/controls",
            "layout": "IPY_MODEL_1b327b39845b4915896cfa35ebd203e0"
          }
        },
        "eeda30b463164a40a58fb67e2e677b80": {
          "model_module": "@jupyter-widgets/controls",
          "model_name": "DescriptionStyleModel",
          "model_module_version": "1.5.0",
          "state": {
            "_view_name": "StyleView",
            "_model_name": "DescriptionStyleModel",
            "description_width": "",
            "_view_module": "@jupyter-widgets/base",
            "_model_module_version": "1.5.0",
            "_view_count": null,
            "_view_module_version": "1.2.0",
            "_model_module": "@jupyter-widgets/controls"
          }
        },
        "fe06f414d08c4d1bbb5ffa167ec62f70": {
          "model_module": "@jupyter-widgets/base",
          "model_name": "LayoutModel",
          "model_module_version": "1.2.0",
          "state": {
            "_view_name": "LayoutView",
            "grid_template_rows": null,
            "right": null,
            "justify_content": null,
            "_view_module": "@jupyter-widgets/base",
            "overflow": null,
            "_model_module_version": "1.2.0",
            "_view_count": null,
            "flex_flow": null,
            "width": null,
            "min_width": null,
            "border": null,
            "align_items": null,
            "bottom": null,
            "_model_module": "@jupyter-widgets/base",
            "top": null,
            "grid_column": null,
            "overflow_y": null,
            "overflow_x": null,
            "grid_auto_flow": null,
            "grid_area": null,
            "grid_template_columns": null,
            "flex": null,
            "_model_name": "LayoutModel",
            "justify_items": null,
            "grid_row": null,
            "max_height": null,
            "align_content": null,
            "visibility": null,
            "align_self": null,
            "height": null,
            "min_height": null,
            "padding": null,
            "grid_auto_rows": null,
            "grid_gap": null,
            "max_width": null,
            "order": null,
            "_view_module_version": "1.2.0",
            "grid_template_areas": null,
            "object_position": null,
            "object_fit": null,
            "grid_auto_columns": null,
            "margin": null,
            "display": null,
            "left": null
          }
        },
        "78dacb7bc51d434aafd1bb4db01cc512": {
          "model_module": "@jupyter-widgets/controls",
          "model_name": "ProgressStyleModel",
          "model_module_version": "1.5.0",
          "state": {
            "_view_name": "StyleView",
            "_model_name": "ProgressStyleModel",
            "description_width": "",
            "_view_module": "@jupyter-widgets/base",
            "_model_module_version": "1.5.0",
            "_view_count": null,
            "_view_module_version": "1.2.0",
            "bar_color": null,
            "_model_module": "@jupyter-widgets/controls"
          }
        },
        "b99d4114b78641f1a2ea66afea914913": {
          "model_module": "@jupyter-widgets/base",
          "model_name": "LayoutModel",
          "model_module_version": "1.2.0",
          "state": {
            "_view_name": "LayoutView",
            "grid_template_rows": null,
            "right": null,
            "justify_content": null,
            "_view_module": "@jupyter-widgets/base",
            "overflow": null,
            "_model_module_version": "1.2.0",
            "_view_count": null,
            "flex_flow": null,
            "width": null,
            "min_width": null,
            "border": null,
            "align_items": null,
            "bottom": null,
            "_model_module": "@jupyter-widgets/base",
            "top": null,
            "grid_column": null,
            "overflow_y": null,
            "overflow_x": null,
            "grid_auto_flow": null,
            "grid_area": null,
            "grid_template_columns": null,
            "flex": null,
            "_model_name": "LayoutModel",
            "justify_items": null,
            "grid_row": null,
            "max_height": null,
            "align_content": null,
            "visibility": null,
            "align_self": null,
            "height": null,
            "min_height": null,
            "padding": null,
            "grid_auto_rows": null,
            "grid_gap": null,
            "max_width": null,
            "order": null,
            "_view_module_version": "1.2.0",
            "grid_template_areas": null,
            "object_position": null,
            "object_fit": null,
            "grid_auto_columns": null,
            "margin": null,
            "display": null,
            "left": null
          }
        },
        "63ba94c4121a44f294f0a4cd260c676f": {
          "model_module": "@jupyter-widgets/controls",
          "model_name": "DescriptionStyleModel",
          "model_module_version": "1.5.0",
          "state": {
            "_view_name": "StyleView",
            "_model_name": "DescriptionStyleModel",
            "description_width": "",
            "_view_module": "@jupyter-widgets/base",
            "_model_module_version": "1.5.0",
            "_view_count": null,
            "_view_module_version": "1.2.0",
            "_model_module": "@jupyter-widgets/controls"
          }
        },
        "1b327b39845b4915896cfa35ebd203e0": {
          "model_module": "@jupyter-widgets/base",
          "model_name": "LayoutModel",
          "model_module_version": "1.2.0",
          "state": {
            "_view_name": "LayoutView",
            "grid_template_rows": null,
            "right": null,
            "justify_content": null,
            "_view_module": "@jupyter-widgets/base",
            "overflow": null,
            "_model_module_version": "1.2.0",
            "_view_count": null,
            "flex_flow": null,
            "width": null,
            "min_width": null,
            "border": null,
            "align_items": null,
            "bottom": null,
            "_model_module": "@jupyter-widgets/base",
            "top": null,
            "grid_column": null,
            "overflow_y": null,
            "overflow_x": null,
            "grid_auto_flow": null,
            "grid_area": null,
            "grid_template_columns": null,
            "flex": null,
            "_model_name": "LayoutModel",
            "justify_items": null,
            "grid_row": null,
            "max_height": null,
            "align_content": null,
            "visibility": null,
            "align_self": null,
            "height": null,
            "min_height": null,
            "padding": null,
            "grid_auto_rows": null,
            "grid_gap": null,
            "max_width": null,
            "order": null,
            "_view_module_version": "1.2.0",
            "grid_template_areas": null,
            "object_position": null,
            "object_fit": null,
            "grid_auto_columns": null,
            "margin": null,
            "display": null,
            "left": null
          }
        },
        "9dc917ef18b842468fad8de6b99ff986": {
          "model_module": "@jupyter-widgets/controls",
          "model_name": "HBoxModel",
          "model_module_version": "1.5.0",
          "state": {
            "_view_name": "HBoxView",
            "_dom_classes": [],
            "_model_name": "HBoxModel",
            "_view_module": "@jupyter-widgets/controls",
            "_model_module_version": "1.5.0",
            "_view_count": null,
            "_view_module_version": "1.5.0",
            "box_style": "",
            "layout": "IPY_MODEL_b844951ee413428da3c5d7a6ace1b383",
            "_model_module": "@jupyter-widgets/controls",
            "children": [
              "IPY_MODEL_57330afb5b944b5c8e6809c6a804f378",
              "IPY_MODEL_7c46c0c2528849768ae2897a17003108",
              "IPY_MODEL_664c936d560f417d90ad572a4aaaa61d"
            ]
          }
        },
        "b844951ee413428da3c5d7a6ace1b383": {
          "model_module": "@jupyter-widgets/base",
          "model_name": "LayoutModel",
          "model_module_version": "1.2.0",
          "state": {
            "_view_name": "LayoutView",
            "grid_template_rows": null,
            "right": null,
            "justify_content": null,
            "_view_module": "@jupyter-widgets/base",
            "overflow": null,
            "_model_module_version": "1.2.0",
            "_view_count": null,
            "flex_flow": null,
            "width": null,
            "min_width": null,
            "border": null,
            "align_items": null,
            "bottom": null,
            "_model_module": "@jupyter-widgets/base",
            "top": null,
            "grid_column": null,
            "overflow_y": null,
            "overflow_x": null,
            "grid_auto_flow": null,
            "grid_area": null,
            "grid_template_columns": null,
            "flex": null,
            "_model_name": "LayoutModel",
            "justify_items": null,
            "grid_row": null,
            "max_height": null,
            "align_content": null,
            "visibility": null,
            "align_self": null,
            "height": null,
            "min_height": null,
            "padding": null,
            "grid_auto_rows": null,
            "grid_gap": null,
            "max_width": null,
            "order": null,
            "_view_module_version": "1.2.0",
            "grid_template_areas": null,
            "object_position": null,
            "object_fit": null,
            "grid_auto_columns": null,
            "margin": null,
            "display": null,
            "left": null
          }
        },
        "57330afb5b944b5c8e6809c6a804f378": {
          "model_module": "@jupyter-widgets/controls",
          "model_name": "HTMLModel",
          "model_module_version": "1.5.0",
          "state": {
            "_view_name": "HTMLView",
            "style": "IPY_MODEL_499cc3a7e06a4c00b0870edb0c649f30",
            "_dom_classes": [],
            "description": "",
            "_model_name": "HTMLModel",
            "placeholder": "​",
            "_view_module": "@jupyter-widgets/controls",
            "_model_module_version": "1.5.0",
            "value": "Downloading: 100%",
            "_view_count": null,
            "_view_module_version": "1.5.0",
            "description_tooltip": null,
            "_model_module": "@jupyter-widgets/controls",
            "layout": "IPY_MODEL_5fe67f22d10742b393d35d4c3a82cbcf"
          }
        },
        "7c46c0c2528849768ae2897a17003108": {
          "model_module": "@jupyter-widgets/controls",
          "model_name": "FloatProgressModel",
          "model_module_version": "1.5.0",
          "state": {
            "_view_name": "ProgressView",
            "style": "IPY_MODEL_8f7f2096758b47bbaf8e33deb95bafde",
            "_dom_classes": [],
            "description": "",
            "_model_name": "FloatProgressModel",
            "bar_style": "success",
            "max": 466062,
            "_view_module": "@jupyter-widgets/controls",
            "_model_module_version": "1.5.0",
            "value": 466062,
            "_view_count": null,
            "_view_module_version": "1.5.0",
            "orientation": "horizontal",
            "min": 0,
            "description_tooltip": null,
            "_model_module": "@jupyter-widgets/controls",
            "layout": "IPY_MODEL_02e6ef8ef640419c9f4b7319c5b669b6"
          }
        },
        "664c936d560f417d90ad572a4aaaa61d": {
          "model_module": "@jupyter-widgets/controls",
          "model_name": "HTMLModel",
          "model_module_version": "1.5.0",
          "state": {
            "_view_name": "HTMLView",
            "style": "IPY_MODEL_99964fdd50964bf587a686667855974c",
            "_dom_classes": [],
            "description": "",
            "_model_name": "HTMLModel",
            "placeholder": "​",
            "_view_module": "@jupyter-widgets/controls",
            "_model_module_version": "1.5.0",
            "value": " 455k/455k [00:00&lt;00:00, 1.14MB/s]",
            "_view_count": null,
            "_view_module_version": "1.5.0",
            "description_tooltip": null,
            "_model_module": "@jupyter-widgets/controls",
            "layout": "IPY_MODEL_2ec09bee0e4044f78c18778363e66df6"
          }
        },
        "499cc3a7e06a4c00b0870edb0c649f30": {
          "model_module": "@jupyter-widgets/controls",
          "model_name": "DescriptionStyleModel",
          "model_module_version": "1.5.0",
          "state": {
            "_view_name": "StyleView",
            "_model_name": "DescriptionStyleModel",
            "description_width": "",
            "_view_module": "@jupyter-widgets/base",
            "_model_module_version": "1.5.0",
            "_view_count": null,
            "_view_module_version": "1.2.0",
            "_model_module": "@jupyter-widgets/controls"
          }
        },
        "5fe67f22d10742b393d35d4c3a82cbcf": {
          "model_module": "@jupyter-widgets/base",
          "model_name": "LayoutModel",
          "model_module_version": "1.2.0",
          "state": {
            "_view_name": "LayoutView",
            "grid_template_rows": null,
            "right": null,
            "justify_content": null,
            "_view_module": "@jupyter-widgets/base",
            "overflow": null,
            "_model_module_version": "1.2.0",
            "_view_count": null,
            "flex_flow": null,
            "width": null,
            "min_width": null,
            "border": null,
            "align_items": null,
            "bottom": null,
            "_model_module": "@jupyter-widgets/base",
            "top": null,
            "grid_column": null,
            "overflow_y": null,
            "overflow_x": null,
            "grid_auto_flow": null,
            "grid_area": null,
            "grid_template_columns": null,
            "flex": null,
            "_model_name": "LayoutModel",
            "justify_items": null,
            "grid_row": null,
            "max_height": null,
            "align_content": null,
            "visibility": null,
            "align_self": null,
            "height": null,
            "min_height": null,
            "padding": null,
            "grid_auto_rows": null,
            "grid_gap": null,
            "max_width": null,
            "order": null,
            "_view_module_version": "1.2.0",
            "grid_template_areas": null,
            "object_position": null,
            "object_fit": null,
            "grid_auto_columns": null,
            "margin": null,
            "display": null,
            "left": null
          }
        },
        "8f7f2096758b47bbaf8e33deb95bafde": {
          "model_module": "@jupyter-widgets/controls",
          "model_name": "ProgressStyleModel",
          "model_module_version": "1.5.0",
          "state": {
            "_view_name": "StyleView",
            "_model_name": "ProgressStyleModel",
            "description_width": "",
            "_view_module": "@jupyter-widgets/base",
            "_model_module_version": "1.5.0",
            "_view_count": null,
            "_view_module_version": "1.2.0",
            "bar_color": null,
            "_model_module": "@jupyter-widgets/controls"
          }
        },
        "02e6ef8ef640419c9f4b7319c5b669b6": {
          "model_module": "@jupyter-widgets/base",
          "model_name": "LayoutModel",
          "model_module_version": "1.2.0",
          "state": {
            "_view_name": "LayoutView",
            "grid_template_rows": null,
            "right": null,
            "justify_content": null,
            "_view_module": "@jupyter-widgets/base",
            "overflow": null,
            "_model_module_version": "1.2.0",
            "_view_count": null,
            "flex_flow": null,
            "width": null,
            "min_width": null,
            "border": null,
            "align_items": null,
            "bottom": null,
            "_model_module": "@jupyter-widgets/base",
            "top": null,
            "grid_column": null,
            "overflow_y": null,
            "overflow_x": null,
            "grid_auto_flow": null,
            "grid_area": null,
            "grid_template_columns": null,
            "flex": null,
            "_model_name": "LayoutModel",
            "justify_items": null,
            "grid_row": null,
            "max_height": null,
            "align_content": null,
            "visibility": null,
            "align_self": null,
            "height": null,
            "min_height": null,
            "padding": null,
            "grid_auto_rows": null,
            "grid_gap": null,
            "max_width": null,
            "order": null,
            "_view_module_version": "1.2.0",
            "grid_template_areas": null,
            "object_position": null,
            "object_fit": null,
            "grid_auto_columns": null,
            "margin": null,
            "display": null,
            "left": null
          }
        },
        "99964fdd50964bf587a686667855974c": {
          "model_module": "@jupyter-widgets/controls",
          "model_name": "DescriptionStyleModel",
          "model_module_version": "1.5.0",
          "state": {
            "_view_name": "StyleView",
            "_model_name": "DescriptionStyleModel",
            "description_width": "",
            "_view_module": "@jupyter-widgets/base",
            "_model_module_version": "1.5.0",
            "_view_count": null,
            "_view_module_version": "1.2.0",
            "_model_module": "@jupyter-widgets/controls"
          }
        },
        "2ec09bee0e4044f78c18778363e66df6": {
          "model_module": "@jupyter-widgets/base",
          "model_name": "LayoutModel",
          "model_module_version": "1.2.0",
          "state": {
            "_view_name": "LayoutView",
            "grid_template_rows": null,
            "right": null,
            "justify_content": null,
            "_view_module": "@jupyter-widgets/base",
            "overflow": null,
            "_model_module_version": "1.2.0",
            "_view_count": null,
            "flex_flow": null,
            "width": null,
            "min_width": null,
            "border": null,
            "align_items": null,
            "bottom": null,
            "_model_module": "@jupyter-widgets/base",
            "top": null,
            "grid_column": null,
            "overflow_y": null,
            "overflow_x": null,
            "grid_auto_flow": null,
            "grid_area": null,
            "grid_template_columns": null,
            "flex": null,
            "_model_name": "LayoutModel",
            "justify_items": null,
            "grid_row": null,
            "max_height": null,
            "align_content": null,
            "visibility": null,
            "align_self": null,
            "height": null,
            "min_height": null,
            "padding": null,
            "grid_auto_rows": null,
            "grid_gap": null,
            "max_width": null,
            "order": null,
            "_view_module_version": "1.2.0",
            "grid_template_areas": null,
            "object_position": null,
            "object_fit": null,
            "grid_auto_columns": null,
            "margin": null,
            "display": null,
            "left": null
          }
        },
        "4a2fcef5a1d44f579040155ebe9d507b": {
          "model_module": "@jupyter-widgets/controls",
          "model_name": "HBoxModel",
          "model_module_version": "1.5.0",
          "state": {
            "_view_name": "HBoxView",
            "_dom_classes": [],
            "_model_name": "HBoxModel",
            "_view_module": "@jupyter-widgets/controls",
            "_model_module_version": "1.5.0",
            "_view_count": null,
            "_view_module_version": "1.5.0",
            "box_style": "",
            "layout": "IPY_MODEL_c3b0bacd91da4ec8bd6e2ee2e12b9c7b",
            "_model_module": "@jupyter-widgets/controls",
            "children": [
              "IPY_MODEL_1ab194a4b35848ebb583a4775de4a19a",
              "IPY_MODEL_6c32e074953c4fd3b01f351944d9fc2c",
              "IPY_MODEL_6dc9191acba742fcb38681bd2fbc8d67"
            ]
          }
        },
        "c3b0bacd91da4ec8bd6e2ee2e12b9c7b": {
          "model_module": "@jupyter-widgets/base",
          "model_name": "LayoutModel",
          "model_module_version": "1.2.0",
          "state": {
            "_view_name": "LayoutView",
            "grid_template_rows": null,
            "right": null,
            "justify_content": null,
            "_view_module": "@jupyter-widgets/base",
            "overflow": null,
            "_model_module_version": "1.2.0",
            "_view_count": null,
            "flex_flow": null,
            "width": null,
            "min_width": null,
            "border": null,
            "align_items": null,
            "bottom": null,
            "_model_module": "@jupyter-widgets/base",
            "top": null,
            "grid_column": null,
            "overflow_y": null,
            "overflow_x": null,
            "grid_auto_flow": null,
            "grid_area": null,
            "grid_template_columns": null,
            "flex": null,
            "_model_name": "LayoutModel",
            "justify_items": null,
            "grid_row": null,
            "max_height": null,
            "align_content": null,
            "visibility": null,
            "align_self": null,
            "height": null,
            "min_height": null,
            "padding": null,
            "grid_auto_rows": null,
            "grid_gap": null,
            "max_width": null,
            "order": null,
            "_view_module_version": "1.2.0",
            "grid_template_areas": null,
            "object_position": null,
            "object_fit": null,
            "grid_auto_columns": null,
            "margin": null,
            "display": null,
            "left": null
          }
        },
        "1ab194a4b35848ebb583a4775de4a19a": {
          "model_module": "@jupyter-widgets/controls",
          "model_name": "HTMLModel",
          "model_module_version": "1.5.0",
          "state": {
            "_view_name": "HTMLView",
            "style": "IPY_MODEL_ac85fb897760486dba1124dbd16cdddf",
            "_dom_classes": [],
            "description": "",
            "_model_name": "HTMLModel",
            "placeholder": "​",
            "_view_module": "@jupyter-widgets/controls",
            "_model_module_version": "1.5.0",
            "value": "Downloading: 100%",
            "_view_count": null,
            "_view_module_version": "1.5.0",
            "description_tooltip": null,
            "_model_module": "@jupyter-widgets/controls",
            "layout": "IPY_MODEL_c4fee209165c4fb682785482e25c159a"
          }
        },
        "6c32e074953c4fd3b01f351944d9fc2c": {
          "model_module": "@jupyter-widgets/controls",
          "model_name": "FloatProgressModel",
          "model_module_version": "1.5.0",
          "state": {
            "_view_name": "ProgressView",
            "style": "IPY_MODEL_e200925c65b04ec1b544fa0ee9888287",
            "_dom_classes": [],
            "description": "",
            "_model_name": "FloatProgressModel",
            "bar_style": "success",
            "max": 570,
            "_view_module": "@jupyter-widgets/controls",
            "_model_module_version": "1.5.0",
            "value": 570,
            "_view_count": null,
            "_view_module_version": "1.5.0",
            "orientation": "horizontal",
            "min": 0,
            "description_tooltip": null,
            "_model_module": "@jupyter-widgets/controls",
            "layout": "IPY_MODEL_20e3c53a58b047419913c655f992e8d1"
          }
        },
        "6dc9191acba742fcb38681bd2fbc8d67": {
          "model_module": "@jupyter-widgets/controls",
          "model_name": "HTMLModel",
          "model_module_version": "1.5.0",
          "state": {
            "_view_name": "HTMLView",
            "style": "IPY_MODEL_46df17a6088343949d4078ecb97e82bd",
            "_dom_classes": [],
            "description": "",
            "_model_name": "HTMLModel",
            "placeholder": "​",
            "_view_module": "@jupyter-widgets/controls",
            "_model_module_version": "1.5.0",
            "value": " 570/570 [00:00&lt;00:00, 13.7kB/s]",
            "_view_count": null,
            "_view_module_version": "1.5.0",
            "description_tooltip": null,
            "_model_module": "@jupyter-widgets/controls",
            "layout": "IPY_MODEL_9a99fe96b6c041bbb706171bc92c0f1d"
          }
        },
        "ac85fb897760486dba1124dbd16cdddf": {
          "model_module": "@jupyter-widgets/controls",
          "model_name": "DescriptionStyleModel",
          "model_module_version": "1.5.0",
          "state": {
            "_view_name": "StyleView",
            "_model_name": "DescriptionStyleModel",
            "description_width": "",
            "_view_module": "@jupyter-widgets/base",
            "_model_module_version": "1.5.0",
            "_view_count": null,
            "_view_module_version": "1.2.0",
            "_model_module": "@jupyter-widgets/controls"
          }
        },
        "c4fee209165c4fb682785482e25c159a": {
          "model_module": "@jupyter-widgets/base",
          "model_name": "LayoutModel",
          "model_module_version": "1.2.0",
          "state": {
            "_view_name": "LayoutView",
            "grid_template_rows": null,
            "right": null,
            "justify_content": null,
            "_view_module": "@jupyter-widgets/base",
            "overflow": null,
            "_model_module_version": "1.2.0",
            "_view_count": null,
            "flex_flow": null,
            "width": null,
            "min_width": null,
            "border": null,
            "align_items": null,
            "bottom": null,
            "_model_module": "@jupyter-widgets/base",
            "top": null,
            "grid_column": null,
            "overflow_y": null,
            "overflow_x": null,
            "grid_auto_flow": null,
            "grid_area": null,
            "grid_template_columns": null,
            "flex": null,
            "_model_name": "LayoutModel",
            "justify_items": null,
            "grid_row": null,
            "max_height": null,
            "align_content": null,
            "visibility": null,
            "align_self": null,
            "height": null,
            "min_height": null,
            "padding": null,
            "grid_auto_rows": null,
            "grid_gap": null,
            "max_width": null,
            "order": null,
            "_view_module_version": "1.2.0",
            "grid_template_areas": null,
            "object_position": null,
            "object_fit": null,
            "grid_auto_columns": null,
            "margin": null,
            "display": null,
            "left": null
          }
        },
        "e200925c65b04ec1b544fa0ee9888287": {
          "model_module": "@jupyter-widgets/controls",
          "model_name": "ProgressStyleModel",
          "model_module_version": "1.5.0",
          "state": {
            "_view_name": "StyleView",
            "_model_name": "ProgressStyleModel",
            "description_width": "",
            "_view_module": "@jupyter-widgets/base",
            "_model_module_version": "1.5.0",
            "_view_count": null,
            "_view_module_version": "1.2.0",
            "bar_color": null,
            "_model_module": "@jupyter-widgets/controls"
          }
        },
        "20e3c53a58b047419913c655f992e8d1": {
          "model_module": "@jupyter-widgets/base",
          "model_name": "LayoutModel",
          "model_module_version": "1.2.0",
          "state": {
            "_view_name": "LayoutView",
            "grid_template_rows": null,
            "right": null,
            "justify_content": null,
            "_view_module": "@jupyter-widgets/base",
            "overflow": null,
            "_model_module_version": "1.2.0",
            "_view_count": null,
            "flex_flow": null,
            "width": null,
            "min_width": null,
            "border": null,
            "align_items": null,
            "bottom": null,
            "_model_module": "@jupyter-widgets/base",
            "top": null,
            "grid_column": null,
            "overflow_y": null,
            "overflow_x": null,
            "grid_auto_flow": null,
            "grid_area": null,
            "grid_template_columns": null,
            "flex": null,
            "_model_name": "LayoutModel",
            "justify_items": null,
            "grid_row": null,
            "max_height": null,
            "align_content": null,
            "visibility": null,
            "align_self": null,
            "height": null,
            "min_height": null,
            "padding": null,
            "grid_auto_rows": null,
            "grid_gap": null,
            "max_width": null,
            "order": null,
            "_view_module_version": "1.2.0",
            "grid_template_areas": null,
            "object_position": null,
            "object_fit": null,
            "grid_auto_columns": null,
            "margin": null,
            "display": null,
            "left": null
          }
        },
        "46df17a6088343949d4078ecb97e82bd": {
          "model_module": "@jupyter-widgets/controls",
          "model_name": "DescriptionStyleModel",
          "model_module_version": "1.5.0",
          "state": {
            "_view_name": "StyleView",
            "_model_name": "DescriptionStyleModel",
            "description_width": "",
            "_view_module": "@jupyter-widgets/base",
            "_model_module_version": "1.5.0",
            "_view_count": null,
            "_view_module_version": "1.2.0",
            "_model_module": "@jupyter-widgets/controls"
          }
        },
        "9a99fe96b6c041bbb706171bc92c0f1d": {
          "model_module": "@jupyter-widgets/base",
          "model_name": "LayoutModel",
          "model_module_version": "1.2.0",
          "state": {
            "_view_name": "LayoutView",
            "grid_template_rows": null,
            "right": null,
            "justify_content": null,
            "_view_module": "@jupyter-widgets/base",
            "overflow": null,
            "_model_module_version": "1.2.0",
            "_view_count": null,
            "flex_flow": null,
            "width": null,
            "min_width": null,
            "border": null,
            "align_items": null,
            "bottom": null,
            "_model_module": "@jupyter-widgets/base",
            "top": null,
            "grid_column": null,
            "overflow_y": null,
            "overflow_x": null,
            "grid_auto_flow": null,
            "grid_area": null,
            "grid_template_columns": null,
            "flex": null,
            "_model_name": "LayoutModel",
            "justify_items": null,
            "grid_row": null,
            "max_height": null,
            "align_content": null,
            "visibility": null,
            "align_self": null,
            "height": null,
            "min_height": null,
            "padding": null,
            "grid_auto_rows": null,
            "grid_gap": null,
            "max_width": null,
            "order": null,
            "_view_module_version": "1.2.0",
            "grid_template_areas": null,
            "object_position": null,
            "object_fit": null,
            "grid_auto_columns": null,
            "margin": null,
            "display": null,
            "left": null
          }
        }
      }
    }
  },
  "cells": [
    {
      "cell_type": "markdown",
      "metadata": {
        "id": "view-in-github",
        "colab_type": "text"
      },
      "source": [
        "<a href=\"https://colab.research.google.com/github/alexwucpu05/NLP/blob/main/DILI_NER_SentClassification_FDA.ipynb\" target=\"_parent\"><img src=\"https://colab.research.google.com/assets/colab-badge.svg\" alt=\"Open In Colab\"/></a>"
      ]
    },
    {
      "cell_type": "markdown",
      "metadata": {
        "id": "g7jY98jLw5o6"
      },
      "source": [
        "# 1. Set environment"
      ]
    },
    {
      "cell_type": "markdown",
      "metadata": {
        "id": "8l8LU-tZxBx7"
      },
      "source": [
        "## 1.1. install packages"
      ]
    },
    {
      "cell_type": "code",
      "metadata": {
        "colab": {
          "base_uri": "https://localhost:8080/"
        },
        "id": "LxDGC2Oqwr6B",
        "outputId": "4c5e5caa-1097-41cb-a5e6-38f77daf49b4"
      },
      "source": [
        "!pip install transformers -q"
      ],
      "execution_count": null,
      "outputs": [
        {
          "output_type": "stream",
          "name": "stdout",
          "text": [
            "\u001b[K     |████████████████████████████████| 3.4 MB 5.4 MB/s \n",
            "\u001b[K     |████████████████████████████████| 596 kB 32.6 MB/s \n",
            "\u001b[K     |████████████████████████████████| 895 kB 33.2 MB/s \n",
            "\u001b[K     |████████████████████████████████| 3.3 MB 13.9 MB/s \n",
            "\u001b[K     |████████████████████████████████| 61 kB 215 kB/s \n",
            "\u001b[?25h"
          ]
        }
      ]
    },
    {
      "cell_type": "code",
      "metadata": {
        "colab": {
          "base_uri": "https://localhost:8080/"
        },
        "id": "dC5vdlWXw5AQ",
        "outputId": "6125899b-4ef5-4772-a8ce-0029ec0612b1"
      },
      "source": [
        "!pip install seqeval -q"
      ],
      "execution_count": null,
      "outputs": [
        {
          "output_type": "stream",
          "name": "stdout",
          "text": [
            "\u001b[?25l\r\u001b[K     |███████▌                        | 10 kB 18.9 MB/s eta 0:00:01\r\u001b[K     |███████████████                 | 20 kB 23.6 MB/s eta 0:00:01\r\u001b[K     |██████████████████████▌         | 30 kB 27.6 MB/s eta 0:00:01\r\u001b[K     |██████████████████████████████  | 40 kB 26.8 MB/s eta 0:00:01\r\u001b[K     |████████████████████████████████| 43 kB 1.0 MB/s \n",
            "\u001b[?25h  Building wheel for seqeval (setup.py) ... \u001b[?25l\u001b[?25hdone\n"
          ]
        }
      ]
    },
    {
      "cell_type": "code",
      "metadata": {
        "colab": {
          "base_uri": "https://localhost:8080/"
        },
        "id": "-sw9EMrPw48R",
        "outputId": "fc7dc64d-364e-4921-c53c-dbdf8ec5b420"
      },
      "source": [
        "!pip install shap -q"
      ],
      "execution_count": null,
      "outputs": [
        {
          "output_type": "stream",
          "name": "stdout",
          "text": [
            "\u001b[?25l\r\u001b[K     |▋                               | 10 kB 15.0 MB/s eta 0:00:01\r\u001b[K     |█▏                              | 20 kB 20.8 MB/s eta 0:00:01\r\u001b[K     |█▊                              | 30 kB 13.4 MB/s eta 0:00:01\r\u001b[K     |██▎                             | 40 kB 9.9 MB/s eta 0:00:01\r\u001b[K     |███                             | 51 kB 5.3 MB/s eta 0:00:01\r\u001b[K     |███▌                            | 61 kB 5.7 MB/s eta 0:00:01\r\u001b[K     |████                            | 71 kB 6.1 MB/s eta 0:00:01\r\u001b[K     |████▋                           | 81 kB 6.8 MB/s eta 0:00:01\r\u001b[K     |█████▏                          | 92 kB 7.1 MB/s eta 0:00:01\r\u001b[K     |█████▉                          | 102 kB 5.5 MB/s eta 0:00:01\r\u001b[K     |██████▍                         | 112 kB 5.5 MB/s eta 0:00:01\r\u001b[K     |███████                         | 122 kB 5.5 MB/s eta 0:00:01\r\u001b[K     |███████▌                        | 133 kB 5.5 MB/s eta 0:00:01\r\u001b[K     |████████▏                       | 143 kB 5.5 MB/s eta 0:00:01\r\u001b[K     |████████▊                       | 153 kB 5.5 MB/s eta 0:00:01\r\u001b[K     |█████████▎                      | 163 kB 5.5 MB/s eta 0:00:01\r\u001b[K     |█████████▉                      | 174 kB 5.5 MB/s eta 0:00:01\r\u001b[K     |██████████▍                     | 184 kB 5.5 MB/s eta 0:00:01\r\u001b[K     |███████████                     | 194 kB 5.5 MB/s eta 0:00:01\r\u001b[K     |███████████▋                    | 204 kB 5.5 MB/s eta 0:00:01\r\u001b[K     |████████████▏                   | 215 kB 5.5 MB/s eta 0:00:01\r\u001b[K     |████████████▊                   | 225 kB 5.5 MB/s eta 0:00:01\r\u001b[K     |█████████████▍                  | 235 kB 5.5 MB/s eta 0:00:01\r\u001b[K     |██████████████                  | 245 kB 5.5 MB/s eta 0:00:01\r\u001b[K     |██████████████▌                 | 256 kB 5.5 MB/s eta 0:00:01\r\u001b[K     |███████████████                 | 266 kB 5.5 MB/s eta 0:00:01\r\u001b[K     |███████████████▋                | 276 kB 5.5 MB/s eta 0:00:01\r\u001b[K     |████████████████▎               | 286 kB 5.5 MB/s eta 0:00:01\r\u001b[K     |████████████████▉               | 296 kB 5.5 MB/s eta 0:00:01\r\u001b[K     |█████████████████▍              | 307 kB 5.5 MB/s eta 0:00:01\r\u001b[K     |██████████████████              | 317 kB 5.5 MB/s eta 0:00:01\r\u001b[K     |██████████████████▋             | 327 kB 5.5 MB/s eta 0:00:01\r\u001b[K     |███████████████████▏            | 337 kB 5.5 MB/s eta 0:00:01\r\u001b[K     |███████████████████▊            | 348 kB 5.5 MB/s eta 0:00:01\r\u001b[K     |████████████████████▎           | 358 kB 5.5 MB/s eta 0:00:01\r\u001b[K     |████████████████████▉           | 368 kB 5.5 MB/s eta 0:00:01\r\u001b[K     |█████████████████████▌          | 378 kB 5.5 MB/s eta 0:00:01\r\u001b[K     |██████████████████████          | 389 kB 5.5 MB/s eta 0:00:01\r\u001b[K     |██████████████████████▋         | 399 kB 5.5 MB/s eta 0:00:01\r\u001b[K     |███████████████████████▏        | 409 kB 5.5 MB/s eta 0:00:01\r\u001b[K     |███████████████████████▉        | 419 kB 5.5 MB/s eta 0:00:01\r\u001b[K     |████████████████████████▍       | 430 kB 5.5 MB/s eta 0:00:01\r\u001b[K     |█████████████████████████       | 440 kB 5.5 MB/s eta 0:00:01\r\u001b[K     |█████████████████████████▌      | 450 kB 5.5 MB/s eta 0:00:01\r\u001b[K     |██████████████████████████      | 460 kB 5.5 MB/s eta 0:00:01\r\u001b[K     |██████████████████████████▊     | 471 kB 5.5 MB/s eta 0:00:01\r\u001b[K     |███████████████████████████▎    | 481 kB 5.5 MB/s eta 0:00:01\r\u001b[K     |███████████████████████████▉    | 491 kB 5.5 MB/s eta 0:00:01\r\u001b[K     |████████████████████████████▍   | 501 kB 5.5 MB/s eta 0:00:01\r\u001b[K     |█████████████████████████████   | 512 kB 5.5 MB/s eta 0:00:01\r\u001b[K     |█████████████████████████████▋  | 522 kB 5.5 MB/s eta 0:00:01\r\u001b[K     |██████████████████████████████▏ | 532 kB 5.5 MB/s eta 0:00:01\r\u001b[K     |██████████████████████████████▊ | 542 kB 5.5 MB/s eta 0:00:01\r\u001b[K     |███████████████████████████████▎| 552 kB 5.5 MB/s eta 0:00:01\r\u001b[K     |████████████████████████████████| 563 kB 5.5 MB/s eta 0:00:01\r\u001b[K     |████████████████████████████████| 564 kB 5.5 MB/s \n",
            "\u001b[?25h"
          ]
        }
      ]
    },
    {
      "cell_type": "code",
      "metadata": {
        "id": "e17iRSRBw45g"
      },
      "source": [
        "# !pip install nlp"
      ],
      "execution_count": null,
      "outputs": []
    },
    {
      "cell_type": "markdown",
      "metadata": {
        "id": "BolhGSphxR60"
      },
      "source": [
        "## 1.2. set GPU device"
      ]
    },
    {
      "cell_type": "code",
      "metadata": {
        "colab": {
          "base_uri": "https://localhost:8080/"
        },
        "id": "ITzgaxJZw4zd",
        "outputId": "77e4ffb9-13f8-428f-9068-824f3e30244d"
      },
      "source": [
        "import torch\n",
        "\n",
        "# If there's a GPU available...\n",
        "if torch.cuda.is_available():    \n",
        "\n",
        "    # Tell PyTorch to use the GPU.    \n",
        "    device = torch.device(\"cuda\")\n",
        "\n",
        "    print('There are %d GPU(s) available.' % torch.cuda.device_count())\n",
        "\n",
        "    print('We will use the GPU:', torch.cuda.get_device_name(0))\n",
        "\n",
        "# If not...\n",
        "else:\n",
        "    print('No GPU available, using the CPU instead.')\n",
        "    device = torch.device(\"cpu\")"
      ],
      "execution_count": null,
      "outputs": [
        {
          "output_type": "stream",
          "name": "stdout",
          "text": [
            "There are 1 GPU(s) available.\n",
            "We will use the GPU: Tesla K80\n"
          ]
        }
      ]
    },
    {
      "cell_type": "markdown",
      "metadata": {
        "id": "hkZ3ib0yxfDr"
      },
      "source": [
        "## 1.3. mount google drive"
      ]
    },
    {
      "cell_type": "code",
      "metadata": {
        "colab": {
          "base_uri": "https://localhost:8080/"
        },
        "id": "WeT_nNSQw4wu",
        "outputId": "af8cd660-1da5-4078-89b5-bd4f1f102f5f"
      },
      "source": [
        "# mount google drive\n",
        "from google.colab import drive\n",
        "drive.mount('/content/gdrive')"
      ],
      "execution_count": null,
      "outputs": [
        {
          "output_type": "stream",
          "name": "stdout",
          "text": [
            "Mounted at /content/gdrive\n"
          ]
        }
      ]
    },
    {
      "cell_type": "markdown",
      "metadata": {
        "id": "m0WF_tAxxq5Z"
      },
      "source": [
        "## 1.4. load library"
      ]
    },
    {
      "cell_type": "code",
      "metadata": {
        "colab": {
          "base_uri": "https://localhost:8080/"
        },
        "id": "N3dhwN69w4t2",
        "outputId": "f787749c-9ae7-410b-ce1d-cea090aa3732"
      },
      "source": [
        "import numpy as np\n",
        "import pandas as pd\n",
        "import transformers\n",
        "import re\n",
        "import os\n",
        "import string\n",
        "import pickle\n",
        "import json\n",
        "import joblib\n",
        "from tqdm import tqdm, trange\n",
        "import time\n",
        "import datetime\n",
        "import random\n",
        "import codecs\n",
        "\n",
        "import nltk\n",
        "nltk.download('punkt')\n",
        "from nltk.tokenize import word_tokenize, sent_tokenize\n",
        "# import spacy\n",
        "\n",
        "from sklearn.utils import shuffle\n",
        "from keras.preprocessing.sequence import pad_sequences\n",
        "from torch.utils.data import Dataset, DataLoader, RandomSampler, SequentialSampler, TensorDataset, random_split\n",
        "from transformers import BertForTokenClassification, BertForSequenceClassification, BertTokenizer, AdamW, get_linear_schedule_with_warmup\n",
        "from sklearn.metrics import matthews_corrcoef, accuracy_score, confusion_matrix, balanced_accuracy_score, roc_auc_score\n",
        "from seqeval.metrics import f1_score, classification_report\n",
        "from seqeval.metrics import accuracy_score as acc_score\n",
        "from sklearn.model_selection import train_test_split\n",
        "\n",
        "import matplotlib.pyplot as plt\n",
        "import matplotlib.patheffects as PathEffects\n",
        "from matplotlib.colors import ListedColormap\n",
        "%matplotlib inline\n",
        "\n",
        "import seaborn as sns"
      ],
      "execution_count": null,
      "outputs": [
        {
          "output_type": "stream",
          "name": "stdout",
          "text": [
            "[nltk_data] Downloading package punkt to /root/nltk_data...\n",
            "[nltk_data]   Unzipping tokenizers/punkt.zip.\n"
          ]
        }
      ]
    },
    {
      "cell_type": "markdown",
      "metadata": {
        "id": "60VVnNU71Om9"
      },
      "source": [
        "# 2. Prepare data"
      ]
    },
    {
      "cell_type": "markdown",
      "metadata": {
        "id": "OjcGBU5l5A7n"
      },
      "source": [
        "## 2.1. set hyperparameters"
      ]
    },
    {
      "cell_type": "code",
      "metadata": {
        "colab": {
          "base_uri": "https://localhost:8080/",
          "height": 145,
          "referenced_widgets": [
            "27a45d2ee8ff4001a702a59e1b315ae5",
            "410cd2993b9747eeb6cac75fe17b7637",
            "63611f2e29af4f749cb7b18816916a04",
            "9b3f90e5cd4244e184c0f2023418f10b",
            "3b79258fd0be417d9b2ecec1eb535fdf",
            "ba5cb9f7e22f4324b2e216310233c0d7",
            "8f26b879a9854a98a775183b226668b8",
            "badadc1d6ae247919428e4d6c12302ea",
            "9fea6b196fad47a483498e6ff00ee237",
            "1da688b19efd4b799634d1e717384907",
            "bdba7aead1cb4e83892a089235d5c005",
            "c3fb14eff7224128a2e9d5d8ce604c99",
            "e4f0e3d94f4341a0857a6e3d4d3d4c0e",
            "02ea5cfb582c4eefb9315a133a414dce",
            "4fa0c3fb9c6a477db8e1cb58ec0c2746",
            "48f0424fbf9b47f9b1d74279a76f5ef9",
            "eeda30b463164a40a58fb67e2e677b80",
            "fe06f414d08c4d1bbb5ffa167ec62f70",
            "78dacb7bc51d434aafd1bb4db01cc512",
            "b99d4114b78641f1a2ea66afea914913",
            "63ba94c4121a44f294f0a4cd260c676f",
            "1b327b39845b4915896cfa35ebd203e0",
            "9dc917ef18b842468fad8de6b99ff986",
            "b844951ee413428da3c5d7a6ace1b383",
            "57330afb5b944b5c8e6809c6a804f378",
            "7c46c0c2528849768ae2897a17003108",
            "664c936d560f417d90ad572a4aaaa61d",
            "499cc3a7e06a4c00b0870edb0c649f30",
            "5fe67f22d10742b393d35d4c3a82cbcf",
            "8f7f2096758b47bbaf8e33deb95bafde",
            "02e6ef8ef640419c9f4b7319c5b669b6",
            "99964fdd50964bf587a686667855974c",
            "2ec09bee0e4044f78c18778363e66df6",
            "4a2fcef5a1d44f579040155ebe9d507b",
            "c3b0bacd91da4ec8bd6e2ee2e12b9c7b",
            "1ab194a4b35848ebb583a4775de4a19a",
            "6c32e074953c4fd3b01f351944d9fc2c",
            "6dc9191acba742fcb38681bd2fbc8d67",
            "ac85fb897760486dba1124dbd16cdddf",
            "c4fee209165c4fb682785482e25c159a",
            "e200925c65b04ec1b544fa0ee9888287",
            "20e3c53a58b047419913c655f992e8d1",
            "46df17a6088343949d4078ecb97e82bd",
            "9a99fe96b6c041bbb706171bc92c0f1d"
          ]
        },
        "id": "Ax4Dc5jr5HVn",
        "outputId": "a33a090d-6400-4239-bcdc-f217f6696778"
      },
      "source": [
        "# Defining some key variables that will be used later on in the training\n",
        "# USE_GPU = True\n",
        "\n",
        "MAX_LEN = 128\n",
        "BATCH_SIZE = 32\n",
        "N_EPOCHS = 4\n",
        "LEARNING_RATE = 2e-05\n",
        "EPS = 1e-8\n",
        "tokenizer = BertTokenizer.from_pretrained('bert-base-uncased', do_lower_case=True)\n",
        "WEIGHT_DECAY = False\n",
        "SEED_VAL = 97"
      ],
      "execution_count": null,
      "outputs": [
        {
          "output_type": "display_data",
          "data": {
            "application/vnd.jupyter.widget-view+json": {
              "model_id": "27a45d2ee8ff4001a702a59e1b315ae5",
              "version_minor": 0,
              "version_major": 2
            },
            "text/plain": [
              "Downloading:   0%|          | 0.00/226k [00:00<?, ?B/s]"
            ]
          },
          "metadata": {}
        },
        {
          "output_type": "display_data",
          "data": {
            "application/vnd.jupyter.widget-view+json": {
              "model_id": "c3fb14eff7224128a2e9d5d8ce604c99",
              "version_minor": 0,
              "version_major": 2
            },
            "text/plain": [
              "Downloading:   0%|          | 0.00/28.0 [00:00<?, ?B/s]"
            ]
          },
          "metadata": {}
        },
        {
          "output_type": "display_data",
          "data": {
            "application/vnd.jupyter.widget-view+json": {
              "model_id": "9dc917ef18b842468fad8de6b99ff986",
              "version_minor": 0,
              "version_major": 2
            },
            "text/plain": [
              "Downloading:   0%|          | 0.00/455k [00:00<?, ?B/s]"
            ]
          },
          "metadata": {}
        },
        {
          "output_type": "display_data",
          "data": {
            "application/vnd.jupyter.widget-view+json": {
              "model_id": "4a2fcef5a1d44f579040155ebe9d507b",
              "version_minor": 0,
              "version_major": 2
            },
            "text/plain": [
              "Downloading:   0%|          | 0.00/570 [00:00<?, ?B/s]"
            ]
          },
          "metadata": {}
        }
      ]
    },
    {
      "cell_type": "markdown",
      "metadata": {
        "id": "aQvXKdWe7_P4"
      },
      "source": [
        "## 2.2. set helper functions"
      ]
    },
    {
      "cell_type": "code",
      "metadata": {
        "id": "aKeB_cwX_L7F"
      },
      "source": [
        "keywords_positive = ['AST', 'ALT', 'ALP', 'transaminase', 'aminotransferase', 'alkaline phosphatase', 'bilirubin', 'liver', 'hepatic', 'hepato', 'hepatotoxicity', 'hepatitis', 'jaundice', 'cholestasis', 'cholestatic', 'steatosis', 'hepatomegaly', 'veno-occlusive', 'liver encephalopathy', 'hepatic encephalopathy']\n",
        "keywords_negative = ['mice', 'mouse', 'rat', 'dog', 'animal', 'deliver', 'delivery']"
      ],
      "execution_count": null,
      "outputs": []
    },
    {
      "cell_type": "code",
      "metadata": {
        "id": "ZsjbYBFS8Ypz"
      },
      "source": [
        "def normalize_text(text):\n",
        "  text_norm = str(text).lower() # lower case\n",
        "  url_regex = r'(https?:\\/\\/(?:www\\.|(?!www))[a-zA-Z0-9][a-zA-Z0-9-]+[a-zA-Z0-9]\\.[^\\s]{2,}|www\\.[a-zA-Z0-9][a-zA-Z0-9-]+[a-zA-Z0-9]\\.[^\\s]{2,}|https?:\\/\\/(?:www\\.|(?!www))[a-zA-Z0-9]+\\.[^\\s]{2,}|www\\.[a-zA-Z0-9]+\\.[^\\s]{2,})'\n",
        "  # in sequential order\n",
        "  text_norm = re.sub(r\"\\n\", \" \", text_norm) # remove \\n\n",
        "  text_norm = re.sub(r\"\\xa0\", \" \", text_norm) # remove \\xa0\n",
        "  text_norm = re.sub(url_regex, \"<URL>\", text_norm) # replace URL\n",
        "  text_norm = re.sub(\"e.g. |e.g., \", \"\", text_norm) # remove \"e.g.\"\n",
        "  text_norm = re.sub(\" etc.|, etc.\", \"\", text_norm) # remove \"etc.\"\n",
        "  text_norm = re.sub(r\"\\(\\d+\\.\\d+\\)|\\(\\s\\d+\\.\\d+\\s\\)\", \"\", text_norm) # remove brackets contain only section index, e.g. (5.2)\n",
        "  text_norm = re.sub(r\"\\(see.*?\\)|\\(\\ssee.*?\\)\", \"\", text_norm) # remove cross-ref e.g. (see WARNINGS AND PRECAUTIONs 5.1)\n",
        "  text_norm = re.sub(r\"\\[(see.*?)\\]|\\[\\s(see.*?)\\]\", \"\", text_norm) # remove cross-ref e.g. [see WARNINGS AND PRECAUTIONs 5.1]\n",
        "  text_norm = re.sub(r\"(\\t)\\1+\", \" \", text_norm) # remove duplicated tab\n",
        "  text_norm = re.sub(r\"( )\\1+\", r\"\\1\", text_norm) # remove duplicated white space\n",
        "  return text_norm"
      ],
      "execution_count": null,
      "outputs": []
    },
    {
      "cell_type": "code",
      "source": [
        "def lowercase_text(text):\n",
        "  text_norm = str(text).lower() # lower case\n",
        "  url_regex = r'(https?:\\/\\/(?:www\\.|(?!www))[a-zA-Z0-9][a-zA-Z0-9-]+[a-zA-Z0-9]\\.[^\\s]{2,}|www\\.[a-zA-Z0-9][a-zA-Z0-9-]+[a-zA-Z0-9]\\.[^\\s]{2,}|https?:\\/\\/(?:www\\.|(?!www))[a-zA-Z0-9]+\\.[^\\s]{2,}|www\\.[a-zA-Z0-9]+\\.[^\\s]{2,})'\n",
        "  # in sequential order\n",
        "  text_norm = re.sub(r\"\\n\", \" \", text_norm) # remove \\n\n",
        "  text_norm = re.sub(r\"\\xa0\", \" \", text_norm) # remove \\xa0\n",
        "  text_norm = re.sub(r\"(\\t)\\1+\", \" \", text_norm) # remove duplicated tab\n",
        "  text_norm = re.sub(r\"( )\\1+\", r\"\\1\", text_norm) # remove duplicated white space\n",
        "  return text_norm"
      ],
      "metadata": {
        "id": "R3VUQ55WopWW"
      },
      "execution_count": null,
      "outputs": []
    },
    {
      "cell_type": "code",
      "metadata": {
        "id": "3vxhpboA8C0U"
      },
      "source": [
        "# # Function to calculate the accuracy of our predictions vs labels\n",
        "# def flat_accuracy(preds, labels):\n",
        "#   pred_flat = np.argmax(preds, axis=1).flatten()\n",
        "#   labels_flat = labels.flatten()\n",
        "#   return np.sum(pred_flat == labels_flat) / len(labels_flat)\n",
        "\n",
        "# Function to flatten the pred labels\n",
        "def flat_y_pred(preds):\n",
        "  pred_flat = np.argmax(preds, axis=1).flatten()\n",
        "  return pred_flat\n",
        "\n",
        "# Function to flatten the true labels\n",
        "def flat_y_true(true):\n",
        "  true_flat = true.flatten()\n",
        "  return true_flat\n",
        "\n",
        "def get_scores(tn, fp, fn, tp):\n",
        "  sensitivity = tp/(tp+fn)\n",
        "  specificity = tn/(tn+fp)\n",
        "  PPV = tp/(tp+fp)\n",
        "  NPV = tn/(tn+fn)\n",
        "  return sensitivity, specificity, PPV, NPV"
      ],
      "execution_count": null,
      "outputs": []
    },
    {
      "cell_type": "code",
      "metadata": {
        "id": "7CEblIIi8LFO"
      },
      "source": [
        "def list_3d_flatten(labels_3d):\n",
        "    labels_2d = []\n",
        "    for batch in labels_3d:\n",
        "        for sent in batch:\n",
        "            labels_2d.append(sent)\n",
        "    return labels_2d"
      ],
      "execution_count": null,
      "outputs": []
    },
    {
      "cell_type": "code",
      "metadata": {
        "id": "9ek72rme8LBc"
      },
      "source": [
        "def format_time(elapsed):\n",
        "  '''\n",
        "  Takes a time in seconds and returns a string hh:mm:ss\n",
        "  '''\n",
        "  # Round to the nearest second.\n",
        "  elapsed_rounded = int(round((elapsed)))\n",
        "\n",
        "  # Format as hh:mm:ss\n",
        "  return str(datetime.timedelta(seconds=elapsed_rounded))"
      ],
      "execution_count": null,
      "outputs": []
    },
    {
      "cell_type": "code",
      "metadata": {
        "id": "oMrnqx_XpnVh"
      },
      "source": [
        "def get_tokenized_tags(sentence, tags):\n",
        "    tokenized_sentence = []\n",
        "    tokenized_labels = []\n",
        "\n",
        "    words = sentence.split(\" \")\n",
        "    for word, label in zip(words, tags):\n",
        "        # Tokenize the word and count # of subwords the word is broken into\n",
        "        tokenized_word = tokenizer.tokenize(word)\n",
        "        n_subwords = len(tokenized_word)\n",
        "        # Add the tokenized word to the final tokenized word list\n",
        "        tokenized_sentence.extend(tokenized_word)\n",
        "        # Add the same label to the new list of labels `n_subwords` times\n",
        "        tokenized_labels.extend([label] * n_subwords)\n",
        "    \n",
        "    return tokenized_sentence, tokenized_labels"
      ],
      "execution_count": null,
      "outputs": []
    },
    {
      "cell_type": "code",
      "metadata": {
        "id": "V4Hxu7CJpvkc"
      },
      "source": [
        "def pad_tokenized_tags(tags, max_len):\n",
        "    if len(tags) <= max_len:\n",
        "      tags.extend([tag_dict['B-padding']] * (max_len - len(tags)))\n",
        "    else:\n",
        "      tags = tags[0:max_len]\n",
        "    return tags"
      ],
      "execution_count": null,
      "outputs": []
    },
    {
      "cell_type": "code",
      "metadata": {
        "id": "klaT02lN8K-J"
      },
      "source": [
        "def remove_padding(label_ids, logits):\n",
        "    y_true = [[label for label in flat_y_true(sent) if label != tag_dict['padding']] for sent in label_ids]\n",
        "    y_pred_padded = [[label for label in flat_y_pred(sent)] for sent in logits]\n",
        "    y_pred = []\n",
        "    for idx, label in enumerate(y_pred_padded):\n",
        "        y_pred.append(label[0:len(y_true[idx])])\n",
        "    return y_true, y_pred"
      ],
      "execution_count": null,
      "outputs": []
    },
    {
      "cell_type": "code",
      "metadata": {
        "id": "umcUobqQ8K7J"
      },
      "source": [
        "def convert_tokenized_tags_to_original_length(tokenized_sents, tags):\n",
        "   r = []\n",
        "   r_tags = []\n",
        "   for index, token in enumerate(tokenized_sents):\n",
        "       if token.startswith(\"##\"):\n",
        "           if r:\n",
        "               r[-1] = f\"{r[-1]}{token[2:]}\"\n",
        "       else:\n",
        "           r.append(token)\n",
        "           r_tags.append(tags[index])\n",
        "   return r, r_tags"
      ],
      "execution_count": null,
      "outputs": []
    },
    {
      "cell_type": "code",
      "metadata": {
        "id": "ddR0U8F68KzC"
      },
      "source": [
        "def map_labels_to_tags(true_labels, pred_labels):\n",
        "    true_tags = [[tag_dict_reverse.get(label) for label in sent] for sent in list_3d_flatten(true_labels)]\n",
        "    pred_tags = [[tag_dict_reverse.get(label) for label in sent] for sent in list_3d_flatten(pred_labels)]\n",
        "    return true_tags, pred_tags"
      ],
      "execution_count": null,
      "outputs": []
    },
    {
      "cell_type": "code",
      "metadata": {
        "id": "SQffXl-exjSa"
      },
      "source": [
        "class score_getter:\n",
        "    def __init__(self, y_true, y_pred):\n",
        "        self.tn, self.fp, self.fn, self.tp = confusion_matrix(y_true, y_pred).ravel()\n",
        "        self.sensitivity = self.tp/(self.tp+self.fn)\n",
        "        self.specificity = self.tn/(self.tn+self.fp)\n",
        "        self.PPV = self.tp/(self.tp+self.fp)\n",
        "        self.NPV = self.tn/(self.tn+self.fn)\n",
        "        self.f1 = 2*self.tp/(2*self.tp + self.fp + self.fn)\n",
        "        self.auc = roc_auc_score(y_true, y_pred)\n",
        "        self.acc = accuracy_score(y_true, y_pred)\n",
        "        self.acc_bal = balanced_accuracy_score(y_true, y_pred)\n",
        "        self.mcc = matthews_corrcoef(y_true, y_pred)\n",
        "        "
      ],
      "execution_count": null,
      "outputs": []
    },
    {
      "cell_type": "code",
      "metadata": {
        "id": "pziDK05o8VYQ"
      },
      "source": [
        "def make_heatmap(y_true, y_pred, fig_name, categories, figsize=(15,12), fontsize=40, annot=True, fmt=\"d\",cmap=ListedColormap(['lightskyblue']), \n",
        "                 cbar=False, linewidths=5, annot_kws={\"size\":100}):\n",
        "    tn, fp, fn, tp = confusion_matrix(y_true, y_pred).ravel()\n",
        "    cf = np.array([[tn, fn],\n",
        "                   [fp, tp]])\n",
        "    \n",
        "    box_labels = [str(number) for number in cf.ravel()]\n",
        "    box_labels = np.asarray(box_labels).reshape(cf.shape[0],cf.shape[1])\n",
        "    \n",
        "    # MAKE THE HEATMAP VISUALIZATION\n",
        "    plt.figure(figsize=figsize)\n",
        "    hm = sns.heatmap(cf,annot=annot,fmt=fmt,cmap=cmap, cbar=cbar, linewidths=5, annot_kws=annot_kws)\n",
        "    hm.invert_xaxis()\n",
        "    hm.invert_yaxis()\n",
        "    hm.xaxis.tick_top() # x axis on top\n",
        "    hm.xaxis.set_label_position('top')\n",
        "    plt.ylabel('Prediction condition', size=fontsize)\n",
        "    plt.xlabel('True condition', size=fontsize)\n",
        "    plt.xticks(size=fontsize*0.75)\n",
        "    plt.yticks(size=fontsize*0.75)\n",
        "    plt.savefig(f'{fig_name}.png')              \n",
        "    plt.show()"
      ],
      "execution_count": null,
      "outputs": []
    },
    {
      "cell_type": "markdown",
      "metadata": {
        "id": "62MzNO8F1fvH"
      },
      "source": [
        "## 2.3. load table "
      ]
    },
    {
      "cell_type": "code",
      "metadata": {
        "id": "Ze3RfMbw1Eg9"
      },
      "source": [
        "# set path to directory containing the pdf files for text mining\n",
        "dirpath_test = '/content/gdrive/My Drive/DILI_BERT/FDA_labels/'\n",
        "\n",
        "# filename_test = 'test_doc_multiclass_20200830.pkl'\n",
        "filename_test = 'FDA_label_train_test_doc_checked_trimmed_20210215.xlsx'\n",
        "\n",
        "filepath = dirpath_test + filename_test"
      ],
      "execution_count": null,
      "outputs": []
    },
    {
      "cell_type": "code",
      "metadata": {
        "id": "n6KntMu71Eev"
      },
      "source": [
        "test = pd.read_excel(filepath, sheet_name=\"Sheet1\")\n",
        "# test = pd.read_excel(filepath, sheet_name=\"test_set\")"
      ],
      "execution_count": null,
      "outputs": []
    },
    {
      "cell_type": "code",
      "metadata": {
        "colab": {
          "base_uri": "https://localhost:8080/",
          "height": 394
        },
        "id": "hLaeemmM48_B",
        "outputId": "9efd2688-f8c9-4acb-8aa0-506503feb045"
      },
      "source": [
        "test['Boxed_Warning'] = test['Boxed_Warning'].apply(normalize_text)\n",
        "test['Warnings_Precautions'] = test['Warnings_Precautions'].apply(normalize_text)\n",
        "test['Adverse_Reactions'] = test['Adverse_Reactions'].apply(normalize_text)\n",
        "test.head()"
      ],
      "execution_count": null,
      "outputs": [
        {
          "output_type": "execute_result",
          "data": {
            "text/html": [
              "<div>\n",
              "<style scoped>\n",
              "    .dataframe tbody tr th:only-of-type {\n",
              "        vertical-align: middle;\n",
              "    }\n",
              "\n",
              "    .dataframe tbody tr th {\n",
              "        vertical-align: top;\n",
              "    }\n",
              "\n",
              "    .dataframe thead th {\n",
              "        text-align: right;\n",
              "    }\n",
              "</style>\n",
              "<table border=\"1\" class=\"dataframe\">\n",
              "  <thead>\n",
              "    <tr style=\"text-align: right;\">\n",
              "      <th></th>\n",
              "      <th>LTKBID</th>\n",
              "      <th>Compound_name</th>\n",
              "      <th>LabelSection</th>\n",
              "      <th>vDILIConcern</th>\n",
              "      <th>Boxed_Warning</th>\n",
              "      <th>Warnings_Precautions</th>\n",
              "      <th>Adverse_Reactions</th>\n",
              "      <th>Test_set</th>\n",
              "      <th>WP_true_label_updated</th>\n",
              "      <th>WP_pred_label</th>\n",
              "      <th>multiclass_true_label_updated</th>\n",
              "      <th>multiclass_pred_label</th>\n",
              "      <th>in_EMA_training</th>\n",
              "    </tr>\n",
              "  </thead>\n",
              "  <tbody>\n",
              "    <tr>\n",
              "      <th>0</th>\n",
              "      <td>LT00003</td>\n",
              "      <td>mercaptopurine</td>\n",
              "      <td>Warnings and precautions</td>\n",
              "      <td>vMost-DILI-Concern</td>\n",
              "      <td>nan</td>\n",
              "      <td>the most consistent, dose-related adverse rea...</td>\n",
              "      <td>6 adverse reactions the following clinically ...</td>\n",
              "      <td>0</td>\n",
              "      <td>1</td>\n",
              "      <td>1</td>\n",
              "      <td>2</td>\n",
              "      <td>2</td>\n",
              "      <td>1</td>\n",
              "    </tr>\n",
              "    <tr>\n",
              "      <th>1</th>\n",
              "      <td>LT00006</td>\n",
              "      <td>azathioprine</td>\n",
              "      <td>Warnings and precautions</td>\n",
              "      <td>vMost-DILI-Concern</td>\n",
              "      <td>chronic immunosuppression with azathioprine, ...</td>\n",
              "      <td>malignancy patients receiving immunosuppressa...</td>\n",
              "      <td>adverse reactions the principal and potential...</td>\n",
              "      <td>1</td>\n",
              "      <td>1</td>\n",
              "      <td>1</td>\n",
              "      <td>2</td>\n",
              "      <td>2</td>\n",
              "      <td>1</td>\n",
              "    </tr>\n",
              "    <tr>\n",
              "      <th>2</th>\n",
              "      <td>LT00016</td>\n",
              "      <td>estradiol</td>\n",
              "      <td>Adverse reactions</td>\n",
              "      <td>vLess-DILI-Concern</td>\n",
              "      <td>estrogens increase the risk of endometrial ca...</td>\n",
              "      <td>see boxed warnings. estrogen and estrogen/pro...</td>\n",
              "      <td>adverse reactions see boxed warnings , warnin...</td>\n",
              "      <td>0</td>\n",
              "      <td>0</td>\n",
              "      <td>0</td>\n",
              "      <td>1</td>\n",
              "      <td>1</td>\n",
              "      <td>1</td>\n",
              "    </tr>\n",
              "    <tr>\n",
              "      <th>3</th>\n",
              "      <td>LT00018</td>\n",
              "      <td>fluoxetine</td>\n",
              "      <td>Adverse reactions</td>\n",
              "      <td>vLess-DILI-Concern</td>\n",
              "      <td>warning: suicidal thoughts and behaviors see ...</td>\n",
              "      <td>patients with mdd, both adult and pediatric, ...</td>\n",
              "      <td>6 adverse reactions the following adverse rea...</td>\n",
              "      <td>0</td>\n",
              "      <td>0</td>\n",
              "      <td>1</td>\n",
              "      <td>1</td>\n",
              "      <td>2</td>\n",
              "      <td>1</td>\n",
              "    </tr>\n",
              "    <tr>\n",
              "      <th>4</th>\n",
              "      <td>LT00020</td>\n",
              "      <td>gemfibrozil</td>\n",
              "      <td>Warnings and precautions</td>\n",
              "      <td>vMost-DILI-Concern</td>\n",
              "      <td>nan</td>\n",
              "      <td>1. because of chemical, pharmacological, and ...</td>\n",
              "      <td>adverse reactions in the double-blind control...</td>\n",
              "      <td>0</td>\n",
              "      <td>1</td>\n",
              "      <td>1</td>\n",
              "      <td>2</td>\n",
              "      <td>2</td>\n",
              "      <td>1</td>\n",
              "    </tr>\n",
              "  </tbody>\n",
              "</table>\n",
              "</div>"
            ],
            "text/plain": [
              "    LTKBID   Compound_name  ... multiclass_pred_label in_EMA_training\n",
              "0  LT00003  mercaptopurine  ...                     2               1\n",
              "1  LT00006    azathioprine  ...                     2               1\n",
              "2  LT00016       estradiol  ...                     1               1\n",
              "3  LT00018      fluoxetine  ...                     2               1\n",
              "4  LT00020     gemfibrozil  ...                     2               1\n",
              "\n",
              "[5 rows x 13 columns]"
            ]
          },
          "metadata": {},
          "execution_count": 22
        }
      ]
    },
    {
      "cell_type": "markdown",
      "metadata": {
        "id": "orrizW-x98jm"
      },
      "source": [
        "## 2.4. check sentence length"
      ]
    },
    {
      "cell_type": "code",
      "metadata": {
        "colab": {
          "base_uri": "https://localhost:8080/"
        },
        "id": "8KoAEnHwOCZ9",
        "outputId": "276a7c66-b50d-4325-8709-242b604c6d09"
      },
      "source": [
        "train = test[test.Test_set == 0]\n",
        "val = test[test.Test_set == 1]\n",
        "print(len(train), len(val))"
      ],
      "execution_count": null,
      "outputs": [
        {
          "output_type": "stream",
          "text": [
            "600 150\n"
          ],
          "name": "stdout"
        }
      ]
    },
    {
      "cell_type": "code",
      "metadata": {
        "id": "yMghcilVL2eZ"
      },
      "source": [
        "def get_number_of_sentences(documents):\n",
        "    liver_sentences = []\n",
        "    liver_negative_sentences = []\n",
        "    for doc in tqdm(documents.Warnings_Precautions):\n",
        "        sent_tokens = sent_tokenize(doc)\n",
        "        for sent in sent_tokens:\n",
        "            # KW context prediction\n",
        "            kw_positive = any(keyword in sent for keyword in keywords_positive)\n",
        "            kw_negative = any(keyword in sent for keyword in keywords_negative)\n",
        "            if kw_positive == True and kw_negative == False:\n",
        "                liver_sentences.append(sent) \n",
        "            else:\n",
        "                liver_negative_sentences.append(sent)\n",
        "    \n",
        "    return len(list(set(liver_sentences))), len(list(set(liver_negative_sentences)))\n",
        "    # return len(liver_sentences), len(liver_negative_sentences)"
      ],
      "execution_count": null,
      "outputs": []
    },
    {
      "cell_type": "markdown",
      "metadata": {
        "id": "V53v_ApeSIym"
      },
      "source": [
        "### FDA labels"
      ]
    },
    {
      "cell_type": "code",
      "metadata": {
        "colab": {
          "base_uri": "https://localhost:8080/"
        },
        "id": "fiQncTlJNI8m",
        "outputId": "d908287b-5b9f-4a21-82d4-a64b5f5a88e8"
      },
      "source": [
        "n_pos_t, n_neg_t = get_number_of_sentences(train)\n",
        "n_pos_v, n_neg_v = get_number_of_sentences(val)"
      ],
      "execution_count": null,
      "outputs": [
        {
          "output_type": "stream",
          "text": [
            "100%|██████████| 600/600 [00:01<00:00, 379.61it/s]\n",
            "100%|██████████| 150/150 [00:00<00:00, 379.99it/s]\n"
          ],
          "name": "stderr"
        }
      ]
    },
    {
      "cell_type": "code",
      "metadata": {
        "colab": {
          "base_uri": "https://localhost:8080/"
        },
        "id": "KUOdqYeUQ_Uk",
        "outputId": "adbff8ef-c5ba-44cb-9533-2dfedb6d9577"
      },
      "source": [
        "# with duplicates\n",
        "print(f\"liver positive: {n_pos_t}\")\n",
        "print(f\"liver positive: {n_neg_t}\")\n",
        "print(f\"training sentences: {n_pos_t+n_neg_t}\")\n",
        "print(f\"liver positive: {n_pos_v}\")\n",
        "print(f\"liver positive: {n_neg_v}\")\n",
        "print(f\"val sentences: {n_pos_v+n_neg_v}\")"
      ],
      "execution_count": null,
      "outputs": [
        {
          "output_type": "stream",
          "text": [
            "liver positive: 1778\n",
            "liver positive: 34839\n",
            "training sentences: 36617\n",
            "liver positive: 435\n",
            "liver positive: 8763\n",
            "val sentences: 9198\n"
          ],
          "name": "stdout"
        }
      ]
    },
    {
      "cell_type": "code",
      "metadata": {
        "colab": {
          "base_uri": "https://localhost:8080/"
        },
        "id": "02IYg6p6NI2A",
        "outputId": "f5ce216e-35ec-4ab5-ec32-9cc2f3bf8d21"
      },
      "source": [
        "# deduplicated\n",
        "print(f\"liver positive: {n_pos_t}\")\n",
        "print(f\"liver positive: {n_neg_t}\")\n",
        "print(f\"training sentences: {n_pos_t+n_neg_t}\")\n",
        "print(f\"liver positive: {n_pos_v}\")\n",
        "print(f\"liver positive: {n_neg_v}\")\n",
        "print(f\"val sentences: {n_pos_v+n_neg_v}\")"
      ],
      "execution_count": null,
      "outputs": [
        {
          "output_type": "stream",
          "text": [
            "liver positive: 1501\n",
            "liver positive: 28054\n",
            "training sentences: 29555\n",
            "liver positive: 391\n",
            "liver positive: 7433\n",
            "val sentences: 7824\n"
          ],
          "name": "stdout"
        }
      ]
    },
    {
      "cell_type": "markdown",
      "metadata": {
        "id": "GIxKxxdPSMa7"
      },
      "source": [
        "### EMA labels"
      ]
    },
    {
      "cell_type": "code",
      "metadata": {
        "id": "RXIcemS2Q8d0"
      },
      "source": [
        "dirpath_test = '/content/gdrive/My Drive/DILI_BERT/EMA_labels/'\n",
        "filename_test = 'EMA_label_train_test_doc_checked_trimmed_20210215.xlsx'\n",
        "filepath = dirpath_test + filename_test"
      ],
      "execution_count": null,
      "outputs": []
    },
    {
      "cell_type": "code",
      "metadata": {
        "colab": {
          "base_uri": "https://localhost:8080/",
          "height": 411
        },
        "id": "Nc7cdPFGSUON",
        "outputId": "0f8a6daa-ce53-4cf6-f14f-6ab065f34025"
      },
      "source": [
        "test = pd.read_excel(filepath, sheet_name=\"Sheet1\")\n",
        "# test = pd.read_excel(filepath, sheet_name=\"test_set\")\n",
        "test['Warnings_Precautions'] = test['Warnings_Precautions'].apply(normalize_text)\n",
        "test['Adverse_Reactions'] = test['Adverse_Reactions'].apply(normalize_text)\n",
        "print(len(test))\n",
        "test.head()"
      ],
      "execution_count": null,
      "outputs": [
        {
          "output_type": "stream",
          "text": [
            "540\n"
          ],
          "name": "stdout"
        },
        {
          "output_type": "execute_result",
          "data": {
            "text/html": [
              "<div>\n",
              "<style scoped>\n",
              "    .dataframe tbody tr th:only-of-type {\n",
              "        vertical-align: middle;\n",
              "    }\n",
              "\n",
              "    .dataframe tbody tr th {\n",
              "        vertical-align: top;\n",
              "    }\n",
              "\n",
              "    .dataframe thead th {\n",
              "        text-align: right;\n",
              "    }\n",
              "</style>\n",
              "<table border=\"1\" class=\"dataframe\">\n",
              "  <thead>\n",
              "    <tr style=\"text-align: right;\">\n",
              "      <th></th>\n",
              "      <th>LTKBID</th>\n",
              "      <th>eMC_LabelSection2</th>\n",
              "      <th>Warnings_Precautions</th>\n",
              "      <th>Adverse_Reactions</th>\n",
              "      <th>Test_set</th>\n",
              "      <th>WP_true_label_updated</th>\n",
              "      <th>WP_pred_label</th>\n",
              "      <th>multiclass_true_label_updated</th>\n",
              "      <th>multiclass_pred_label</th>\n",
              "      <th>in_FDA_training</th>\n",
              "    </tr>\n",
              "  </thead>\n",
              "  <tbody>\n",
              "    <tr>\n",
              "      <th>0</th>\n",
              "      <td>LT00003</td>\n",
              "      <td>Warnings and precautions</td>\n",
              "      <td>6-mercaptopurine is an active cytotoxic agent ...</td>\n",
              "      <td>summary of the safety profile for 6-mercaptopu...</td>\n",
              "      <td>0</td>\n",
              "      <td>1</td>\n",
              "      <td>1</td>\n",
              "      <td>2</td>\n",
              "      <td>2</td>\n",
              "      <td>1</td>\n",
              "    </tr>\n",
              "    <tr>\n",
              "      <th>1</th>\n",
              "      <td>LT00016</td>\n",
              "      <td>Adverse reactions</td>\n",
              "      <td>• for the treatment of postmenopausal symptoms...</td>\n",
              "      <td>the following undesirable effects have been re...</td>\n",
              "      <td>0</td>\n",
              "      <td>0</td>\n",
              "      <td>0</td>\n",
              "      <td>1</td>\n",
              "      <td>1</td>\n",
              "      <td>1</td>\n",
              "    </tr>\n",
              "    <tr>\n",
              "      <th>2</th>\n",
              "      <td>LT00018</td>\n",
              "      <td>Adverse reactions</td>\n",
              "      <td>paediatric population - children and adolescen...</td>\n",
              "      <td>a. summary of the safety profile the most comm...</td>\n",
              "      <td>0</td>\n",
              "      <td>0</td>\n",
              "      <td>1</td>\n",
              "      <td>1</td>\n",
              "      <td>2</td>\n",
              "      <td>1</td>\n",
              "    </tr>\n",
              "    <tr>\n",
              "      <th>3</th>\n",
              "      <td>LT00020</td>\n",
              "      <td>Warnings and precautions</td>\n",
              "      <td>muscle disorders (myopathy/rhabdomyolysis) the...</td>\n",
              "      <td>most commonly reported adverse reactions are o...</td>\n",
              "      <td>0</td>\n",
              "      <td>0</td>\n",
              "      <td>0</td>\n",
              "      <td>1</td>\n",
              "      <td>1</td>\n",
              "      <td>1</td>\n",
              "    </tr>\n",
              "    <tr>\n",
              "      <th>4</th>\n",
              "      <td>LT00022</td>\n",
              "      <td>Warnings and precautions</td>\n",
              "      <td>indometacin may have a reversible inhibitory e...</td>\n",
              "      <td>cns reactions - headaches, dizziness, light-he...</td>\n",
              "      <td>0</td>\n",
              "      <td>0</td>\n",
              "      <td>0</td>\n",
              "      <td>1</td>\n",
              "      <td>1</td>\n",
              "      <td>1</td>\n",
              "    </tr>\n",
              "  </tbody>\n",
              "</table>\n",
              "</div>"
            ],
            "text/plain": [
              "    LTKBID         eMC_LabelSection2  ... multiclass_pred_label in_FDA_training\n",
              "0  LT00003  Warnings and precautions  ...                     2               1\n",
              "1  LT00016         Adverse reactions  ...                     1               1\n",
              "2  LT00018         Adverse reactions  ...                     2               1\n",
              "3  LT00020  Warnings and precautions  ...                     1               1\n",
              "4  LT00022  Warnings and precautions  ...                     1               1\n",
              "\n",
              "[5 rows x 10 columns]"
            ]
          },
          "metadata": {
            "tags": []
          },
          "execution_count": 40
        }
      ]
    },
    {
      "cell_type": "code",
      "metadata": {
        "colab": {
          "base_uri": "https://localhost:8080/"
        },
        "id": "VS9tFfYsSUIU",
        "outputId": "7d6164a2-7d42-43fb-d5cc-6fd48b39c41e"
      },
      "source": [
        "train = test[test.Test_set == 0]\n",
        "val = test[test.Test_set == 1]\n",
        "print(len(train), len(val))"
      ],
      "execution_count": null,
      "outputs": [
        {
          "output_type": "stream",
          "text": [
            "431 109\n"
          ],
          "name": "stdout"
        }
      ]
    },
    {
      "cell_type": "code",
      "metadata": {
        "colab": {
          "base_uri": "https://localhost:8080/"
        },
        "id": "J1G_i-pfSUDp",
        "outputId": "32aa6b7e-35a9-4419-b43c-003e5ae1dbcc"
      },
      "source": [
        "n_pos_t, n_neg_t = get_number_of_sentences(train)\n",
        "n_pos_v, n_neg_v = get_number_of_sentences(val)"
      ],
      "execution_count": null,
      "outputs": [
        {
          "output_type": "stream",
          "text": [
            "100%|██████████| 431/431 [00:00<00:00, 618.33it/s]\n",
            "100%|██████████| 109/109 [00:00<00:00, 595.09it/s]\n"
          ],
          "name": "stderr"
        }
      ]
    },
    {
      "cell_type": "code",
      "metadata": {
        "colab": {
          "base_uri": "https://localhost:8080/"
        },
        "id": "moA68o8YST_I",
        "outputId": "b22ff314-f7fb-4aa5-9cb1-e24278cbd7dd"
      },
      "source": [
        "# with duplicates\n",
        "print(f\"liver positive: {n_pos_t}\")\n",
        "print(f\"liver positive: {n_neg_t}\")\n",
        "print(f\"training sentences: {n_pos_t+n_neg_t}\")\n",
        "print(f\"liver positive: {n_pos_v}\")\n",
        "print(f\"liver positive: {n_neg_v}\")\n",
        "print(f\"val sentences: {n_pos_v+n_neg_v}\")"
      ],
      "execution_count": null,
      "outputs": [
        {
          "output_type": "stream",
          "text": [
            "liver positive: 1035\n",
            "liver positive: 15285\n",
            "training sentences: 16320\n",
            "liver positive: 261\n",
            "liver positive: 3943\n",
            "val sentences: 4204\n"
          ],
          "name": "stdout"
        }
      ]
    },
    {
      "cell_type": "code",
      "metadata": {
        "colab": {
          "base_uri": "https://localhost:8080/"
        },
        "id": "TOj1aUiVST4D",
        "outputId": "181fd3a2-38d6-4a70-bf58-8c6955d45584"
      },
      "source": [
        "# deduplicated\n",
        "print(f\"liver positive: {n_pos_t}\")\n",
        "print(f\"liver positive: {n_neg_t}\")\n",
        "print(f\"training sentences: {n_pos_t+n_neg_t}\")\n",
        "print(f\"liver positive: {n_pos_v}\")\n",
        "print(f\"liver positive: {n_neg_v}\")\n",
        "print(f\"val sentences: {n_pos_v+n_neg_v}\")"
      ],
      "execution_count": null,
      "outputs": [
        {
          "output_type": "stream",
          "text": [
            "liver positive: 996\n",
            "liver positive: 14108\n",
            "training sentences: 15104\n",
            "liver positive: 257\n",
            "liver positive: 3787\n",
            "val sentences: 4044\n"
          ],
          "name": "stdout"
        }
      ]
    },
    {
      "cell_type": "code",
      "metadata": {
        "id": "f8-ACVj0STx2"
      },
      "source": [
        ""
      ],
      "execution_count": null,
      "outputs": []
    },
    {
      "cell_type": "code",
      "metadata": {
        "colab": {
          "base_uri": "https://localhost:8080/"
        },
        "id": "_pL824z4-PKV",
        "outputId": "505a6fb1-080f-45a2-94a6-b41d78f47a7f"
      },
      "source": [
        "sentences = []\n",
        "liver_negative_sentences = []\n",
        "for doc in tqdm(train.Warnings_Precautions):\n",
        "    sent_tokens = sent_tokenize(doc)\n",
        "    for sent in sent_tokens:\n",
        "        sentences.append(sent_tokens)\n",
        "        kw_positive = any(keyword in sent for keyword in keywords_positive)\n",
        "        if kw_positive == False:\n",
        "            liver_negative_sentences.append(sent)      \n",
        "        \n",
        "df_liver_negative_sentences = pd.DataFrame({'Liver_negative_sentences': liver_negative_sentences,\n",
        "                                            'Label': [0]*len(liver_negative_sentences) }, \n",
        "                                            columns=['Liver_negative_sentences', 'Label'])"
      ],
      "execution_count": null,
      "outputs": [
        {
          "output_type": "stream",
          "text": [
            "100%|██████████| 600/600 [00:01<00:00, 322.52it/s]\n"
          ],
          "name": "stderr"
        }
      ]
    },
    {
      "cell_type": "code",
      "metadata": {
        "colab": {
          "base_uri": "https://localhost:8080/",
          "height": 204
        },
        "id": "9eLF3L6lC66A",
        "outputId": "f541f7ac-003a-478b-d39a-b17482cb876b"
      },
      "source": [
        "df_liver_negative_sentences = shuffle(df_liver_negative_sentences)\n",
        "df_liver_negative_sentences.drop_duplicates(inplace=True)\n",
        "df_liver_negative_sentences.head()"
      ],
      "execution_count": null,
      "outputs": [
        {
          "output_type": "execute_result",
          "data": {
            "text/html": [
              "<div>\n",
              "<style scoped>\n",
              "    .dataframe tbody tr th:only-of-type {\n",
              "        vertical-align: middle;\n",
              "    }\n",
              "\n",
              "    .dataframe tbody tr th {\n",
              "        vertical-align: top;\n",
              "    }\n",
              "\n",
              "    .dataframe thead th {\n",
              "        text-align: right;\n",
              "    }\n",
              "</style>\n",
              "<table border=\"1\" class=\"dataframe\">\n",
              "  <thead>\n",
              "    <tr style=\"text-align: right;\">\n",
              "      <th></th>\n",
              "      <th>Liver_negative_sentences</th>\n",
              "      <th>Label</th>\n",
              "    </tr>\n",
              "  </thead>\n",
              "  <tbody>\n",
              "    <tr>\n",
              "      <th>20475</th>\n",
              "      <td>fibrates increase the risk of myositis or myop...</td>\n",
              "      <td>0</td>\n",
              "    </tr>\n",
              "    <tr>\n",
              "      <th>25627</th>\n",
              "      <td>a median weight gain of 0.5 kg was observed in...</td>\n",
              "      <td>0</td>\n",
              "    </tr>\n",
              "    <tr>\n",
              "      <th>31123</th>\n",
              "      <td>fibrotic complications: see warnings: fibrotic...</td>\n",
              "      <td>0</td>\n",
              "    </tr>\n",
              "    <tr>\n",
              "      <th>32687</th>\n",
              "      <td>malignancies : stelara ® may increase risk of ...</td>\n",
              "      <td>0</td>\n",
              "    </tr>\n",
              "    <tr>\n",
              "      <th>9694</th>\n",
              "      <td>because of a potential drug-drug interaction, ...</td>\n",
              "      <td>0</td>\n",
              "    </tr>\n",
              "  </tbody>\n",
              "</table>\n",
              "</div>"
            ],
            "text/plain": [
              "                                Liver_negative_sentences  Label\n",
              "20475  fibrates increase the risk of myositis or myop...      0\n",
              "25627  a median weight gain of 0.5 kg was observed in...      0\n",
              "31123  fibrotic complications: see warnings: fibrotic...      0\n",
              "32687  malignancies : stelara ® may increase risk of ...      0\n",
              "9694   because of a potential drug-drug interaction, ...      0"
            ]
          },
          "metadata": {
            "tags": []
          },
          "execution_count": 16
        }
      ]
    },
    {
      "cell_type": "code",
      "metadata": {
        "colab": {
          "base_uri": "https://localhost:8080/"
        },
        "id": "rSK3yPlNyndg",
        "outputId": "80b07f6d-1cea-432b-a153-60660b8a2394"
      },
      "source": [
        "df_liver_negative_sentences.shape"
      ],
      "execution_count": null,
      "outputs": [
        {
          "output_type": "execute_result",
          "data": {
            "text/plain": [
              "(27578, 2)"
            ]
          },
          "metadata": {
            "tags": []
          },
          "execution_count": 17
        }
      ]
    },
    {
      "cell_type": "code",
      "metadata": {
        "id": "WQmjNzQ8B1ek"
      },
      "source": [
        "# df_liver_negative_sentences.to_pickle(dirpath_test + 'liver_negative_sentences.pkl')\n",
        "df_liver_negative_sentences = pd.read_pickle(dirpath_test + 'liver_negative_sentences.pkl')"
      ],
      "execution_count": null,
      "outputs": []
    },
    {
      "cell_type": "code",
      "metadata": {
        "id": "10iz1xD21ute"
      },
      "source": [
        "for i in range(int(df_liver_negative_sentences.shape[0]/5000) + 1):\n",
        "    fn = f\"df_liver_negative_sentences_{i}.txt\"\n",
        "    if (i+1)*5000 < df_liver_negative_sentences.shape[0]:\n",
        "        with codecs.open(dirpath_test + fn, \"w\", \"utf8\") as outfile:\n",
        "            outfile.write(\"\\n\".join(str(s) for s in df_liver_negative_sentences['Liver_negative_sentences'][i*5000:(i+1)*5000]))\n",
        "    else:\n",
        "        with codecs.open(dirpath_test + fn, \"w\", \"utf8\") as outfile:\n",
        "            outfile.write(\"\\n\".join(str(s) for s in df_liver_negative_sentences['Liver_negative_sentences'][i*5000:]))"
      ],
      "execution_count": null,
      "outputs": []
    },
    {
      "cell_type": "code",
      "metadata": {
        "id": "UaS_qxDG53qp"
      },
      "source": [
        "# for i in range(int(34012/5000) + 1):\n",
        "#     fn = f\"df_liver_negative_sentences_{i}.txt\"\n",
        "#     if (i+1)*5000 < 34012:\n",
        "#         print(df_liver_negative_sentences['Liver_negative_sentences'][i*5000:(i+1)*5000].head())\n",
        "#     else:\n",
        "#         print(df_liver_negative_sentences['Liver_negative_sentences'][i*5000:].head())"
      ],
      "execution_count": null,
      "outputs": []
    },
    {
      "cell_type": "code",
      "metadata": {
        "id": "ZOTsAzP1-IOl"
      },
      "source": [
        "def check_sent_length(sentences, tokenizer):\n",
        "    input_ids = []\n",
        "    length = []\n",
        "    max_len = 0\n",
        "\n",
        "    # For every sentence...\n",
        "    for sent in sentences:\n",
        "        # Tokenize the text and add `[CLS]` and `[SEP]` tokens.\n",
        "        encoded_sent = tokenizer.encode(sent, add_special_tokens=True)\n",
        "\n",
        "        # update the input_ids\n",
        "        input_ids.append(encoded_sent)\n",
        "        # Update the sentence length.\n",
        "        length.append(len(encoded_sent))\n",
        "        # Update the maximum sentence length.\n",
        "        max_len = max(max_len, len(encoded_sent))\n",
        "\n",
        "    print('Max sentence length: ', max_len)\n",
        "    return length, max_len"
      ],
      "execution_count": null,
      "outputs": []
    },
    {
      "cell_type": "code",
      "metadata": {
        "colab": {
          "base_uri": "https://localhost:8080/"
        },
        "id": "-95iBxfB-ILd",
        "outputId": "2cb1c30e-c66c-4f3f-9672-be495c197bee"
      },
      "source": [
        "length, max_len = check_sent_length(sentences, tokenizer)"
      ],
      "execution_count": null,
      "outputs": [
        {
          "output_type": "stream",
          "text": [
            "Max sentence length:  220\n"
          ],
          "name": "stdout"
        }
      ]
    },
    {
      "cell_type": "code",
      "metadata": {
        "colab": {
          "base_uri": "https://localhost:8080/"
        },
        "id": "2xgfxQNI-IIR",
        "outputId": "ac64f627-e0a3-47a9-f447-b42a8427a73a"
      },
      "source": [
        "print(len(length))\n",
        "print(len([i for i in length if i > 64]))\n",
        "print(len([i for i in length if i > 128]))"
      ],
      "execution_count": null,
      "outputs": [
        {
          "output_type": "stream",
          "text": [
            "45815\n",
            "29814\n",
            "9220\n"
          ],
          "name": "stdout"
        }
      ]
    },
    {
      "cell_type": "code",
      "metadata": {
        "colab": {
          "base_uri": "https://localhost:8080/",
          "height": 421
        },
        "id": "kwiNHqz5-IEy",
        "outputId": "9d7a64c4-b7b5-4806-9b3e-910f4510817f"
      },
      "source": [
        "# plot distribution \n",
        "plt.figure(figsize=(10,5))\n",
        "sns.distplot(length, kde=False, rug=False)\n",
        "sns.set_style('darkgrid')\n",
        "plt.title('sentence length distribution')\n",
        "plt.xlabel('sentence length')\n",
        "plt.xlim(0, 250)\n",
        "plt.ylabel('number of sentences')\n",
        "plt.axvline(128, color='red')"
      ],
      "execution_count": null,
      "outputs": [
        {
          "output_type": "stream",
          "text": [
            "/usr/local/lib/python3.7/dist-packages/seaborn/distributions.py:2557: FutureWarning: `distplot` is a deprecated function and will be removed in a future version. Please adapt your code to use either `displot` (a figure-level function with similar flexibility) or `histplot` (an axes-level function for histograms).\n",
            "  warnings.warn(msg, FutureWarning)\n"
          ],
          "name": "stderr"
        },
        {
          "output_type": "execute_result",
          "data": {
            "text/plain": [
              "<matplotlib.lines.Line2D at 0x7fbe3a261b90>"
            ]
          },
          "metadata": {
            "tags": []
          },
          "execution_count": 58
        },
        {
          "output_type": "display_data",
          "data": {
            "image/png": "[encoded data removed]",
            "text/plain": [
              "<Figure size 720x360 with 1 Axes>"
            ]
          },
          "metadata": {
            "tags": [],
            "needs_background": "light"
          }
        }
      ]
    },
    {
      "cell_type": "markdown",
      "metadata": {
        "id": "OM79zD1eaEC3"
      },
      "source": [
        "## 2.5. get train/test doc set"
      ]
    },
    {
      "cell_type": "code",
      "metadata": {
        "id": "fAyP3FiN49bP"
      },
      "source": [
        "train_doc = test[test.Test_set == 0]['Warnings_Precautions'].values\n",
        "train_label = test[test.Test_set == 0]['WP_true_label_updated'].values"
      ],
      "execution_count": null,
      "outputs": []
    },
    {
      "cell_type": "code",
      "metadata": {
        "id": "ty2idmoE49UY"
      },
      "source": [
        "test_doc = test[test.Test_set == 1]['Warnings_Precautions'].values\n",
        "test_label = test[test.Test_set == 1]['WP_true_label_updated'].values"
      ],
      "execution_count": null,
      "outputs": []
    },
    {
      "cell_type": "code",
      "metadata": {
        "id": "Hu349Cun9zv2"
      },
      "source": [
        "train_sents = [sent for sent in sent_tokenize(train_doc[0])]"
      ],
      "execution_count": null,
      "outputs": []
    },
    {
      "cell_type": "code",
      "metadata": {
        "colab": {
          "base_uri": "https://localhost:8080/"
        },
        "id": "MkFaITw-9zsf",
        "outputId": "ea74dfa1-efe2-458c-d622-3ee9af7858e3"
      },
      "source": [
        "print(train_sents[3])"
      ],
      "execution_count": null,
      "outputs": [
        {
          "output_type": "stream",
          "text": [
            "tpmt genotyping or phenotyping (red blood cell tpmt activity) and nudt15 genotyping can identify patients who have reduced activity of these enzymes.\n"
          ],
          "name": "stdout"
        }
      ]
    },
    {
      "cell_type": "code",
      "metadata": {
        "id": "EyNSIcdu9zpk"
      },
      "source": [
        "example_sent = 'the pattern of liver damage was predominantly hepatocellular.'\n",
        "# example_sent = 'caution should be exercised when treating patients with severe hepatic impairment.'\n",
        "# example_sent = 'hepatic failure has been reported.'"
      ],
      "execution_count": null,
      "outputs": []
    },
    {
      "cell_type": "code",
      "metadata": {
        "id": "6myyyZQw9zmS"
      },
      "source": [
        ""
      ],
      "execution_count": null,
      "outputs": []
    },
    {
      "cell_type": "code",
      "metadata": {
        "id": "nYPjOTSo9ziy"
      },
      "source": [
        ""
      ],
      "execution_count": null,
      "outputs": []
    },
    {
      "cell_type": "markdown",
      "metadata": {
        "id": "R0-_mau2y-_0"
      },
      "source": [
        "# 3. Load models"
      ]
    },
    {
      "cell_type": "markdown",
      "metadata": {
        "id": "nv2Mqeo60Qwg"
      },
      "source": [
        "## 3.1. load tokenizer"
      ]
    },
    {
      "cell_type": "code",
      "metadata": {
        "id": "E2PMJYftw4rD",
        "colab": {
          "base_uri": "https://localhost:8080/",
          "height": 328
        },
        "outputId": "d525b2c5-597b-44a9-c9e5-061459761f31"
      },
      "source": [
        "# load tokenizer from a trained model\n",
        "tokenizer = BertTokenizer.from_pretrained('/content/gdrive/My Drive/NLP/NER/model_save/NER_FDA_bs32_epoch4_20210304_170545/', do_lower_case=True)\n"
      ],
      "execution_count": null,
      "outputs": [
        {
          "output_type": "error",
          "ename": "HTTPError",
          "evalue": "ignored",
          "traceback": [
            "\u001b[0;31m---------------------------------------------------------------------------\u001b[0m",
            "\u001b[0;31mHTTPError\u001b[0m                                 Traceback (most recent call last)",
            "\u001b[0;32m<ipython-input-32-44602c97656c>\u001b[0m in \u001b[0;36m<module>\u001b[0;34m()\u001b[0m\n\u001b[1;32m      1\u001b[0m \u001b[0;31m# load tokenizer from a trained model\u001b[0m\u001b[0;34m\u001b[0m\u001b[0;34m\u001b[0m\u001b[0;34m\u001b[0m\u001b[0m\n\u001b[0;32m----> 2\u001b[0;31m \u001b[0mtokenizer\u001b[0m \u001b[0;34m=\u001b[0m \u001b[0mBertTokenizer\u001b[0m\u001b[0;34m.\u001b[0m\u001b[0mfrom_pretrained\u001b[0m\u001b[0;34m(\u001b[0m\u001b[0;34m'/content/gdrive/My Drive/NLP/NER/model_save/NER_FDA_bs32_epoch4_20210304_170545/'\u001b[0m\u001b[0;34m,\u001b[0m \u001b[0mdo_lower_case\u001b[0m\u001b[0;34m=\u001b[0m\u001b[0;32mTrue\u001b[0m\u001b[0;34m)\u001b[0m\u001b[0;34m\u001b[0m\u001b[0;34m\u001b[0m\u001b[0m\n\u001b[0m",
            "\u001b[0;32m/usr/local/lib/python3.7/dist-packages/transformers/tokenization_utils_base.py\u001b[0m in \u001b[0;36mfrom_pretrained\u001b[0;34m(cls, pretrained_model_name_or_path, *init_inputs, **kwargs)\u001b[0m\n\u001b[1;32m   1653\u001b[0m                 \u001b[0mrevision\u001b[0m\u001b[0;34m=\u001b[0m\u001b[0mrevision\u001b[0m\u001b[0;34m,\u001b[0m\u001b[0;34m\u001b[0m\u001b[0;34m\u001b[0m\u001b[0m\n\u001b[1;32m   1654\u001b[0m                 \u001b[0muse_auth_token\u001b[0m\u001b[0;34m=\u001b[0m\u001b[0muse_auth_token\u001b[0m\u001b[0;34m,\u001b[0m\u001b[0;34m\u001b[0m\u001b[0;34m\u001b[0m\u001b[0m\n\u001b[0;32m-> 1655\u001b[0;31m                 \u001b[0mlocal_files_only\u001b[0m\u001b[0;34m=\u001b[0m\u001b[0mlocal_files_only\u001b[0m\u001b[0;34m,\u001b[0m\u001b[0;34m\u001b[0m\u001b[0;34m\u001b[0m\u001b[0m\n\u001b[0m\u001b[1;32m   1656\u001b[0m             )\n\u001b[1;32m   1657\u001b[0m             additional_files_names = {\n",
            "\u001b[0;32m/usr/local/lib/python3.7/dist-packages/transformers/tokenization_utils_base.py\u001b[0m in \u001b[0;36mget_fast_tokenizer_file\u001b[0;34m(path_or_repo, revision, use_auth_token, local_files_only)\u001b[0m\n\u001b[1;32m   3474\u001b[0m     \u001b[0;31m# Inspect all files from the repo/folder.\u001b[0m\u001b[0;34m\u001b[0m\u001b[0;34m\u001b[0m\u001b[0;34m\u001b[0m\u001b[0m\n\u001b[1;32m   3475\u001b[0m     all_files = get_list_of_files(\n\u001b[0;32m-> 3476\u001b[0;31m         \u001b[0mpath_or_repo\u001b[0m\u001b[0;34m,\u001b[0m \u001b[0mrevision\u001b[0m\u001b[0;34m=\u001b[0m\u001b[0mrevision\u001b[0m\u001b[0;34m,\u001b[0m \u001b[0muse_auth_token\u001b[0m\u001b[0;34m=\u001b[0m\u001b[0muse_auth_token\u001b[0m\u001b[0;34m,\u001b[0m \u001b[0mlocal_files_only\u001b[0m\u001b[0;34m=\u001b[0m\u001b[0mlocal_files_only\u001b[0m\u001b[0;34m\u001b[0m\u001b[0;34m\u001b[0m\u001b[0m\n\u001b[0m\u001b[1;32m   3477\u001b[0m     )\n\u001b[1;32m   3478\u001b[0m     \u001b[0mtokenizer_files_map\u001b[0m \u001b[0;34m=\u001b[0m \u001b[0;34m{\u001b[0m\u001b[0;34m}\u001b[0m\u001b[0;34m\u001b[0m\u001b[0;34m\u001b[0m\u001b[0m\n",
            "\u001b[0;32m/usr/local/lib/python3.7/dist-packages/transformers/file_utils.py\u001b[0m in \u001b[0;36mget_list_of_files\u001b[0;34m(path_or_repo, revision, use_auth_token, local_files_only)\u001b[0m\n\u001b[1;32m   1950\u001b[0m     \u001b[0;32melse\u001b[0m\u001b[0;34m:\u001b[0m\u001b[0;34m\u001b[0m\u001b[0;34m\u001b[0m\u001b[0m\n\u001b[1;32m   1951\u001b[0m         \u001b[0mtoken\u001b[0m \u001b[0;34m=\u001b[0m \u001b[0;32mNone\u001b[0m\u001b[0;34m\u001b[0m\u001b[0;34m\u001b[0m\u001b[0m\n\u001b[0;32m-> 1952\u001b[0;31m     \u001b[0;32mreturn\u001b[0m \u001b[0mlist_repo_files\u001b[0m\u001b[0;34m(\u001b[0m\u001b[0mpath_or_repo\u001b[0m\u001b[0;34m,\u001b[0m \u001b[0mrevision\u001b[0m\u001b[0;34m=\u001b[0m\u001b[0mrevision\u001b[0m\u001b[0;34m,\u001b[0m \u001b[0mtoken\u001b[0m\u001b[0;34m=\u001b[0m\u001b[0mtoken\u001b[0m\u001b[0;34m)\u001b[0m\u001b[0;34m\u001b[0m\u001b[0;34m\u001b[0m\u001b[0m\n\u001b[0m\u001b[1;32m   1953\u001b[0m \u001b[0;34m\u001b[0m\u001b[0m\n\u001b[1;32m   1954\u001b[0m \u001b[0;34m\u001b[0m\u001b[0m\n",
            "\u001b[0;32m/usr/local/lib/python3.7/dist-packages/huggingface_hub/hf_api.py\u001b[0m in \u001b[0;36mlist_repo_files\u001b[0;34m(self, repo_id, revision, repo_type, token, timeout)\u001b[0m\n\u001b[1;32m    601\u001b[0m         \u001b[0;32mif\u001b[0m \u001b[0mrepo_type\u001b[0m \u001b[0;32mis\u001b[0m \u001b[0;32mNone\u001b[0m\u001b[0;34m:\u001b[0m\u001b[0;34m\u001b[0m\u001b[0;34m\u001b[0m\u001b[0m\n\u001b[1;32m    602\u001b[0m             info = self.model_info(\n\u001b[0;32m--> 603\u001b[0;31m                 \u001b[0mrepo_id\u001b[0m\u001b[0;34m,\u001b[0m \u001b[0mrevision\u001b[0m\u001b[0;34m=\u001b[0m\u001b[0mrevision\u001b[0m\u001b[0;34m,\u001b[0m \u001b[0mtoken\u001b[0m\u001b[0;34m=\u001b[0m\u001b[0mtoken\u001b[0m\u001b[0;34m,\u001b[0m \u001b[0mtimeout\u001b[0m\u001b[0;34m=\u001b[0m\u001b[0mtimeout\u001b[0m\u001b[0;34m\u001b[0m\u001b[0;34m\u001b[0m\u001b[0m\n\u001b[0m\u001b[1;32m    604\u001b[0m             )\n\u001b[1;32m    605\u001b[0m         \u001b[0;32melif\u001b[0m \u001b[0mrepo_type\u001b[0m \u001b[0;34m==\u001b[0m \u001b[0;34m\"dataset\"\u001b[0m\u001b[0;34m:\u001b[0m\u001b[0;34m\u001b[0m\u001b[0;34m\u001b[0m\u001b[0m\n",
            "\u001b[0;32m/usr/local/lib/python3.7/dist-packages/huggingface_hub/hf_api.py\u001b[0m in \u001b[0;36mmodel_info\u001b[0;34m(self, repo_id, revision, token, timeout)\u001b[0m\n\u001b[1;32m    584\u001b[0m         )\n\u001b[1;32m    585\u001b[0m         \u001b[0mr\u001b[0m \u001b[0;34m=\u001b[0m \u001b[0mrequests\u001b[0m\u001b[0;34m.\u001b[0m\u001b[0mget\u001b[0m\u001b[0;34m(\u001b[0m\u001b[0mpath\u001b[0m\u001b[0;34m,\u001b[0m \u001b[0mheaders\u001b[0m\u001b[0;34m=\u001b[0m\u001b[0mheaders\u001b[0m\u001b[0;34m,\u001b[0m \u001b[0mtimeout\u001b[0m\u001b[0;34m=\u001b[0m\u001b[0mtimeout\u001b[0m\u001b[0;34m)\u001b[0m\u001b[0;34m\u001b[0m\u001b[0;34m\u001b[0m\u001b[0m\n\u001b[0;32m--> 586\u001b[0;31m         \u001b[0mr\u001b[0m\u001b[0;34m.\u001b[0m\u001b[0mraise_for_status\u001b[0m\u001b[0;34m(\u001b[0m\u001b[0;34m)\u001b[0m\u001b[0;34m\u001b[0m\u001b[0;34m\u001b[0m\u001b[0m\n\u001b[0m\u001b[1;32m    587\u001b[0m         \u001b[0md\u001b[0m \u001b[0;34m=\u001b[0m \u001b[0mr\u001b[0m\u001b[0;34m.\u001b[0m\u001b[0mjson\u001b[0m\u001b[0;34m(\u001b[0m\u001b[0;34m)\u001b[0m\u001b[0;34m\u001b[0m\u001b[0;34m\u001b[0m\u001b[0m\n\u001b[1;32m    588\u001b[0m         \u001b[0;32mreturn\u001b[0m \u001b[0mModelInfo\u001b[0m\u001b[0;34m(\u001b[0m\u001b[0;34m**\u001b[0m\u001b[0md\u001b[0m\u001b[0;34m)\u001b[0m\u001b[0;34m\u001b[0m\u001b[0;34m\u001b[0m\u001b[0m\n",
            "\u001b[0;32m/usr/local/lib/python3.7/dist-packages/requests/models.py\u001b[0m in \u001b[0;36mraise_for_status\u001b[0;34m(self)\u001b[0m\n\u001b[1;32m    939\u001b[0m \u001b[0;34m\u001b[0m\u001b[0m\n\u001b[1;32m    940\u001b[0m         \u001b[0;32mif\u001b[0m \u001b[0mhttp_error_msg\u001b[0m\u001b[0;34m:\u001b[0m\u001b[0;34m\u001b[0m\u001b[0;34m\u001b[0m\u001b[0m\n\u001b[0;32m--> 941\u001b[0;31m             \u001b[0;32mraise\u001b[0m \u001b[0mHTTPError\u001b[0m\u001b[0;34m(\u001b[0m\u001b[0mhttp_error_msg\u001b[0m\u001b[0;34m,\u001b[0m \u001b[0mresponse\u001b[0m\u001b[0;34m=\u001b[0m\u001b[0mself\u001b[0m\u001b[0;34m)\u001b[0m\u001b[0;34m\u001b[0m\u001b[0;34m\u001b[0m\u001b[0m\n\u001b[0m\u001b[1;32m    942\u001b[0m \u001b[0;34m\u001b[0m\u001b[0m\n\u001b[1;32m    943\u001b[0m     \u001b[0;32mdef\u001b[0m \u001b[0mclose\u001b[0m\u001b[0;34m(\u001b[0m\u001b[0mself\u001b[0m\u001b[0;34m)\u001b[0m\u001b[0;34m:\u001b[0m\u001b[0;34m\u001b[0m\u001b[0;34m\u001b[0m\u001b[0m\n",
            "\u001b[0;31mHTTPError\u001b[0m: 404 Client Error: Not Found for url: https://huggingface.co/api/models//content/gdrive/My%20Drive/NLP/NER/model_save/NER_FDA_bs32_epoch4_20210304_170545"
          ]
        }
      ]
    },
    {
      "cell_type": "markdown",
      "metadata": {
        "id": "zH5IOSaczDTe"
      },
      "source": [
        "## 3.2. NER model for context determination"
      ]
    },
    {
      "cell_type": "markdown",
      "metadata": {
        "id": "FzKtTvQi3g89"
      },
      "source": [
        "### FDA NER model"
      ]
    },
    {
      "cell_type": "code",
      "metadata": {
        "colab": {
          "base_uri": "https://localhost:8080/"
        },
        "id": "nxz2B_Qvw4oT",
        "outputId": "98da0804-842e-4b74-9a51-cc76ed7303ed"
      },
      "source": [
        "# load the trained NER model \n",
        "model_NER = BertForTokenClassification.from_pretrained('/content/gdrive/My Drive/NLP/NER/model_save/NER_FDA_bs32_epoch4_20210325_145016/')\n",
        "\n",
        "# Copy the model to the GPU.\n",
        "model_NER.to(device)"
      ],
      "execution_count": null,
      "outputs": [
        {
          "output_type": "execute_result",
          "data": {
            "text/plain": [
              "BertForTokenClassification(\n",
              "  (bert): BertModel(\n",
              "    (embeddings): BertEmbeddings(\n",
              "      (word_embeddings): Embedding(30522, 768, padding_idx=0)\n",
              "      (position_embeddings): Embedding(512, 768)\n",
              "      (token_type_embeddings): Embedding(2, 768)\n",
              "      (LayerNorm): LayerNorm((768,), eps=1e-12, elementwise_affine=True)\n",
              "      (dropout): Dropout(p=0.1, inplace=False)\n",
              "    )\n",
              "    (encoder): BertEncoder(\n",
              "      (layer): ModuleList(\n",
              "        (0): BertLayer(\n",
              "          (attention): BertAttention(\n",
              "            (self): BertSelfAttention(\n",
              "              (query): Linear(in_features=768, out_features=768, bias=True)\n",
              "              (key): Linear(in_features=768, out_features=768, bias=True)\n",
              "              (value): Linear(in_features=768, out_features=768, bias=True)\n",
              "              (dropout): Dropout(p=0.1, inplace=False)\n",
              "            )\n",
              "            (output): BertSelfOutput(\n",
              "              (dense): Linear(in_features=768, out_features=768, bias=True)\n",
              "              (LayerNorm): LayerNorm((768,), eps=1e-12, elementwise_affine=True)\n",
              "              (dropout): Dropout(p=0.1, inplace=False)\n",
              "            )\n",
              "          )\n",
              "          (intermediate): BertIntermediate(\n",
              "            (dense): Linear(in_features=768, out_features=3072, bias=True)\n",
              "          )\n",
              "          (output): BertOutput(\n",
              "            (dense): Linear(in_features=3072, out_features=768, bias=True)\n",
              "            (LayerNorm): LayerNorm((768,), eps=1e-12, elementwise_affine=True)\n",
              "            (dropout): Dropout(p=0.1, inplace=False)\n",
              "          )\n",
              "        )\n",
              "        (1): BertLayer(\n",
              "          (attention): BertAttention(\n",
              "            (self): BertSelfAttention(\n",
              "              (query): Linear(in_features=768, out_features=768, bias=True)\n",
              "              (key): Linear(in_features=768, out_features=768, bias=True)\n",
              "              (value): Linear(in_features=768, out_features=768, bias=True)\n",
              "              (dropout): Dropout(p=0.1, inplace=False)\n",
              "            )\n",
              "            (output): BertSelfOutput(\n",
              "              (dense): Linear(in_features=768, out_features=768, bias=True)\n",
              "              (LayerNorm): LayerNorm((768,), eps=1e-12, elementwise_affine=True)\n",
              "              (dropout): Dropout(p=0.1, inplace=False)\n",
              "            )\n",
              "          )\n",
              "          (intermediate): BertIntermediate(\n",
              "            (dense): Linear(in_features=768, out_features=3072, bias=True)\n",
              "          )\n",
              "          (output): BertOutput(\n",
              "            (dense): Linear(in_features=3072, out_features=768, bias=True)\n",
              "            (LayerNorm): LayerNorm((768,), eps=1e-12, elementwise_affine=True)\n",
              "            (dropout): Dropout(p=0.1, inplace=False)\n",
              "          )\n",
              "        )\n",
              "        (2): BertLayer(\n",
              "          (attention): BertAttention(\n",
              "            (self): BertSelfAttention(\n",
              "              (query): Linear(in_features=768, out_features=768, bias=True)\n",
              "              (key): Linear(in_features=768, out_features=768, bias=True)\n",
              "              (value): Linear(in_features=768, out_features=768, bias=True)\n",
              "              (dropout): Dropout(p=0.1, inplace=False)\n",
              "            )\n",
              "            (output): BertSelfOutput(\n",
              "              (dense): Linear(in_features=768, out_features=768, bias=True)\n",
              "              (LayerNorm): LayerNorm((768,), eps=1e-12, elementwise_affine=True)\n",
              "              (dropout): Dropout(p=0.1, inplace=False)\n",
              "            )\n",
              "          )\n",
              "          (intermediate): BertIntermediate(\n",
              "            (dense): Linear(in_features=768, out_features=3072, bias=True)\n",
              "          )\n",
              "          (output): BertOutput(\n",
              "            (dense): Linear(in_features=3072, out_features=768, bias=True)\n",
              "            (LayerNorm): LayerNorm((768,), eps=1e-12, elementwise_affine=True)\n",
              "            (dropout): Dropout(p=0.1, inplace=False)\n",
              "          )\n",
              "        )\n",
              "        (3): BertLayer(\n",
              "          (attention): BertAttention(\n",
              "            (self): BertSelfAttention(\n",
              "              (query): Linear(in_features=768, out_features=768, bias=True)\n",
              "              (key): Linear(in_features=768, out_features=768, bias=True)\n",
              "              (value): Linear(in_features=768, out_features=768, bias=True)\n",
              "              (dropout): Dropout(p=0.1, inplace=False)\n",
              "            )\n",
              "            (output): BertSelfOutput(\n",
              "              (dense): Linear(in_features=768, out_features=768, bias=True)\n",
              "              (LayerNorm): LayerNorm((768,), eps=1e-12, elementwise_affine=True)\n",
              "              (dropout): Dropout(p=0.1, inplace=False)\n",
              "            )\n",
              "          )\n",
              "          (intermediate): BertIntermediate(\n",
              "            (dense): Linear(in_features=768, out_features=3072, bias=True)\n",
              "          )\n",
              "          (output): BertOutput(\n",
              "            (dense): Linear(in_features=3072, out_features=768, bias=True)\n",
              "            (LayerNorm): LayerNorm((768,), eps=1e-12, elementwise_affine=True)\n",
              "            (dropout): Dropout(p=0.1, inplace=False)\n",
              "          )\n",
              "        )\n",
              "        (4): BertLayer(\n",
              "          (attention): BertAttention(\n",
              "            (self): BertSelfAttention(\n",
              "              (query): Linear(in_features=768, out_features=768, bias=True)\n",
              "              (key): Linear(in_features=768, out_features=768, bias=True)\n",
              "              (value): Linear(in_features=768, out_features=768, bias=True)\n",
              "              (dropout): Dropout(p=0.1, inplace=False)\n",
              "            )\n",
              "            (output): BertSelfOutput(\n",
              "              (dense): Linear(in_features=768, out_features=768, bias=True)\n",
              "              (LayerNorm): LayerNorm((768,), eps=1e-12, elementwise_affine=True)\n",
              "              (dropout): Dropout(p=0.1, inplace=False)\n",
              "            )\n",
              "          )\n",
              "          (intermediate): BertIntermediate(\n",
              "            (dense): Linear(in_features=768, out_features=3072, bias=True)\n",
              "          )\n",
              "          (output): BertOutput(\n",
              "            (dense): Linear(in_features=3072, out_features=768, bias=True)\n",
              "            (LayerNorm): LayerNorm((768,), eps=1e-12, elementwise_affine=True)\n",
              "            (dropout): Dropout(p=0.1, inplace=False)\n",
              "          )\n",
              "        )\n",
              "        (5): BertLayer(\n",
              "          (attention): BertAttention(\n",
              "            (self): BertSelfAttention(\n",
              "              (query): Linear(in_features=768, out_features=768, bias=True)\n",
              "              (key): Linear(in_features=768, out_features=768, bias=True)\n",
              "              (value): Linear(in_features=768, out_features=768, bias=True)\n",
              "              (dropout): Dropout(p=0.1, inplace=False)\n",
              "            )\n",
              "            (output): BertSelfOutput(\n",
              "              (dense): Linear(in_features=768, out_features=768, bias=True)\n",
              "              (LayerNorm): LayerNorm((768,), eps=1e-12, elementwise_affine=True)\n",
              "              (dropout): Dropout(p=0.1, inplace=False)\n",
              "            )\n",
              "          )\n",
              "          (intermediate): BertIntermediate(\n",
              "            (dense): Linear(in_features=768, out_features=3072, bias=True)\n",
              "          )\n",
              "          (output): BertOutput(\n",
              "            (dense): Linear(in_features=3072, out_features=768, bias=True)\n",
              "            (LayerNorm): LayerNorm((768,), eps=1e-12, elementwise_affine=True)\n",
              "            (dropout): Dropout(p=0.1, inplace=False)\n",
              "          )\n",
              "        )\n",
              "        (6): BertLayer(\n",
              "          (attention): BertAttention(\n",
              "            (self): BertSelfAttention(\n",
              "              (query): Linear(in_features=768, out_features=768, bias=True)\n",
              "              (key): Linear(in_features=768, out_features=768, bias=True)\n",
              "              (value): Linear(in_features=768, out_features=768, bias=True)\n",
              "              (dropout): Dropout(p=0.1, inplace=False)\n",
              "            )\n",
              "            (output): BertSelfOutput(\n",
              "              (dense): Linear(in_features=768, out_features=768, bias=True)\n",
              "              (LayerNorm): LayerNorm((768,), eps=1e-12, elementwise_affine=True)\n",
              "              (dropout): Dropout(p=0.1, inplace=False)\n",
              "            )\n",
              "          )\n",
              "          (intermediate): BertIntermediate(\n",
              "            (dense): Linear(in_features=768, out_features=3072, bias=True)\n",
              "          )\n",
              "          (output): BertOutput(\n",
              "            (dense): Linear(in_features=3072, out_features=768, bias=True)\n",
              "            (LayerNorm): LayerNorm((768,), eps=1e-12, elementwise_affine=True)\n",
              "            (dropout): Dropout(p=0.1, inplace=False)\n",
              "          )\n",
              "        )\n",
              "        (7): BertLayer(\n",
              "          (attention): BertAttention(\n",
              "            (self): BertSelfAttention(\n",
              "              (query): Linear(in_features=768, out_features=768, bias=True)\n",
              "              (key): Linear(in_features=768, out_features=768, bias=True)\n",
              "              (value): Linear(in_features=768, out_features=768, bias=True)\n",
              "              (dropout): Dropout(p=0.1, inplace=False)\n",
              "            )\n",
              "            (output): BertSelfOutput(\n",
              "              (dense): Linear(in_features=768, out_features=768, bias=True)\n",
              "              (LayerNorm): LayerNorm((768,), eps=1e-12, elementwise_affine=True)\n",
              "              (dropout): Dropout(p=0.1, inplace=False)\n",
              "            )\n",
              "          )\n",
              "          (intermediate): BertIntermediate(\n",
              "            (dense): Linear(in_features=768, out_features=3072, bias=True)\n",
              "          )\n",
              "          (output): BertOutput(\n",
              "            (dense): Linear(in_features=3072, out_features=768, bias=True)\n",
              "            (LayerNorm): LayerNorm((768,), eps=1e-12, elementwise_affine=True)\n",
              "            (dropout): Dropout(p=0.1, inplace=False)\n",
              "          )\n",
              "        )\n",
              "        (8): BertLayer(\n",
              "          (attention): BertAttention(\n",
              "            (self): BertSelfAttention(\n",
              "              (query): Linear(in_features=768, out_features=768, bias=True)\n",
              "              (key): Linear(in_features=768, out_features=768, bias=True)\n",
              "              (value): Linear(in_features=768, out_features=768, bias=True)\n",
              "              (dropout): Dropout(p=0.1, inplace=False)\n",
              "            )\n",
              "            (output): BertSelfOutput(\n",
              "              (dense): Linear(in_features=768, out_features=768, bias=True)\n",
              "              (LayerNorm): LayerNorm((768,), eps=1e-12, elementwise_affine=True)\n",
              "              (dropout): Dropout(p=0.1, inplace=False)\n",
              "            )\n",
              "          )\n",
              "          (intermediate): BertIntermediate(\n",
              "            (dense): Linear(in_features=768, out_features=3072, bias=True)\n",
              "          )\n",
              "          (output): BertOutput(\n",
              "            (dense): Linear(in_features=3072, out_features=768, bias=True)\n",
              "            (LayerNorm): LayerNorm((768,), eps=1e-12, elementwise_affine=True)\n",
              "            (dropout): Dropout(p=0.1, inplace=False)\n",
              "          )\n",
              "        )\n",
              "        (9): BertLayer(\n",
              "          (attention): BertAttention(\n",
              "            (self): BertSelfAttention(\n",
              "              (query): Linear(in_features=768, out_features=768, bias=True)\n",
              "              (key): Linear(in_features=768, out_features=768, bias=True)\n",
              "              (value): Linear(in_features=768, out_features=768, bias=True)\n",
              "              (dropout): Dropout(p=0.1, inplace=False)\n",
              "            )\n",
              "            (output): BertSelfOutput(\n",
              "              (dense): Linear(in_features=768, out_features=768, bias=True)\n",
              "              (LayerNorm): LayerNorm((768,), eps=1e-12, elementwise_affine=True)\n",
              "              (dropout): Dropout(p=0.1, inplace=False)\n",
              "            )\n",
              "          )\n",
              "          (intermediate): BertIntermediate(\n",
              "            (dense): Linear(in_features=768, out_features=3072, bias=True)\n",
              "          )\n",
              "          (output): BertOutput(\n",
              "            (dense): Linear(in_features=3072, out_features=768, bias=True)\n",
              "            (LayerNorm): LayerNorm((768,), eps=1e-12, elementwise_affine=True)\n",
              "            (dropout): Dropout(p=0.1, inplace=False)\n",
              "          )\n",
              "        )\n",
              "        (10): BertLayer(\n",
              "          (attention): BertAttention(\n",
              "            (self): BertSelfAttention(\n",
              "              (query): Linear(in_features=768, out_features=768, bias=True)\n",
              "              (key): Linear(in_features=768, out_features=768, bias=True)\n",
              "              (value): Linear(in_features=768, out_features=768, bias=True)\n",
              "              (dropout): Dropout(p=0.1, inplace=False)\n",
              "            )\n",
              "            (output): BertSelfOutput(\n",
              "              (dense): Linear(in_features=768, out_features=768, bias=True)\n",
              "              (LayerNorm): LayerNorm((768,), eps=1e-12, elementwise_affine=True)\n",
              "              (dropout): Dropout(p=0.1, inplace=False)\n",
              "            )\n",
              "          )\n",
              "          (intermediate): BertIntermediate(\n",
              "            (dense): Linear(in_features=768, out_features=3072, bias=True)\n",
              "          )\n",
              "          (output): BertOutput(\n",
              "            (dense): Linear(in_features=3072, out_features=768, bias=True)\n",
              "            (LayerNorm): LayerNorm((768,), eps=1e-12, elementwise_affine=True)\n",
              "            (dropout): Dropout(p=0.1, inplace=False)\n",
              "          )\n",
              "        )\n",
              "        (11): BertLayer(\n",
              "          (attention): BertAttention(\n",
              "            (self): BertSelfAttention(\n",
              "              (query): Linear(in_features=768, out_features=768, bias=True)\n",
              "              (key): Linear(in_features=768, out_features=768, bias=True)\n",
              "              (value): Linear(in_features=768, out_features=768, bias=True)\n",
              "              (dropout): Dropout(p=0.1, inplace=False)\n",
              "            )\n",
              "            (output): BertSelfOutput(\n",
              "              (dense): Linear(in_features=768, out_features=768, bias=True)\n",
              "              (LayerNorm): LayerNorm((768,), eps=1e-12, elementwise_affine=True)\n",
              "              (dropout): Dropout(p=0.1, inplace=False)\n",
              "            )\n",
              "          )\n",
              "          (intermediate): BertIntermediate(\n",
              "            (dense): Linear(in_features=768, out_features=3072, bias=True)\n",
              "          )\n",
              "          (output): BertOutput(\n",
              "            (dense): Linear(in_features=3072, out_features=768, bias=True)\n",
              "            (LayerNorm): LayerNorm((768,), eps=1e-12, elementwise_affine=True)\n",
              "            (dropout): Dropout(p=0.1, inplace=False)\n",
              "          )\n",
              "        )\n",
              "      )\n",
              "    )\n",
              "  )\n",
              "  (dropout): Dropout(p=0.1, inplace=False)\n",
              "  (classifier): Linear(in_features=768, out_features=4, bias=True)\n",
              ")"
            ]
          },
          "metadata": {},
          "execution_count": 20
        }
      ]
    },
    {
      "cell_type": "markdown",
      "metadata": {
        "id": "zDWxMT7M3n4f"
      },
      "source": [
        "### EMA NER model"
      ]
    },
    {
      "cell_type": "code",
      "metadata": {
        "id": "zz-QW2qj3p18"
      },
      "source": [
        "model_NER = BertForTokenClassification.from_pretrained('/content/gdrive/My Drive/NLP/NER/model_save/NER_EMA_bs32_epoch4_20210325_164534/')\n",
        "# Copy the model to the GPU.\n",
        "model_NER.to(device)"
      ],
      "execution_count": null,
      "outputs": []
    },
    {
      "cell_type": "markdown",
      "metadata": {
        "id": "IVwNQaZd0enb"
      },
      "source": [
        "## 3.3. Sentence classification models"
      ]
    },
    {
      "cell_type": "markdown",
      "metadata": {
        "id": "hH7934Qg0mzY"
      },
      "source": [
        "### FDA model"
      ]
    },
    {
      "cell_type": "code",
      "metadata": {
        "colab": {
          "base_uri": "https://localhost:8080/"
        },
        "id": "FwUBGfyWw4lO",
        "outputId": "77d88443-7042-469d-f656-d951e9c3197b"
      },
      "source": [
        "# load the trained FDA sentence classification model \n",
        "model_SentClf = BertForSequenceClassification.from_pretrained('/content/gdrive/My Drive/DILI_BERT/model_save/BERT_SentClass_bs16_epoch3_20200902_062203/')\n",
        "# Copy the model to the GPU.\n",
        "model_SentClf.to(device)"
      ],
      "execution_count": null,
      "outputs": [
        {
          "output_type": "execute_result",
          "data": {
            "text/plain": [
              "BertForSequenceClassification(\n",
              "  (bert): BertModel(\n",
              "    (embeddings): BertEmbeddings(\n",
              "      (word_embeddings): Embedding(30522, 768, padding_idx=0)\n",
              "      (position_embeddings): Embedding(512, 768)\n",
              "      (token_type_embeddings): Embedding(2, 768)\n",
              "      (LayerNorm): LayerNorm((768,), eps=1e-12, elementwise_affine=True)\n",
              "      (dropout): Dropout(p=0.1, inplace=False)\n",
              "    )\n",
              "    (encoder): BertEncoder(\n",
              "      (layer): ModuleList(\n",
              "        (0): BertLayer(\n",
              "          (attention): BertAttention(\n",
              "            (self): BertSelfAttention(\n",
              "              (query): Linear(in_features=768, out_features=768, bias=True)\n",
              "              (key): Linear(in_features=768, out_features=768, bias=True)\n",
              "              (value): Linear(in_features=768, out_features=768, bias=True)\n",
              "              (dropout): Dropout(p=0.1, inplace=False)\n",
              "            )\n",
              "            (output): BertSelfOutput(\n",
              "              (dense): Linear(in_features=768, out_features=768, bias=True)\n",
              "              (LayerNorm): LayerNorm((768,), eps=1e-12, elementwise_affine=True)\n",
              "              (dropout): Dropout(p=0.1, inplace=False)\n",
              "            )\n",
              "          )\n",
              "          (intermediate): BertIntermediate(\n",
              "            (dense): Linear(in_features=768, out_features=3072, bias=True)\n",
              "          )\n",
              "          (output): BertOutput(\n",
              "            (dense): Linear(in_features=3072, out_features=768, bias=True)\n",
              "            (LayerNorm): LayerNorm((768,), eps=1e-12, elementwise_affine=True)\n",
              "            (dropout): Dropout(p=0.1, inplace=False)\n",
              "          )\n",
              "        )\n",
              "        (1): BertLayer(\n",
              "          (attention): BertAttention(\n",
              "            (self): BertSelfAttention(\n",
              "              (query): Linear(in_features=768, out_features=768, bias=True)\n",
              "              (key): Linear(in_features=768, out_features=768, bias=True)\n",
              "              (value): Linear(in_features=768, out_features=768, bias=True)\n",
              "              (dropout): Dropout(p=0.1, inplace=False)\n",
              "            )\n",
              "            (output): BertSelfOutput(\n",
              "              (dense): Linear(in_features=768, out_features=768, bias=True)\n",
              "              (LayerNorm): LayerNorm((768,), eps=1e-12, elementwise_affine=True)\n",
              "              (dropout): Dropout(p=0.1, inplace=False)\n",
              "            )\n",
              "          )\n",
              "          (intermediate): BertIntermediate(\n",
              "            (dense): Linear(in_features=768, out_features=3072, bias=True)\n",
              "          )\n",
              "          (output): BertOutput(\n",
              "            (dense): Linear(in_features=3072, out_features=768, bias=True)\n",
              "            (LayerNorm): LayerNorm((768,), eps=1e-12, elementwise_affine=True)\n",
              "            (dropout): Dropout(p=0.1, inplace=False)\n",
              "          )\n",
              "        )\n",
              "        (2): BertLayer(\n",
              "          (attention): BertAttention(\n",
              "            (self): BertSelfAttention(\n",
              "              (query): Linear(in_features=768, out_features=768, bias=True)\n",
              "              (key): Linear(in_features=768, out_features=768, bias=True)\n",
              "              (value): Linear(in_features=768, out_features=768, bias=True)\n",
              "              (dropout): Dropout(p=0.1, inplace=False)\n",
              "            )\n",
              "            (output): BertSelfOutput(\n",
              "              (dense): Linear(in_features=768, out_features=768, bias=True)\n",
              "              (LayerNorm): LayerNorm((768,), eps=1e-12, elementwise_affine=True)\n",
              "              (dropout): Dropout(p=0.1, inplace=False)\n",
              "            )\n",
              "          )\n",
              "          (intermediate): BertIntermediate(\n",
              "            (dense): Linear(in_features=768, out_features=3072, bias=True)\n",
              "          )\n",
              "          (output): BertOutput(\n",
              "            (dense): Linear(in_features=3072, out_features=768, bias=True)\n",
              "            (LayerNorm): LayerNorm((768,), eps=1e-12, elementwise_affine=True)\n",
              "            (dropout): Dropout(p=0.1, inplace=False)\n",
              "          )\n",
              "        )\n",
              "        (3): BertLayer(\n",
              "          (attention): BertAttention(\n",
              "            (self): BertSelfAttention(\n",
              "              (query): Linear(in_features=768, out_features=768, bias=True)\n",
              "              (key): Linear(in_features=768, out_features=768, bias=True)\n",
              "              (value): Linear(in_features=768, out_features=768, bias=True)\n",
              "              (dropout): Dropout(p=0.1, inplace=False)\n",
              "            )\n",
              "            (output): BertSelfOutput(\n",
              "              (dense): Linear(in_features=768, out_features=768, bias=True)\n",
              "              (LayerNorm): LayerNorm((768,), eps=1e-12, elementwise_affine=True)\n",
              "              (dropout): Dropout(p=0.1, inplace=False)\n",
              "            )\n",
              "          )\n",
              "          (intermediate): BertIntermediate(\n",
              "            (dense): Linear(in_features=768, out_features=3072, bias=True)\n",
              "          )\n",
              "          (output): BertOutput(\n",
              "            (dense): Linear(in_features=3072, out_features=768, bias=True)\n",
              "            (LayerNorm): LayerNorm((768,), eps=1e-12, elementwise_affine=True)\n",
              "            (dropout): Dropout(p=0.1, inplace=False)\n",
              "          )\n",
              "        )\n",
              "        (4): BertLayer(\n",
              "          (attention): BertAttention(\n",
              "            (self): BertSelfAttention(\n",
              "              (query): Linear(in_features=768, out_features=768, bias=True)\n",
              "              (key): Linear(in_features=768, out_features=768, bias=True)\n",
              "              (value): Linear(in_features=768, out_features=768, bias=True)\n",
              "              (dropout): Dropout(p=0.1, inplace=False)\n",
              "            )\n",
              "            (output): BertSelfOutput(\n",
              "              (dense): Linear(in_features=768, out_features=768, bias=True)\n",
              "              (LayerNorm): LayerNorm((768,), eps=1e-12, elementwise_affine=True)\n",
              "              (dropout): Dropout(p=0.1, inplace=False)\n",
              "            )\n",
              "          )\n",
              "          (intermediate): BertIntermediate(\n",
              "            (dense): Linear(in_features=768, out_features=3072, bias=True)\n",
              "          )\n",
              "          (output): BertOutput(\n",
              "            (dense): Linear(in_features=3072, out_features=768, bias=True)\n",
              "            (LayerNorm): LayerNorm((768,), eps=1e-12, elementwise_affine=True)\n",
              "            (dropout): Dropout(p=0.1, inplace=False)\n",
              "          )\n",
              "        )\n",
              "        (5): BertLayer(\n",
              "          (attention): BertAttention(\n",
              "            (self): BertSelfAttention(\n",
              "              (query): Linear(in_features=768, out_features=768, bias=True)\n",
              "              (key): Linear(in_features=768, out_features=768, bias=True)\n",
              "              (value): Linear(in_features=768, out_features=768, bias=True)\n",
              "              (dropout): Dropout(p=0.1, inplace=False)\n",
              "            )\n",
              "            (output): BertSelfOutput(\n",
              "              (dense): Linear(in_features=768, out_features=768, bias=True)\n",
              "              (LayerNorm): LayerNorm((768,), eps=1e-12, elementwise_affine=True)\n",
              "              (dropout): Dropout(p=0.1, inplace=False)\n",
              "            )\n",
              "          )\n",
              "          (intermediate): BertIntermediate(\n",
              "            (dense): Linear(in_features=768, out_features=3072, bias=True)\n",
              "          )\n",
              "          (output): BertOutput(\n",
              "            (dense): Linear(in_features=3072, out_features=768, bias=True)\n",
              "            (LayerNorm): LayerNorm((768,), eps=1e-12, elementwise_affine=True)\n",
              "            (dropout): Dropout(p=0.1, inplace=False)\n",
              "          )\n",
              "        )\n",
              "        (6): BertLayer(\n",
              "          (attention): BertAttention(\n",
              "            (self): BertSelfAttention(\n",
              "              (query): Linear(in_features=768, out_features=768, bias=True)\n",
              "              (key): Linear(in_features=768, out_features=768, bias=True)\n",
              "              (value): Linear(in_features=768, out_features=768, bias=True)\n",
              "              (dropout): Dropout(p=0.1, inplace=False)\n",
              "            )\n",
              "            (output): BertSelfOutput(\n",
              "              (dense): Linear(in_features=768, out_features=768, bias=True)\n",
              "              (LayerNorm): LayerNorm((768,), eps=1e-12, elementwise_affine=True)\n",
              "              (dropout): Dropout(p=0.1, inplace=False)\n",
              "            )\n",
              "          )\n",
              "          (intermediate): BertIntermediate(\n",
              "            (dense): Linear(in_features=768, out_features=3072, bias=True)\n",
              "          )\n",
              "          (output): BertOutput(\n",
              "            (dense): Linear(in_features=3072, out_features=768, bias=True)\n",
              "            (LayerNorm): LayerNorm((768,), eps=1e-12, elementwise_affine=True)\n",
              "            (dropout): Dropout(p=0.1, inplace=False)\n",
              "          )\n",
              "        )\n",
              "        (7): BertLayer(\n",
              "          (attention): BertAttention(\n",
              "            (self): BertSelfAttention(\n",
              "              (query): Linear(in_features=768, out_features=768, bias=True)\n",
              "              (key): Linear(in_features=768, out_features=768, bias=True)\n",
              "              (value): Linear(in_features=768, out_features=768, bias=True)\n",
              "              (dropout): Dropout(p=0.1, inplace=False)\n",
              "            )\n",
              "            (output): BertSelfOutput(\n",
              "              (dense): Linear(in_features=768, out_features=768, bias=True)\n",
              "              (LayerNorm): LayerNorm((768,), eps=1e-12, elementwise_affine=True)\n",
              "              (dropout): Dropout(p=0.1, inplace=False)\n",
              "            )\n",
              "          )\n",
              "          (intermediate): BertIntermediate(\n",
              "            (dense): Linear(in_features=768, out_features=3072, bias=True)\n",
              "          )\n",
              "          (output): BertOutput(\n",
              "            (dense): Linear(in_features=3072, out_features=768, bias=True)\n",
              "            (LayerNorm): LayerNorm((768,), eps=1e-12, elementwise_affine=True)\n",
              "            (dropout): Dropout(p=0.1, inplace=False)\n",
              "          )\n",
              "        )\n",
              "        (8): BertLayer(\n",
              "          (attention): BertAttention(\n",
              "            (self): BertSelfAttention(\n",
              "              (query): Linear(in_features=768, out_features=768, bias=True)\n",
              "              (key): Linear(in_features=768, out_features=768, bias=True)\n",
              "              (value): Linear(in_features=768, out_features=768, bias=True)\n",
              "              (dropout): Dropout(p=0.1, inplace=False)\n",
              "            )\n",
              "            (output): BertSelfOutput(\n",
              "              (dense): Linear(in_features=768, out_features=768, bias=True)\n",
              "              (LayerNorm): LayerNorm((768,), eps=1e-12, elementwise_affine=True)\n",
              "              (dropout): Dropout(p=0.1, inplace=False)\n",
              "            )\n",
              "          )\n",
              "          (intermediate): BertIntermediate(\n",
              "            (dense): Linear(in_features=768, out_features=3072, bias=True)\n",
              "          )\n",
              "          (output): BertOutput(\n",
              "            (dense): Linear(in_features=3072, out_features=768, bias=True)\n",
              "            (LayerNorm): LayerNorm((768,), eps=1e-12, elementwise_affine=True)\n",
              "            (dropout): Dropout(p=0.1, inplace=False)\n",
              "          )\n",
              "        )\n",
              "        (9): BertLayer(\n",
              "          (attention): BertAttention(\n",
              "            (self): BertSelfAttention(\n",
              "              (query): Linear(in_features=768, out_features=768, bias=True)\n",
              "              (key): Linear(in_features=768, out_features=768, bias=True)\n",
              "              (value): Linear(in_features=768, out_features=768, bias=True)\n",
              "              (dropout): Dropout(p=0.1, inplace=False)\n",
              "            )\n",
              "            (output): BertSelfOutput(\n",
              "              (dense): Linear(in_features=768, out_features=768, bias=True)\n",
              "              (LayerNorm): LayerNorm((768,), eps=1e-12, elementwise_affine=True)\n",
              "              (dropout): Dropout(p=0.1, inplace=False)\n",
              "            )\n",
              "          )\n",
              "          (intermediate): BertIntermediate(\n",
              "            (dense): Linear(in_features=768, out_features=3072, bias=True)\n",
              "          )\n",
              "          (output): BertOutput(\n",
              "            (dense): Linear(in_features=3072, out_features=768, bias=True)\n",
              "            (LayerNorm): LayerNorm((768,), eps=1e-12, elementwise_affine=True)\n",
              "            (dropout): Dropout(p=0.1, inplace=False)\n",
              "          )\n",
              "        )\n",
              "        (10): BertLayer(\n",
              "          (attention): BertAttention(\n",
              "            (self): BertSelfAttention(\n",
              "              (query): Linear(in_features=768, out_features=768, bias=True)\n",
              "              (key): Linear(in_features=768, out_features=768, bias=True)\n",
              "              (value): Linear(in_features=768, out_features=768, bias=True)\n",
              "              (dropout): Dropout(p=0.1, inplace=False)\n",
              "            )\n",
              "            (output): BertSelfOutput(\n",
              "              (dense): Linear(in_features=768, out_features=768, bias=True)\n",
              "              (LayerNorm): LayerNorm((768,), eps=1e-12, elementwise_affine=True)\n",
              "              (dropout): Dropout(p=0.1, inplace=False)\n",
              "            )\n",
              "          )\n",
              "          (intermediate): BertIntermediate(\n",
              "            (dense): Linear(in_features=768, out_features=3072, bias=True)\n",
              "          )\n",
              "          (output): BertOutput(\n",
              "            (dense): Linear(in_features=3072, out_features=768, bias=True)\n",
              "            (LayerNorm): LayerNorm((768,), eps=1e-12, elementwise_affine=True)\n",
              "            (dropout): Dropout(p=0.1, inplace=False)\n",
              "          )\n",
              "        )\n",
              "        (11): BertLayer(\n",
              "          (attention): BertAttention(\n",
              "            (self): BertSelfAttention(\n",
              "              (query): Linear(in_features=768, out_features=768, bias=True)\n",
              "              (key): Linear(in_features=768, out_features=768, bias=True)\n",
              "              (value): Linear(in_features=768, out_features=768, bias=True)\n",
              "              (dropout): Dropout(p=0.1, inplace=False)\n",
              "            )\n",
              "            (output): BertSelfOutput(\n",
              "              (dense): Linear(in_features=768, out_features=768, bias=True)\n",
              "              (LayerNorm): LayerNorm((768,), eps=1e-12, elementwise_affine=True)\n",
              "              (dropout): Dropout(p=0.1, inplace=False)\n",
              "            )\n",
              "          )\n",
              "          (intermediate): BertIntermediate(\n",
              "            (dense): Linear(in_features=768, out_features=3072, bias=True)\n",
              "          )\n",
              "          (output): BertOutput(\n",
              "            (dense): Linear(in_features=3072, out_features=768, bias=True)\n",
              "            (LayerNorm): LayerNorm((768,), eps=1e-12, elementwise_affine=True)\n",
              "            (dropout): Dropout(p=0.1, inplace=False)\n",
              "          )\n",
              "        )\n",
              "      )\n",
              "    )\n",
              "    (pooler): BertPooler(\n",
              "      (dense): Linear(in_features=768, out_features=768, bias=True)\n",
              "      (activation): Tanh()\n",
              "    )\n",
              "  )\n",
              "  (dropout): Dropout(p=0.1, inplace=False)\n",
              "  (classifier): Linear(in_features=768, out_features=2, bias=True)\n",
              ")"
            ]
          },
          "metadata": {},
          "execution_count": 21
        }
      ]
    },
    {
      "cell_type": "markdown",
      "metadata": {
        "id": "nwbf8X3pUpAm"
      },
      "source": [
        "### EMA model"
      ]
    },
    {
      "cell_type": "code",
      "metadata": {
        "id": "bonZ0O5t1EpU"
      },
      "source": [
        "model_SentClf = BertForSequenceClassification.from_pretrained('/content/gdrive/My Drive/DILI_BERT/model_save/EMA_BERT_SentClass_bs16_epoch3_20201019_070107/')\n",
        "# Copy the model to the GPU.\n",
        "model_SentClf.to(device)"
      ],
      "execution_count": null,
      "outputs": []
    },
    {
      "cell_type": "markdown",
      "metadata": {
        "id": "EFylkm6HV6k1"
      },
      "source": [
        "# 4. Model inference"
      ]
    },
    {
      "cell_type": "markdown",
      "metadata": {
        "id": "7iICfkdUWBk3"
      },
      "source": [
        "## 4.1. define inference functions"
      ]
    },
    {
      "cell_type": "code",
      "metadata": {
        "id": "vXsdlbGZ1EmV"
      },
      "source": [
        "def model_NER_predict_single_sentence(sentence, tokenizer, model):\n",
        "    inputs = tokenizer(sentence, return_tensors=\"pt\", add_special_tokens=False, max_length=512, truncation=True)\n",
        "    inputs = inputs.to(device)\n",
        "    # Set to evaluation mode\n",
        "    model.eval()\n",
        "    with torch.no_grad():\n",
        "        outputs = model(**inputs)\n",
        "        logits = outputs.logits\n",
        "    logits = logits.detach().cpu().numpy()\n",
        "    y_pred = np.argmax(logits, axis=2).flatten()\n",
        "    # y_pred_sent = [1 if (1 in y_pred) | (0 in y_pred) else 0]\n",
        "    y_pred_sent = [1 if 0 in y_pred else 0]\n",
        "    return y_pred_sent"
      ],
      "execution_count": null,
      "outputs": []
    },
    {
      "cell_type": "code",
      "metadata": {
        "id": "0Yk2XgxDFZeK"
      },
      "source": [
        "def model_SentClf_predict_single_sentence(sentence, tokenizer, model):\n",
        "    inputs = tokenizer(sentence, return_tensors=\"pt\", max_length=MAX_LEN, truncation=True)\n",
        "    inputs = inputs.to(device)\n",
        "    # Set to evaluation mode\n",
        "    model.eval()\n",
        "    with torch.no_grad():\n",
        "        outputs = model(**inputs)\n",
        "        logits = outputs.logits\n",
        "    logits = logits.detach().cpu().numpy()\n",
        "    y_pred = np.argmax(logits, axis=1).flatten()\n",
        "    return y_pred"
      ],
      "execution_count": null,
      "outputs": []
    },
    {
      "cell_type": "code",
      "metadata": {
        "id": "L65Hed5SKlpM"
      },
      "source": [
        "def sentence_encoder(sentences, tokenizer, max_len):\n",
        "    # Tokenize all of the sentences and map the tokens to thier word IDs.\n",
        "    input_ids = []\n",
        "    attention_masks = []\n",
        "    for sent in sentences:\n",
        "        encoded_dict = tokenizer.encode_plus(\n",
        "                            sent,\n",
        "                            add_special_tokens = True, # Add '[CLS]' and '[SEP]'\n",
        "                            max_length = max_len,\n",
        "                            padding = 'max_length',\n",
        "                            truncation = True,\n",
        "                            return_attention_mask = True,\n",
        "                            return_tensors = 'pt', \n",
        "                      )  \n",
        "        # Add the encoded sentence to the list.    \n",
        "        input_ids.append(encoded_dict['input_ids'])\n",
        "        # And its attention mask (simply differentiates padding from non-padding).\n",
        "        attention_masks.append(encoded_dict['attention_mask'])\n",
        "    # Convert the lists into tensors.\n",
        "    input_ids = torch.cat(input_ids, dim=0)\n",
        "    attention_masks = torch.cat(attention_masks, dim=0)\n",
        "\n",
        "    return input_ids, attention_masks"
      ],
      "execution_count": null,
      "outputs": []
    },
    {
      "cell_type": "code",
      "metadata": {
        "id": "4h5f5BOV1Ejr"
      },
      "source": [
        "def model_SentClf_predict_batch(sentences, tokenizer, model):\n",
        "    # encode sentences\n",
        "    input_ids, attention_masks = sentence_encoder(sentences, tokenizer, MAX_LEN)\n",
        "    # Create the DataLoader.\n",
        "    prediction_data = TensorDataset(input_ids, attention_masks)\n",
        "    prediction_sampler = SequentialSampler(prediction_data)\n",
        "    prediction_dataloader = DataLoader(prediction_data, sampler=prediction_sampler, batch_size=BATCH_SIZE)\n",
        "    # model prediction\n",
        "    pred_labels = []\n",
        "\n",
        "    model.eval()\n",
        "\n",
        "    for batch in prediction_dataloader:\n",
        "        b_input_ids = batch[0].to(device)\n",
        "        b_input_mask = batch[1].to(device)\n",
        "\n",
        "        with torch.no_grad():\n",
        "            outputs = model(b_input_ids, \n",
        "                            token_type_ids=None, \n",
        "                            attention_mask=b_input_mask)\n",
        "        logits = outputs['logits']\n",
        "        logits = logits.detach().cpu().numpy()\n",
        "        pred_labels.append(flat_y_pred(logits))\n",
        "\n",
        "    sent_labels = np.concatenate(pred_labels, axis=0)\n",
        "    return sent_labels"
      ],
      "execution_count": null,
      "outputs": []
    },
    {
      "cell_type": "code",
      "metadata": {
        "id": "uD02B8xVuK9R"
      },
      "source": [
        "def doc_Clf(documents):\n",
        "    doc_labels = []\n",
        "    for doc in tqdm(documents):\n",
        "        sentences = sent_tokenize(doc)\n",
        "        sent_labels = [0] * len(sentences)\n",
        "        # context prediction and get liver sentence indexes\n",
        "        liver_sent_idx = []\n",
        "        for idx, sentence in enumerate(sentences):\n",
        "            context_pred = model_NER_predict_single_sentence(sentence, tokenizer, model_NER)\n",
        "            if context_pred[0] == 1:\n",
        "                liver_sent_idx.append(idx)\n",
        "        # sentence prediction for liver sentences (if any)\n",
        "        if liver_sent_idx:\n",
        "            liver_sentences = [sentences[i] for i in liver_sent_idx]\n",
        "            liver_sent_labels = model_SentClf_predict_batch(liver_sentences, tokenizer, model_SentClf)\n",
        "            for i, l in enumerate(liver_sent_labels):\n",
        "                if l == 1:\n",
        "                    sent_labels[liver_sent_idx[i]] = 1\n",
        "\n",
        "        doc_label = [1 if np.sum(sent_labels) > 0 else 0]\n",
        "        doc_labels.append(doc_label[0])\n",
        "    return doc_labels"
      ],
      "execution_count": null,
      "outputs": []
    },
    {
      "cell_type": "code",
      "metadata": {
        "id": "MWsvsGHBKzJx"
      },
      "source": [
        "def doc_Clf_sent_direct(documents):\n",
        "    doc_labels = []\n",
        "    sents_positive = []\n",
        "    for doc in tqdm(documents):\n",
        "        sentences = sent_tokenize(doc)\n",
        "        sent_labels = model_SentClf_predict_batch(sentences, tokenizer, model_SentClf)\n",
        "        doc_label = [1 if np.sum(sent_labels) > 0 else 0]\n",
        "        doc_labels.append(doc_label[0])\n",
        "\n",
        "        for idx, label in enumerate(sent_labels):\n",
        "            if label == 1:\n",
        "                sents_positive.append(sentences[idx])\n",
        "    return doc_labels"
      ],
      "execution_count": null,
      "outputs": []
    },
    {
      "cell_type": "code",
      "metadata": {
        "id": "dKW6waljOjcx"
      },
      "source": [
        "def doc_Clf_HybridAI(documents):\n",
        "    doc_labels = []\n",
        "    for doc in tqdm(documents):\n",
        "        # prepare sentences\n",
        "        liver_sentences = []\n",
        "        # tokenize liver-related sentences\n",
        "        sent_tokens = sent_tokenize(doc)\n",
        "        for sent in sent_tokens:\n",
        "            kw_positive = any(keyword in word_tokenize(sent) for keyword in keywords_positive)\n",
        "            kw_negative = any(keyword in word_tokenize(sent) for keyword in keywords_negative)\n",
        "            if kw_positive == True and kw_negative == False:\n",
        "                liver_sentences.append(sent)  \n",
        "\n",
        "        if len(liver_sentences) == 0:\n",
        "            doc_label = [0]\n",
        "        else:\n",
        "            liver_sent_labels = model_SentClf_predict_batch(liver_sentences, tokenizer, model_SentClf)\n",
        "            doc_label = [1 if np.sum(liver_sent_labels) > 0 else 0]\n",
        "   \n",
        "        doc_labels.append(doc_label[0])\n",
        "    return doc_labels"
      ],
      "execution_count": null,
      "outputs": []
    },
    {
      "cell_type": "code",
      "source": [
        "def doc_Clf_KWs(documents):\n",
        "    doc_labels = []\n",
        "    # define keywords\n",
        "    keywords_DILI = ['veno-occlusive', 'sgpt', 'sgot', 'alanine aminotransferase', 'aspartate aminotransferase', 'alkaline phosphatase', 'liver enzyme', 'bilirubinemia', 'bilirubin',\n",
        "                'jaundice', 'fatty liver', 'steatosis', 'steatohepatitis', 'hepatocellular', 'Cholestatic', 'Cholestatic hepatitis', 'eosinophilic hepatitis', \n",
        "                'cholestasis', 'hepatopathy', 'hepatomegaly', 'liver necrosis', 'hepatic necrosis', 'liver failure', 'hepatic abnormalities',\n",
        "                'hepatic failure', 'liver dysfunction', 'hepatic dysfunction', 'liver encephalopathy', 'hepatic encephalopathy', 'liver transplantation', \n",
        "                'hepatic transplantation', 'hepatotoxicity', 'liver toxicity', 'hepatic toxicity', 'liver injury', 'hepatic injury', \n",
        "                'liver reaction', 'hepatic reaction', 'liver function', 'hepatic function', 'biliary colic', 'hepatobiliary',\n",
        "                'increases in aspartate', 'increases in alanine', 'increases in alkaline', 'increases in ast', 'increases in alt', 'increases in alp',\n",
        "                'abnormalities of alt', 'abnormalities of ast', 'abnormalities of alp', 'abnormalities of alanine', 'abnormalities of aspartate', 'abnormalities of alkaline',\n",
        "                'increased ast', 'increased alt', 'increased alp', 'increased alanine', 'increased aspartate', 'increased alkaline', \n",
        "                'alt abnormalities', 'ast abnormalities', 'alp abnormalities', 'alt elevation', 'ast elevation', 'alp elevation', 'alt increase', 'ast increase', 'alp increase',\n",
        "                'serum levels of transaminase', 'serum transaminase', 'alanine transaminase', 'aspartate transaminase', 'hepatic transaminases',\n",
        "                'abnormalities of transaminase', 'transaminases abnormal', 'increases in transaminase','increased transaminase', 'transaminases increase', \n",
        "                'hepatic enzyme elevation', 'elevated transaminase', 'elevations of transaminase', 'elevation of transaminase', 'transaminase elevation', 'hepatic enzyme', 'liver enzyme', \n",
        "                'hepatitis'\n",
        "                #    'hepatitis,', ', hepatitis', 'hepatitis.'\n",
        "                    ]\n",
        "    # for each title\n",
        "    for doc in tqdm(documents):\n",
        "        doc_pred_label = int(any(keyword in str(doc) for keyword in keywords_DILI))\n",
        "        doc_labels.append(doc_pred_label)\n",
        "    return doc_labels"
      ],
      "metadata": {
        "id": "9wEo2cfb83Kq"
      },
      "execution_count": null,
      "outputs": []
    },
    {
      "cell_type": "markdown",
      "metadata": {
        "id": "6DSMhK8gdYjd"
      },
      "source": [
        "## 4.2. FDA model predicts FDA test doc set"
      ]
    },
    {
      "cell_type": "markdown",
      "metadata": {
        "id": "nTHLyibMBPY3"
      },
      "source": [
        "### load table"
      ]
    },
    {
      "cell_type": "code",
      "metadata": {
        "id": "sNhhH776dppa"
      },
      "source": [
        "dirpath_test = '/content/gdrive/My Drive/DILI_BERT/FDA_labels/'\n",
        "filename_test = 'FDA_label_train_test_doc_checked_trimmed_20210215.xlsx'\n",
        "filepath = dirpath_test + filename_test"
      ],
      "execution_count": null,
      "outputs": []
    },
    {
      "cell_type": "code",
      "metadata": {
        "colab": {
          "base_uri": "https://localhost:8080/",
          "height": 428
        },
        "id": "3lQKeWqFdgqn",
        "outputId": "742fb505-2d29-442b-897f-9f4f4c623a27"
      },
      "source": [
        "test = pd.read_excel(filepath, sheet_name=\"test_set\")\n",
        "test['Boxed_Warning'] = test['Boxed_Warning'].apply(normalize_text)\n",
        "test['Warnings_Precautions'] = test['Warnings_Precautions'].apply(normalize_text)\n",
        "test['Adverse_Reactions'] = test['Adverse_Reactions'].apply(normalize_text)\n",
        "print(len(test))\n",
        "test.head()"
      ],
      "execution_count": null,
      "outputs": [
        {
          "output_type": "stream",
          "name": "stdout",
          "text": [
            "150\n"
          ]
        },
        {
          "output_type": "execute_result",
          "data": {
            "text/html": [
              "<div>\n",
              "<style scoped>\n",
              "    .dataframe tbody tr th:only-of-type {\n",
              "        vertical-align: middle;\n",
              "    }\n",
              "\n",
              "    .dataframe tbody tr th {\n",
              "        vertical-align: top;\n",
              "    }\n",
              "\n",
              "    .dataframe thead th {\n",
              "        text-align: right;\n",
              "    }\n",
              "</style>\n",
              "<table border=\"1\" class=\"dataframe\">\n",
              "  <thead>\n",
              "    <tr style=\"text-align: right;\">\n",
              "      <th></th>\n",
              "      <th>LTKBID</th>\n",
              "      <th>Compound_name</th>\n",
              "      <th>LabelSection</th>\n",
              "      <th>vDILIConcern</th>\n",
              "      <th>Boxed_Warning</th>\n",
              "      <th>Warnings_Precautions</th>\n",
              "      <th>Adverse_Reactions</th>\n",
              "      <th>Test_set</th>\n",
              "      <th>WP_true_label_updated</th>\n",
              "      <th>WP_pred_label</th>\n",
              "      <th>multiclass_true_label_updated</th>\n",
              "      <th>multiclass_pred_label</th>\n",
              "      <th>in_EMA_training</th>\n",
              "    </tr>\n",
              "  </thead>\n",
              "  <tbody>\n",
              "    <tr>\n",
              "      <th>0</th>\n",
              "      <td>LT00006</td>\n",
              "      <td>azathioprine</td>\n",
              "      <td>Warnings and precautions</td>\n",
              "      <td>vMost-DILI-Concern</td>\n",
              "      <td>chronic immunosuppression with azathioprine, ...</td>\n",
              "      <td>malignancy patients receiving immunosuppressa...</td>\n",
              "      <td>adverse reactions the principal and potential...</td>\n",
              "      <td>1</td>\n",
              "      <td>1</td>\n",
              "      <td>1</td>\n",
              "      <td>2</td>\n",
              "      <td>2</td>\n",
              "      <td>1</td>\n",
              "    </tr>\n",
              "    <tr>\n",
              "      <th>1</th>\n",
              "      <td>LT00056</td>\n",
              "      <td>bicalutamide</td>\n",
              "      <td>Warnings and precautions</td>\n",
              "      <td>vMost-DILI-Concern</td>\n",
              "      <td>nan</td>\n",
              "      <td>cases of death or hospitalization due to seve...</td>\n",
              "      <td>6 adverse reactions adverse reactions that oc...</td>\n",
              "      <td>1</td>\n",
              "      <td>1</td>\n",
              "      <td>1</td>\n",
              "      <td>2</td>\n",
              "      <td>2</td>\n",
              "      <td>1</td>\n",
              "    </tr>\n",
              "    <tr>\n",
              "      <th>2</th>\n",
              "      <td>LT00107</td>\n",
              "      <td>imatinib</td>\n",
              "      <td>Warnings and precautions</td>\n",
              "      <td>vMost-DILI-Concern</td>\n",
              "      <td>nan</td>\n",
              "      <td>imatinib mesylate is often associated with ed...</td>\n",
              "      <td>6 adverse reactions the following serious adv...</td>\n",
              "      <td>1</td>\n",
              "      <td>1</td>\n",
              "      <td>1</td>\n",
              "      <td>2</td>\n",
              "      <td>2</td>\n",
              "      <td>1</td>\n",
              "    </tr>\n",
              "    <tr>\n",
              "      <th>3</th>\n",
              "      <td>LT00119</td>\n",
              "      <td>metformin</td>\n",
              "      <td>no mentioned</td>\n",
              "      <td>vLess-DILI-Concern</td>\n",
              "      <td>warning: lactic acidosis postmarketing cases ...</td>\n",
              "      <td>• lactic acidosis: see boxed warning. • vitam...</td>\n",
              "      <td>6 adverse reactions the following adverse rea...</td>\n",
              "      <td>1</td>\n",
              "      <td>0</td>\n",
              "      <td>1</td>\n",
              "      <td>1</td>\n",
              "      <td>2</td>\n",
              "      <td>1</td>\n",
              "    </tr>\n",
              "    <tr>\n",
              "      <th>4</th>\n",
              "      <td>LT00121</td>\n",
              "      <td>methyldopa</td>\n",
              "      <td>Warnings and precautions</td>\n",
              "      <td>vMost-DILI-Concern</td>\n",
              "      <td>nan</td>\n",
              "      <td>it is important to recognize that a positive ...</td>\n",
              "      <td>adverse reactions sedation, usually transient...</td>\n",
              "      <td>1</td>\n",
              "      <td>1</td>\n",
              "      <td>1</td>\n",
              "      <td>2</td>\n",
              "      <td>2</td>\n",
              "      <td>1</td>\n",
              "    </tr>\n",
              "  </tbody>\n",
              "</table>\n",
              "</div>"
            ],
            "text/plain": [
              "    LTKBID Compound_name  ... multiclass_pred_label in_EMA_training\n",
              "0  LT00006  azathioprine  ...                     2               1\n",
              "1  LT00056  bicalutamide  ...                     2               1\n",
              "2  LT00107      imatinib  ...                     2               1\n",
              "3  LT00119     metformin  ...                     2               1\n",
              "4  LT00121    methyldopa  ...                     2               1\n",
              "\n",
              "[5 rows x 13 columns]"
            ]
          },
          "metadata": {},
          "execution_count": 24
        }
      ]
    },
    {
      "cell_type": "code",
      "metadata": {
        "id": "BUILOWsgeR7S"
      },
      "source": [
        "test_doc = test.Warnings_Precautions.values\n",
        "test_label = test.WP_true_label_updated.values"
      ],
      "execution_count": null,
      "outputs": []
    },
    {
      "cell_type": "markdown",
      "metadata": {
        "id": "VzH-CD1QBTcT"
      },
      "source": [
        "### model prediction"
      ]
    },
    {
      "cell_type": "markdown",
      "metadata": {
        "id": "s91ryT09Pwnb"
      },
      "source": [
        "#### AI model"
      ]
    },
    {
      "cell_type": "code",
      "metadata": {
        "colab": {
          "base_uri": "https://localhost:8080/"
        },
        "id": "wICkIQCW4Qvk",
        "outputId": "f69a3165-c88e-475c-8b38-820c319e5d76"
      },
      "source": [
        "doc_pred_labels = doc_Clf(test_doc[0:2])"
      ],
      "execution_count": null,
      "outputs": [
        {
          "output_type": "stream",
          "text": [
            "100%|██████████| 2/2 [00:02<00:00,  1.42s/it]\n"
          ],
          "name": "stderr"
        }
      ]
    },
    {
      "cell_type": "code",
      "metadata": {
        "id": "SCZwImY1dFlA"
      },
      "source": [
        "test['WP_NER_pred_label'] = doc_pred_labels"
      ],
      "execution_count": null,
      "outputs": []
    },
    {
      "cell_type": "code",
      "metadata": {
        "id": "0Vq-XJz5ezdJ"
      },
      "source": [
        "# test.to_excel(dirpath_test + 'FDA_NERcontext_test_doc_checked_20210311.xlsx')\n",
        "test.to_excel(dirpath_test + 'FDA_NERcontext_test_doc_checked_all_20210325.xlsx')"
      ],
      "execution_count": null,
      "outputs": []
    },
    {
      "cell_type": "code",
      "metadata": {
        "id": "Jk6SeeHK1u56"
      },
      "source": [
        "print(len(test_doc))\n",
        "print(len(doc_pred_labels))"
      ],
      "execution_count": null,
      "outputs": []
    },
    {
      "cell_type": "code",
      "metadata": {
        "id": "1yWjlnNPUhs3"
      },
      "source": [
        "print(doc_pred_labels)"
      ],
      "execution_count": null,
      "outputs": []
    },
    {
      "cell_type": "code",
      "metadata": {
        "colab": {
          "base_uri": "https://localhost:8080/"
        },
        "id": "6E65b0Ki3XN5",
        "outputId": "3f5a294b-4565-4fc1-f83d-b21d9df8b701"
      },
      "source": [
        "test_scores = score_getter(test_label, doc_pred_labels)\n",
        "\n",
        "print(f'TP:{test_scores.tp}, TN:{test_scores.tn}, FP:{test_scores.fp}, FN:{test_scores.fn}')\n",
        "print(f'sensitivity:{test_scores.sensitivity:.3f}, specificity:{test_scores.specificity:.3f}, PPV:{test_scores.PPV:.3f}, NPV:{test_scores.NPV:.3f}, F1:{test_scores.f1:.3f}')\n",
        "print(f'ACC:{test_scores.acc:.3f}, ACC_bal:{test_scores.acc_bal:.3f}, MCC:{test_scores.mcc:.3f}')\n",
        "print(f'AUC:{test_scores.auc:.3f}')"
      ],
      "execution_count": null,
      "outputs": [
        {
          "output_type": "stream",
          "text": [
            "TP:40, TN:99, FP:11, FN:0\n",
            "sensitivity:1.000, specificity:0.900, PPV:0.784, NPV:1.000, F1:0.879\n",
            "ACC:0.927, ACC_bal:0.950, MCC:0.840\n",
            "AUC:0.950\n"
          ],
          "name": "stdout"
        }
      ]
    },
    {
      "cell_type": "code",
      "metadata": {
        "colab": {
          "base_uri": "https://localhost:8080/",
          "height": 344
        },
        "id": "Apt6KqKy3XF_",
        "outputId": "42927ded-5630-4191-8309-7b2a3fca6270"
      },
      "source": [
        "make_heatmap(test_label, doc_pred_labels, \n",
        "             fig_name='liver context prediction', figsize=(5,5),\n",
        "             fontsize=20, annot_kws={\"size\":40}, categories=[0, 1])"
      ],
      "execution_count": null,
      "outputs": [
        {
          "output_type": "display_data",
          "data": {
            "image/png": "[encoded data removed]",
            "text/plain": [
              "<Figure size 360x360 with 1 Axes>"
            ]
          },
          "metadata": {
            "tags": [],
            "needs_background": "light"
          }
        }
      ]
    },
    {
      "cell_type": "markdown",
      "metadata": {
        "id": "R5GAF_H_P5lx"
      },
      "source": [
        "#### Hybrid AI model"
      ]
    },
    {
      "cell_type": "code",
      "metadata": {
        "colab": {
          "base_uri": "https://localhost:8080/",
          "height": 448
        },
        "id": "c89d15peP5Om",
        "outputId": "9775395b-f4ee-4b18-bf7e-03858bae8926"
      },
      "source": [
        "test = pd.read_excel(os.path.join(dirpath_test, 'FDA_NERcontext_test_doc_checked_all_20210325.xlsx'))\n",
        "print(len(test))\n",
        "test.head()"
      ],
      "execution_count": null,
      "outputs": [
        {
          "output_type": "stream",
          "name": "stdout",
          "text": [
            "150\n"
          ]
        },
        {
          "output_type": "execute_result",
          "data": {
            "text/html": [
              "<div>\n",
              "<style scoped>\n",
              "    .dataframe tbody tr th:only-of-type {\n",
              "        vertical-align: middle;\n",
              "    }\n",
              "\n",
              "    .dataframe tbody tr th {\n",
              "        vertical-align: top;\n",
              "    }\n",
              "\n",
              "    .dataframe thead th {\n",
              "        text-align: right;\n",
              "    }\n",
              "</style>\n",
              "<table border=\"1\" class=\"dataframe\">\n",
              "  <thead>\n",
              "    <tr style=\"text-align: right;\">\n",
              "      <th></th>\n",
              "      <th>Unnamed: 0</th>\n",
              "      <th>LTKBID</th>\n",
              "      <th>Compound_name</th>\n",
              "      <th>LabelSection</th>\n",
              "      <th>vDILIConcern</th>\n",
              "      <th>Boxed_Warning</th>\n",
              "      <th>Warnings_Precautions</th>\n",
              "      <th>Adverse_Reactions</th>\n",
              "      <th>Test_set</th>\n",
              "      <th>WP_true_label_updated</th>\n",
              "      <th>WP_pred_label</th>\n",
              "      <th>multiclass_true_label_updated</th>\n",
              "      <th>multiclass_pred_label</th>\n",
              "      <th>in_EMA_training</th>\n",
              "      <th>WP_NER_pred_label</th>\n",
              "    </tr>\n",
              "  </thead>\n",
              "  <tbody>\n",
              "    <tr>\n",
              "      <th>0</th>\n",
              "      <td>0</td>\n",
              "      <td>LT00006</td>\n",
              "      <td>azathioprine</td>\n",
              "      <td>Warnings and precautions</td>\n",
              "      <td>vMost-DILI-Concern</td>\n",
              "      <td>chronic immunosuppression with azathioprine, ...</td>\n",
              "      <td>malignancy patients receiving immunosuppressa...</td>\n",
              "      <td>adverse reactions the principal and potential...</td>\n",
              "      <td>1</td>\n",
              "      <td>1</td>\n",
              "      <td>1</td>\n",
              "      <td>2</td>\n",
              "      <td>2</td>\n",
              "      <td>1</td>\n",
              "      <td>1</td>\n",
              "    </tr>\n",
              "    <tr>\n",
              "      <th>1</th>\n",
              "      <td>1</td>\n",
              "      <td>LT00056</td>\n",
              "      <td>bicalutamide</td>\n",
              "      <td>Warnings and precautions</td>\n",
              "      <td>vMost-DILI-Concern</td>\n",
              "      <td>NaN</td>\n",
              "      <td>cases of death or hospitalization due to seve...</td>\n",
              "      <td>6 adverse reactions adverse reactions that oc...</td>\n",
              "      <td>1</td>\n",
              "      <td>1</td>\n",
              "      <td>1</td>\n",
              "      <td>2</td>\n",
              "      <td>2</td>\n",
              "      <td>1</td>\n",
              "      <td>1</td>\n",
              "    </tr>\n",
              "    <tr>\n",
              "      <th>2</th>\n",
              "      <td>2</td>\n",
              "      <td>LT00107</td>\n",
              "      <td>imatinib</td>\n",
              "      <td>Warnings and precautions</td>\n",
              "      <td>vMost-DILI-Concern</td>\n",
              "      <td>NaN</td>\n",
              "      <td>imatinib mesylate is often associated with ed...</td>\n",
              "      <td>6 adverse reactions the following serious adv...</td>\n",
              "      <td>1</td>\n",
              "      <td>1</td>\n",
              "      <td>1</td>\n",
              "      <td>2</td>\n",
              "      <td>2</td>\n",
              "      <td>1</td>\n",
              "      <td>1</td>\n",
              "    </tr>\n",
              "    <tr>\n",
              "      <th>3</th>\n",
              "      <td>3</td>\n",
              "      <td>LT00119</td>\n",
              "      <td>metformin</td>\n",
              "      <td>no mentioned</td>\n",
              "      <td>vLess-DILI-Concern</td>\n",
              "      <td>warning: lactic acidosis postmarketing cases ...</td>\n",
              "      <td>• lactic acidosis: see boxed warning. • vitam...</td>\n",
              "      <td>6 adverse reactions the following adverse rea...</td>\n",
              "      <td>1</td>\n",
              "      <td>0</td>\n",
              "      <td>1</td>\n",
              "      <td>1</td>\n",
              "      <td>2</td>\n",
              "      <td>1</td>\n",
              "      <td>1</td>\n",
              "    </tr>\n",
              "    <tr>\n",
              "      <th>4</th>\n",
              "      <td>4</td>\n",
              "      <td>LT00121</td>\n",
              "      <td>methyldopa</td>\n",
              "      <td>Warnings and precautions</td>\n",
              "      <td>vMost-DILI-Concern</td>\n",
              "      <td>NaN</td>\n",
              "      <td>it is important to recognize that a positive ...</td>\n",
              "      <td>adverse reactions sedation, usually transient...</td>\n",
              "      <td>1</td>\n",
              "      <td>1</td>\n",
              "      <td>1</td>\n",
              "      <td>2</td>\n",
              "      <td>2</td>\n",
              "      <td>1</td>\n",
              "      <td>1</td>\n",
              "    </tr>\n",
              "  </tbody>\n",
              "</table>\n",
              "</div>"
            ],
            "text/plain": [
              "   Unnamed: 0   LTKBID  ... in_EMA_training WP_NER_pred_label\n",
              "0           0  LT00006  ...               1                 1\n",
              "1           1  LT00056  ...               1                 1\n",
              "2           2  LT00107  ...               1                 1\n",
              "3           3  LT00119  ...               1                 1\n",
              "4           4  LT00121  ...               1                 1\n",
              "\n",
              "[5 rows x 15 columns]"
            ]
          },
          "metadata": {},
          "execution_count": 32
        }
      ]
    },
    {
      "cell_type": "code",
      "metadata": {
        "id": "otUxNUriP5I9"
      },
      "source": [
        "test_doc = test.Warnings_Precautions.to_list()\n",
        "test_label = test.WP_true_label_updated.values"
      ],
      "execution_count": null,
      "outputs": []
    },
    {
      "cell_type": "code",
      "metadata": {
        "colab": {
          "base_uri": "https://localhost:8080/"
        },
        "id": "v2_ZGFpAP5A2",
        "outputId": "da615da5-89ad-4577-f7f2-c8de19159aa7"
      },
      "source": [
        "doc_pred_labels = doc_Clf_HybridAI(test_doc)"
      ],
      "execution_count": null,
      "outputs": [
        {
          "output_type": "stream",
          "name": "stderr",
          "text": [
            "100%|██████████| 150/150 [00:54<00:00,  2.74it/s]\n"
          ]
        }
      ]
    },
    {
      "cell_type": "code",
      "metadata": {
        "colab": {
          "base_uri": "https://localhost:8080/"
        },
        "id": "AGJ6BzdRP474",
        "outputId": "4ed0e767-3284-4ebb-c4d9-35d4b78d7d43"
      },
      "source": [
        "len(doc_pred_labels)"
      ],
      "execution_count": null,
      "outputs": [
        {
          "output_type": "execute_result",
          "data": {
            "text/plain": [
              "150"
            ]
          },
          "metadata": {},
          "execution_count": 40
        }
      ]
    },
    {
      "cell_type": "code",
      "metadata": {
        "id": "OR2j6RFQ3W_Z",
        "colab": {
          "base_uri": "https://localhost:8080/"
        },
        "outputId": "112c37aa-3e31-400b-96cd-8426e6e95e2b"
      },
      "source": [
        "test_scores = score_getter(test_label, doc_pred_labels)\n",
        "print(f'TP:{test_scores.tp}, TN:{test_scores.tn}, FP:{test_scores.fp}, FN:{test_scores.fn}')\n",
        "print(f'sensitivity:{test_scores.sensitivity:.3f}, specificity:{test_scores.specificity:.3f}, PPV:{test_scores.PPV:.3f}, NPV:{test_scores.NPV:.3f}, F1:{test_scores.f1:.3f}')\n",
        "print(f'ACC:{test_scores.acc:.3f}, ACC_bal:{test_scores.acc_bal:.3f}, MCC:{test_scores.mcc:.3f}')\n",
        "print(f'AUC:{test_scores.auc:.3f}')"
      ],
      "execution_count": null,
      "outputs": [
        {
          "output_type": "stream",
          "name": "stdout",
          "text": [
            "TP:39, TN:103, FP:7, FN:1\n",
            "sensitivity:0.975, specificity:0.936, PPV:0.848, NPV:0.990, F1:0.907\n",
            "ACC:0.947, ACC_bal:0.956, MCC:0.874\n",
            "AUC:0.956\n"
          ]
        }
      ]
    },
    {
      "cell_type": "code",
      "metadata": {
        "colab": {
          "base_uri": "https://localhost:8080/",
          "height": 344
        },
        "id": "kI-jD9FqQ9fK",
        "outputId": "65a2fd8a-5bd3-4a3e-92ec-7f4d18591e7f"
      },
      "source": [
        "make_heatmap(test_label, doc_pred_labels, \n",
        "             fig_name='liver context prediction', figsize=(5,5),\n",
        "             fontsize=20, annot_kws={\"size\":40}, categories=[0, 1])"
      ],
      "execution_count": null,
      "outputs": [
        {
          "output_type": "display_data",
          "data": {
            "image/png": "[encoded data removed]",
            "text/plain": [
              "<Figure size 360x360 with 1 Axes>"
            ]
          },
          "metadata": {
            "needs_background": "light"
          }
        }
      ]
    },
    {
      "cell_type": "code",
      "metadata": {
        "id": "ahw3Ff_uRvKG"
      },
      "source": [
        "test['WP_hybrid_pred_label'] = doc_pred_labels"
      ],
      "execution_count": null,
      "outputs": []
    },
    {
      "cell_type": "code",
      "metadata": {
        "id": "cjkF876bQ9U3"
      },
      "source": [
        "test.to_excel(os.path.join(dirpath_test, 'FDA_NERcontext_test_doc_checked_all_20210930.xlsx'))"
      ],
      "execution_count": null,
      "outputs": []
    },
    {
      "cell_type": "code",
      "metadata": {
        "id": "EOAYdiIVQ9PA"
      },
      "source": [
        ""
      ],
      "execution_count": null,
      "outputs": []
    },
    {
      "cell_type": "code",
      "metadata": {
        "id": "v1SQZDneQ9EV"
      },
      "source": [
        ""
      ],
      "execution_count": null,
      "outputs": []
    },
    {
      "cell_type": "markdown",
      "metadata": {
        "id": "AHnfBR6zBXvb"
      },
      "source": [
        "### get scores"
      ]
    },
    {
      "cell_type": "code",
      "metadata": {
        "colab": {
          "base_uri": "https://localhost:8080/"
        },
        "id": "tkjTWVJ01Ecp",
        "outputId": "08aa11dd-0671-4246-bee0-0f2207a9b78b"
      },
      "source": [
        "balanced_accuracy_score(test_label, doc_pred_labels)"
      ],
      "execution_count": null,
      "outputs": [
        {
          "output_type": "execute_result",
          "data": {
            "text/plain": [
              "0.9136363636363636"
            ]
          },
          "metadata": {
            "tags": []
          },
          "execution_count": 110
        }
      ]
    },
    {
      "cell_type": "code",
      "metadata": {
        "id": "HmBn_bsV1ERY"
      },
      "source": [
        "test_scores = score_getter(test_label, doc_pred_labels)"
      ],
      "execution_count": null,
      "outputs": []
    },
    {
      "cell_type": "code",
      "metadata": {
        "colab": {
          "base_uri": "https://localhost:8080/"
        },
        "id": "QA3cC6pf1EOZ",
        "outputId": "9c7c43b6-e903-4455-d82d-dd8e81276f9d"
      },
      "source": [
        "print(f'TP:{test_scores.tp}, TN:{test_scores.tn}, FP:{test_scores.fp}, FN:{test_scores.fn}')\n",
        "print(f'sensitivity:{test_scores.sensitivity:.3f}, specificity:{test_scores.specificity:.3f}, PPV:{test_scores.PPV:.3f}, NPV:{test_scores.NPV:.3f}, F1:{test_scores.f1:.3f}')\n",
        "print(f'ACC:{test_scores.acc:.3f}, ACC_bal:{test_scores.acc_bal:.3f}, MCC:{test_scores.mcc:.3f}')\n",
        "print(f'AUC:{test_scores.auc:.3f}')"
      ],
      "execution_count": null,
      "outputs": [
        {
          "output_type": "stream",
          "text": [
            "TP:40, TN:91, FP:19, FN:0\n",
            "sensitivity:1.000, specificity:0.827, PPV:0.678, NPV:1.000, F1:0.808\n",
            "ACC:0.873, ACC_bal:0.914, MCC:0.749\n",
            "AUC:0.914\n"
          ],
          "name": "stdout"
        }
      ]
    },
    {
      "cell_type": "code",
      "metadata": {
        "colab": {
          "base_uri": "https://localhost:8080/",
          "height": 344
        },
        "id": "Hwgr2RVSpQvA",
        "outputId": "604c5bc9-f710-434e-dd17-e60dbca31b9b"
      },
      "source": [
        "make_heatmap(test_label, doc_pred_labels, \n",
        "             fig_name='liver context prediction', figsize=(5,5),\n",
        "             fontsize=20, annot_kws={\"size\":40}, categories=[0, 1])"
      ],
      "execution_count": null,
      "outputs": [
        {
          "output_type": "display_data",
          "data": {
            "image/png": "[encoded data removed]",
            "text/plain": [
              "<Figure size 360x360 with 1 Axes>"
            ]
          },
          "metadata": {
            "tags": [],
            "needs_background": "light"
          }
        }
      ]
    },
    {
      "cell_type": "markdown",
      "metadata": {
        "id": "xisYBE1cBadW"
      },
      "source": [
        "### analysis"
      ]
    },
    {
      "cell_type": "code",
      "metadata": {
        "id": "lnoDrY5_xXjh"
      },
      "source": [
        "def get_NER_liver_sentences(doc):\n",
        "    liver_sentences, liver_sentences_idx = [], []\n",
        "    sentences = sent_tokenize(doc)\n",
        "    for idx, sent in enumerate(sentences):\n",
        "        context_pred = model_NER_predict_single_sentence(sent, tokenizer, model_NER)\n",
        "        if context_pred[0] == 1:\n",
        "            liver_sentences_idx.append(idx)\n",
        "            liver_sentences.append(sent)\n",
        "    df_liver_sent = pd.DataFrame({\n",
        "        'index':liver_sentences_idx,\n",
        "        'liver_sentences':liver_sentences,\n",
        "    },\n",
        "        columns=['index', 'liver_sentences'])\n",
        "    return df_liver_sent"
      ],
      "execution_count": null,
      "outputs": []
    },
    {
      "cell_type": "code",
      "metadata": {
        "id": "xVvWOf4qxXfi"
      },
      "source": [
        "def get_KW_liver_sentences(doc):\n",
        "    liver_sentences, liver_sentences_idx = [], []\n",
        "    sentences = sent_tokenize(doc)\n",
        "    for idx, sent in enumerate(sentences):\n",
        "        kw_positive = any(keyword in sent for keyword in keywords_positive)\n",
        "        kw_negative = any(keyword in sent for keyword in keywords_negative)\n",
        "        if kw_positive == True and kw_negative == False:\n",
        "            liver_sentences_idx.append(idx)\n",
        "            liver_sentences.append(sent) \n",
        "    df_liver_sent = pd.DataFrame({\n",
        "        'index':liver_sentences_idx,\n",
        "        'liver_sentences':liver_sentences,\n",
        "    },\n",
        "        columns=['index', 'liver_sentences'])\n",
        "    return df_liver_sent"
      ],
      "execution_count": null,
      "outputs": []
    },
    {
      "cell_type": "code",
      "metadata": {
        "id": "M5R1zVhcxXTA"
      },
      "source": [
        "def compare_sent_pred_NER_KW(ner_sentences, kw_sentences):\n",
        "    y_ner, y_kw = [], []\n",
        "    for sentence in ner_sentences:\n",
        "        l_ner = model_SentClf_predict_single_sentence(sentence, tokenizer, model_SentClf)\n",
        "        y_ner.append(l_ner[0])\n",
        "    for sentence in kw_sentences:\n",
        "        l_kw = model_SentClf_predict_single_sentence(sentence, tokenizer, model_SentClf)\n",
        "        y_kw.append(l_kw[0])\n",
        "    return y_ner, y_kw"
      ],
      "execution_count": null,
      "outputs": []
    },
    {
      "cell_type": "code",
      "metadata": {
        "id": "1tneu2Y2xXch"
      },
      "source": [
        "doc_id = 22\n",
        "\n",
        "df_KW = get_KW_liver_sentences(test_doc[doc_id])\n",
        "df_NER = get_NER_liver_sentences(test_doc[doc_id])"
      ],
      "execution_count": null,
      "outputs": []
    },
    {
      "cell_type": "code",
      "metadata": {
        "colab": {
          "base_uri": "https://localhost:8080/",
          "height": 80
        },
        "id": "rbc_XW5oxXWX",
        "outputId": "2d2d1c4d-2db4-4db5-fcdc-7428ac790d43"
      },
      "source": [
        "df_NER"
      ],
      "execution_count": null,
      "outputs": [
        {
          "output_type": "execute_result",
          "data": {
            "text/html": [
              "<div>\n",
              "<style scoped>\n",
              "    .dataframe tbody tr th:only-of-type {\n",
              "        vertical-align: middle;\n",
              "    }\n",
              "\n",
              "    .dataframe tbody tr th {\n",
              "        vertical-align: top;\n",
              "    }\n",
              "\n",
              "    .dataframe thead th {\n",
              "        text-align: right;\n",
              "    }\n",
              "</style>\n",
              "<table border=\"1\" class=\"dataframe\">\n",
              "  <thead>\n",
              "    <tr style=\"text-align: right;\">\n",
              "      <th></th>\n",
              "      <th>index</th>\n",
              "      <th>liver_sentences</th>\n",
              "    </tr>\n",
              "  </thead>\n",
              "  <tbody>\n",
              "    <tr>\n",
              "      <th>0</th>\n",
              "      <td>11</td>\n",
              "      <td>in addition, downward shifts within the ganire...</td>\n",
              "    </tr>\n",
              "  </tbody>\n",
              "</table>\n",
              "</div>"
            ],
            "text/plain": [
              "   index                                    liver_sentences\n",
              "0     11  in addition, downward shifts within the ganire..."
            ]
          },
          "metadata": {
            "tags": []
          },
          "execution_count": 61
        }
      ]
    },
    {
      "cell_type": "code",
      "metadata": {
        "colab": {
          "base_uri": "https://localhost:8080/",
          "height": 80
        },
        "id": "rli-sRVExXZV",
        "outputId": "12c4cbca-e976-48f6-e1d2-7cb77896ddc0"
      },
      "source": [
        "df_KW"
      ],
      "execution_count": null,
      "outputs": [
        {
          "output_type": "execute_result",
          "data": {
            "text/html": [
              "<div>\n",
              "<style scoped>\n",
              "    .dataframe tbody tr th:only-of-type {\n",
              "        vertical-align: middle;\n",
              "    }\n",
              "\n",
              "    .dataframe tbody tr th {\n",
              "        vertical-align: top;\n",
              "    }\n",
              "\n",
              "    .dataframe thead th {\n",
              "        text-align: right;\n",
              "    }\n",
              "</style>\n",
              "<table border=\"1\" class=\"dataframe\">\n",
              "  <thead>\n",
              "    <tr style=\"text-align: right;\">\n",
              "      <th></th>\n",
              "      <th>index</th>\n",
              "      <th>liver_sentences</th>\n",
              "    </tr>\n",
              "  </thead>\n",
              "  <tbody>\n",
              "    <tr>\n",
              "      <th>0</th>\n",
              "      <td>11</td>\n",
              "      <td>in addition, downward shifts within the ganire...</td>\n",
              "    </tr>\n",
              "  </tbody>\n",
              "</table>\n",
              "</div>"
            ],
            "text/plain": [
              "   index                                    liver_sentences\n",
              "0     11  in addition, downward shifts within the ganire..."
            ]
          },
          "metadata": {
            "tags": []
          },
          "execution_count": 62
        }
      ]
    },
    {
      "cell_type": "code",
      "metadata": {
        "colab": {
          "base_uri": "https://localhost:8080/"
        },
        "id": "x-AxNjPnxXPU",
        "outputId": "4e464151-5dce-4fcc-e057-3dd2bde030f0"
      },
      "source": [
        "y_ner, y_kw = compare_sent_pred_NER_KW(df_NER.liver_sentences, df_KW.liver_sentences)\n",
        "print(y_ner)\n",
        "print(y_kw)"
      ],
      "execution_count": null,
      "outputs": [
        {
          "output_type": "stream",
          "text": [
            "[1]\n",
            "[1]\n"
          ],
          "name": "stdout"
        }
      ]
    },
    {
      "cell_type": "code",
      "metadata": {
        "colab": {
          "base_uri": "https://localhost:8080/",
          "height": 35
        },
        "id": "Hfw4ntTsxXME",
        "outputId": "edaf0dae-c7cc-49c6-87c9-e21c45363581"
      },
      "source": [
        "df_NER.liver_sentences[1]"
      ],
      "execution_count": null,
      "outputs": [
        {
          "output_type": "execute_result",
          "data": {
            "application/vnd.google.colaboratory.intrinsic+json": {
              "type": "string"
            },
            "text/plain": [
              "'at this dose, paclitaxel caused reduced fertility and reproductive indices, and increased embryo- and fetotoxicity.'"
            ]
          },
          "metadata": {
            "tags": []
          },
          "execution_count": 60
        }
      ]
    },
    {
      "cell_type": "code",
      "metadata": {
        "id": "aLhgad0wxXGP"
      },
      "source": [
        "def doc_Clf(documents):\n",
        "    doc_labels = []\n",
        "    for doc in tqdm(documents):\n",
        "        sentences = sent_tokenize(doc)\n",
        "        sent_labels = [0] * len(sentences)\n",
        "        # context prediction and get liver sentence indexes\n",
        "        liver_sent_idx = []\n",
        "        for idx, sentence in enumerate(sentences):\n",
        "            context_pred = model_NER_predict_single_sentence(sentence, tokenizer, model_NER)\n",
        "            if context_pred[0] == 1:\n",
        "                liver_sent_idx.append(idx)\n",
        "        # sentence prediction for liver sentences (if any)\n",
        "        if liver_sent_idx:\n",
        "            liver_sentences = [sentences[i] for i in liver_sent_idx]\n",
        "            liver_sent_labels = model_SentClf_predict_batch(liver_sentences, tokenizer, model_SentClf)\n",
        "            for i, l in enumerate(liver_sent_labels):\n",
        "                if l == 1:\n",
        "                    sent_labels[liver_sent_idx[i]] = 1\n",
        "\n",
        "        doc_label = [1 if np.sum(sent_labels) > 0 else 0]\n",
        "        doc_labels.append(doc_label[0])\n",
        "    return doc_labels"
      ],
      "execution_count": null,
      "outputs": []
    },
    {
      "cell_type": "code",
      "metadata": {
        "colab": {
          "base_uri": "https://localhost:8080/"
        },
        "id": "OAmPeoS4sPEu",
        "outputId": "bf0de83d-a077-4660-d5cf-5d4c77484aa6"
      },
      "source": [
        "doc_pred_labels = doc_Clf(test_doc[0:2])"
      ],
      "execution_count": null,
      "outputs": [
        {
          "output_type": "stream",
          "text": [
            "100%|██████████| 2/2 [00:22<00:00, 11.14s/it]\n"
          ],
          "name": "stderr"
        }
      ]
    },
    {
      "cell_type": "code",
      "metadata": {
        "colab": {
          "base_uri": "https://localhost:8080/"
        },
        "id": "mqvICDyHIDQ5",
        "outputId": "fe91e6b7-5ebe-4949-a1b5-f812ce57fb8e"
      },
      "source": [
        "doc_pred_labels"
      ],
      "execution_count": null,
      "outputs": [
        {
          "output_type": "execute_result",
          "data": {
            "text/plain": [
              "[1, 1]"
            ]
          },
          "metadata": {
            "tags": []
          },
          "execution_count": 100
        }
      ]
    },
    {
      "cell_type": "code",
      "metadata": {
        "colab": {
          "base_uri": "https://localhost:8080/"
        },
        "id": "8EwHBplLIQuI",
        "outputId": "476776e1-32bb-4aa1-eb42-8b52a5d049b7"
      },
      "source": [
        "doc_labels = []\n",
        "for doc in tqdm(test_doc[1:2]):\n",
        "    sentences = sent_tokenize(doc)\n",
        "    sent_labels = [0] * len(sentences)\n",
        "    # context prediction and get liver sentence indexes\n",
        "    liver_sent_idx = []\n",
        "    for idx, sentence in enumerate(sentences):\n",
        "        context_pred = model_NER_predict_single_sentence(sentence, tokenizer, model_NER)\n",
        "        if context_pred[0] == 1:\n",
        "            liver_sent_idx.append(idx)\n",
        "    # sentence prediction for liver sentences (if any)\n",
        "    if liver_sent_idx:\n",
        "        liver_sentences = [sentences[i] for i in liver_sent_idx]\n",
        "        liver_sent_labels = model_SentClf_predict_batch(liver_sentences, tokenizer, model_SentClf)\n",
        "        for i, l in enumerate(liver_sent_labels):\n",
        "            if l == 1:\n",
        "                sent_labels[liver_sent_idx[i]] = 1\n",
        "\n",
        "    doc_label = [1 if np.sum(sent_labels) > 0 else 0]\n",
        "    doc_labels.append(doc_label[0])"
      ],
      "execution_count": null,
      "outputs": [
        {
          "output_type": "stream",
          "text": [
            "100%|██████████| 1/1 [00:07<00:00,  7.13s/it]\n"
          ],
          "name": "stderr"
        }
      ]
    },
    {
      "cell_type": "code",
      "metadata": {
        "colab": {
          "base_uri": "https://localhost:8080/"
        },
        "id": "CQN9WnwxIKNz",
        "outputId": "2c101478-8bd7-4b4f-f5aa-b9eb082aaa0d"
      },
      "source": [
        "liver_sentences"
      ],
      "execution_count": null,
      "outputs": [
        {
          "output_type": "execute_result",
          "data": {
            "text/plain": [
              "[' cases of death or hospitalization due to severe liver injury (hepatic failure) have been reported post-marketing in association with the use of bicalutamide.',\n",
              " 'hepatotoxicity in these reports generally occurred within the first three to four months of treatment.',\n",
              " 'hepatitis or marked increases in liver enzymes leading to drug discontinuation occurred in approximately 1% of bicalutamide patients in controlled clinical trials.',\n",
              " 'serum transaminase levels should be measured prior to starting treatment with bicalutamide, at regular intervals for the first four months of treatment, and periodically thereafter.',\n",
              " 'if clinical symptoms or signs suggestive of liver dysfunction occur (nausea, vomiting, abdominal pain, fatigue, anorexia, \"flu-like\" symptoms, dark urine, jaundice, or right upper quadrant tenderness), the serum transaminases, in particular the serum alt, should be measured immediately.',\n",
              " 'if at any time a patient has jaundice, or their alt rises above two times the upper limit of normal, bicalutamide should be immediately discontinued with close follow-up of liver function.',\n",
              " 'severe hepatic injury and fatal hepatic failure have been observed.',\n",
              " 'monitor serum transaminase levels prior to starting treatment with bicalutamide, at regular intervals for the first four months of treatment and periodically thereafter, and for symptoms or signs suggestive of hepatic dysfunction.',\n",
              " 'use bicalutamide with caution in patients with hepatic impairment hemorrhage with concomitant use of coumarin anticoagulant.']"
            ]
          },
          "metadata": {
            "tags": []
          },
          "execution_count": 63
        }
      ]
    },
    {
      "cell_type": "code",
      "metadata": {
        "colab": {
          "base_uri": "https://localhost:8080/"
        },
        "id": "W_cX404KIlPy",
        "outputId": "5199cbe1-e5fa-4f62-e17f-578962fd006b"
      },
      "source": [
        "liver_sent_labels"
      ],
      "execution_count": null,
      "outputs": [
        {
          "output_type": "execute_result",
          "data": {
            "text/plain": [
              "array([0, 0, 0, 0, 0, 0, 0, 0, 0])"
            ]
          },
          "metadata": {
            "tags": []
          },
          "execution_count": 64
        }
      ]
    },
    {
      "cell_type": "code",
      "metadata": {
        "id": "I43A1ua3IlL0"
      },
      "source": [
        "def doc_Clf(documents):\n",
        "    doc_labels = []\n",
        "    for doc in tqdm(documents):\n",
        "        sentences = sent_tokenize(doc)\n",
        "        sent_labels = []\n",
        "        # context prediction and get liver sentence indexes\n",
        "        for sentence in sentences:\n",
        "            context_pred = model_NER_predict_single_sentence(sentence, tokenizer, model_NER)\n",
        "            if context_pred[0] == 0:\n",
        "                lab_sent = [0]\n",
        "                sent_labels.append(lab_sent[0])\n",
        "            elif context_pred[0] == 1:\n",
        "                # sentence prediction for liver sentences (if any)\n",
        "                lab_sent = model_SentClf_predict_batch(liver_sentences, tokenizer, model_SentClf)\n",
        "                sent_labels.append(lab_sent[0])\n",
        "                \n",
        "        doc_label = [1 if np.sum(sent_labels) > 0 else 0]\n",
        "        doc_labels.append(doc_label[0])\n",
        "    return doc_labels"
      ],
      "execution_count": null,
      "outputs": []
    },
    {
      "cell_type": "code",
      "metadata": {
        "colab": {
          "base_uri": "https://localhost:8080/"
        },
        "id": "_D4SE7oKIlIB",
        "outputId": "1deb251a-b217-4b43-d78d-b3dab049403c"
      },
      "source": [
        "doc_pred_labels = doc_Clf(test_doc[0:2])"
      ],
      "execution_count": null,
      "outputs": [
        {
          "output_type": "stream",
          "text": [
            "100%|██████████| 2/2 [01:03<00:00, 31.80s/it]\n"
          ],
          "name": "stderr"
        }
      ]
    },
    {
      "cell_type": "code",
      "metadata": {
        "colab": {
          "base_uri": "https://localhost:8080/"
        },
        "id": "r6kP8ta8IlCr",
        "outputId": "d4d115c9-fcf0-499d-f7cf-db80b00a4f09"
      },
      "source": [
        "doc_pred_labels"
      ],
      "execution_count": null,
      "outputs": [
        {
          "output_type": "execute_result",
          "data": {
            "text/plain": [
              "[1, 1]"
            ]
          },
          "metadata": {
            "tags": []
          },
          "execution_count": 103
        }
      ]
    },
    {
      "cell_type": "markdown",
      "metadata": {
        "id": "gxuKGuyd1PC-"
      },
      "source": [
        "## 4.3. FDA model predicts EMA test doc set"
      ]
    },
    {
      "cell_type": "markdown",
      "metadata": {
        "id": "20yVV7QQ1Vcn"
      },
      "source": [
        "### load table"
      ]
    },
    {
      "cell_type": "code",
      "metadata": {
        "id": "LiEmungdIk9K"
      },
      "source": [
        "dirpath_test = '/content/gdrive/My Drive/DILI_BERT/EMA_labels/'\n",
        "filename_test = 'EMA_label_train_test_doc_checked_trimmed_20210215.xlsx'\n",
        "filepath = dirpath_test + filename_test"
      ],
      "execution_count": null,
      "outputs": []
    },
    {
      "cell_type": "code",
      "metadata": {
        "colab": {
          "base_uri": "https://localhost:8080/",
          "height": 411
        },
        "id": "1vDzlry7Ik6A",
        "outputId": "6e27dae6-b91c-4afb-f2db-27cbf5cdc975"
      },
      "source": [
        "test = pd.read_excel(filepath, sheet_name=\"not_in_FDA_training\")\n",
        "test['Warnings_Precautions'] = test['Warnings_Precautions'].apply(normalize_text)\n",
        "print(len(test))\n",
        "test.head()"
      ],
      "execution_count": null,
      "outputs": [
        {
          "output_type": "stream",
          "name": "stdout",
          "text": [
            "175\n"
          ]
        },
        {
          "output_type": "execute_result",
          "data": {
            "text/html": [
              "<div>\n",
              "<style scoped>\n",
              "    .dataframe tbody tr th:only-of-type {\n",
              "        vertical-align: middle;\n",
              "    }\n",
              "\n",
              "    .dataframe tbody tr th {\n",
              "        vertical-align: top;\n",
              "    }\n",
              "\n",
              "    .dataframe thead th {\n",
              "        text-align: right;\n",
              "    }\n",
              "</style>\n",
              "<table border=\"1\" class=\"dataframe\">\n",
              "  <thead>\n",
              "    <tr style=\"text-align: right;\">\n",
              "      <th></th>\n",
              "      <th>LTKBID</th>\n",
              "      <th>eMC_LabelSection2</th>\n",
              "      <th>Warnings_Precautions</th>\n",
              "      <th>Adverse_Reactions</th>\n",
              "      <th>Test_set</th>\n",
              "      <th>WP_true_label_updated</th>\n",
              "      <th>WP_pred_label</th>\n",
              "      <th>multiclass_true_label_updated</th>\n",
              "      <th>multiclass_pred_label</th>\n",
              "      <th>in_FDA_training</th>\n",
              "    </tr>\n",
              "  </thead>\n",
              "  <tbody>\n",
              "    <tr>\n",
              "      <th>0</th>\n",
              "      <td>LT00046</td>\n",
              "      <td>Warnings and precautions</td>\n",
              "      <td>patients with rare hereditary problems of gala...</td>\n",
              "      <td>the following adverse reactions are classified...</td>\n",
              "      <td>0</td>\n",
              "      <td>1</td>\n",
              "      <td>1</td>\n",
              "      <td>2</td>\n",
              "      <td>2</td>\n",
              "      <td>0</td>\n",
              "    </tr>\n",
              "    <tr>\n",
              "      <th>1</th>\n",
              "      <td>LT00671</td>\n",
              "      <td>Warnings and precautions</td>\n",
              "      <td>careful monitoring during dronedarone administ...</td>\n",
              "      <td>summary of the safety profile assessment of in...</td>\n",
              "      <td>0</td>\n",
              "      <td>1</td>\n",
              "      <td>1</td>\n",
              "      <td>2</td>\n",
              "      <td>2</td>\n",
              "      <td>0</td>\n",
              "    </tr>\n",
              "    <tr>\n",
              "      <th>2</th>\n",
              "      <td>LT01525</td>\n",
              "      <td>Warnings and precautions</td>\n",
              "      <td>the selection of meropenem to treat an individ...</td>\n",
              "      <td>summary of the safety profile in a review of 4...</td>\n",
              "      <td>0</td>\n",
              "      <td>1</td>\n",
              "      <td>1</td>\n",
              "      <td>2</td>\n",
              "      <td>2</td>\n",
              "      <td>0</td>\n",
              "    </tr>\n",
              "    <tr>\n",
              "      <th>3</th>\n",
              "      <td>LT01097</td>\n",
              "      <td>Warnings and precautions</td>\n",
              "      <td>hypersensitivity caution should be used in pre...</td>\n",
              "      <td>summary of safety profile the safety profile o...</td>\n",
              "      <td>0</td>\n",
              "      <td>1</td>\n",
              "      <td>1</td>\n",
              "      <td>2</td>\n",
              "      <td>2</td>\n",
              "      <td>0</td>\n",
              "    </tr>\n",
              "    <tr>\n",
              "      <th>4</th>\n",
              "      <td>LT01181</td>\n",
              "      <td>Warnings and precautions</td>\n",
              "      <td>oxaliplatin should only be used in specialized...</td>\n",
              "      <td>summary of the safety profile the most frequen...</td>\n",
              "      <td>0</td>\n",
              "      <td>1</td>\n",
              "      <td>1</td>\n",
              "      <td>2</td>\n",
              "      <td>2</td>\n",
              "      <td>0</td>\n",
              "    </tr>\n",
              "  </tbody>\n",
              "</table>\n",
              "</div>"
            ],
            "text/plain": [
              "    LTKBID         eMC_LabelSection2  ... multiclass_pred_label in_FDA_training\n",
              "0  LT00046  Warnings and precautions  ...                     2               0\n",
              "1  LT00671  Warnings and precautions  ...                     2               0\n",
              "2  LT01525  Warnings and precautions  ...                     2               0\n",
              "3  LT01097  Warnings and precautions  ...                     2               0\n",
              "4  LT01181  Warnings and precautions  ...                     2               0\n",
              "\n",
              "[5 rows x 10 columns]"
            ]
          },
          "metadata": {},
          "execution_count": 49
        }
      ]
    },
    {
      "cell_type": "code",
      "metadata": {
        "id": "QPM2T05-Ik2k"
      },
      "source": [
        "test_doc = test.Warnings_Precautions.values\n",
        "test_label = test.WP_true_label_updated.values"
      ],
      "execution_count": null,
      "outputs": []
    },
    {
      "cell_type": "markdown",
      "metadata": {
        "id": "jO3CDv6_6UBK"
      },
      "source": [
        "### model prediction"
      ]
    },
    {
      "cell_type": "markdown",
      "metadata": {
        "id": "3B8LqsJcTJ-O"
      },
      "source": [
        "#### AI model"
      ]
    },
    {
      "cell_type": "code",
      "metadata": {
        "colab": {
          "base_uri": "https://localhost:8080/"
        },
        "id": "ZUTNsUHQIkzV",
        "outputId": "e4b39e30-c8b7-4ba3-cf6c-037b908b4802"
      },
      "source": [
        "doc_pred_labels = doc_Clf(test_doc)"
      ],
      "execution_count": null,
      "outputs": [
        {
          "output_type": "stream",
          "text": [
            "100%|██████████| 175/175 [01:56<00:00,  1.51it/s]\n"
          ],
          "name": "stderr"
        }
      ]
    },
    {
      "cell_type": "code",
      "metadata": {
        "colab": {
          "base_uri": "https://localhost:8080/",
          "height": 104
        },
        "id": "pNojZsAhjj7J",
        "outputId": "5204f103-7ed0-41b6-c700-102824d7d38b"
      },
      "source": [
        "test_doc[93]"
      ],
      "execution_count": null,
      "outputs": [
        {
          "output_type": "execute_result",
          "data": {
            "application/vnd.google.colaboratory.intrinsic+json": {
              "type": "string"
            },
            "text/plain": [
              "\"hypersensitivity hypersensitivity reactions to mesna have been reported following administration of mesna as an uroprotectant. these include various skin and subcutaneous tissue symptoms . in addition, cases of severe bullous and ulcerative skin and mucosal reactions were reported. in some cases, skin reactions were accompanied by one or more other symptoms, such as fever, cardiovascular, pulmonary symptoms, haematological abnormalities, nausea, vomiting, pain in the extremities, arthralgia, myalgia, malaise and conjunctivitis . some reactions have presented as anaphylaxis. fever accompanied by, hypotension but no skin manifestations has also been reported. some patients with a history of a reaction have shown positive delayed-type skin test results. however, a negative delayed reaction does not exclude hypersensitivity to mesna. positive immediate-type skin test reactions have occurred in patients regardless of previous mesna exposure or history of hypersensitivity reactions, and may be related to the concentration of the mesna solution used for testing. prescribers should be aware that: - severe as well as minor reactions were reported with the use of mesna in regimens to treat both severe systemic autoimmune disease and malignancy and that mesna should be suspected in any hypersensitivity reaction, - these reactions may occur with first exposure or after several months of exposure and in some cases can be life threatening, - the occurrence and severity of reactions appeared to vary with the dose administered with a tendency to shorter intervals following subsequent exposures, - hypersensitivity reactions to mesna were interpreted to resemble the clinical picture of sepsis and, in patients with autoimmune disorders, resemble an exacerbation of the underlying disease. thiol compounds: mesna is a thiol compound, i.e., a sulfhydryl (sh) group-containing organic compound. thiol compounds show some similarities in their adverse reaction profile, including a potential to elicit severe skin reactions. examples of drugs that are thiol compounds include amifostine, penicillamine, and captopril. it is not clear whether patients who experienced an adverse reaction to such a drug are at increased risk for any reactions, or similar reactions, to another thiol compound. however, when considering subsequent use of another thiol compound in such patients, the possibility of an increased risk should be taken into account. precautions mesna does not prevent hemorrhagic cystitis in all patients. patients should be monitored accordingly. sufficient urinary output should be maintained, as required for oxazaphosphorine treatment. lactose content mesna tablets contain lactose. this should be taken into account when using the tablets in patients with lactose intolerance, glucose-galactose malabsorption, or galactose intolerance. lab test interferences mesna treatment may cause false positive reactions in nitroprusside sodium-based urine tests (including dipstick tests) for ketone bodies. the addition of glacial acetic acid can be used to differentiate between a false positive result (cherry-red color that fades) and a true positive result (red-violet color that intensifies). mesna treatment may cause false positive reactions in tillman's reagent-based urine screening tests for ascorbic acid. in pharmacokinetics studies in healthy volunteers, serum creatine phosphokinase (cpk) values were lower in samples taken 24 hours after mesna dosing than in pre- dosing samples. while available data are insufficient to determine the cause of this phenomenon, it might be considered to represent a significant interference with thiol (n-acetylcysteine) dependent enzymatic cpk tests. see also section 4.8 for information on laboratory test abnormalities observed in pharmacokinetic studies.\""
            ]
          },
          "metadata": {},
          "execution_count": 62
        }
      ]
    },
    {
      "cell_type": "code",
      "metadata": {
        "id": "Dsn024zMIkv7"
      },
      "source": [
        "test['WP_NER_pred_label'] = doc_pred_labels\n",
        "test.to_excel(dirpath_test + 'FDA_NERcontext_test_doc_checked_cross_agency_20210326.xlsx')"
      ],
      "execution_count": null,
      "outputs": []
    },
    {
      "cell_type": "code",
      "metadata": {
        "colab": {
          "base_uri": "https://localhost:8080/"
        },
        "id": "SCjdrFjKIksW",
        "outputId": "096d46ff-6ac1-4095-919d-95c4b58f6f82"
      },
      "source": [
        "test_scores = score_getter(test_label, doc_pred_labels)\n",
        "\n",
        "print(f'TP:{test_scores.tp}, TN:{test_scores.tn}, FP:{test_scores.fp}, FN:{test_scores.fn}')\n",
        "print(f'sensitivity:{test_scores.sensitivity:.3f}, specificity:{test_scores.specificity:.3f}, PPV:{test_scores.PPV:.3f}, NPV:{test_scores.NPV:.3f}, F1:{test_scores.f1:.3f}')\n",
        "print(f'ACC:{test_scores.acc:.3f}, ACC_bal:{test_scores.acc_bal:.3f}, MCC:{test_scores.mcc:.3f}')\n",
        "print(f'AUC:{test_scores.auc:.3f}')"
      ],
      "execution_count": null,
      "outputs": [
        {
          "output_type": "stream",
          "text": [
            "TP:36, TN:124, FP:15, FN:0\n",
            "sensitivity:1.000, specificity:0.892, PPV:0.706, NPV:1.000, F1:0.828\n",
            "ACC:0.914, ACC_bal:0.946, MCC:0.794\n",
            "AUC:0.946\n"
          ],
          "name": "stdout"
        }
      ]
    },
    {
      "cell_type": "code",
      "metadata": {
        "colab": {
          "base_uri": "https://localhost:8080/",
          "height": 344
        },
        "id": "WGHpAd6wIkpC",
        "outputId": "9d2fb22d-cbec-4f6c-8a1f-45fa4a5adefe"
      },
      "source": [
        "make_heatmap(test_label, doc_pred_labels, \n",
        "             fig_name='liver context prediction', figsize=(5,5),\n",
        "             fontsize=20, annot_kws={\"size\":40}, categories=[0, 1])"
      ],
      "execution_count": null,
      "outputs": [
        {
          "output_type": "display_data",
          "data": {
            "image/png": "[encoded data removed]",
            "text/plain": [
              "<Figure size 360x360 with 1 Axes>"
            ]
          },
          "metadata": {
            "tags": [],
            "needs_background": "light"
          }
        }
      ]
    },
    {
      "cell_type": "markdown",
      "metadata": {
        "id": "rqh-Gt4KTO8H"
      },
      "source": [
        "#### Hybrid AI model"
      ]
    },
    {
      "cell_type": "code",
      "metadata": {
        "colab": {
          "base_uri": "https://localhost:8080/",
          "height": 325
        },
        "id": "lTjAak17TN1V",
        "outputId": "223baea8-71ab-4ce5-b75d-d3cfa83249b3"
      },
      "source": [
        "test = pd.read_excel(os.path.join(dirpath_test, 'FDA_NERcontext_test_doc_checked_cross_agency_20210326.xlsx'))\n",
        "print(len(test))\n",
        "test.head()"
      ],
      "execution_count": null,
      "outputs": [
        {
          "output_type": "stream",
          "name": "stdout",
          "text": [
            "175\n"
          ]
        },
        {
          "output_type": "execute_result",
          "data": {
            "text/html": [
              "<div>\n",
              "<style scoped>\n",
              "    .dataframe tbody tr th:only-of-type {\n",
              "        vertical-align: middle;\n",
              "    }\n",
              "\n",
              "    .dataframe tbody tr th {\n",
              "        vertical-align: top;\n",
              "    }\n",
              "\n",
              "    .dataframe thead th {\n",
              "        text-align: right;\n",
              "    }\n",
              "</style>\n",
              "<table border=\"1\" class=\"dataframe\">\n",
              "  <thead>\n",
              "    <tr style=\"text-align: right;\">\n",
              "      <th></th>\n",
              "      <th>Unnamed: 0</th>\n",
              "      <th>LTKBID</th>\n",
              "      <th>eMC_LabelSection2</th>\n",
              "      <th>Warnings_Precautions</th>\n",
              "      <th>Adverse_Reactions</th>\n",
              "      <th>Test_set</th>\n",
              "      <th>WP_true_label_updated</th>\n",
              "      <th>WP_pred_label</th>\n",
              "      <th>multiclass_true_label_updated</th>\n",
              "      <th>multiclass_pred_label</th>\n",
              "      <th>in_FDA_training</th>\n",
              "      <th>WP_NER_pred_label</th>\n",
              "    </tr>\n",
              "  </thead>\n",
              "  <tbody>\n",
              "    <tr>\n",
              "      <th>0</th>\n",
              "      <td>0</td>\n",
              "      <td>LT00046</td>\n",
              "      <td>Warnings and precautions</td>\n",
              "      <td>patients with rare hereditary problems of gala...</td>\n",
              "      <td>the following adverse reactions are classified...</td>\n",
              "      <td>0</td>\n",
              "      <td>1</td>\n",
              "      <td>1</td>\n",
              "      <td>2</td>\n",
              "      <td>2</td>\n",
              "      <td>0</td>\n",
              "      <td>1</td>\n",
              "    </tr>\n",
              "    <tr>\n",
              "      <th>1</th>\n",
              "      <td>1</td>\n",
              "      <td>LT00671</td>\n",
              "      <td>Warnings and precautions</td>\n",
              "      <td>careful monitoring during dronedarone administ...</td>\n",
              "      <td>summary of the safety profile assessment of in...</td>\n",
              "      <td>0</td>\n",
              "      <td>1</td>\n",
              "      <td>1</td>\n",
              "      <td>2</td>\n",
              "      <td>2</td>\n",
              "      <td>0</td>\n",
              "      <td>1</td>\n",
              "    </tr>\n",
              "    <tr>\n",
              "      <th>2</th>\n",
              "      <td>2</td>\n",
              "      <td>LT01525</td>\n",
              "      <td>Warnings and precautions</td>\n",
              "      <td>the selection of meropenem to treat an individ...</td>\n",
              "      <td>summary of the safety profile in a review of 4...</td>\n",
              "      <td>0</td>\n",
              "      <td>1</td>\n",
              "      <td>1</td>\n",
              "      <td>2</td>\n",
              "      <td>2</td>\n",
              "      <td>0</td>\n",
              "      <td>1</td>\n",
              "    </tr>\n",
              "    <tr>\n",
              "      <th>3</th>\n",
              "      <td>3</td>\n",
              "      <td>LT01097</td>\n",
              "      <td>Warnings and precautions</td>\n",
              "      <td>hypersensitivity caution should be used in pre...</td>\n",
              "      <td>summary of safety profile the safety profile o...</td>\n",
              "      <td>0</td>\n",
              "      <td>1</td>\n",
              "      <td>1</td>\n",
              "      <td>2</td>\n",
              "      <td>2</td>\n",
              "      <td>0</td>\n",
              "      <td>1</td>\n",
              "    </tr>\n",
              "    <tr>\n",
              "      <th>4</th>\n",
              "      <td>4</td>\n",
              "      <td>LT01181</td>\n",
              "      <td>Warnings and precautions</td>\n",
              "      <td>oxaliplatin should only be used in specialized...</td>\n",
              "      <td>summary of the safety profile the most frequen...</td>\n",
              "      <td>0</td>\n",
              "      <td>1</td>\n",
              "      <td>1</td>\n",
              "      <td>2</td>\n",
              "      <td>2</td>\n",
              "      <td>0</td>\n",
              "      <td>1</td>\n",
              "    </tr>\n",
              "  </tbody>\n",
              "</table>\n",
              "</div>"
            ],
            "text/plain": [
              "   Unnamed: 0   LTKBID  ... in_FDA_training WP_NER_pred_label\n",
              "0           0  LT00046  ...               0                 1\n",
              "1           1  LT00671  ...               0                 1\n",
              "2           2  LT01525  ...               0                 1\n",
              "3           3  LT01097  ...               0                 1\n",
              "4           4  LT01181  ...               0                 1\n",
              "\n",
              "[5 rows x 12 columns]"
            ]
          },
          "metadata": {},
          "execution_count": 47
        }
      ]
    },
    {
      "cell_type": "code",
      "metadata": {
        "id": "-3wtUIoITNwL"
      },
      "source": [
        "test_doc = test.Warnings_Precautions.to_list()\n",
        "test_label = test.WP_true_label_updated.values"
      ],
      "execution_count": null,
      "outputs": []
    },
    {
      "cell_type": "code",
      "metadata": {
        "colab": {
          "base_uri": "https://localhost:8080/"
        },
        "id": "CITI1-yMTNq2",
        "outputId": "611f4f9f-4d38-4758-a752-4496b002b006"
      },
      "source": [
        "doc_pred_labels = doc_Clf_HybridAI(test_doc)"
      ],
      "execution_count": null,
      "outputs": [
        {
          "output_type": "stream",
          "name": "stderr",
          "text": [
            "100%|██████████| 175/175 [00:41<00:00,  4.26it/s]\n"
          ]
        }
      ]
    },
    {
      "cell_type": "code",
      "metadata": {
        "colab": {
          "base_uri": "https://localhost:8080/"
        },
        "id": "bGt3cmOHTNjY",
        "outputId": "5bed4ccc-c809-46ba-feea-58dae7aa1885"
      },
      "source": [
        "test_scores = score_getter(test_label, doc_pred_labels)\n",
        "print(f'TP:{test_scores.tp}, TN:{test_scores.tn}, FP:{test_scores.fp}, FN:{test_scores.fn}')\n",
        "print(f'sensitivity:{test_scores.sensitivity:.3f}, specificity:{test_scores.specificity:.3f}, PPV:{test_scores.PPV:.3f}, NPV:{test_scores.NPV:.3f}, F1:{test_scores.f1:.3f}')\n",
        "print(f'ACC:{test_scores.acc:.3f}, ACC_bal:{test_scores.acc_bal:.3f}, MCC:{test_scores.mcc:.3f}')\n",
        "print(f'AUC:{test_scores.auc:.3f}')"
      ],
      "execution_count": null,
      "outputs": [
        {
          "output_type": "stream",
          "name": "stdout",
          "text": [
            "TP:35, TN:126, FP:13, FN:1\n",
            "sensitivity:0.972, specificity:0.906, PPV:0.729, NPV:0.992, F1:0.833\n",
            "ACC:0.920, ACC_bal:0.939, MCC:0.796\n",
            "AUC:0.939\n"
          ]
        }
      ]
    },
    {
      "cell_type": "code",
      "metadata": {
        "colab": {
          "base_uri": "https://localhost:8080/",
          "height": 344
        },
        "id": "AfUv0N9xTNeE",
        "outputId": "bdda2642-890c-4b3e-eb4e-9371415c4966"
      },
      "source": [
        "make_heatmap(test_label, doc_pred_labels, \n",
        "             fig_name='liver context prediction', figsize=(5,5),\n",
        "             fontsize=20, annot_kws={\"size\":40}, categories=[0, 1])"
      ],
      "execution_count": null,
      "outputs": [
        {
          "output_type": "display_data",
          "data": {
            "image/png": "[encoded data removed]",
            "text/plain": [
              "<Figure size 360x360 with 1 Axes>"
            ]
          },
          "metadata": {
            "needs_background": "light"
          }
        }
      ]
    },
    {
      "cell_type": "code",
      "metadata": {
        "id": "ZSQZWu9hT4wW"
      },
      "source": [
        "test['WP_hybrid_pred_label'] = doc_pred_labels"
      ],
      "execution_count": null,
      "outputs": []
    },
    {
      "cell_type": "code",
      "metadata": {
        "id": "VDgRWTzpT4pZ"
      },
      "source": [
        "test.to_excel(os.path.join(dirpath_test, 'FDA_NERcontext_test_doc_checked_cross_agency_20210930.xlsx'))"
      ],
      "execution_count": null,
      "outputs": []
    },
    {
      "cell_type": "code",
      "metadata": {
        "id": "ACb6nKCpT4jF"
      },
      "source": [
        ""
      ],
      "execution_count": null,
      "outputs": []
    },
    {
      "cell_type": "code",
      "metadata": {
        "id": "kvuWd9XLT4ac"
      },
      "source": [
        ""
      ],
      "execution_count": null,
      "outputs": []
    },
    {
      "cell_type": "code",
      "metadata": {
        "id": "Eb1nnp38T4VG"
      },
      "source": [
        ""
      ],
      "execution_count": null,
      "outputs": []
    },
    {
      "cell_type": "code",
      "metadata": {
        "id": "cl9EeBsyTNXj"
      },
      "source": [
        ""
      ],
      "execution_count": null,
      "outputs": []
    },
    {
      "cell_type": "markdown",
      "metadata": {
        "id": "aPaOA3h_HxQu"
      },
      "source": [
        "## 4.4. Evaluate FDA NER model on FDA test set"
      ]
    },
    {
      "cell_type": "markdown",
      "metadata": {
        "id": "GIri5AfpIDB_"
      },
      "source": [
        "### load table"
      ]
    },
    {
      "cell_type": "code",
      "metadata": {
        "id": "Z2WO46MrH6N0"
      },
      "source": [
        "dirpath_test = '/content/gdrive/My Drive/DILI_BERT/FDA_labels/'\n",
        "filename_test = 'FDA_label_train_test_doc_checked_trimmed_20210215.xlsx'\n",
        "filepath = dirpath_test + filename_test"
      ],
      "execution_count": null,
      "outputs": []
    },
    {
      "cell_type": "code",
      "metadata": {
        "colab": {
          "base_uri": "https://localhost:8080/",
          "height": 428
        },
        "id": "yq_zSWunH_ef",
        "outputId": "067c34c8-a6e4-4e02-d08d-f9dbd96ac19f"
      },
      "source": [
        "test = pd.read_excel(filepath, sheet_name=\"test_set\")\n",
        "test['Warnings_Precautions'] = test['Warnings_Precautions'].apply(normalize_text)\n",
        "print(len(test))\n",
        "test.head()"
      ],
      "execution_count": null,
      "outputs": [
        {
          "output_type": "stream",
          "text": [
            "150\n"
          ],
          "name": "stdout"
        },
        {
          "output_type": "execute_result",
          "data": {
            "text/html": [
              "<div>\n",
              "<style scoped>\n",
              "    .dataframe tbody tr th:only-of-type {\n",
              "        vertical-align: middle;\n",
              "    }\n",
              "\n",
              "    .dataframe tbody tr th {\n",
              "        vertical-align: top;\n",
              "    }\n",
              "\n",
              "    .dataframe thead th {\n",
              "        text-align: right;\n",
              "    }\n",
              "</style>\n",
              "<table border=\"1\" class=\"dataframe\">\n",
              "  <thead>\n",
              "    <tr style=\"text-align: right;\">\n",
              "      <th></th>\n",
              "      <th>LTKBID</th>\n",
              "      <th>Compound_name</th>\n",
              "      <th>LabelSection</th>\n",
              "      <th>vDILIConcern</th>\n",
              "      <th>Boxed_Warning</th>\n",
              "      <th>Warnings_Precautions</th>\n",
              "      <th>Adverse_Reactions</th>\n",
              "      <th>Test_set</th>\n",
              "      <th>WP_true_label_updated</th>\n",
              "      <th>WP_pred_label</th>\n",
              "      <th>multiclass_true_label_updated</th>\n",
              "      <th>multiclass_pred_label</th>\n",
              "      <th>in_EMA_training</th>\n",
              "    </tr>\n",
              "  </thead>\n",
              "  <tbody>\n",
              "    <tr>\n",
              "      <th>0</th>\n",
              "      <td>LT00006</td>\n",
              "      <td>azathioprine</td>\n",
              "      <td>Warnings and precautions</td>\n",
              "      <td>vMost-DILI-Concern</td>\n",
              "      <td>chronic immunosuppression with azathioprine, ...</td>\n",
              "      <td>malignancy patients receiving immunosuppressa...</td>\n",
              "      <td>adverse reactions the principal and potential...</td>\n",
              "      <td>1</td>\n",
              "      <td>1</td>\n",
              "      <td>1</td>\n",
              "      <td>2</td>\n",
              "      <td>2</td>\n",
              "      <td>1</td>\n",
              "    </tr>\n",
              "    <tr>\n",
              "      <th>1</th>\n",
              "      <td>LT00056</td>\n",
              "      <td>bicalutamide</td>\n",
              "      <td>Warnings and precautions</td>\n",
              "      <td>vMost-DILI-Concern</td>\n",
              "      <td>nan</td>\n",
              "      <td>cases of death or hospitalization due to seve...</td>\n",
              "      <td>6 adverse reactions adverse reactions that oc...</td>\n",
              "      <td>1</td>\n",
              "      <td>1</td>\n",
              "      <td>1</td>\n",
              "      <td>2</td>\n",
              "      <td>2</td>\n",
              "      <td>1</td>\n",
              "    </tr>\n",
              "    <tr>\n",
              "      <th>2</th>\n",
              "      <td>LT00107</td>\n",
              "      <td>imatinib</td>\n",
              "      <td>Warnings and precautions</td>\n",
              "      <td>vMost-DILI-Concern</td>\n",
              "      <td>nan</td>\n",
              "      <td>imatinib mesylate is often associated with ed...</td>\n",
              "      <td>6 adverse reactions the following serious adv...</td>\n",
              "      <td>1</td>\n",
              "      <td>1</td>\n",
              "      <td>1</td>\n",
              "      <td>2</td>\n",
              "      <td>2</td>\n",
              "      <td>1</td>\n",
              "    </tr>\n",
              "    <tr>\n",
              "      <th>3</th>\n",
              "      <td>LT00119</td>\n",
              "      <td>metformin</td>\n",
              "      <td>no mentioned</td>\n",
              "      <td>vLess-DILI-Concern</td>\n",
              "      <td>warning: lactic acidosis postmarketing cases ...</td>\n",
              "      <td>• lactic acidosis: see boxed warning. • vitam...</td>\n",
              "      <td>6 adverse reactions the following adverse rea...</td>\n",
              "      <td>1</td>\n",
              "      <td>0</td>\n",
              "      <td>1</td>\n",
              "      <td>1</td>\n",
              "      <td>2</td>\n",
              "      <td>1</td>\n",
              "    </tr>\n",
              "    <tr>\n",
              "      <th>4</th>\n",
              "      <td>LT00121</td>\n",
              "      <td>methyldopa</td>\n",
              "      <td>Warnings and precautions</td>\n",
              "      <td>vMost-DILI-Concern</td>\n",
              "      <td>nan</td>\n",
              "      <td>it is important to recognize that a positive ...</td>\n",
              "      <td>adverse reactions sedation, usually transient...</td>\n",
              "      <td>1</td>\n",
              "      <td>1</td>\n",
              "      <td>1</td>\n",
              "      <td>2</td>\n",
              "      <td>2</td>\n",
              "      <td>1</td>\n",
              "    </tr>\n",
              "  </tbody>\n",
              "</table>\n",
              "</div>"
            ],
            "text/plain": [
              "    LTKBID Compound_name  ... multiclass_pred_label in_EMA_training\n",
              "0  LT00006  azathioprine  ...                     2               1\n",
              "1  LT00056  bicalutamide  ...                     2               1\n",
              "2  LT00107      imatinib  ...                     2               1\n",
              "3  LT00119     metformin  ...                     2               1\n",
              "4  LT00121    methyldopa  ...                     2               1\n",
              "\n",
              "[5 rows x 13 columns]"
            ]
          },
          "metadata": {
            "tags": []
          },
          "execution_count": 60
        }
      ]
    },
    {
      "cell_type": "markdown",
      "metadata": {
        "id": "jdBkaBJFIEir"
      },
      "source": [
        "### evaluation on test set"
      ]
    },
    {
      "cell_type": "code",
      "metadata": {
        "id": "Hk8HGUqYIjd9"
      },
      "source": [
        "def compare_liver_context_pred(documents):\n",
        "    sentences = []\n",
        "    liver_context_KW = []\n",
        "    liver_context_NER = []\n",
        "\n",
        "    for doc in tqdm(documents):\n",
        "        sent_tokens = sent_tokenize(doc)\n",
        "        for sent in sent_tokens:\n",
        "            sentences.append(sent)\n",
        "            # KW context prediction\n",
        "            kw_positive = any(keyword in sent for keyword in keywords_positive)\n",
        "            kw_negative = any(keyword in sent for keyword in keywords_negative)\n",
        "            if kw_positive == True and kw_negative == False:\n",
        "                kw_pred = 1\n",
        "            else:\n",
        "                kw_pred = 0\n",
        "            liver_context_KW.append(kw_pred)      \n",
        "            # NER context prediction\n",
        "            ner_pred = model_NER_predict_single_sentence(sent, tokenizer, model_NER)\n",
        "            liver_context_NER.append(ner_pred[0])      \n",
        "\n",
        "    df_liver_contex_pred = pd.DataFrame({'Sentences': sentences,\n",
        "                                         'Labels_KW': liver_context_KW,\n",
        "                                         'Labels_NER': liver_context_NER\n",
        "                                         }, \n",
        "                                        columns=['Sentences', 'Labels_KW', 'Labels_NER'])\n",
        "    return df_liver_contex_pred"
      ],
      "execution_count": null,
      "outputs": []
    },
    {
      "cell_type": "code",
      "metadata": {
        "colab": {
          "base_uri": "https://localhost:8080/"
        },
        "id": "LTztZxY0IONu",
        "outputId": "ed2dbb5e-df60-4107-d27d-6f23368fd002"
      },
      "source": [
        "df_liver_contex_compare = compare_liver_context_pred(test.Warnings_Precautions.values)"
      ],
      "execution_count": null,
      "outputs": [
        {
          "output_type": "stream",
          "text": [
            "100%|██████████| 150/150 [02:34<00:00,  1.03s/it]\n"
          ],
          "name": "stderr"
        }
      ]
    },
    {
      "cell_type": "code",
      "metadata": {
        "id": "bKK3nKTfIOKC"
      },
      "source": [
        "df_liver_contex_compare.to_excel(dirpath_test + 'df_liver_contex_compare_FDA_20210328.xlsx')"
      ],
      "execution_count": null,
      "outputs": []
    },
    {
      "cell_type": "code",
      "metadata": {
        "colab": {
          "base_uri": "https://localhost:8080/",
          "height": 204
        },
        "id": "YqKd1pPpN-98",
        "outputId": "76c5f14e-2c25-4d2f-80dc-4d6e6c92bc2d"
      },
      "source": [
        "df_liver_contex_compare.head()"
      ],
      "execution_count": null,
      "outputs": [
        {
          "output_type": "execute_result",
          "data": {
            "text/html": [
              "<div>\n",
              "<style scoped>\n",
              "    .dataframe tbody tr th:only-of-type {\n",
              "        vertical-align: middle;\n",
              "    }\n",
              "\n",
              "    .dataframe tbody tr th {\n",
              "        vertical-align: top;\n",
              "    }\n",
              "\n",
              "    .dataframe thead th {\n",
              "        text-align: right;\n",
              "    }\n",
              "</style>\n",
              "<table border=\"1\" class=\"dataframe\">\n",
              "  <thead>\n",
              "    <tr style=\"text-align: right;\">\n",
              "      <th></th>\n",
              "      <th>Sentences</th>\n",
              "      <th>Labels_KW</th>\n",
              "      <th>Labels_NER</th>\n",
              "    </tr>\n",
              "  </thead>\n",
              "  <tbody>\n",
              "    <tr>\n",
              "      <th>0</th>\n",
              "      <td>malignancy patients receiving immunosuppressa...</td>\n",
              "      <td>0</td>\n",
              "      <td>0</td>\n",
              "    </tr>\n",
              "    <tr>\n",
              "      <th>1</th>\n",
              "      <td>physicians should inform patients of the risk ...</td>\n",
              "      <td>0</td>\n",
              "      <td>0</td>\n",
              "    </tr>\n",
              "    <tr>\n",
              "      <th>2</th>\n",
              "      <td>as usual for patients with increased risk for ...</td>\n",
              "      <td>0</td>\n",
              "      <td>0</td>\n",
              "    </tr>\n",
              "    <tr>\n",
              "      <th>3</th>\n",
              "      <td>post-transplant renal transplant patients are ...</td>\n",
              "      <td>0</td>\n",
              "      <td>0</td>\n",
              "    </tr>\n",
              "    <tr>\n",
              "      <th>4</th>\n",
              "      <td>the risk of post-transplant lymphomas may be i...</td>\n",
              "      <td>0</td>\n",
              "      <td>0</td>\n",
              "    </tr>\n",
              "  </tbody>\n",
              "</table>\n",
              "</div>"
            ],
            "text/plain": [
              "                                           Sentences  Labels_KW  Labels_NER\n",
              "0   malignancy patients receiving immunosuppressa...          0           0\n",
              "1  physicians should inform patients of the risk ...          0           0\n",
              "2  as usual for patients with increased risk for ...          0           0\n",
              "3  post-transplant renal transplant patients are ...          0           0\n",
              "4  the risk of post-transplant lymphomas may be i...          0           0"
            ]
          },
          "metadata": {
            "tags": []
          },
          "execution_count": 63
        }
      ]
    },
    {
      "cell_type": "code",
      "metadata": {
        "colab": {
          "base_uri": "https://localhost:8080/"
        },
        "id": "BVDLdkHvOakf",
        "outputId": "8727858b-83e7-44a6-d47f-830367bad908"
      },
      "source": [
        "print(f\"liver positive sentences: {len(df_liver_contex_compare[df_liver_contex_compare.Labels_KW == 1])}\")\n",
        "print(f\"liver negative sentences: {len(df_liver_contex_compare[df_liver_contex_compare.Labels_KW == 0])}\")"
      ],
      "execution_count": null,
      "outputs": [
        {
          "output_type": "stream",
          "text": [
            "liver positive sentences: 435\n",
            "liver negative sentences: 8763\n"
          ],
          "name": "stdout"
        }
      ]
    },
    {
      "cell_type": "markdown",
      "metadata": {
        "id": "OZVoNXYZPlKi"
      },
      "source": [
        "### get scores"
      ]
    },
    {
      "cell_type": "code",
      "metadata": {
        "id": "-xhKPKYjIOGJ"
      },
      "source": [
        "test_scores = score_getter(df_liver_contex_compare['Labels_KW'], df_liver_contex_compare['Labels_NER'])"
      ],
      "execution_count": null,
      "outputs": []
    },
    {
      "cell_type": "code",
      "metadata": {
        "colab": {
          "base_uri": "https://localhost:8080/"
        },
        "id": "IZF3h31gIOCY",
        "outputId": "e277a100-9c62-4003-a07d-89c1946d3f12"
      },
      "source": [
        "print(f'TP:{test_scores.tp}, TN:{test_scores.tn}, FP:{test_scores.fp}, FN:{test_scores.fn}')\n",
        "print(f'sensitivity:{test_scores.sensitivity:.3f}, specificity:{test_scores.specificity:.3f}, PPV:{test_scores.PPV:.3f}, NPV:{test_scores.NPV:.3f}, F1:{test_scores.f1:.3f}')\n",
        "print(f'ACC:{test_scores.acc:.3f}, ACC_bal:{test_scores.acc_bal:.3f}, MCC:{test_scores.mcc:.3f}')\n",
        "print(f'AUC:{test_scores.auc:.3f}')"
      ],
      "execution_count": null,
      "outputs": [
        {
          "output_type": "stream",
          "text": [
            "TP:431, TN:8675, FP:88, FN:4\n",
            "sensitivity:0.991, specificity:0.990, PPV:0.830, NPV:1.000, F1:0.904\n",
            "ACC:0.990, ACC_bal:0.990, MCC:0.902\n",
            "AUC:0.990\n"
          ],
          "name": "stdout"
        }
      ]
    },
    {
      "cell_type": "code",
      "metadata": {
        "colab": {
          "base_uri": "https://localhost:8080/",
          "height": 344
        },
        "id": "dGiIeY2xIN-A",
        "outputId": "e538ff69-2b6c-4bbd-9e1b-354c802f06cb"
      },
      "source": [
        "make_heatmap(df_liver_contex_compare['Labels_KW'], df_liver_contex_compare['Labels_NER'], \n",
        "             fig_name='liver context prediction', figsize=(5,5),\n",
        "             fontsize=20, annot_kws={\"size\":40}, categories=[0, 1])"
      ],
      "execution_count": null,
      "outputs": [
        {
          "output_type": "display_data",
          "data": {
            "image/png": "[encoded data removed]",
            "text/plain": [
              "<Figure size 360x360 with 1 Axes>"
            ]
          },
          "metadata": {
            "tags": [],
            "needs_background": "light"
          }
        }
      ]
    },
    {
      "cell_type": "markdown",
      "metadata": {
        "id": "Dgj5h3NtPnmQ"
      },
      "source": [
        "## 4.5. Evaluate FDA NER model on EMA test set"
      ]
    },
    {
      "cell_type": "markdown",
      "metadata": {
        "id": "8nuD1d-ZPpLR"
      },
      "source": [
        "### load table"
      ]
    },
    {
      "cell_type": "code",
      "metadata": {
        "id": "NMlRbg_zIN42"
      },
      "source": [
        "dirpath_test = '/content/gdrive/My Drive/DILI_BERT/EMA_labels/'\n",
        "filename_test = 'EMA_label_train_test_doc_checked_trimmed_20210215.xlsx'\n",
        "filepath = dirpath_test + filename_test"
      ],
      "execution_count": null,
      "outputs": []
    },
    {
      "cell_type": "code",
      "metadata": {
        "colab": {
          "base_uri": "https://localhost:8080/",
          "height": 411
        },
        "id": "dbqp_ynDIN0a",
        "outputId": "5114070b-c660-40c2-a35b-6758aa2f830d"
      },
      "source": [
        "test = pd.read_excel(filepath, sheet_name=\"not_in_FDA_training\")\n",
        "test['Warnings_Precautions'] = test['Warnings_Precautions'].apply(normalize_text)\n",
        "print(len(test))\n",
        "test.head()"
      ],
      "execution_count": null,
      "outputs": [
        {
          "output_type": "stream",
          "text": [
            "175\n"
          ],
          "name": "stdout"
        },
        {
          "output_type": "execute_result",
          "data": {
            "text/html": [
              "<div>\n",
              "<style scoped>\n",
              "    .dataframe tbody tr th:only-of-type {\n",
              "        vertical-align: middle;\n",
              "    }\n",
              "\n",
              "    .dataframe tbody tr th {\n",
              "        vertical-align: top;\n",
              "    }\n",
              "\n",
              "    .dataframe thead th {\n",
              "        text-align: right;\n",
              "    }\n",
              "</style>\n",
              "<table border=\"1\" class=\"dataframe\">\n",
              "  <thead>\n",
              "    <tr style=\"text-align: right;\">\n",
              "      <th></th>\n",
              "      <th>LTKBID</th>\n",
              "      <th>eMC_LabelSection2</th>\n",
              "      <th>Warnings_Precautions</th>\n",
              "      <th>Adverse_Reactions</th>\n",
              "      <th>Test_set</th>\n",
              "      <th>WP_true_label_updated</th>\n",
              "      <th>WP_pred_label</th>\n",
              "      <th>multiclass_true_label_updated</th>\n",
              "      <th>multiclass_pred_label</th>\n",
              "      <th>in_FDA_training</th>\n",
              "    </tr>\n",
              "  </thead>\n",
              "  <tbody>\n",
              "    <tr>\n",
              "      <th>0</th>\n",
              "      <td>LT00046</td>\n",
              "      <td>Warnings and precautions</td>\n",
              "      <td>patients with rare hereditary problems of gala...</td>\n",
              "      <td>the following adverse reactions are classified...</td>\n",
              "      <td>0</td>\n",
              "      <td>1</td>\n",
              "      <td>1</td>\n",
              "      <td>2</td>\n",
              "      <td>2</td>\n",
              "      <td>0</td>\n",
              "    </tr>\n",
              "    <tr>\n",
              "      <th>1</th>\n",
              "      <td>LT00671</td>\n",
              "      <td>Warnings and precautions</td>\n",
              "      <td>careful monitoring during dronedarone administ...</td>\n",
              "      <td>summary of the safety profile assessment of in...</td>\n",
              "      <td>0</td>\n",
              "      <td>1</td>\n",
              "      <td>1</td>\n",
              "      <td>2</td>\n",
              "      <td>2</td>\n",
              "      <td>0</td>\n",
              "    </tr>\n",
              "    <tr>\n",
              "      <th>2</th>\n",
              "      <td>LT01525</td>\n",
              "      <td>Warnings and precautions</td>\n",
              "      <td>the selection of meropenem to treat an individ...</td>\n",
              "      <td>summary of the safety profile in a review of 4...</td>\n",
              "      <td>0</td>\n",
              "      <td>1</td>\n",
              "      <td>1</td>\n",
              "      <td>2</td>\n",
              "      <td>2</td>\n",
              "      <td>0</td>\n",
              "    </tr>\n",
              "    <tr>\n",
              "      <th>3</th>\n",
              "      <td>LT01097</td>\n",
              "      <td>Warnings and precautions</td>\n",
              "      <td>hypersensitivity caution should be used in pre...</td>\n",
              "      <td>summary of safety profile the safety profile o...</td>\n",
              "      <td>0</td>\n",
              "      <td>1</td>\n",
              "      <td>1</td>\n",
              "      <td>2</td>\n",
              "      <td>2</td>\n",
              "      <td>0</td>\n",
              "    </tr>\n",
              "    <tr>\n",
              "      <th>4</th>\n",
              "      <td>LT01181</td>\n",
              "      <td>Warnings and precautions</td>\n",
              "      <td>oxaliplatin should only be used in specialized...</td>\n",
              "      <td>summary of the safety profile the most frequen...</td>\n",
              "      <td>0</td>\n",
              "      <td>1</td>\n",
              "      <td>1</td>\n",
              "      <td>2</td>\n",
              "      <td>2</td>\n",
              "      <td>0</td>\n",
              "    </tr>\n",
              "  </tbody>\n",
              "</table>\n",
              "</div>"
            ],
            "text/plain": [
              "    LTKBID         eMC_LabelSection2  ... multiclass_pred_label in_FDA_training\n",
              "0  LT00046  Warnings and precautions  ...                     2               0\n",
              "1  LT00671  Warnings and precautions  ...                     2               0\n",
              "2  LT01525  Warnings and precautions  ...                     2               0\n",
              "3  LT01097  Warnings and precautions  ...                     2               0\n",
              "4  LT01181  Warnings and precautions  ...                     2               0\n",
              "\n",
              "[5 rows x 10 columns]"
            ]
          },
          "metadata": {
            "tags": []
          },
          "execution_count": 69
        }
      ]
    },
    {
      "cell_type": "code",
      "metadata": {
        "colab": {
          "base_uri": "https://localhost:8080/"
        },
        "id": "zrtJMhgXTkOE",
        "outputId": "5b506cbe-0225-46cf-f5c7-b337b1af958d"
      },
      "source": [
        "print(f\"liver positive doc: {len(test[test.WP_true_label_updated == 1])}\")\n",
        "print(f\"liver negative doc: {len(test[test.WP_true_label_updated == 0])}\")"
      ],
      "execution_count": null,
      "outputs": [
        {
          "output_type": "stream",
          "text": [
            "liver positive doc: 36\n",
            "liver negative doc: 139\n"
          ],
          "name": "stdout"
        }
      ]
    },
    {
      "cell_type": "markdown",
      "metadata": {
        "id": "v_ujbuEUP0uq"
      },
      "source": [
        "### evaluation on test set"
      ]
    },
    {
      "cell_type": "code",
      "metadata": {
        "colab": {
          "base_uri": "https://localhost:8080/"
        },
        "id": "Q78chYQtP0c2",
        "outputId": "7a0fa821-f804-4ccb-893f-48ef70de8a12"
      },
      "source": [
        "df_liver_contex_compare = compare_liver_context_pred(test.Warnings_Precautions.values)"
      ],
      "execution_count": null,
      "outputs": [
        {
          "output_type": "stream",
          "text": [
            "100%|██████████| 175/175 [01:49<00:00,  1.60it/s]\n"
          ],
          "name": "stderr"
        }
      ]
    },
    {
      "cell_type": "code",
      "metadata": {
        "id": "G865MEZEP0Wj"
      },
      "source": [
        "df_liver_contex_compare.to_excel(dirpath_test + 'df_liver_contex_compare_FDA_NER_cross_agency_20210328.xlsx')"
      ],
      "execution_count": null,
      "outputs": []
    },
    {
      "cell_type": "code",
      "metadata": {
        "colab": {
          "base_uri": "https://localhost:8080/"
        },
        "id": "Uw2YWElzP0L5",
        "outputId": "33d62022-702d-4786-d8e9-496af2728752"
      },
      "source": [
        "print(f\"liver positive sentences: {len(df_liver_contex_compare[df_liver_contex_compare.Labels_KW == 1])}\")\n",
        "print(f\"liver negative sentences: {len(df_liver_contex_compare[df_liver_contex_compare.Labels_KW == 0])}\")"
      ],
      "execution_count": null,
      "outputs": [
        {
          "output_type": "stream",
          "text": [
            "liver positive sentences: 341\n",
            "liver negative sentences: 6115\n"
          ],
          "name": "stdout"
        }
      ]
    },
    {
      "cell_type": "markdown",
      "metadata": {
        "id": "E-EEoQFVQvDQ"
      },
      "source": [
        "### get scores"
      ]
    },
    {
      "cell_type": "code",
      "metadata": {
        "id": "Zew4qAO6P0DE"
      },
      "source": [
        "test_scores = score_getter(df_liver_contex_compare['Labels_KW'], df_liver_contex_compare['Labels_NER'])"
      ],
      "execution_count": null,
      "outputs": []
    },
    {
      "cell_type": "code",
      "metadata": {
        "colab": {
          "base_uri": "https://localhost:8080/"
        },
        "id": "EvQxYmshPz-h",
        "outputId": "6434d83c-a87e-4b06-8b83-f975ef40185f"
      },
      "source": [
        "print(f'TP:{test_scores.tp}, TN:{test_scores.tn}, FP:{test_scores.fp}, FN:{test_scores.fn}')\n",
        "print(f'sensitivity:{test_scores.sensitivity:.3f}, specificity:{test_scores.specificity:.3f}, PPV:{test_scores.PPV:.3f}, NPV:{test_scores.NPV:.3f}, F1:{test_scores.f1:.3f}')\n",
        "print(f'ACC:{test_scores.acc:.3f}, ACC_bal:{test_scores.acc_bal:.3f}, MCC:{test_scores.mcc:.3f}')\n",
        "print(f'AUC:{test_scores.auc:.3f}')"
      ],
      "execution_count": null,
      "outputs": [
        {
          "output_type": "stream",
          "text": [
            "TP:334, TN:6036, FP:79, FN:7\n",
            "sensitivity:0.979, specificity:0.987, PPV:0.809, NPV:0.999, F1:0.886\n",
            "ACC:0.987, ACC_bal:0.983, MCC:0.883\n",
            "AUC:0.983\n"
          ],
          "name": "stdout"
        }
      ]
    },
    {
      "cell_type": "code",
      "metadata": {
        "colab": {
          "base_uri": "https://localhost:8080/",
          "height": 344
        },
        "id": "-ifROLssPz5v",
        "outputId": "ad8e8514-0a1d-45fb-a149-62bec865bae6"
      },
      "source": [
        "make_heatmap(df_liver_contex_compare['Labels_KW'], df_liver_contex_compare['Labels_NER'], \n",
        "             fig_name='liver context prediction', figsize=(5,5),\n",
        "             fontsize=20, annot_kws={\"size\":40}, categories=[0, 1])"
      ],
      "execution_count": null,
      "outputs": [
        {
          "output_type": "display_data",
          "data": {
            "image/png": "[encoded data removed]",
            "text/plain": [
              "<Figure size 360x360 with 1 Axes>"
            ]
          },
          "metadata": {
            "tags": [],
            "needs_background": "light"
          }
        }
      ]
    },
    {
      "cell_type": "markdown",
      "metadata": {
        "id": "Ug5oZcJGH6-P"
      },
      "source": [
        "# Appendix"
      ]
    },
    {
      "cell_type": "markdown",
      "metadata": {
        "id": "ssWn7H_hH9xR"
      },
      "source": [
        "## FDA NER model sentence count"
      ]
    },
    {
      "cell_type": "markdown",
      "metadata": {
        "id": "YR-aqp7uIHba"
      },
      "source": [
        "### load table"
      ]
    },
    {
      "cell_type": "code",
      "metadata": {
        "colab": {
          "base_uri": "https://localhost:8080/"
        },
        "id": "E9NXiG8cPz1y",
        "outputId": "04d621a7-8656-4c4d-f71d-b1cc66393b35"
      },
      "source": [
        "dirpath_test = '/content/gdrive/My Drive/DILI_BERT/FDA_labels/'\n",
        "filename_test = 'FDA_label_train_test_doc_checked_trimmed_20210215.xlsx'\n",
        "filepath = dirpath_test + filename_test\n",
        "\n",
        "test = pd.read_excel(filepath, sheet_name=\"Sheet1\")\n",
        "test['Warnings_Precautions'] = test['Warnings_Precautions'].apply(normalize_text)\n",
        "print(len(test))\n",
        "# test.head()"
      ],
      "execution_count": null,
      "outputs": [
        {
          "output_type": "stream",
          "text": [
            "750\n"
          ],
          "name": "stdout"
        }
      ]
    },
    {
      "cell_type": "code",
      "metadata": {
        "colab": {
          "base_uri": "https://localhost:8080/"
        },
        "id": "A_lAT7rhINwh",
        "outputId": "834b3da6-5e7e-4763-9eb5-29a666928538"
      },
      "source": [
        "train_doc = test[test.Test_set == 0].Warnings_Precautions.values\n",
        "print(len(train_doc))"
      ],
      "execution_count": null,
      "outputs": [
        {
          "output_type": "stream",
          "text": [
            "600\n"
          ],
          "name": "stdout"
        }
      ]
    },
    {
      "cell_type": "markdown",
      "metadata": {
        "id": "ooca0Gqxp75N"
      },
      "source": [
        "### predict context"
      ]
    },
    {
      "cell_type": "code",
      "metadata": {
        "colab": {
          "base_uri": "https://localhost:8080/"
        },
        "id": "1OTrH35UJYZA",
        "outputId": "9d4b8ff1-cc95-4855-b676-0759c6047065"
      },
      "source": [
        "df_liver_contex_compare_train_doc = compare_liver_context_pred(train_doc)"
      ],
      "execution_count": null,
      "outputs": [
        {
          "output_type": "stream",
          "text": [
            "100%|██████████| 600/600 [10:21<00:00,  1.04s/it]\n"
          ],
          "name": "stderr"
        }
      ]
    },
    {
      "cell_type": "code",
      "metadata": {
        "id": "iPUHYpdZJYU8"
      },
      "source": [
        "# df_liver_contex_compare_train_doc.to_excel(dirpath_test + 'df_liver_contex_compare_FDA_NER_train_doc_20210331.xlsx')\n",
        "df_liver_contex_compare_train_doc = pd.read_excel(dirpath_test + 'df_liver_contex_compare_FDA_NER_train_doc_20210331.xlsx')"
      ],
      "execution_count": null,
      "outputs": []
    },
    {
      "cell_type": "code",
      "metadata": {
        "colab": {
          "base_uri": "https://localhost:8080/"
        },
        "id": "pQCZbafZJYRQ",
        "outputId": "9c202539-7d1f-407b-f1a8-7dd285ca1080"
      },
      "source": [
        "print(f\"liver sentences: {len(df_liver_contex_compare_train_doc[df_liver_contex_compare_train_doc.Labels_KW == 1])}\")\n",
        "print(f\"non-liver sentences: {len(df_liver_contex_compare_train_doc[df_liver_contex_compare_train_doc.Labels_KW == 0])}\")"
      ],
      "execution_count": null,
      "outputs": [
        {
          "output_type": "stream",
          "text": [
            "liver sentences: 1778\n",
            "non-liver sentences: 34839\n"
          ],
          "name": "stdout"
        }
      ]
    },
    {
      "cell_type": "code",
      "metadata": {
        "colab": {
          "base_uri": "https://localhost:8080/"
        },
        "id": "3obqa1MbODs7",
        "outputId": "ff3d2be4-c35b-4ede-c2c0-e78166ccb5ea"
      },
      "source": [
        "df_liver_contex_compare_train_doc_unique = df_liver_contex_compare_train_doc.drop_duplicates(subset=['Sentences'])\n",
        "\n",
        "print(f\"total: {len(df_liver_contex_compare_train_doc_unique)}\")\n",
        "print(f\"KW liver: {len(df_liver_contex_compare_train_doc_unique[df_liver_contex_compare_train_doc_unique.Labels_KW == 1])}\")\n",
        "print(f\"KW non-liver: {len(df_liver_contex_compare_train_doc_unique[df_liver_contex_compare_train_doc_unique.Labels_KW == 0])}\")\n",
        "\n",
        "print(f\"NER liver: {len(df_liver_contex_compare_train_doc_unique[df_liver_contex_compare_train_doc_unique.Labels_NER == 1])}\")\n",
        "print(f\"NER non-liver: {len(df_liver_contex_compare_train_doc_unique[df_liver_contex_compare_train_doc_unique.Labels_NER == 0])}\")"
      ],
      "execution_count": null,
      "outputs": [
        {
          "output_type": "stream",
          "text": [
            "total: 29555\n",
            "KW liver: 1501\n",
            "KW non-liver: 28054\n",
            "NER liver: 1853\n",
            "NER non-liver: 27702\n"
          ],
          "name": "stdout"
        }
      ]
    },
    {
      "cell_type": "markdown",
      "metadata": {
        "id": "QIR7KB6TqQxh"
      },
      "source": [
        "### get scores"
      ]
    },
    {
      "cell_type": "code",
      "metadata": {
        "colab": {
          "base_uri": "https://localhost:8080/"
        },
        "id": "lUA1MHHeJYNH",
        "outputId": "dc79bba4-909c-403a-9145-dcfc4da71867"
      },
      "source": [
        "test_scores = score_getter(df_liver_contex_compare_train_doc_unique['Labels_KW'], df_liver_contex_compare_train_doc_unique['Labels_NER'])\n",
        "\n",
        "print(f'TP:{test_scores.tp}, TN:{test_scores.tn}, FP:{test_scores.fp}, FN:{test_scores.fn}')\n",
        "print(f'sensitivity:{test_scores.sensitivity:.3f}, specificity:{test_scores.specificity:.3f}, PPV:{test_scores.PPV:.3f}, NPV:{test_scores.NPV:.3f}, F1:{test_scores.f1:.3f}')\n",
        "print(f'ACC:{test_scores.acc:.3f}, ACC_bal:{test_scores.acc_bal:.3f}, MCC:{test_scores.mcc:.3f}')\n",
        "print(f'AUC:{test_scores.auc:.3f}')"
      ],
      "execution_count": null,
      "outputs": [
        {
          "output_type": "stream",
          "text": [
            "TP:1492, TN:27693, FP:361, FN:9\n",
            "sensitivity:0.994, specificity:0.987, PPV:0.805, NPV:1.000, F1:0.890\n",
            "ACC:0.987, ACC_bal:0.991, MCC:0.889\n",
            "AUC:0.991\n"
          ],
          "name": "stdout"
        }
      ]
    },
    {
      "cell_type": "code",
      "metadata": {
        "colab": {
          "base_uri": "https://localhost:8080/",
          "height": 344
        },
        "id": "usjyE7jWJYIg",
        "outputId": "8bf40a0b-585a-4d11-cbf4-2b5c16ec996d"
      },
      "source": [
        "make_heatmap(df_liver_contex_compare_train_doc_unique['Labels_KW'], df_liver_contex_compare_train_doc_unique['Labels_NER'], \n",
        "             fig_name='liver context prediction', figsize=(5,5),\n",
        "             fontsize=20, annot_kws={\"size\":40}, categories=[0, 1])"
      ],
      "execution_count": null,
      "outputs": [
        {
          "output_type": "display_data",
          "data": {
            "image/png": "[encoded data removed]",
            "text/plain": [
              "<Figure size 360x360 with 1 Axes>"
            ]
          },
          "metadata": {
            "tags": [],
            "needs_background": "light"
          }
        }
      ]
    },
    {
      "cell_type": "markdown",
      "metadata": {
        "id": "RziyyIalrp4D"
      },
      "source": [
        "## EMA NER model sentence count"
      ]
    },
    {
      "cell_type": "markdown",
      "metadata": {
        "id": "ZHTYpLPdr1Er"
      },
      "source": [
        "### load table"
      ]
    },
    {
      "cell_type": "code",
      "metadata": {
        "colab": {
          "base_uri": "https://localhost:8080/"
        },
        "id": "EcThXtyLTUu9",
        "outputId": "e7bcb9e8-553c-4ad2-e4f8-f4b041fc344a"
      },
      "source": [
        "dirpath_test = '/content/gdrive/My Drive/DILI_BERT/EMA_labels/'\n",
        "filename_test = 'EMA_label_train_test_doc_checked_trimmed_20210215.xlsx'\n",
        "filepath = dirpath_test + filename_test\n",
        "\n",
        "test = pd.read_excel(filepath, sheet_name=\"Sheet1\")\n",
        "test['Warnings_Precautions'] = test['Warnings_Precautions'].apply(normalize_text)\n",
        "print(len(test))\n",
        "# test.head()"
      ],
      "execution_count": null,
      "outputs": [
        {
          "output_type": "stream",
          "name": "stdout",
          "text": [
            "540\n"
          ]
        }
      ]
    },
    {
      "cell_type": "code",
      "metadata": {
        "colab": {
          "base_uri": "https://localhost:8080/"
        },
        "id": "IldFz-ScaGf_",
        "outputId": "49f4591f-9285-44c9-a37f-e8ac09d9cd6d"
      },
      "source": [
        "train_doc = test[test.Test_set == 0].Warnings_Precautions.values\n",
        "print(len(train_doc))"
      ],
      "execution_count": null,
      "outputs": [
        {
          "output_type": "stream",
          "name": "stdout",
          "text": [
            "431\n"
          ]
        }
      ]
    },
    {
      "cell_type": "markdown",
      "metadata": {
        "id": "CJDWiNZlr31b"
      },
      "source": [
        "### predict context"
      ]
    },
    {
      "cell_type": "code",
      "metadata": {
        "colab": {
          "base_uri": "https://localhost:8080/"
        },
        "id": "yYO88y18tNGD",
        "outputId": "66674c91-be28-481c-a13a-99f6c50ea252"
      },
      "source": [
        "df_liver_contex_compare_train_doc = compare_liver_context_pred(train_doc)"
      ],
      "execution_count": null,
      "outputs": [
        {
          "output_type": "stream",
          "text": [
            "100%|██████████| 431/431 [04:32<00:00,  1.58it/s]\n"
          ],
          "name": "stderr"
        }
      ]
    },
    {
      "cell_type": "code",
      "metadata": {
        "id": "UUE36W89tpSB"
      },
      "source": [
        "# df_liver_contex_compare_train_doc.to_excel(dirpath_test + 'df_liver_contex_compare_EMA_NER_train_doc_20210331.xlsx')\n",
        "df_liver_contex_compare_train_doc = pd.read_excel(dirpath_test + 'df_liver_contex_compare_EMA_NER_train_doc_20210331.xlsx')"
      ],
      "execution_count": null,
      "outputs": []
    },
    {
      "cell_type": "code",
      "metadata": {
        "colab": {
          "base_uri": "https://localhost:8080/"
        },
        "id": "DoRdPFQTaGbo",
        "outputId": "9c809ad8-3fca-4aa3-e805-52d97514cb96"
      },
      "source": [
        "print(f\"liver sentences: {len(df_liver_contex_compare_train_doc[df_liver_contex_compare_train_doc.Labels_KW == 1])}\")\n",
        "print(f\"non-liver sentences: {len(df_liver_contex_compare_train_doc[df_liver_contex_compare_train_doc.Labels_KW == 0])}\")"
      ],
      "execution_count": null,
      "outputs": [
        {
          "output_type": "stream",
          "text": [
            "liver sentences: 1035\n",
            "non-liver sentences: 15285\n"
          ],
          "name": "stdout"
        }
      ]
    },
    {
      "cell_type": "code",
      "metadata": {
        "colab": {
          "base_uri": "https://localhost:8080/"
        },
        "id": "H9ZlM72saGXY",
        "outputId": "1a1f00c5-707e-4c2e-d575-43ee97fd53c0"
      },
      "source": [
        "df_liver_contex_compare_train_doc_unique = df_liver_contex_compare_train_doc.drop_duplicates(subset=['Sentences'])\n",
        "\n",
        "print(f\"total: {len(df_liver_contex_compare_train_doc_unique)}\")\n",
        "print(f\"KW liver: {len(df_liver_contex_compare_train_doc_unique[df_liver_contex_compare_train_doc_unique.Labels_KW == 1])}\")\n",
        "print(f\"KW non-liver: {len(df_liver_contex_compare_train_doc_unique[df_liver_contex_compare_train_doc_unique.Labels_KW == 0])}\")\n",
        "\n",
        "print(f\"NER liver: {len(df_liver_contex_compare_train_doc_unique[df_liver_contex_compare_train_doc_unique.Labels_NER == 1])}\")\n",
        "print(f\"NER non-liver: {len(df_liver_contex_compare_train_doc_unique[df_liver_contex_compare_train_doc_unique.Labels_NER == 0])}\")"
      ],
      "execution_count": null,
      "outputs": [
        {
          "output_type": "stream",
          "text": [
            "total: 15104\n",
            "KW liver: 996\n",
            "KW non-liver: 14108\n",
            "NER liver: 1159\n",
            "NER non-liver: 13945\n"
          ],
          "name": "stdout"
        }
      ]
    },
    {
      "cell_type": "markdown",
      "metadata": {
        "id": "gXw66jH6r8sr"
      },
      "source": [
        "### get scores"
      ]
    },
    {
      "cell_type": "code",
      "metadata": {
        "colab": {
          "base_uri": "https://localhost:8080/"
        },
        "id": "paiNrU7faGSs",
        "outputId": "c61bb84c-3ae8-4219-954d-daa20664e444"
      },
      "source": [
        "test_scores = score_getter(df_liver_contex_compare_train_doc_unique['Labels_KW'], df_liver_contex_compare_train_doc_unique['Labels_NER'])\n",
        "\n",
        "print(f'TP:{test_scores.tp}, TN:{test_scores.tn}, FP:{test_scores.fp}, FN:{test_scores.fn}')\n",
        "print(f'sensitivity:{test_scores.sensitivity:.3f}, specificity:{test_scores.specificity:.3f}, PPV:{test_scores.PPV:.3f}, NPV:{test_scores.NPV:.3f}, F1:{test_scores.f1:.3f}')\n",
        "print(f'ACC:{test_scores.acc:.3f}, ACC_bal:{test_scores.acc_bal:.3f}, MCC:{test_scores.mcc:.3f}')\n",
        "print(f'AUC:{test_scores.auc:.3f}')"
      ],
      "execution_count": null,
      "outputs": [
        {
          "output_type": "stream",
          "text": [
            "TP:975, TN:13924, FP:184, FN:21\n",
            "sensitivity:0.979, specificity:0.987, PPV:0.841, NPV:0.998, F1:0.905\n",
            "ACC:0.986, ACC_bal:0.983, MCC:0.901\n",
            "AUC:0.983\n"
          ],
          "name": "stdout"
        }
      ]
    },
    {
      "cell_type": "code",
      "metadata": {
        "colab": {
          "base_uri": "https://localhost:8080/",
          "height": 344
        },
        "id": "PxE5aCtvaGNt",
        "outputId": "22853962-b7ca-4c2f-9b1e-fffa72f0e49d"
      },
      "source": [
        "make_heatmap(df_liver_contex_compare_train_doc_unique['Labels_KW'], df_liver_contex_compare_train_doc_unique['Labels_NER'], \n",
        "             fig_name='liver context prediction', figsize=(5,5),\n",
        "             fontsize=20, annot_kws={\"size\":40}, categories=[0, 1])"
      ],
      "execution_count": null,
      "outputs": [
        {
          "output_type": "display_data",
          "data": {
            "image/png": "[encoded data removed]",
            "text/plain": [
              "<Figure size 360x360 with 1 Axes>"
            ]
          },
          "metadata": {
            "tags": [],
            "needs_background": "light"
          }
        }
      ]
    },
    {
      "cell_type": "markdown",
      "metadata": {
        "id": "ZVTp9ZOGzxcK"
      },
      "source": [
        "## Unbalanced sent cls model prediction"
      ]
    },
    {
      "cell_type": "code",
      "metadata": {
        "id": "Cr7ruext3Nni",
        "colab": {
          "base_uri": "https://localhost:8080/",
          "height": 145,
          "referenced_widgets": [
            "a742b53b66e4469dafa81fea1aef0e18",
            "0f3b110ad447465c81113d99a0b5f607",
            "1873dc0625204aa2bd2a8c32032184d3",
            "063c8a7649804936912a51604c193bf9"
          ]
        },
        "outputId": "c17c6017-fc21-42a4-d8c2-d0e2766f0424"
      },
      "source": [
        "# Defining some key variables that will be used later on in the training\n",
        "# USE_GPU = True\n",
        "\n",
        "MAX_LEN = 128\n",
        "BATCH_SIZE = 16\n",
        "N_EPOCHS = 3\n",
        "LEARNING_RATE = 2e-05\n",
        "EPS = 1e-8\n",
        "tokenizer = BertTokenizer.from_pretrained('bert-base-uncased', do_lower_case=True)\n",
        "WEIGHT_DECAY = False\n",
        "SEED_VAL = 97"
      ],
      "execution_count": null,
      "outputs": [
        {
          "output_type": "display_data",
          "data": {
            "application/vnd.jupyter.widget-view+json": {
              "model_id": "a742b53b66e4469dafa81fea1aef0e18",
              "version_minor": 0,
              "version_major": 2
            },
            "text/plain": [
              "Downloading:   0%|          | 0.00/226k [00:00<?, ?B/s]"
            ]
          },
          "metadata": {}
        },
        {
          "output_type": "display_data",
          "data": {
            "application/vnd.jupyter.widget-view+json": {
              "model_id": "0f3b110ad447465c81113d99a0b5f607",
              "version_minor": 0,
              "version_major": 2
            },
            "text/plain": [
              "Downloading:   0%|          | 0.00/28.0 [00:00<?, ?B/s]"
            ]
          },
          "metadata": {}
        },
        {
          "output_type": "display_data",
          "data": {
            "application/vnd.jupyter.widget-view+json": {
              "model_id": "1873dc0625204aa2bd2a8c32032184d3",
              "version_minor": 0,
              "version_major": 2
            },
            "text/plain": [
              "Downloading:   0%|          | 0.00/455k [00:00<?, ?B/s]"
            ]
          },
          "metadata": {}
        },
        {
          "output_type": "display_data",
          "data": {
            "application/vnd.jupyter.widget-view+json": {
              "model_id": "063c8a7649804936912a51604c193bf9",
              "version_minor": 0,
              "version_major": 2
            },
            "text/plain": [
              "Downloading:   0%|          | 0.00/570 [00:00<?, ?B/s]"
            ]
          },
          "metadata": {}
        }
      ]
    },
    {
      "cell_type": "code",
      "metadata": {
        "id": "bh-hkghZuOQb",
        "colab": {
          "base_uri": "https://localhost:8080/"
        },
        "outputId": "da33aecb-4455-4028-b863-554d074c294c"
      },
      "source": [
        "# # load tokenizer from a trained model\n",
        "# tokenizer = BertTokenizer.from_pretrained('bert-base-uncased', do_lower_case=True)\n",
        "\n",
        "# load the trained FDA sentence classification model \n",
        "# model_SentClf = BertForSequenceClassification.from_pretrained('/content/gdrive/My Drive/DILI_BERT/FDA_labels/imbalanced_training/checkpoint-4398/')\n",
        "# model_SentClf = BertForSequenceClassification.from_pretrained('/content/gdrive/My Drive/DILI_BERT/CVs_permutations/model/checkpoint-4182/')\n",
        "model_SentClf = BertForSequenceClassification.from_pretrained('/content/gdrive/My Drive/DILI_BERT/FDA_labels/imbalanced_training/20211012/checkpoint-4299/')\n",
        "# model_SentClf = BertForSequenceClassification.from_pretrained('/content/gdrive/My Drive/DILI_BERT/FDA_labels/imbalanced_training/20211012-2/checkpoint-4299/')\n",
        "\n",
        "# Copy the model to the GPU.\n",
        "model_SentClf.to(device)"
      ],
      "execution_count": null,
      "outputs": [
        {
          "output_type": "execute_result",
          "data": {
            "text/plain": [
              "BertForSequenceClassification(\n",
              "  (bert): BertModel(\n",
              "    (embeddings): BertEmbeddings(\n",
              "      (word_embeddings): Embedding(30522, 768, padding_idx=0)\n",
              "      (position_embeddings): Embedding(512, 768)\n",
              "      (token_type_embeddings): Embedding(2, 768)\n",
              "      (LayerNorm): LayerNorm((768,), eps=1e-12, elementwise_affine=True)\n",
              "      (dropout): Dropout(p=0.1, inplace=False)\n",
              "    )\n",
              "    (encoder): BertEncoder(\n",
              "      (layer): ModuleList(\n",
              "        (0): BertLayer(\n",
              "          (attention): BertAttention(\n",
              "            (self): BertSelfAttention(\n",
              "              (query): Linear(in_features=768, out_features=768, bias=True)\n",
              "              (key): Linear(in_features=768, out_features=768, bias=True)\n",
              "              (value): Linear(in_features=768, out_features=768, bias=True)\n",
              "              (dropout): Dropout(p=0.1, inplace=False)\n",
              "            )\n",
              "            (output): BertSelfOutput(\n",
              "              (dense): Linear(in_features=768, out_features=768, bias=True)\n",
              "              (LayerNorm): LayerNorm((768,), eps=1e-12, elementwise_affine=True)\n",
              "              (dropout): Dropout(p=0.1, inplace=False)\n",
              "            )\n",
              "          )\n",
              "          (intermediate): BertIntermediate(\n",
              "            (dense): Linear(in_features=768, out_features=3072, bias=True)\n",
              "          )\n",
              "          (output): BertOutput(\n",
              "            (dense): Linear(in_features=3072, out_features=768, bias=True)\n",
              "            (LayerNorm): LayerNorm((768,), eps=1e-12, elementwise_affine=True)\n",
              "            (dropout): Dropout(p=0.1, inplace=False)\n",
              "          )\n",
              "        )\n",
              "        (1): BertLayer(\n",
              "          (attention): BertAttention(\n",
              "            (self): BertSelfAttention(\n",
              "              (query): Linear(in_features=768, out_features=768, bias=True)\n",
              "              (key): Linear(in_features=768, out_features=768, bias=True)\n",
              "              (value): Linear(in_features=768, out_features=768, bias=True)\n",
              "              (dropout): Dropout(p=0.1, inplace=False)\n",
              "            )\n",
              "            (output): BertSelfOutput(\n",
              "              (dense): Linear(in_features=768, out_features=768, bias=True)\n",
              "              (LayerNorm): LayerNorm((768,), eps=1e-12, elementwise_affine=True)\n",
              "              (dropout): Dropout(p=0.1, inplace=False)\n",
              "            )\n",
              "          )\n",
              "          (intermediate): BertIntermediate(\n",
              "            (dense): Linear(in_features=768, out_features=3072, bias=True)\n",
              "          )\n",
              "          (output): BertOutput(\n",
              "            (dense): Linear(in_features=3072, out_features=768, bias=True)\n",
              "            (LayerNorm): LayerNorm((768,), eps=1e-12, elementwise_affine=True)\n",
              "            (dropout): Dropout(p=0.1, inplace=False)\n",
              "          )\n",
              "        )\n",
              "        (2): BertLayer(\n",
              "          (attention): BertAttention(\n",
              "            (self): BertSelfAttention(\n",
              "              (query): Linear(in_features=768, out_features=768, bias=True)\n",
              "              (key): Linear(in_features=768, out_features=768, bias=True)\n",
              "              (value): Linear(in_features=768, out_features=768, bias=True)\n",
              "              (dropout): Dropout(p=0.1, inplace=False)\n",
              "            )\n",
              "            (output): BertSelfOutput(\n",
              "              (dense): Linear(in_features=768, out_features=768, bias=True)\n",
              "              (LayerNorm): LayerNorm((768,), eps=1e-12, elementwise_affine=True)\n",
              "              (dropout): Dropout(p=0.1, inplace=False)\n",
              "            )\n",
              "          )\n",
              "          (intermediate): BertIntermediate(\n",
              "            (dense): Linear(in_features=768, out_features=3072, bias=True)\n",
              "          )\n",
              "          (output): BertOutput(\n",
              "            (dense): Linear(in_features=3072, out_features=768, bias=True)\n",
              "            (LayerNorm): LayerNorm((768,), eps=1e-12, elementwise_affine=True)\n",
              "            (dropout): Dropout(p=0.1, inplace=False)\n",
              "          )\n",
              "        )\n",
              "        (3): BertLayer(\n",
              "          (attention): BertAttention(\n",
              "            (self): BertSelfAttention(\n",
              "              (query): Linear(in_features=768, out_features=768, bias=True)\n",
              "              (key): Linear(in_features=768, out_features=768, bias=True)\n",
              "              (value): Linear(in_features=768, out_features=768, bias=True)\n",
              "              (dropout): Dropout(p=0.1, inplace=False)\n",
              "            )\n",
              "            (output): BertSelfOutput(\n",
              "              (dense): Linear(in_features=768, out_features=768, bias=True)\n",
              "              (LayerNorm): LayerNorm((768,), eps=1e-12, elementwise_affine=True)\n",
              "              (dropout): Dropout(p=0.1, inplace=False)\n",
              "            )\n",
              "          )\n",
              "          (intermediate): BertIntermediate(\n",
              "            (dense): Linear(in_features=768, out_features=3072, bias=True)\n",
              "          )\n",
              "          (output): BertOutput(\n",
              "            (dense): Linear(in_features=3072, out_features=768, bias=True)\n",
              "            (LayerNorm): LayerNorm((768,), eps=1e-12, elementwise_affine=True)\n",
              "            (dropout): Dropout(p=0.1, inplace=False)\n",
              "          )\n",
              "        )\n",
              "        (4): BertLayer(\n",
              "          (attention): BertAttention(\n",
              "            (self): BertSelfAttention(\n",
              "              (query): Linear(in_features=768, out_features=768, bias=True)\n",
              "              (key): Linear(in_features=768, out_features=768, bias=True)\n",
              "              (value): Linear(in_features=768, out_features=768, bias=True)\n",
              "              (dropout): Dropout(p=0.1, inplace=False)\n",
              "            )\n",
              "            (output): BertSelfOutput(\n",
              "              (dense): Linear(in_features=768, out_features=768, bias=True)\n",
              "              (LayerNorm): LayerNorm((768,), eps=1e-12, elementwise_affine=True)\n",
              "              (dropout): Dropout(p=0.1, inplace=False)\n",
              "            )\n",
              "          )\n",
              "          (intermediate): BertIntermediate(\n",
              "            (dense): Linear(in_features=768, out_features=3072, bias=True)\n",
              "          )\n",
              "          (output): BertOutput(\n",
              "            (dense): Linear(in_features=3072, out_features=768, bias=True)\n",
              "            (LayerNorm): LayerNorm((768,), eps=1e-12, elementwise_affine=True)\n",
              "            (dropout): Dropout(p=0.1, inplace=False)\n",
              "          )\n",
              "        )\n",
              "        (5): BertLayer(\n",
              "          (attention): BertAttention(\n",
              "            (self): BertSelfAttention(\n",
              "              (query): Linear(in_features=768, out_features=768, bias=True)\n",
              "              (key): Linear(in_features=768, out_features=768, bias=True)\n",
              "              (value): Linear(in_features=768, out_features=768, bias=True)\n",
              "              (dropout): Dropout(p=0.1, inplace=False)\n",
              "            )\n",
              "            (output): BertSelfOutput(\n",
              "              (dense): Linear(in_features=768, out_features=768, bias=True)\n",
              "              (LayerNorm): LayerNorm((768,), eps=1e-12, elementwise_affine=True)\n",
              "              (dropout): Dropout(p=0.1, inplace=False)\n",
              "            )\n",
              "          )\n",
              "          (intermediate): BertIntermediate(\n",
              "            (dense): Linear(in_features=768, out_features=3072, bias=True)\n",
              "          )\n",
              "          (output): BertOutput(\n",
              "            (dense): Linear(in_features=3072, out_features=768, bias=True)\n",
              "            (LayerNorm): LayerNorm((768,), eps=1e-12, elementwise_affine=True)\n",
              "            (dropout): Dropout(p=0.1, inplace=False)\n",
              "          )\n",
              "        )\n",
              "        (6): BertLayer(\n",
              "          (attention): BertAttention(\n",
              "            (self): BertSelfAttention(\n",
              "              (query): Linear(in_features=768, out_features=768, bias=True)\n",
              "              (key): Linear(in_features=768, out_features=768, bias=True)\n",
              "              (value): Linear(in_features=768, out_features=768, bias=True)\n",
              "              (dropout): Dropout(p=0.1, inplace=False)\n",
              "            )\n",
              "            (output): BertSelfOutput(\n",
              "              (dense): Linear(in_features=768, out_features=768, bias=True)\n",
              "              (LayerNorm): LayerNorm((768,), eps=1e-12, elementwise_affine=True)\n",
              "              (dropout): Dropout(p=0.1, inplace=False)\n",
              "            )\n",
              "          )\n",
              "          (intermediate): BertIntermediate(\n",
              "            (dense): Linear(in_features=768, out_features=3072, bias=True)\n",
              "          )\n",
              "          (output): BertOutput(\n",
              "            (dense): Linear(in_features=3072, out_features=768, bias=True)\n",
              "            (LayerNorm): LayerNorm((768,), eps=1e-12, elementwise_affine=True)\n",
              "            (dropout): Dropout(p=0.1, inplace=False)\n",
              "          )\n",
              "        )\n",
              "        (7): BertLayer(\n",
              "          (attention): BertAttention(\n",
              "            (self): BertSelfAttention(\n",
              "              (query): Linear(in_features=768, out_features=768, bias=True)\n",
              "              (key): Linear(in_features=768, out_features=768, bias=True)\n",
              "              (value): Linear(in_features=768, out_features=768, bias=True)\n",
              "              (dropout): Dropout(p=0.1, inplace=False)\n",
              "            )\n",
              "            (output): BertSelfOutput(\n",
              "              (dense): Linear(in_features=768, out_features=768, bias=True)\n",
              "              (LayerNorm): LayerNorm((768,), eps=1e-12, elementwise_affine=True)\n",
              "              (dropout): Dropout(p=0.1, inplace=False)\n",
              "            )\n",
              "          )\n",
              "          (intermediate): BertIntermediate(\n",
              "            (dense): Linear(in_features=768, out_features=3072, bias=True)\n",
              "          )\n",
              "          (output): BertOutput(\n",
              "            (dense): Linear(in_features=3072, out_features=768, bias=True)\n",
              "            (LayerNorm): LayerNorm((768,), eps=1e-12, elementwise_affine=True)\n",
              "            (dropout): Dropout(p=0.1, inplace=False)\n",
              "          )\n",
              "        )\n",
              "        (8): BertLayer(\n",
              "          (attention): BertAttention(\n",
              "            (self): BertSelfAttention(\n",
              "              (query): Linear(in_features=768, out_features=768, bias=True)\n",
              "              (key): Linear(in_features=768, out_features=768, bias=True)\n",
              "              (value): Linear(in_features=768, out_features=768, bias=True)\n",
              "              (dropout): Dropout(p=0.1, inplace=False)\n",
              "            )\n",
              "            (output): BertSelfOutput(\n",
              "              (dense): Linear(in_features=768, out_features=768, bias=True)\n",
              "              (LayerNorm): LayerNorm((768,), eps=1e-12, elementwise_affine=True)\n",
              "              (dropout): Dropout(p=0.1, inplace=False)\n",
              "            )\n",
              "          )\n",
              "          (intermediate): BertIntermediate(\n",
              "            (dense): Linear(in_features=768, out_features=3072, bias=True)\n",
              "          )\n",
              "          (output): BertOutput(\n",
              "            (dense): Linear(in_features=3072, out_features=768, bias=True)\n",
              "            (LayerNorm): LayerNorm((768,), eps=1e-12, elementwise_affine=True)\n",
              "            (dropout): Dropout(p=0.1, inplace=False)\n",
              "          )\n",
              "        )\n",
              "        (9): BertLayer(\n",
              "          (attention): BertAttention(\n",
              "            (self): BertSelfAttention(\n",
              "              (query): Linear(in_features=768, out_features=768, bias=True)\n",
              "              (key): Linear(in_features=768, out_features=768, bias=True)\n",
              "              (value): Linear(in_features=768, out_features=768, bias=True)\n",
              "              (dropout): Dropout(p=0.1, inplace=False)\n",
              "            )\n",
              "            (output): BertSelfOutput(\n",
              "              (dense): Linear(in_features=768, out_features=768, bias=True)\n",
              "              (LayerNorm): LayerNorm((768,), eps=1e-12, elementwise_affine=True)\n",
              "              (dropout): Dropout(p=0.1, inplace=False)\n",
              "            )\n",
              "          )\n",
              "          (intermediate): BertIntermediate(\n",
              "            (dense): Linear(in_features=768, out_features=3072, bias=True)\n",
              "          )\n",
              "          (output): BertOutput(\n",
              "            (dense): Linear(in_features=3072, out_features=768, bias=True)\n",
              "            (LayerNorm): LayerNorm((768,), eps=1e-12, elementwise_affine=True)\n",
              "            (dropout): Dropout(p=0.1, inplace=False)\n",
              "          )\n",
              "        )\n",
              "        (10): BertLayer(\n",
              "          (attention): BertAttention(\n",
              "            (self): BertSelfAttention(\n",
              "              (query): Linear(in_features=768, out_features=768, bias=True)\n",
              "              (key): Linear(in_features=768, out_features=768, bias=True)\n",
              "              (value): Linear(in_features=768, out_features=768, bias=True)\n",
              "              (dropout): Dropout(p=0.1, inplace=False)\n",
              "            )\n",
              "            (output): BertSelfOutput(\n",
              "              (dense): Linear(in_features=768, out_features=768, bias=True)\n",
              "              (LayerNorm): LayerNorm((768,), eps=1e-12, elementwise_affine=True)\n",
              "              (dropout): Dropout(p=0.1, inplace=False)\n",
              "            )\n",
              "          )\n",
              "          (intermediate): BertIntermediate(\n",
              "            (dense): Linear(in_features=768, out_features=3072, bias=True)\n",
              "          )\n",
              "          (output): BertOutput(\n",
              "            (dense): Linear(in_features=3072, out_features=768, bias=True)\n",
              "            (LayerNorm): LayerNorm((768,), eps=1e-12, elementwise_affine=True)\n",
              "            (dropout): Dropout(p=0.1, inplace=False)\n",
              "          )\n",
              "        )\n",
              "        (11): BertLayer(\n",
              "          (attention): BertAttention(\n",
              "            (self): BertSelfAttention(\n",
              "              (query): Linear(in_features=768, out_features=768, bias=True)\n",
              "              (key): Linear(in_features=768, out_features=768, bias=True)\n",
              "              (value): Linear(in_features=768, out_features=768, bias=True)\n",
              "              (dropout): Dropout(p=0.1, inplace=False)\n",
              "            )\n",
              "            (output): BertSelfOutput(\n",
              "              (dense): Linear(in_features=768, out_features=768, bias=True)\n",
              "              (LayerNorm): LayerNorm((768,), eps=1e-12, elementwise_affine=True)\n",
              "              (dropout): Dropout(p=0.1, inplace=False)\n",
              "            )\n",
              "          )\n",
              "          (intermediate): BertIntermediate(\n",
              "            (dense): Linear(in_features=768, out_features=3072, bias=True)\n",
              "          )\n",
              "          (output): BertOutput(\n",
              "            (dense): Linear(in_features=3072, out_features=768, bias=True)\n",
              "            (LayerNorm): LayerNorm((768,), eps=1e-12, elementwise_affine=True)\n",
              "            (dropout): Dropout(p=0.1, inplace=False)\n",
              "          )\n",
              "        )\n",
              "      )\n",
              "    )\n",
              "    (pooler): BertPooler(\n",
              "      (dense): Linear(in_features=768, out_features=768, bias=True)\n",
              "      (activation): Tanh()\n",
              "    )\n",
              "  )\n",
              "  (dropout): Dropout(p=0.1, inplace=False)\n",
              "  (classifier): Linear(in_features=768, out_features=2, bias=True)\n",
              ")"
            ]
          },
          "metadata": {},
          "execution_count": 36
        }
      ]
    },
    {
      "cell_type": "code",
      "metadata": {
        "colab": {
          "base_uri": "https://localhost:8080/"
        },
        "id": "TX6wMvkIZ61y",
        "outputId": "402c44ca-fed8-4475-b56d-34667e476dea"
      },
      "source": [
        "!ls '/content/gdrive/My Drive/DILI_BERT/FDA_labels/imbalanced_training/20211012-2/checkpoint-4299'"
      ],
      "execution_count": null,
      "outputs": [
        {
          "output_type": "stream",
          "name": "stdout",
          "text": [
            "config.json   pytorch_model.bin  scheduler.pt\t     training_args.bin\n",
            "optimizer.pt  rng_state.pth\t trainer_state.json\n"
          ]
        }
      ]
    },
    {
      "cell_type": "markdown",
      "metadata": {
        "id": "IzECKBDE5GNA"
      },
      "source": [
        "### predict on FDA test docs"
      ]
    },
    {
      "cell_type": "markdown",
      "metadata": {
        "id": "oIE1-Ge4Yp8I"
      },
      "source": [
        "#### checkpoint-4299-2"
      ]
    },
    {
      "cell_type": "code",
      "metadata": {
        "colab": {
          "base_uri": "https://localhost:8080/"
        },
        "id": "G0dR2sMJYpwa",
        "outputId": "9ed9f42a-bb04-4a59-9f1f-230ecee56709"
      },
      "source": [
        "print(len(test_doc))\n",
        "print(len(test_label))"
      ],
      "execution_count": null,
      "outputs": [
        {
          "output_type": "stream",
          "name": "stdout",
          "text": [
            "150\n",
            "150\n"
          ]
        }
      ]
    },
    {
      "cell_type": "code",
      "metadata": {
        "colab": {
          "base_uri": "https://localhost:8080/"
        },
        "id": "ZmMc-AIvYvBf",
        "outputId": "8c1bce95-0d37-4988-a9de-f7434eae67e5"
      },
      "source": [
        "doc_pred_labels = doc_Clf_sent_direct(test_doc)\n",
        "test_scores = score_getter(test_label, doc_pred_labels)\n",
        "print(f'TP:{test_scores.tp}, TN:{test_scores.tn}, FP:{test_scores.fp}, FN:{test_scores.fn}')\n",
        "print(f'sensitivity:{test_scores.sensitivity:.3f}, specificity:{test_scores.specificity:.3f}, PPV:{test_scores.PPV:.3f}, NPV:{test_scores.NPV:.3f}, F1:{test_scores.f1:.3f}')\n",
        "print(f'ACC:{test_scores.acc:.3f}, ACC_bal:{test_scores.acc_bal:.3f}, MCC:{test_scores.mcc:.3f}')\n",
        "print(f'AUC:{test_scores.auc:.3f}')"
      ],
      "execution_count": null,
      "outputs": [
        {
          "output_type": "stream",
          "name": "stderr",
          "text": [
            "100%|██████████| 150/150 [02:18<00:00,  1.08it/s]"
          ]
        },
        {
          "output_type": "stream",
          "name": "stdout",
          "text": [
            "TP:37, TN:106, FP:4, FN:3\n",
            "sensitivity:0.925, specificity:0.964, PPV:0.902, NPV:0.972, F1:0.914\n",
            "ACC:0.953, ACC_bal:0.944, MCC:0.882\n",
            "AUC:0.944\n"
          ]
        },
        {
          "output_type": "stream",
          "name": "stderr",
          "text": [
            "\n"
          ]
        }
      ]
    },
    {
      "cell_type": "code",
      "metadata": {
        "colab": {
          "base_uri": "https://localhost:8080/",
          "height": 344
        },
        "id": "fOWfSreJYu-s",
        "outputId": "019a8590-bdd4-498b-9f38-bab8317c08a3"
      },
      "source": [
        "make_heatmap(test_label, doc_pred_labels, \n",
        "             fig_name='liver context prediction', figsize=(5,5),\n",
        "             fontsize=20, annot_kws={\"size\":40}, categories=[0, 1])"
      ],
      "execution_count": null,
      "outputs": [
        {
          "output_type": "display_data",
          "data": {
            "image/png": "[encoded data removed]",
            "text/plain": [
              "<Figure size 360x360 with 1 Axes>"
            ]
          },
          "metadata": {
            "needs_background": "light"
          }
        }
      ]
    },
    {
      "cell_type": "code",
      "metadata": {
        "id": "PRcMXGusYu8A"
      },
      "source": [
        ""
      ],
      "execution_count": null,
      "outputs": []
    },
    {
      "cell_type": "markdown",
      "metadata": {
        "id": "2gvThu6AKfBX"
      },
      "source": [
        "#### checkpoint-4299"
      ]
    },
    {
      "cell_type": "code",
      "metadata": {
        "id": "lGPIlxXGdzcf"
      },
      "source": [
        "dirpath_test = '/content/gdrive/My Drive/DILI_BERT/FDA_labels/'\n",
        "filename_test = 'FDA_label_train_test_doc_checked_trimmed_20210215.xlsx'\n",
        "filepath = dirpath_test + filename_test\n",
        "test = pd.read_excel(filepath, sheet_name=\"test_set\")\n",
        "test['Boxed_Warning'] = test['Boxed_Warning'].apply(normalize_text)\n",
        "test['Warnings_Precautions'] = test['Warnings_Precautions'].apply(normalize_text)\n",
        "test['Adverse_Reactions'] = test['Adverse_Reactions'].apply(normalize_text)\n",
        "print(len(test))\n",
        "test.head()"
      ],
      "execution_count": null,
      "outputs": []
    },
    {
      "cell_type": "code",
      "metadata": {
        "colab": {
          "base_uri": "https://localhost:8080/"
        },
        "id": "dK8JgzJ0Ks_n",
        "outputId": "b03548f2-3ea4-4162-cf93-7b15d45d608f"
      },
      "source": [
        "print(len(test_doc))\n",
        "print(len(test_label))"
      ],
      "execution_count": null,
      "outputs": [
        {
          "output_type": "stream",
          "name": "stdout",
          "text": [
            "150\n",
            "150\n"
          ]
        }
      ]
    },
    {
      "cell_type": "code",
      "metadata": {
        "colab": {
          "base_uri": "https://localhost:8080/"
        },
        "id": "Y9CxoI9BKjsI",
        "outputId": "c3cf9b31-ae55-4623-8027-f5f2b4079923"
      },
      "source": [
        "doc_pred_labels = doc_Clf_sent_direct(test_doc)\n",
        "test_scores = score_getter(test_label, doc_pred_labels)\n",
        "print(f'TP:{test_scores.tp}, TN:{test_scores.tn}, FP:{test_scores.fp}, FN:{test_scores.fn}')\n",
        "print(f'sensitivity:{test_scores.sensitivity:.3f}, specificity:{test_scores.specificity:.3f}, PPV:{test_scores.PPV:.3f}, NPV:{test_scores.NPV:.3f}, F1:{test_scores.f1:.3f}')\n",
        "print(f'ACC:{test_scores.acc:.3f}, ACC_bal:{test_scores.acc_bal:.3f}, MCC:{test_scores.mcc:.3f}')\n",
        "print(f'AUC:{test_scores.auc:.3f}')"
      ],
      "execution_count": null,
      "outputs": [
        {
          "output_type": "stream",
          "name": "stderr",
          "text": [
            "100%|██████████| 150/150 [02:26<00:00,  1.02it/s]"
          ]
        },
        {
          "output_type": "stream",
          "name": "stdout",
          "text": [
            "TP:36, TN:104, FP:6, FN:4\n",
            "sensitivity:0.900, specificity:0.945, PPV:0.857, NPV:0.963, F1:0.878\n",
            "ACC:0.933, ACC_bal:0.923, MCC:0.833\n",
            "AUC:0.923\n"
          ]
        },
        {
          "output_type": "stream",
          "name": "stderr",
          "text": [
            "\n"
          ]
        }
      ]
    },
    {
      "cell_type": "code",
      "metadata": {
        "colab": {
          "base_uri": "https://localhost:8080/",
          "height": 344
        },
        "id": "xhMENdxTKzOb",
        "outputId": "af6f41f9-0b8a-4a56-dcd1-8f004d897a4e"
      },
      "source": [
        "make_heatmap(test_label, doc_pred_labels, \n",
        "             fig_name='liver context prediction', figsize=(5,5),\n",
        "             fontsize=20, annot_kws={\"size\":40}, categories=[0, 1])"
      ],
      "execution_count": null,
      "outputs": [
        {
          "output_type": "display_data",
          "data": {
            "image/png": "[encoded data removed]",
            "text/plain": [
              "<Figure size 360x360 with 1 Axes>"
            ]
          },
          "metadata": {
            "needs_background": "light"
          }
        }
      ]
    },
    {
      "cell_type": "code",
      "metadata": {
        "id": "QPOWEfpZKjpd"
      },
      "source": [
        "test['WP_SentClf_pred_label'] = doc_pred_labels\n",
        "test.to_excel(dirpath_test + 'FDA_SentClf_test_doc_checked_20211013.xlsx')"
      ],
      "execution_count": null,
      "outputs": []
    },
    {
      "cell_type": "code",
      "metadata": {
        "id": "qvBZdRLZKjmz"
      },
      "source": [
        "df_test_fda = test[test['WP_SentClf_pred_label']!=test['WP_true_label_updated']].drop(columns=['Compound_name','LabelSection','vDILIConcern','Boxed_Warning','Adverse_Reactions','Test_set','multiclass_true_label_updated','multiclass_pred_label','in_EMA_training'])\n",
        "df_test_fda"
      ],
      "execution_count": null,
      "outputs": []
    },
    {
      "cell_type": "code",
      "metadata": {
        "id": "R3vhyX29Kjj9"
      },
      "source": [
        "df_test_fda.to_excel(dirpath_test + 'FDA_SentClf_test_doc_checked_diff_20211013.xlsx')"
      ],
      "execution_count": null,
      "outputs": []
    },
    {
      "cell_type": "code",
      "metadata": {
        "colab": {
          "base_uri": "https://localhost:8080/",
          "height": 359
        },
        "id": "CPBndlMAYLWn",
        "outputId": "46272e7f-c9c0-4078-8716-a67e75f4044e"
      },
      "source": [
        "df_test_fda = pd.read_excel('/content/gdrive/My Drive/DILI_BERT/FDA_labels/FDA_SentClf_test_doc_checked_diff_20211013.xlsx')\n",
        "df_test_fda"
      ],
      "execution_count": null,
      "outputs": [
        {
          "output_type": "execute_result",
          "data": {
            "text/html": [
              "<div>\n",
              "<style scoped>\n",
              "    .dataframe tbody tr th:only-of-type {\n",
              "        vertical-align: middle;\n",
              "    }\n",
              "\n",
              "    .dataframe tbody tr th {\n",
              "        vertical-align: top;\n",
              "    }\n",
              "\n",
              "    .dataframe thead th {\n",
              "        text-align: right;\n",
              "    }\n",
              "</style>\n",
              "<table border=\"1\" class=\"dataframe\">\n",
              "  <thead>\n",
              "    <tr style=\"text-align: right;\">\n",
              "      <th></th>\n",
              "      <th>Unnamed: 0</th>\n",
              "      <th>LTKBID</th>\n",
              "      <th>Warnings_Precautions</th>\n",
              "      <th>WP_true_label_updated</th>\n",
              "      <th>WP_pred_label</th>\n",
              "      <th>WP_SentClf_pred_label</th>\n",
              "    </tr>\n",
              "  </thead>\n",
              "  <tbody>\n",
              "    <tr>\n",
              "      <th>0</th>\n",
              "      <td>70</td>\n",
              "      <td>LT01708</td>\n",
              "      <td>use of propofol has been associated with both...</td>\n",
              "      <td>0</td>\n",
              "      <td>1</td>\n",
              "      <td>1</td>\n",
              "    </tr>\n",
              "    <tr>\n",
              "      <th>1</th>\n",
              "      <td>77</td>\n",
              "      <td>LT02203</td>\n",
              "      <td>peripheral neuropathy was common . patients t...</td>\n",
              "      <td>1</td>\n",
              "      <td>1</td>\n",
              "      <td>0</td>\n",
              "    </tr>\n",
              "    <tr>\n",
              "      <th>2</th>\n",
              "      <td>86</td>\n",
              "      <td>LT01169</td>\n",
              "      <td>the majority of subjects (98%) receiving fuze...</td>\n",
              "      <td>1</td>\n",
              "      <td>1</td>\n",
              "      <td>0</td>\n",
              "    </tr>\n",
              "    <tr>\n",
              "      <th>3</th>\n",
              "      <td>89</td>\n",
              "      <td>LT00341</td>\n",
              "      <td>concomitant use of benzodiazepines, including...</td>\n",
              "      <td>1</td>\n",
              "      <td>1</td>\n",
              "      <td>0</td>\n",
              "    </tr>\n",
              "    <tr>\n",
              "      <th>4</th>\n",
              "      <td>91</td>\n",
              "      <td>LT00416</td>\n",
              "      <td>minocycline hydrochloride capsules, like othe...</td>\n",
              "      <td>1</td>\n",
              "      <td>1</td>\n",
              "      <td>0</td>\n",
              "    </tr>\n",
              "    <tr>\n",
              "      <th>5</th>\n",
              "      <td>92</td>\n",
              "      <td>LT01344</td>\n",
              "      <td>the effects of ethacrynic acid on electrolyte...</td>\n",
              "      <td>0</td>\n",
              "      <td>1</td>\n",
              "      <td>1</td>\n",
              "    </tr>\n",
              "    <tr>\n",
              "      <th>6</th>\n",
              "      <td>95</td>\n",
              "      <td>LT02046</td>\n",
              "      <td>rarely, the rapid onset of severe hyponatremi...</td>\n",
              "      <td>0</td>\n",
              "      <td>1</td>\n",
              "      <td>1</td>\n",
              "    </tr>\n",
              "    <tr>\n",
              "      <th>7</th>\n",
              "      <td>97</td>\n",
              "      <td>LT00129</td>\n",
              "      <td>fatalities due to severe hypotension, hypogly...</td>\n",
              "      <td>0</td>\n",
              "      <td>0</td>\n",
              "      <td>1</td>\n",
              "    </tr>\n",
              "    <tr>\n",
              "      <th>8</th>\n",
              "      <td>105</td>\n",
              "      <td>LT01730</td>\n",
              "      <td>patients exhibiting the following conditions ...</td>\n",
              "      <td>0</td>\n",
              "      <td>0</td>\n",
              "      <td>1</td>\n",
              "    </tr>\n",
              "    <tr>\n",
              "      <th>9</th>\n",
              "      <td>119</td>\n",
              "      <td>LT00494</td>\n",
              "      <td>fomepizole should not be given undiluted or b...</td>\n",
              "      <td>0</td>\n",
              "      <td>0</td>\n",
              "      <td>1</td>\n",
              "    </tr>\n",
              "  </tbody>\n",
              "</table>\n",
              "</div>"
            ],
            "text/plain": [
              "   Unnamed: 0   LTKBID  ... WP_pred_label  WP_SentClf_pred_label\n",
              "0          70  LT01708  ...             1                      1\n",
              "1          77  LT02203  ...             1                      0\n",
              "2          86  LT01169  ...             1                      0\n",
              "3          89  LT00341  ...             1                      0\n",
              "4          91  LT00416  ...             1                      0\n",
              "5          92  LT01344  ...             1                      1\n",
              "6          95  LT02046  ...             1                      1\n",
              "7          97  LT00129  ...             0                      1\n",
              "8         105  LT01730  ...             0                      1\n",
              "9         119  LT00494  ...             0                      1\n",
              "\n",
              "[10 rows x 6 columns]"
            ]
          },
          "metadata": {},
          "execution_count": 69
        }
      ]
    },
    {
      "cell_type": "code",
      "metadata": {
        "id": "2NvoonwwKe3-",
        "colab": {
          "base_uri": "https://localhost:8080/",
          "height": 97
        },
        "outputId": "cfc58a87-2d05-4a8b-8032-8d159eed487b"
      },
      "source": [
        "i=2\n",
        "result = AI_model_inspection(df_test_fda.Warnings_Precautions[i:i+1])\n",
        "result"
      ],
      "execution_count": null,
      "outputs": [
        {
          "output_type": "stream",
          "name": "stderr",
          "text": [
            "100%|██████████| 1/1 [00:00<00:00,  1.23it/s]\n"
          ]
        },
        {
          "output_type": "execute_result",
          "data": {
            "text/html": [
              "<div>\n",
              "<style scoped>\n",
              "    .dataframe tbody tr th:only-of-type {\n",
              "        vertical-align: middle;\n",
              "    }\n",
              "\n",
              "    .dataframe tbody tr th {\n",
              "        vertical-align: top;\n",
              "    }\n",
              "\n",
              "    .dataframe thead th {\n",
              "        text-align: right;\n",
              "    }\n",
              "</style>\n",
              "<table border=\"1\" class=\"dataframe\">\n",
              "  <thead>\n",
              "    <tr style=\"text-align: right;\">\n",
              "      <th></th>\n",
              "      <th>doc_id</th>\n",
              "      <th>liver_sentences</th>\n",
              "      <th>liver_sent_labels</th>\n",
              "    </tr>\n",
              "  </thead>\n",
              "  <tbody>\n",
              "    <tr>\n",
              "      <th>0</th>\n",
              "      <td>0</td>\n",
              "      <td>hypersensitivity reactions have occurred in &lt;1...</td>\n",
              "      <td>1</td>\n",
              "    </tr>\n",
              "  </tbody>\n",
              "</table>\n",
              "</div>"
            ],
            "text/plain": [
              "   doc_id                                    liver_sentences  liver_sent_labels\n",
              "0       0  hypersensitivity reactions have occurred in <1...                  1"
            ]
          },
          "metadata": {},
          "execution_count": 87
        }
      ]
    },
    {
      "cell_type": "code",
      "metadata": {
        "colab": {
          "base_uri": "https://localhost:8080/",
          "height": 52
        },
        "id": "WCvSnwkgXaSw",
        "outputId": "db7b2a48-5649-435b-b655-988ce928c0e3"
      },
      "source": [
        "result.liver_sentences[0]"
      ],
      "execution_count": null,
      "outputs": [
        {
          "output_type": "execute_result",
          "data": {
            "application/vnd.google.colaboratory.intrinsic+json": {
              "type": "string"
            },
            "text/plain": [
              "'hypersensitivity reactions have occurred in <1% of subjects studied and have included combinations of: rash, fever, nausea and vomiting, chills, rigors, hypotension, and/or elevated serum liver transaminases.'"
            ]
          },
          "metadata": {},
          "execution_count": 88
        }
      ]
    },
    {
      "cell_type": "code",
      "metadata": {
        "colab": {
          "base_uri": "https://localhost:8080/",
          "height": 436
        },
        "id": "BEFEGx5_XaQW",
        "outputId": "7067191a-958a-4fd7-e4cb-42dd4dadd90e"
      },
      "source": [
        "results = doc_Clf_sent_direct_inspection(df_test_fda.Warnings_Precautions.values)\n",
        "results"
      ],
      "execution_count": null,
      "outputs": [
        {
          "output_type": "stream",
          "name": "stderr",
          "text": [
            "100%|██████████| 10/10 [00:12<00:00,  1.22s/it]\n"
          ]
        },
        {
          "output_type": "execute_result",
          "data": {
            "text/html": [
              "<div>\n",
              "<style scoped>\n",
              "    .dataframe tbody tr th:only-of-type {\n",
              "        vertical-align: middle;\n",
              "    }\n",
              "\n",
              "    .dataframe tbody tr th {\n",
              "        vertical-align: top;\n",
              "    }\n",
              "\n",
              "    .dataframe thead th {\n",
              "        text-align: right;\n",
              "    }\n",
              "</style>\n",
              "<table border=\"1\" class=\"dataframe\">\n",
              "  <thead>\n",
              "    <tr style=\"text-align: right;\">\n",
              "      <th></th>\n",
              "      <th>doc_id</th>\n",
              "      <th>liver_sentences</th>\n",
              "      <th>liver_sent_labels</th>\n",
              "    </tr>\n",
              "  </thead>\n",
              "  <tbody>\n",
              "    <tr>\n",
              "      <th>0</th>\n",
              "      <td>0</td>\n",
              "      <td>use of propofol has been associated with both...</td>\n",
              "      <td>1</td>\n",
              "    </tr>\n",
              "    <tr>\n",
              "      <th>1</th>\n",
              "      <td>0</td>\n",
              "      <td>the syndrome is characterized by severe metabo...</td>\n",
              "      <td>1</td>\n",
              "    </tr>\n",
              "    <tr>\n",
              "      <th>2</th>\n",
              "      <td>0</td>\n",
              "      <td>the syndrome has also been reported following ...</td>\n",
              "      <td>1</td>\n",
              "    </tr>\n",
              "    <tr>\n",
              "      <th>3</th>\n",
              "      <td>0</td>\n",
              "      <td>apnea requiring ventilatory support often occu...</td>\n",
              "      <td>1</td>\n",
              "    </tr>\n",
              "    <tr>\n",
              "      <th>4</th>\n",
              "      <td>0</td>\n",
              "      <td>very rarely the use of propofol may be associa...</td>\n",
              "      <td>1</td>\n",
              "    </tr>\n",
              "    <tr>\n",
              "      <th>...</th>\n",
              "      <td>...</td>\n",
              "      <td>...</td>\n",
              "      <td>...</td>\n",
              "    </tr>\n",
              "    <tr>\n",
              "      <th>180</th>\n",
              "      <td>9</td>\n",
              "      <td>minor allergic reactions (mild rash, eosinophi...</td>\n",
              "      <td>1</td>\n",
              "    </tr>\n",
              "    <tr>\n",
              "      <th>181</th>\n",
              "      <td>9</td>\n",
              "      <td>in rats, fomepizole (110 mg/kg) administered o...</td>\n",
              "      <td>1</td>\n",
              "    </tr>\n",
              "    <tr>\n",
              "      <th>182</th>\n",
              "      <td>9</td>\n",
              "      <td>fomepizole should not be given undiluted or by...</td>\n",
              "      <td>1</td>\n",
              "    </tr>\n",
              "    <tr>\n",
              "      <th>183</th>\n",
              "      <td>9</td>\n",
              "      <td>venous irritation and phlebosclerosis were not...</td>\n",
              "      <td>1</td>\n",
              "    </tr>\n",
              "    <tr>\n",
              "      <th>184</th>\n",
              "      <td>9</td>\n",
              "      <td>minor allergic reactions (mild rash, eosinophi...</td>\n",
              "      <td>1</td>\n",
              "    </tr>\n",
              "  </tbody>\n",
              "</table>\n",
              "<p>185 rows × 3 columns</p>\n",
              "</div>"
            ],
            "text/plain": [
              "     doc_id  ... liver_sent_labels\n",
              "0         0  ...                 1\n",
              "1         0  ...                 1\n",
              "2         0  ...                 1\n",
              "3         0  ...                 1\n",
              "4         0  ...                 1\n",
              "..      ...  ...               ...\n",
              "180       9  ...                 1\n",
              "181       9  ...                 1\n",
              "182       9  ...                 1\n",
              "183       9  ...                 1\n",
              "184       9  ...                 1\n",
              "\n",
              "[185 rows x 3 columns]"
            ]
          },
          "metadata": {},
          "execution_count": 94
        }
      ]
    },
    {
      "cell_type": "code",
      "metadata": {
        "id": "qBCJTf8KXaNg"
      },
      "source": [
        "results.to_excel(dirpath_test + 'FDA_SentClf_test_doc_checked_diff_sentences_20211013.xlsx')"
      ],
      "execution_count": null,
      "outputs": []
    },
    {
      "cell_type": "code",
      "metadata": {
        "id": "D2gyZsdJXaKg"
      },
      "source": [
        ""
      ],
      "execution_count": null,
      "outputs": []
    },
    {
      "cell_type": "markdown",
      "metadata": {
        "id": "RNA3t6w_TusW"
      },
      "source": [
        "####checkpoint-4182"
      ]
    },
    {
      "cell_type": "code",
      "metadata": {
        "colab": {
          "base_uri": "https://localhost:8080/"
        },
        "id": "ia2rE065adQo",
        "outputId": "f807dee7-a622-45d5-e324-64434a4e6059"
      },
      "source": [
        "print(len(test_doc))\n",
        "print(len(test_label))"
      ],
      "execution_count": null,
      "outputs": [
        {
          "output_type": "stream",
          "name": "stdout",
          "text": [
            "150\n",
            "150\n"
          ]
        }
      ]
    },
    {
      "cell_type": "code",
      "metadata": {
        "colab": {
          "base_uri": "https://localhost:8080/"
        },
        "id": "ex-axln1adNw",
        "outputId": "5ae9c6ad-4c4f-4638-89d4-5fc2473127d1"
      },
      "source": [
        "doc_pred_labels = doc_Clf_sent_direct(test_doc)"
      ],
      "execution_count": null,
      "outputs": [
        {
          "output_type": "stream",
          "name": "stderr",
          "text": [
            "100%|██████████| 150/150 [02:20<00:00,  1.07it/s]\n"
          ]
        }
      ]
    },
    {
      "cell_type": "code",
      "metadata": {
        "colab": {
          "base_uri": "https://localhost:8080/"
        },
        "id": "a4-5aRNDbTRB",
        "outputId": "f38f664d-df1c-4398-82a6-d5ca4e2591fd"
      },
      "source": [
        "test_scores = score_getter(test_label, doc_pred_labels)\n",
        "print(f'TP:{test_scores.tp}, TN:{test_scores.tn}, FP:{test_scores.fp}, FN:{test_scores.fn}')\n",
        "print(f'sensitivity:{test_scores.sensitivity:.3f}, specificity:{test_scores.specificity:.3f}, PPV:{test_scores.PPV:.3f}, NPV:{test_scores.NPV:.3f}, F1:{test_scores.f1:.3f}')\n",
        "print(f'ACC:{test_scores.acc:.3f}, ACC_bal:{test_scores.acc_bal:.3f}, MCC:{test_scores.mcc:.3f}')\n",
        "print(f'AUC:{test_scores.auc:.3f}')"
      ],
      "execution_count": null,
      "outputs": [
        {
          "output_type": "stream",
          "name": "stdout",
          "text": [
            "TP:38, TN:105, FP:5, FN:2\n",
            "sensitivity:0.950, specificity:0.955, PPV:0.884, NPV:0.981, F1:0.916\n",
            "ACC:0.953, ACC_bal:0.952, MCC:0.885\n",
            "AUC:0.952\n"
          ]
        }
      ]
    },
    {
      "cell_type": "code",
      "metadata": {
        "colab": {
          "base_uri": "https://localhost:8080/",
          "height": 344
        },
        "id": "UFM1R3ipadKl",
        "outputId": "dbd6c98d-a46f-4b54-cd41-34eb5d220e91"
      },
      "source": [
        "make_heatmap(test_label, doc_pred_labels, \n",
        "             fig_name='liver context prediction', figsize=(5,5),\n",
        "             fontsize=20, annot_kws={\"size\":40}, categories=[0, 1])"
      ],
      "execution_count": null,
      "outputs": [
        {
          "output_type": "display_data",
          "data": {
            "image/png": "[encoded data removed]",
            "text/plain": [
              "<Figure size 360x360 with 1 Axes>"
            ]
          },
          "metadata": {
            "needs_background": "light"
          }
        }
      ]
    },
    {
      "cell_type": "code",
      "metadata": {
        "id": "bo6_YIpZadHw"
      },
      "source": [
        ""
      ],
      "execution_count": null,
      "outputs": []
    },
    {
      "cell_type": "code",
      "metadata": {
        "id": "zCKBSsI1Tt1Z"
      },
      "source": [
        ""
      ],
      "execution_count": null,
      "outputs": []
    },
    {
      "cell_type": "markdown",
      "metadata": {
        "id": "cNqGcF0mT8U9"
      },
      "source": [
        "####checkpoint-4398"
      ]
    },
    {
      "cell_type": "code",
      "metadata": {
        "colab": {
          "base_uri": "https://localhost:8080/"
        },
        "id": "hnnhP68z2lTA",
        "outputId": "32a31c3a-5f09-430c-fe96-7ec107a36816"
      },
      "source": [
        "doc_pred_labels = doc_Clf_sent_direct(test_doc)"
      ],
      "execution_count": null,
      "outputs": [
        {
          "output_type": "stream",
          "name": "stderr",
          "text": [
            "100%|██████████| 150/150 [02:27<00:00,  1.02it/s]\n"
          ]
        }
      ]
    },
    {
      "cell_type": "code",
      "metadata": {
        "colab": {
          "base_uri": "https://localhost:8080/"
        },
        "id": "0Fabcy8X2lNp",
        "outputId": "84b595e6-7508-40f2-b6d5-9a58f293c36d"
      },
      "source": [
        "test_scores = score_getter(test_label, doc_pred_labels)\n",
        "\n",
        "print(f'TP:{test_scores.tp}, TN:{test_scores.tn}, FP:{test_scores.fp}, FN:{test_scores.fn}')\n",
        "print(f'sensitivity:{test_scores.sensitivity:.3f}, specificity:{test_scores.specificity:.3f}, PPV:{test_scores.PPV:.3f}, NPV:{test_scores.NPV:.3f}, F1:{test_scores.f1:.3f}')\n",
        "print(f'ACC:{test_scores.acc:.3f}, ACC_bal:{test_scores.acc_bal:.3f}, MCC:{test_scores.mcc:.3f}')\n",
        "print(f'AUC:{test_scores.auc:.3f}')"
      ],
      "execution_count": null,
      "outputs": [
        {
          "output_type": "stream",
          "name": "stdout",
          "text": [
            "TP:36, TN:102, FP:8, FN:4\n",
            "sensitivity:0.900, specificity:0.927, PPV:0.818, NPV:0.962, F1:0.857\n",
            "ACC:0.920, ACC_bal:0.914, MCC:0.804\n",
            "AUC:0.914\n"
          ]
        }
      ]
    },
    {
      "cell_type": "code",
      "metadata": {
        "colab": {
          "base_uri": "https://localhost:8080/",
          "height": 344
        },
        "id": "IQjPSRCl2lJP",
        "outputId": "0a71bd07-a75b-45af-abf4-d866994785e7"
      },
      "source": [
        "make_heatmap(test_label, doc_pred_labels, \n",
        "             fig_name='liver context prediction', figsize=(5,5),\n",
        "             fontsize=20, annot_kws={\"size\":40}, categories=[0, 1])"
      ],
      "execution_count": null,
      "outputs": [
        {
          "output_type": "display_data",
          "data": {
            "image/png": "[encoded data removed]",
            "text/plain": [
              "<Figure size 360x360 with 1 Axes>"
            ]
          },
          "metadata": {
            "needs_background": "light"
          }
        }
      ]
    },
    {
      "cell_type": "markdown",
      "metadata": {
        "id": "d-ghjvSC5Lu4"
      },
      "source": [
        "### predict on EMA validation docs"
      ]
    },
    {
      "cell_type": "markdown",
      "metadata": {
        "id": "GeRekYZgaF5z"
      },
      "source": [
        "#### checkpoint-4299-2"
      ]
    },
    {
      "cell_type": "code",
      "metadata": {
        "colab": {
          "base_uri": "https://localhost:8080/"
        },
        "id": "y3E2_IEkaIMJ",
        "outputId": "e96abf8b-0883-46a6-a0fe-76b0273e5dc8"
      },
      "source": [
        "print(len(test_doc))\n",
        "print(len(test_label))"
      ],
      "execution_count": null,
      "outputs": [
        {
          "output_type": "stream",
          "name": "stdout",
          "text": [
            "175\n",
            "175\n"
          ]
        }
      ]
    },
    {
      "cell_type": "code",
      "metadata": {
        "colab": {
          "base_uri": "https://localhost:8080/"
        },
        "id": "7TKIFfqJaIJa",
        "outputId": "e3bbcbe5-f4c2-445c-818e-0033f8f3271c"
      },
      "source": [
        "doc_pred_labels = doc_Clf_sent_direct(test_doc)\n",
        "test_scores = score_getter(test_label, doc_pred_labels)\n",
        "print(f'TP:{test_scores.tp}, TN:{test_scores.tn}, FP:{test_scores.fp}, FN:{test_scores.fn}')\n",
        "print(f'sensitivity:{test_scores.sensitivity:.3f}, specificity:{test_scores.specificity:.3f}, PPV:{test_scores.PPV:.3f}, NPV:{test_scores.NPV:.3f}, F1:{test_scores.f1:.3f}')\n",
        "print(f'ACC:{test_scores.acc:.3f}, ACC_bal:{test_scores.acc_bal:.3f}, MCC:{test_scores.mcc:.3f}')\n",
        "print(f'AUC:{test_scores.auc:.3f}')"
      ],
      "execution_count": null,
      "outputs": [
        {
          "output_type": "stream",
          "name": "stderr",
          "text": [
            "100%|██████████| 175/175 [01:38<00:00,  1.78it/s]"
          ]
        },
        {
          "output_type": "stream",
          "name": "stdout",
          "text": [
            "TP:33, TN:132, FP:7, FN:3\n",
            "sensitivity:0.917, specificity:0.950, PPV:0.825, NPV:0.978, F1:0.868\n",
            "ACC:0.943, ACC_bal:0.933, MCC:0.834\n",
            "AUC:0.933\n"
          ]
        },
        {
          "output_type": "stream",
          "name": "stderr",
          "text": [
            "\n"
          ]
        }
      ]
    },
    {
      "cell_type": "code",
      "metadata": {
        "colab": {
          "base_uri": "https://localhost:8080/",
          "height": 344
        },
        "id": "g9xyVBTYaIGZ",
        "outputId": "7d5cf453-c8c2-4bd0-b20c-2af37f3f6d6d"
      },
      "source": [
        "make_heatmap(test_label, doc_pred_labels, \n",
        "             fig_name='liver context prediction', figsize=(5,5),\n",
        "             fontsize=20, annot_kws={\"size\":40}, categories=[0, 1])"
      ],
      "execution_count": null,
      "outputs": [
        {
          "output_type": "display_data",
          "data": {
            "image/png": "[encoded data removed]",
            "text/plain": [
              "<Figure size 360x360 with 1 Axes>"
            ]
          },
          "metadata": {
            "needs_background": "light"
          }
        }
      ]
    },
    {
      "cell_type": "code",
      "metadata": {
        "id": "sB4bpdWDaFvj"
      },
      "source": [
        ""
      ],
      "execution_count": null,
      "outputs": []
    },
    {
      "cell_type": "markdown",
      "metadata": {
        "id": "90dOCcxpKnbi"
      },
      "source": [
        "#### checkpoint-4299"
      ]
    },
    {
      "cell_type": "code",
      "metadata": {
        "id": "jL9XZxHxeDs3"
      },
      "source": [
        "dirpath_test = '/content/gdrive/My Drive/DILI_BERT/EMA_labels/'\n",
        "filename_test = 'EMA_label_train_test_doc_checked_trimmed_20210215.xlsx'\n",
        "filepath = dirpath_test + filename_test\n",
        "test = pd.read_excel(filepath, sheet_name=\"not_in_FDA_training\")\n",
        "test['Warnings_Precautions'] = test['Warnings_Precautions'].apply(normalize_text)\n",
        "print(len(test))\n",
        "test.head()"
      ],
      "execution_count": null,
      "outputs": []
    },
    {
      "cell_type": "code",
      "metadata": {
        "colab": {
          "base_uri": "https://localhost:8080/"
        },
        "id": "Mvu-ZGCfKohG",
        "outputId": "af44713e-6383-4619-d63a-8af01996c5c4"
      },
      "source": [
        "print(len(test_doc))\n",
        "print(len(test_label))"
      ],
      "execution_count": null,
      "outputs": [
        {
          "output_type": "stream",
          "name": "stdout",
          "text": [
            "175\n",
            "175\n"
          ]
        }
      ]
    },
    {
      "cell_type": "code",
      "metadata": {
        "colab": {
          "base_uri": "https://localhost:8080/"
        },
        "id": "SS-w38s2Koex",
        "outputId": "0d3be654-8a07-496d-87bb-00a77c259228"
      },
      "source": [
        "doc_pred_labels = doc_Clf_sent_direct(test_doc)\n",
        "test_scores = score_getter(test_label, doc_pred_labels)\n",
        "print(f'TP:{test_scores.tp}, TN:{test_scores.tn}, FP:{test_scores.fp}, FN:{test_scores.fn}')\n",
        "print(f'sensitivity:{test_scores.sensitivity:.3f}, specificity:{test_scores.specificity:.3f}, PPV:{test_scores.PPV:.3f}, NPV:{test_scores.NPV:.3f}, F1:{test_scores.f1:.3f}')\n",
        "print(f'ACC:{test_scores.acc:.3f}, ACC_bal:{test_scores.acc_bal:.3f}, MCC:{test_scores.mcc:.3f}')\n",
        "print(f'AUC:{test_scores.auc:.3f}')"
      ],
      "execution_count": null,
      "outputs": [
        {
          "output_type": "stream",
          "name": "stderr",
          "text": [
            "100%|██████████| 175/175 [01:44<00:00,  1.68it/s]"
          ]
        },
        {
          "output_type": "stream",
          "name": "stdout",
          "text": [
            "TP:32, TN:132, FP:7, FN:4\n",
            "sensitivity:0.889, specificity:0.950, PPV:0.821, NPV:0.971, F1:0.853\n",
            "ACC:0.937, ACC_bal:0.919, MCC:0.814\n",
            "AUC:0.919\n"
          ]
        },
        {
          "output_type": "stream",
          "name": "stderr",
          "text": [
            "\n"
          ]
        }
      ]
    },
    {
      "cell_type": "code",
      "metadata": {
        "colab": {
          "base_uri": "https://localhost:8080/",
          "height": 344
        },
        "id": "CpM1lohcKob0",
        "outputId": "32a8d3f2-9919-447b-8bf0-393030f9a78d"
      },
      "source": [
        "make_heatmap(test_label, doc_pred_labels, \n",
        "             fig_name='liver context prediction', figsize=(5,5),\n",
        "             fontsize=20, annot_kws={\"size\":40}, categories=[0, 1])"
      ],
      "execution_count": null,
      "outputs": [
        {
          "output_type": "display_data",
          "data": {
            "image/png": "[encoded data removed]",
            "text/plain": [
              "<Figure size 360x360 with 1 Axes>"
            ]
          },
          "metadata": {
            "needs_background": "light"
          }
        }
      ]
    },
    {
      "cell_type": "code",
      "metadata": {
        "id": "FLPC4gNWKoYx"
      },
      "source": [
        "test['WP_SentClf_pred_label'] = doc_pred_labels\n",
        "test.to_excel(dirpath_test + 'FDA_SentClf_test_doc_checked_cross_agency_20211013.xlsx')"
      ],
      "execution_count": null,
      "outputs": []
    },
    {
      "cell_type": "code",
      "metadata": {
        "colab": {
          "base_uri": "https://localhost:8080/",
          "height": 394
        },
        "id": "9_Ii8uo8WvYQ",
        "outputId": "8b313c74-1795-4349-8b90-ee8025700e73"
      },
      "source": [
        "test.head()"
      ],
      "execution_count": null,
      "outputs": [
        {
          "output_type": "execute_result",
          "data": {
            "text/html": [
              "<div>\n",
              "<style scoped>\n",
              "    .dataframe tbody tr th:only-of-type {\n",
              "        vertical-align: middle;\n",
              "    }\n",
              "\n",
              "    .dataframe tbody tr th {\n",
              "        vertical-align: top;\n",
              "    }\n",
              "\n",
              "    .dataframe thead th {\n",
              "        text-align: right;\n",
              "    }\n",
              "</style>\n",
              "<table border=\"1\" class=\"dataframe\">\n",
              "  <thead>\n",
              "    <tr style=\"text-align: right;\">\n",
              "      <th></th>\n",
              "      <th>LTKBID</th>\n",
              "      <th>eMC_LabelSection2</th>\n",
              "      <th>Warnings_Precautions</th>\n",
              "      <th>Adverse_Reactions</th>\n",
              "      <th>Test_set</th>\n",
              "      <th>WP_true_label_updated</th>\n",
              "      <th>WP_pred_label</th>\n",
              "      <th>multiclass_true_label_updated</th>\n",
              "      <th>multiclass_pred_label</th>\n",
              "      <th>in_FDA_training</th>\n",
              "      <th>WP_SentClf_pred_label</th>\n",
              "    </tr>\n",
              "  </thead>\n",
              "  <tbody>\n",
              "    <tr>\n",
              "      <th>0</th>\n",
              "      <td>LT00046</td>\n",
              "      <td>Warnings and precautions</td>\n",
              "      <td>patients with rare hereditary problems of gala...</td>\n",
              "      <td>the following adverse reactions are classified...</td>\n",
              "      <td>0</td>\n",
              "      <td>1</td>\n",
              "      <td>1</td>\n",
              "      <td>2</td>\n",
              "      <td>2</td>\n",
              "      <td>0</td>\n",
              "      <td>1</td>\n",
              "    </tr>\n",
              "    <tr>\n",
              "      <th>1</th>\n",
              "      <td>LT00671</td>\n",
              "      <td>Warnings and precautions</td>\n",
              "      <td>careful monitoring during dronedarone administ...</td>\n",
              "      <td>summary of the safety profile assessment of in...</td>\n",
              "      <td>0</td>\n",
              "      <td>1</td>\n",
              "      <td>1</td>\n",
              "      <td>2</td>\n",
              "      <td>2</td>\n",
              "      <td>0</td>\n",
              "      <td>1</td>\n",
              "    </tr>\n",
              "    <tr>\n",
              "      <th>2</th>\n",
              "      <td>LT01525</td>\n",
              "      <td>Warnings and precautions</td>\n",
              "      <td>the selection of meropenem to treat an individ...</td>\n",
              "      <td>summary of the safety profile in a review of 4...</td>\n",
              "      <td>0</td>\n",
              "      <td>1</td>\n",
              "      <td>1</td>\n",
              "      <td>2</td>\n",
              "      <td>2</td>\n",
              "      <td>0</td>\n",
              "      <td>0</td>\n",
              "    </tr>\n",
              "    <tr>\n",
              "      <th>3</th>\n",
              "      <td>LT01097</td>\n",
              "      <td>Warnings and precautions</td>\n",
              "      <td>hypersensitivity caution should be used in pre...</td>\n",
              "      <td>summary of safety profile the safety profile o...</td>\n",
              "      <td>0</td>\n",
              "      <td>1</td>\n",
              "      <td>1</td>\n",
              "      <td>2</td>\n",
              "      <td>2</td>\n",
              "      <td>0</td>\n",
              "      <td>1</td>\n",
              "    </tr>\n",
              "    <tr>\n",
              "      <th>4</th>\n",
              "      <td>LT01181</td>\n",
              "      <td>Warnings and precautions</td>\n",
              "      <td>oxaliplatin should only be used in specialized...</td>\n",
              "      <td>summary of the safety profile the most frequen...</td>\n",
              "      <td>0</td>\n",
              "      <td>1</td>\n",
              "      <td>1</td>\n",
              "      <td>2</td>\n",
              "      <td>2</td>\n",
              "      <td>0</td>\n",
              "      <td>1</td>\n",
              "    </tr>\n",
              "  </tbody>\n",
              "</table>\n",
              "</div>"
            ],
            "text/plain": [
              "    LTKBID         eMC_LabelSection2  ... in_FDA_training WP_SentClf_pred_label\n",
              "0  LT00046  Warnings and precautions  ...               0                     1\n",
              "1  LT00671  Warnings and precautions  ...               0                     1\n",
              "2  LT01525  Warnings and precautions  ...               0                     0\n",
              "3  LT01097  Warnings and precautions  ...               0                     1\n",
              "4  LT01181  Warnings and precautions  ...               0                     1\n",
              "\n",
              "[5 rows x 11 columns]"
            ]
          },
          "metadata": {},
          "execution_count": 55
        }
      ]
    },
    {
      "cell_type": "code",
      "metadata": {
        "id": "VjDPJvSwWdze"
      },
      "source": [
        "df_test_fda_cross = test[test['WP_SentClf_pred_label']!=test['WP_true_label_updated']].drop(columns=['eMC_LabelSection2','Adverse_Reactions','Test_set','multiclass_true_label_updated','multiclass_pred_label','in_FDA_training'])\n",
        "df_test_fda_cross"
      ],
      "execution_count": null,
      "outputs": []
    },
    {
      "cell_type": "code",
      "metadata": {
        "id": "T5QKpijNWdxJ"
      },
      "source": [
        "df_test_fda_cross.to_excel(dirpath_test + 'FDA_SentClf_test_doc_checked_cross_agency_diff_20211013.xlsx')"
      ],
      "execution_count": null,
      "outputs": []
    },
    {
      "cell_type": "code",
      "metadata": {
        "colab": {
          "base_uri": "https://localhost:8080/",
          "height": 390
        },
        "id": "-0EiaGwiWduk",
        "outputId": "3f4dc453-0a3b-41bc-86c6-eeea9d599d39"
      },
      "source": [
        "df_test_fda_cross = pd.read_excel(dirpath_test + 'FDA_SentClf_test_doc_checked_cross_agency_diff_20211013.xlsx')\n",
        "df_test_fda_cross"
      ],
      "execution_count": null,
      "outputs": [
        {
          "output_type": "execute_result",
          "data": {
            "text/html": [
              "<div>\n",
              "<style scoped>\n",
              "    .dataframe tbody tr th:only-of-type {\n",
              "        vertical-align: middle;\n",
              "    }\n",
              "\n",
              "    .dataframe tbody tr th {\n",
              "        vertical-align: top;\n",
              "    }\n",
              "\n",
              "    .dataframe thead th {\n",
              "        text-align: right;\n",
              "    }\n",
              "</style>\n",
              "<table border=\"1\" class=\"dataframe\">\n",
              "  <thead>\n",
              "    <tr style=\"text-align: right;\">\n",
              "      <th></th>\n",
              "      <th>Unnamed: 0</th>\n",
              "      <th>LTKBID</th>\n",
              "      <th>Warnings_Precautions</th>\n",
              "      <th>WP_true_label_updated</th>\n",
              "      <th>WP_pred_label</th>\n",
              "      <th>WP_SentClf_pred_label</th>\n",
              "    </tr>\n",
              "  </thead>\n",
              "  <tbody>\n",
              "    <tr>\n",
              "      <th>0</th>\n",
              "      <td>2</td>\n",
              "      <td>LT01525</td>\n",
              "      <td>the selection of meropenem to treat an individ...</td>\n",
              "      <td>1</td>\n",
              "      <td>1</td>\n",
              "      <td>0</td>\n",
              "    </tr>\n",
              "    <tr>\n",
              "      <th>1</th>\n",
              "      <td>8</td>\n",
              "      <td>LT00577</td>\n",
              "      <td>severe acute exacerbations of chronic hepatiti...</td>\n",
              "      <td>1</td>\n",
              "      <td>1</td>\n",
              "      <td>0</td>\n",
              "    </tr>\n",
              "    <tr>\n",
              "      <th>2</th>\n",
              "      <td>28</td>\n",
              "      <td>LT02018</td>\n",
              "      <td>dose limiting toxicities dose limiting toxicit...</td>\n",
              "      <td>1</td>\n",
              "      <td>1</td>\n",
              "      <td>0</td>\n",
              "    </tr>\n",
              "    <tr>\n",
              "      <th>3</th>\n",
              "      <td>30</td>\n",
              "      <td>LT01581</td>\n",
              "      <td>the use of nabumetone with concomitant nsaids ...</td>\n",
              "      <td>0</td>\n",
              "      <td>1</td>\n",
              "      <td>1</td>\n",
              "    </tr>\n",
              "    <tr>\n",
              "      <th>4</th>\n",
              "      <td>32</td>\n",
              "      <td>LT01267</td>\n",
              "      <td>non-infectious pneumonitis non-infectious pneu...</td>\n",
              "      <td>0</td>\n",
              "      <td>1</td>\n",
              "      <td>1</td>\n",
              "    </tr>\n",
              "    <tr>\n",
              "      <th>5</th>\n",
              "      <td>34</td>\n",
              "      <td>LT01723</td>\n",
              "      <td>aortic stenosis quinapril should be used in ca...</td>\n",
              "      <td>0</td>\n",
              "      <td>1</td>\n",
              "      <td>1</td>\n",
              "    </tr>\n",
              "    <tr>\n",
              "      <th>6</th>\n",
              "      <td>35</td>\n",
              "      <td>LT01466</td>\n",
              "      <td>the use of campto should be confined to units ...</td>\n",
              "      <td>0</td>\n",
              "      <td>1</td>\n",
              "      <td>1</td>\n",
              "    </tr>\n",
              "    <tr>\n",
              "      <th>7</th>\n",
              "      <td>73</td>\n",
              "      <td>LT01708</td>\n",
              "      <td>diprivan 1% should be given by those trained i...</td>\n",
              "      <td>0</td>\n",
              "      <td>0</td>\n",
              "      <td>1</td>\n",
              "    </tr>\n",
              "    <tr>\n",
              "      <th>8</th>\n",
              "      <td>102</td>\n",
              "      <td>LT00399</td>\n",
              "      <td>fludrocortisone acetate is a potent mineraloco...</td>\n",
              "      <td>0</td>\n",
              "      <td>1</td>\n",
              "      <td>1</td>\n",
              "    </tr>\n",
              "    <tr>\n",
              "      <th>9</th>\n",
              "      <td>146</td>\n",
              "      <td>LT00416</td>\n",
              "      <td>minocycline should be used with caution in pat...</td>\n",
              "      <td>1</td>\n",
              "      <td>1</td>\n",
              "      <td>0</td>\n",
              "    </tr>\n",
              "    <tr>\n",
              "      <th>10</th>\n",
              "      <td>153</td>\n",
              "      <td>LT01749</td>\n",
              "      <td>the precise dose at which selegiline becomes a...</td>\n",
              "      <td>0</td>\n",
              "      <td>0</td>\n",
              "      <td>1</td>\n",
              "    </tr>\n",
              "  </tbody>\n",
              "</table>\n",
              "</div>"
            ],
            "text/plain": [
              "    Unnamed: 0   LTKBID  ... WP_pred_label  WP_SentClf_pred_label\n",
              "0            2  LT01525  ...             1                      0\n",
              "1            8  LT00577  ...             1                      0\n",
              "2           28  LT02018  ...             1                      0\n",
              "3           30  LT01581  ...             1                      1\n",
              "4           32  LT01267  ...             1                      1\n",
              "5           34  LT01723  ...             1                      1\n",
              "6           35  LT01466  ...             1                      1\n",
              "7           73  LT01708  ...             0                      1\n",
              "8          102  LT00399  ...             1                      1\n",
              "9          146  LT00416  ...             1                      0\n",
              "10         153  LT01749  ...             0                      1\n",
              "\n",
              "[11 rows x 6 columns]"
            ]
          },
          "metadata": {},
          "execution_count": 99
        }
      ]
    },
    {
      "cell_type": "code",
      "metadata": {
        "colab": {
          "base_uri": "https://localhost:8080/",
          "height": 97
        },
        "id": "MquO-z-1Wdrj",
        "outputId": "826656ce-c2e2-469f-93ef-249d3e24b3ee"
      },
      "source": [
        "i=9\n",
        "result = AI_model_inspection(df_test_fda.Warnings_Precautions[i:i+1])\n",
        "result"
      ],
      "execution_count": null,
      "outputs": [
        {
          "output_type": "stream",
          "name": "stderr",
          "text": [
            "100%|██████████| 1/1 [00:00<00:00,  1.34it/s]\n"
          ]
        },
        {
          "output_type": "execute_result",
          "data": {
            "text/html": [
              "<div>\n",
              "<style scoped>\n",
              "    .dataframe tbody tr th:only-of-type {\n",
              "        vertical-align: middle;\n",
              "    }\n",
              "\n",
              "    .dataframe tbody tr th {\n",
              "        vertical-align: top;\n",
              "    }\n",
              "\n",
              "    .dataframe thead th {\n",
              "        text-align: right;\n",
              "    }\n",
              "</style>\n",
              "<table border=\"1\" class=\"dataframe\">\n",
              "  <thead>\n",
              "    <tr style=\"text-align: right;\">\n",
              "      <th></th>\n",
              "      <th>doc_id</th>\n",
              "      <th>liver_sentences</th>\n",
              "      <th>liver_sent_labels</th>\n",
              "    </tr>\n",
              "  </thead>\n",
              "  <tbody>\n",
              "    <tr>\n",
              "      <th>0</th>\n",
              "      <td>0</td>\n",
              "      <td>in addition, hepatic enzymes and white blood c...</td>\n",
              "      <td>0</td>\n",
              "    </tr>\n",
              "  </tbody>\n",
              "</table>\n",
              "</div>"
            ],
            "text/plain": [
              "   doc_id                                    liver_sentences  liver_sent_labels\n",
              "0       0  in addition, hepatic enzymes and white blood c...                  0"
            ]
          },
          "metadata": {},
          "execution_count": 115
        }
      ]
    },
    {
      "cell_type": "code",
      "metadata": {
        "colab": {
          "base_uri": "https://localhost:8080/",
          "height": 52
        },
        "id": "c4G_JmJSWdov",
        "outputId": "20c3e8e7-c819-4c5e-e1c4-fbfc007f3af5"
      },
      "source": [
        "result.liver_sentences[0]"
      ],
      "execution_count": null,
      "outputs": [
        {
          "output_type": "execute_result",
          "data": {
            "application/vnd.google.colaboratory.intrinsic+json": {
              "type": "string"
            },
            "text/plain": [
              "'in addition, hepatic enzymes and white blood cell counts should be monitored during treatment, as transient increases in serum transaminase concentrations and eosinophilia have been noted with repeated fomepizole dosing.'"
            ]
          },
          "metadata": {},
          "execution_count": 117
        }
      ]
    },
    {
      "cell_type": "code",
      "metadata": {
        "colab": {
          "base_uri": "https://localhost:8080/",
          "height": 436
        },
        "id": "QTWmDZUCec81",
        "outputId": "ca0dcb3c-fcfc-41ec-8ba0-3d9341c440d0"
      },
      "source": [
        "results = doc_Clf_sent_direct_inspection(df_test_fda_cross.Warnings_Precautions.values)\n",
        "results"
      ],
      "execution_count": null,
      "outputs": [
        {
          "output_type": "stream",
          "name": "stderr",
          "text": [
            "100%|██████████| 11/11 [00:09<00:00,  1.21it/s]\n"
          ]
        },
        {
          "output_type": "execute_result",
          "data": {
            "text/html": [
              "<div>\n",
              "<style scoped>\n",
              "    .dataframe tbody tr th:only-of-type {\n",
              "        vertical-align: middle;\n",
              "    }\n",
              "\n",
              "    .dataframe tbody tr th {\n",
              "        vertical-align: top;\n",
              "    }\n",
              "\n",
              "    .dataframe thead th {\n",
              "        text-align: right;\n",
              "    }\n",
              "</style>\n",
              "<table border=\"1\" class=\"dataframe\">\n",
              "  <thead>\n",
              "    <tr style=\"text-align: right;\">\n",
              "      <th></th>\n",
              "      <th>doc_id</th>\n",
              "      <th>liver_sentences</th>\n",
              "      <th>liver_sent_labels</th>\n",
              "    </tr>\n",
              "  </thead>\n",
              "  <tbody>\n",
              "    <tr>\n",
              "      <th>0</th>\n",
              "      <td>0</td>\n",
              "      <td>hypersensitivity reactions as with all beta-la...</td>\n",
              "      <td>1</td>\n",
              "    </tr>\n",
              "    <tr>\n",
              "      <th>1</th>\n",
              "      <td>0</td>\n",
              "      <td>antibiotic-associated colitis antibiotic-assoc...</td>\n",
              "      <td>1</td>\n",
              "    </tr>\n",
              "    <tr>\n",
              "      <th>2</th>\n",
              "      <td>0</td>\n",
              "      <td>seizures seizures have infrequently been repor...</td>\n",
              "      <td>1</td>\n",
              "    </tr>\n",
              "    <tr>\n",
              "      <th>3</th>\n",
              "      <td>0</td>\n",
              "      <td>hepatic function monitoring hepatic function s...</td>\n",
              "      <td>1</td>\n",
              "    </tr>\n",
              "    <tr>\n",
              "      <th>4</th>\n",
              "      <td>0</td>\n",
              "      <td>direct antiglobulin test (coombs test) serocon...</td>\n",
              "      <td>1</td>\n",
              "    </tr>\n",
              "    <tr>\n",
              "      <th>...</th>\n",
              "      <td>...</td>\n",
              "      <td>...</td>\n",
              "      <td>...</td>\n",
              "    </tr>\n",
              "    <tr>\n",
              "      <th>145</th>\n",
              "      <td>10</td>\n",
              "      <td>some studies concluded in an increased risk of...</td>\n",
              "      <td>1</td>\n",
              "    </tr>\n",
              "    <tr>\n",
              "      <th>146</th>\n",
              "      <td>10</td>\n",
              "      <td>when selegiline is added to the maximum tolera...</td>\n",
              "      <td>1</td>\n",
              "    </tr>\n",
              "    <tr>\n",
              "      <th>147</th>\n",
              "      <td>10</td>\n",
              "      <td>levodopa should be reduced by about 10 to 30% ...</td>\n",
              "      <td>1</td>\n",
              "    </tr>\n",
              "    <tr>\n",
              "      <th>148</th>\n",
              "      <td>10</td>\n",
              "      <td>when an optimum dose of levodopa is reached, a...</td>\n",
              "      <td>1</td>\n",
              "    </tr>\n",
              "    <tr>\n",
              "      <th>149</th>\n",
              "      <td>10</td>\n",
              "      <td>these may also be possible with selegiline but...</td>\n",
              "      <td>1</td>\n",
              "    </tr>\n",
              "  </tbody>\n",
              "</table>\n",
              "<p>150 rows × 3 columns</p>\n",
              "</div>"
            ],
            "text/plain": [
              "     doc_id  ... liver_sent_labels\n",
              "0         0  ...                 1\n",
              "1         0  ...                 1\n",
              "2         0  ...                 1\n",
              "3         0  ...                 1\n",
              "4         0  ...                 1\n",
              "..      ...  ...               ...\n",
              "145      10  ...                 1\n",
              "146      10  ...                 1\n",
              "147      10  ...                 1\n",
              "148      10  ...                 1\n",
              "149      10  ...                 1\n",
              "\n",
              "[150 rows x 3 columns]"
            ]
          },
          "metadata": {},
          "execution_count": 102
        }
      ]
    },
    {
      "cell_type": "code",
      "metadata": {
        "id": "ZJSljPatec5y"
      },
      "source": [
        "results.to_excel(dirpath_test + 'FDA_SentClf_test_doc_checked_cross_agency_diff_sentences_20211013.xlsx')"
      ],
      "execution_count": null,
      "outputs": []
    },
    {
      "cell_type": "code",
      "metadata": {
        "id": "GwrrY47rec3A"
      },
      "source": [
        ""
      ],
      "execution_count": null,
      "outputs": []
    },
    {
      "cell_type": "code",
      "metadata": {
        "id": "r_pVEHlFKnTH"
      },
      "source": [
        ""
      ],
      "execution_count": null,
      "outputs": []
    },
    {
      "cell_type": "markdown",
      "metadata": {
        "id": "nOHjt2aQUKgd"
      },
      "source": [
        "####checkpoint-4182"
      ]
    },
    {
      "cell_type": "code",
      "metadata": {
        "id": "FEIL4MwaUKWW"
      },
      "source": [
        ""
      ],
      "execution_count": null,
      "outputs": []
    },
    {
      "cell_type": "markdown",
      "metadata": {
        "id": "TsNhYe-tUJf-"
      },
      "source": [
        "####checkpoint-4398"
      ]
    },
    {
      "cell_type": "code",
      "metadata": {
        "colab": {
          "base_uri": "https://localhost:8080/"
        },
        "id": "yOBSisac2lFF",
        "outputId": "2c8f5409-0e1a-419e-ac71-9aeccc51b396"
      },
      "source": [
        "doc_pred_labels = doc_Clf_sent_direct(test_doc)"
      ],
      "execution_count": null,
      "outputs": [
        {
          "output_type": "stream",
          "name": "stderr",
          "text": [
            "100%|██████████| 175/175 [01:44<00:00,  1.68it/s]\n"
          ]
        }
      ]
    },
    {
      "cell_type": "code",
      "metadata": {
        "colab": {
          "base_uri": "https://localhost:8080/"
        },
        "id": "D31OLlSN5R2K",
        "outputId": "ba4b60c5-d21c-479b-ddec-86e69ef316de"
      },
      "source": [
        "test_scores = score_getter(test_label, doc_pred_labels)\n",
        "\n",
        "print(f'TP:{test_scores.tp}, TN:{test_scores.tn}, FP:{test_scores.fp}, FN:{test_scores.fn}')\n",
        "print(f'sensitivity:{test_scores.sensitivity:.3f}, specificity:{test_scores.specificity:.3f}, PPV:{test_scores.PPV:.3f}, NPV:{test_scores.NPV:.3f}, F1:{test_scores.f1:.3f}')\n",
        "print(f'ACC:{test_scores.acc:.3f}, ACC_bal:{test_scores.acc_bal:.3f}, MCC:{test_scores.mcc:.3f}')\n",
        "print(f'AUC:{test_scores.auc:.3f}')"
      ],
      "execution_count": null,
      "outputs": [
        {
          "output_type": "stream",
          "name": "stdout",
          "text": [
            "TP:35, TN:128, FP:11, FN:1\n",
            "sensitivity:0.972, specificity:0.921, PPV:0.761, NPV:0.992, F1:0.854\n",
            "ACC:0.931, ACC_bal:0.947, MCC:0.820\n",
            "AUC:0.947\n"
          ]
        }
      ]
    },
    {
      "cell_type": "code",
      "metadata": {
        "colab": {
          "base_uri": "https://localhost:8080/",
          "height": 344
        },
        "id": "PqGPW1805Ryn",
        "outputId": "61710f85-24a7-4c5e-b0b6-5c5256f11cac"
      },
      "source": [
        "make_heatmap(test_label, doc_pred_labels, \n",
        "             fig_name='liver context prediction', figsize=(5,5),\n",
        "             fontsize=20, annot_kws={\"size\":40}, categories=[0, 1])"
      ],
      "execution_count": null,
      "outputs": [
        {
          "output_type": "display_data",
          "data": {
            "image/png": "[encoded data removed]",
            "text/plain": [
              "<Figure size 360x360 with 1 Axes>"
            ]
          },
          "metadata": {
            "needs_background": "light"
          }
        }
      ]
    },
    {
      "cell_type": "code",
      "metadata": {
        "id": "KAIgIOLE5Run"
      },
      "source": [
        ""
      ],
      "execution_count": null,
      "outputs": []
    },
    {
      "cell_type": "code",
      "metadata": {
        "id": "H7yU5mTQ5Rq5"
      },
      "source": [
        ""
      ],
      "execution_count": null,
      "outputs": []
    },
    {
      "cell_type": "markdown",
      "metadata": {
        "id": "LfNvcmhSUChU"
      },
      "source": [
        "## Compare AI and hybrid AI models"
      ]
    },
    {
      "cell_type": "code",
      "metadata": {
        "id": "k28-5Yi3Ym0x"
      },
      "source": [
        "dirpath_test = '/content/gdrive/My Drive/DILI_BERT/FDA_labels/'\n",
        "filename_test = 'Comparison_hybridAI_AI_20210930.xlsx'\n",
        "filepath = dirpath_test + filename_test"
      ],
      "execution_count": null,
      "outputs": []
    },
    {
      "cell_type": "code",
      "metadata": {
        "colab": {
          "base_uri": "https://localhost:8080/",
          "height": 222
        },
        "id": "JAncYUhTYmsP",
        "outputId": "68f9e0ef-d096-4c15-b464-416ad86dcc39"
      },
      "source": [
        "test = pd.read_excel(filepath, sheet_name=\"combined\")\n",
        "test['Warnings_Precautions'] = test['Warnings_Precautions'].apply(normalize_text)\n",
        "print(len(test))\n",
        "test.head()"
      ],
      "execution_count": null,
      "outputs": [
        {
          "output_type": "stream",
          "name": "stdout",
          "text": [
            "8\n"
          ]
        },
        {
          "output_type": "execute_result",
          "data": {
            "text/html": [
              "<div>\n",
              "<style scoped>\n",
              "    .dataframe tbody tr th:only-of-type {\n",
              "        vertical-align: middle;\n",
              "    }\n",
              "\n",
              "    .dataframe tbody tr th {\n",
              "        vertical-align: top;\n",
              "    }\n",
              "\n",
              "    .dataframe thead th {\n",
              "        text-align: right;\n",
              "    }\n",
              "</style>\n",
              "<table border=\"1\" class=\"dataframe\">\n",
              "  <thead>\n",
              "    <tr style=\"text-align: right;\">\n",
              "      <th></th>\n",
              "      <th>LTKBID</th>\n",
              "      <th>Warnings_Precautions</th>\n",
              "      <th>WP_true_label_updated</th>\n",
              "      <th>WP_NER_pred_label</th>\n",
              "      <th>WP_hybrid_pred_label</th>\n",
              "      <th>better</th>\n",
              "    </tr>\n",
              "  </thead>\n",
              "  <tbody>\n",
              "    <tr>\n",
              "      <th>0</th>\n",
              "      <td>LT01387</td>\n",
              "      <td>traceability in order to improve traceability ...</td>\n",
              "      <td>0</td>\n",
              "      <td>1</td>\n",
              "      <td>0</td>\n",
              "      <td>HybridAI</td>\n",
              "    </tr>\n",
              "    <tr>\n",
              "      <th>1</th>\n",
              "      <td>LT01113</td>\n",
              "      <td>medical management. the pump should only be im...</td>\n",
              "      <td>0</td>\n",
              "      <td>1</td>\n",
              "      <td>0</td>\n",
              "      <td>HybridAI</td>\n",
              "    </tr>\n",
              "    <tr>\n",
              "      <th>2</th>\n",
              "      <td>LT01256</td>\n",
              "      <td>skin and bone lesions that resemble clinical ...</td>\n",
              "      <td>0</td>\n",
              "      <td>1</td>\n",
              "      <td>0</td>\n",
              "      <td>HybridAI</td>\n",
              "    </tr>\n",
              "    <tr>\n",
              "      <th>3</th>\n",
              "      <td>LT02046</td>\n",
              "      <td>rarely, the rapid onset of severe hyponatremi...</td>\n",
              "      <td>0</td>\n",
              "      <td>1</td>\n",
              "      <td>0</td>\n",
              "      <td>HybridAI</td>\n",
              "    </tr>\n",
              "    <tr>\n",
              "      <th>4</th>\n",
              "      <td>LT01844</td>\n",
              "      <td>patients with major depressive disorder (mdd)...</td>\n",
              "      <td>0</td>\n",
              "      <td>1</td>\n",
              "      <td>0</td>\n",
              "      <td>HybridAI</td>\n",
              "    </tr>\n",
              "  </tbody>\n",
              "</table>\n",
              "</div>"
            ],
            "text/plain": [
              "    LTKBID  ...    better\n",
              "0  LT01387  ...  HybridAI\n",
              "1  LT01113  ...  HybridAI\n",
              "2  LT01256  ...  HybridAI\n",
              "3  LT02046  ...  HybridAI\n",
              "4  LT01844  ...  HybridAI\n",
              "\n",
              "[5 rows x 6 columns]"
            ]
          },
          "metadata": {},
          "execution_count": 73
        }
      ]
    },
    {
      "cell_type": "code",
      "metadata": {
        "id": "qsm5x6zIY_g3"
      },
      "source": [
        "test_doc = test.Warnings_Precautions.to_list()"
      ],
      "execution_count": null,
      "outputs": []
    },
    {
      "cell_type": "code",
      "metadata": {
        "id": "QrWlIVcO5RlQ"
      },
      "source": [
        "def AI_model_inspection(documents):\n",
        "    liver_sentences_all, labels_all, doc_ids_all = [], [], []\n",
        "    id=0\n",
        "    for doc in tqdm(documents):\n",
        "        sentences = sent_tokenize(doc)\n",
        "        sent_labels = [0] * len(sentences)\n",
        "        # context prediction and get liver sentence indexes\n",
        "        liver_sent_idx = []\n",
        "        for idx, sentence in enumerate(sentences):\n",
        "            context_pred = model_NER_predict_single_sentence(sentence, tokenizer, model_NER)\n",
        "            if context_pred[0] == 1:\n",
        "                liver_sent_idx.append(idx)\n",
        "        # sentence prediction for liver sentences (if any)\n",
        "        if liver_sent_idx:\n",
        "            liver_sentences = [sentences[i] for i in liver_sent_idx]\n",
        "            liver_sent_labels = model_SentClf_predict_batch(liver_sentences, tokenizer, model_SentClf)\n",
        "            doc_id = [id]*len(liver_sentences)\n",
        "\n",
        "            liver_sentences_all.extend(liver_sentences)\n",
        "            labels_all.extend(liver_sent_labels)\n",
        "            doc_ids_all.extend(doc_id)\n",
        "\n",
        "        id += 1\n",
        "    df_result = pd.DataFrame({\n",
        "                'doc_id': doc_ids_all,\n",
        "                'liver_sentences': liver_sentences_all,\n",
        "                'liver_sent_labels': labels_all,\n",
        "            })\n",
        "    return df_result"
      ],
      "execution_count": null,
      "outputs": []
    },
    {
      "cell_type": "code",
      "metadata": {
        "id": "RSpf_vxn5Rhi"
      },
      "source": [
        "def Hybrid_AI_model_inspection(documents):\n",
        "    doc_labels = []\n",
        "    liver_sentences_all, labels_all, doc_ids_all = [], [], []    \n",
        "    id = 0\n",
        "    for doc in tqdm(documents):\n",
        "        # prepare sentences\n",
        "        liver_sentences = []\n",
        "        # tokenize liver-related sentences\n",
        "        sent_tokens = sent_tokenize(doc)\n",
        "        for sent in sent_tokens:\n",
        "            kw_positive = any(keyword in word_tokenize(sent) for keyword in keywords_positive)\n",
        "            kw_negative = any(keyword in word_tokenize(sent) for keyword in keywords_negative)\n",
        "            if kw_positive == True and kw_negative == False:\n",
        "                liver_sentences.append(sent)  \n",
        "\n",
        "        if len(liver_sentences) == 0:\n",
        "            doc_label = [0]\n",
        "        else:\n",
        "            liver_sent_labels = model_SentClf_predict_batch(liver_sentences, tokenizer, model_SentClf)\n",
        "            doc_label = [1 if np.sum(liver_sent_labels) > 0 else 0]\n",
        "            doc_id = [id]*len(liver_sent_labels)\n",
        "\n",
        "            liver_sentences_all.extend(liver_sentences)\n",
        "            labels_all.extend(liver_sent_labels)\n",
        "            doc_ids_all.extend(doc_id)\n",
        "\n",
        "        id += 1\n",
        "        doc_labels.append(doc_label[0])\n",
        "    df_result = pd.DataFrame({\n",
        "        'doc_id': doc_ids_all,\n",
        "        'liver_sentences': liver_sentences_all,\n",
        "        'liver_sent_labels': labels_all,\n",
        "    })\n",
        "    return doc_labels, df_result"
      ],
      "execution_count": null,
      "outputs": []
    },
    {
      "cell_type": "code",
      "metadata": {
        "id": "Xyq9LlT06KLU"
      },
      "source": [
        ""
      ],
      "execution_count": null,
      "outputs": []
    },
    {
      "cell_type": "markdown",
      "metadata": {
        "id": "Kz770Gm3QQKH"
      },
      "source": [
        "#### AI model inspection"
      ]
    },
    {
      "cell_type": "code",
      "metadata": {
        "colab": {
          "base_uri": "https://localhost:8080/"
        },
        "id": "8zGCX-ePY_Ub",
        "outputId": "0a61f91b-c0a2-493f-e645-ea169ab552f7"
      },
      "source": [
        "doc_pred_labels = doc_Clf(test_doc)\n",
        "doc_pred_labels"
      ],
      "execution_count": null,
      "outputs": [
        {
          "output_type": "stream",
          "name": "stderr",
          "text": [
            "100%|██████████| 8/8 [00:10<00:00,  1.27s/it]\n"
          ]
        },
        {
          "output_type": "execute_result",
          "data": {
            "text/plain": [
              "[1, 1, 1, 1, 1, 1, 1, 1]"
            ]
          },
          "metadata": {},
          "execution_count": 61
        }
      ]
    },
    {
      "cell_type": "code",
      "metadata": {
        "colab": {
          "base_uri": "https://localhost:8080/"
        },
        "id": "LPhiNGTiY_Qw",
        "outputId": "16bc462b-35a5-489c-9b8f-8fae11a55b9d"
      },
      "source": [
        "df_result = AI_model_inspection(test_doc)"
      ],
      "execution_count": null,
      "outputs": [
        {
          "output_type": "stream",
          "name": "stderr",
          "text": [
            "100%|██████████| 8/8 [00:09<00:00,  1.25s/it]\n"
          ]
        }
      ]
    },
    {
      "cell_type": "code",
      "metadata": {
        "colab": {
          "base_uri": "https://localhost:8080/",
          "height": 1000
        },
        "id": "SVPqbKceb_jS",
        "outputId": "d9b83190-8ef4-432d-d2bc-2b861a391584"
      },
      "source": [
        "df_result"
      ],
      "execution_count": null,
      "outputs": [
        {
          "output_type": "execute_result",
          "data": {
            "text/html": [
              "<div>\n",
              "<style scoped>\n",
              "    .dataframe tbody tr th:only-of-type {\n",
              "        vertical-align: middle;\n",
              "    }\n",
              "\n",
              "    .dataframe tbody tr th {\n",
              "        vertical-align: top;\n",
              "    }\n",
              "\n",
              "    .dataframe thead th {\n",
              "        text-align: right;\n",
              "    }\n",
              "</style>\n",
              "<table border=\"1\" class=\"dataframe\">\n",
              "  <thead>\n",
              "    <tr style=\"text-align: right;\">\n",
              "      <th></th>\n",
              "      <th>doc_id</th>\n",
              "      <th>liver_sentences</th>\n",
              "      <th>liver_sent_labels</th>\n",
              "    </tr>\n",
              "  </thead>\n",
              "  <tbody>\n",
              "    <tr>\n",
              "      <th>0</th>\n",
              "      <td>0</td>\n",
              "      <td>hepatitis b reactivation reactivation of hepat...</td>\n",
              "      <td>0</td>\n",
              "    </tr>\n",
              "    <tr>\n",
              "      <th>1</th>\n",
              "      <td>0</td>\n",
              "      <td>for patients who test positive for hepatitis b...</td>\n",
              "      <td>0</td>\n",
              "    </tr>\n",
              "    <tr>\n",
              "      <th>2</th>\n",
              "      <td>0</td>\n",
              "      <td>rare post-marketing cases of hepatosplenic t-c...</td>\n",
              "      <td>0</td>\n",
              "    </tr>\n",
              "    <tr>\n",
              "      <th>3</th>\n",
              "      <td>0</td>\n",
              "      <td>some of these hepatosplenic t-cell lymphomas w...</td>\n",
              "      <td>1</td>\n",
              "    </tr>\n",
              "    <tr>\n",
              "      <th>4</th>\n",
              "      <td>0</td>\n",
              "      <td>a risk for the development of hepatosplenic t-...</td>\n",
              "      <td>0</td>\n",
              "    </tr>\n",
              "    <tr>\n",
              "      <th>5</th>\n",
              "      <td>1</td>\n",
              "      <td>with oral baclofen, rare cases of elevated sgo...</td>\n",
              "      <td>1</td>\n",
              "    </tr>\n",
              "    <tr>\n",
              "      <th>6</th>\n",
              "      <td>2</td>\n",
              "      <td>cysteamine has been associated with reversible...</td>\n",
              "      <td>1</td>\n",
              "    </tr>\n",
              "    <tr>\n",
              "      <th>7</th>\n",
              "      <td>2</td>\n",
              "      <td>monitor white blood cell counts and alkaline p...</td>\n",
              "      <td>0</td>\n",
              "    </tr>\n",
              "    <tr>\n",
              "      <th>8</th>\n",
              "      <td>2</td>\n",
              "      <td>leukopenia and/or elevated alkaline phosphatas...</td>\n",
              "      <td>0</td>\n",
              "    </tr>\n",
              "    <tr>\n",
              "      <th>9</th>\n",
              "      <td>3</td>\n",
              "      <td>the risk of hypokalemia is increased when larg...</td>\n",
              "      <td>0</td>\n",
              "    </tr>\n",
              "    <tr>\n",
              "      <th>10</th>\n",
              "      <td>3</td>\n",
              "      <td>these hazards include fetal or neonatal jaundi...</td>\n",
              "      <td>0</td>\n",
              "    </tr>\n",
              "    <tr>\n",
              "      <th>11</th>\n",
              "      <td>3</td>\n",
              "      <td>hyperbilirubinemia has been reported in 1 neon...</td>\n",
              "      <td>1</td>\n",
              "    </tr>\n",
              "    <tr>\n",
              "      <th>12</th>\n",
              "      <td>3</td>\n",
              "      <td>in general, dose selection for an elderly pati...</td>\n",
              "      <td>0</td>\n",
              "    </tr>\n",
              "    <tr>\n",
              "      <th>13</th>\n",
              "      <td>3</td>\n",
              "      <td>the risk of hypokalemia is increased when larg...</td>\n",
              "      <td>0</td>\n",
              "    </tr>\n",
              "    <tr>\n",
              "      <th>14</th>\n",
              "      <td>4</td>\n",
              "      <td>trimipramine maleate capsules should be used w...</td>\n",
              "      <td>0</td>\n",
              "    </tr>\n",
              "    <tr>\n",
              "      <th>15</th>\n",
              "      <td>4</td>\n",
              "      <td>chronic animal studies showed occasional occur...</td>\n",
              "      <td>1</td>\n",
              "    </tr>\n",
              "    <tr>\n",
              "      <th>16</th>\n",
              "      <td>4</td>\n",
              "      <td>clinical circumstances, some of which may be m...</td>\n",
              "      <td>0</td>\n",
              "    </tr>\n",
              "    <tr>\n",
              "      <th>17</th>\n",
              "      <td>4</td>\n",
              "      <td>trimipramine maleate capsules should be used w...</td>\n",
              "      <td>0</td>\n",
              "    </tr>\n",
              "    <tr>\n",
              "      <th>18</th>\n",
              "      <td>4</td>\n",
              "      <td>chronic animal studies showed occasional occur...</td>\n",
              "      <td>1</td>\n",
              "    </tr>\n",
              "    <tr>\n",
              "      <th>19</th>\n",
              "      <td>5</td>\n",
              "      <td>trazodone: there is one report suggesting that...</td>\n",
              "      <td>1</td>\n",
              "    </tr>\n",
              "    <tr>\n",
              "      <th>20</th>\n",
              "      <td>5</td>\n",
              "      <td>in a similar study attempting to replicate thi...</td>\n",
              "      <td>0</td>\n",
              "    </tr>\n",
              "    <tr>\n",
              "      <th>21</th>\n",
              "      <td>5</td>\n",
              "      <td>buspirone is metabolized by the liver and excr...</td>\n",
              "      <td>0</td>\n",
              "    </tr>\n",
              "    <tr>\n",
              "      <th>22</th>\n",
              "      <td>5</td>\n",
              "      <td>a pharmacokinetic study in patients with impai...</td>\n",
              "      <td>0</td>\n",
              "    </tr>\n",
              "    <tr>\n",
              "      <th>23</th>\n",
              "      <td>5</td>\n",
              "      <td>therefore, the administration of buspirone hyd...</td>\n",
              "      <td>0</td>\n",
              "    </tr>\n",
              "    <tr>\n",
              "      <th>24</th>\n",
              "      <td>6</td>\n",
              "      <td>some monoamine oxidase inhibitors have occasio...</td>\n",
              "      <td>0</td>\n",
              "    </tr>\n",
              "    <tr>\n",
              "      <th>25</th>\n",
              "      <td>6</td>\n",
              "      <td>if there is any evidence of a hepatotoxic reac...</td>\n",
              "      <td>1</td>\n",
              "    </tr>\n",
              "    <tr>\n",
              "      <th>26</th>\n",
              "      <td>7</td>\n",
              "      <td>patients started on pyrazinamide should have ...</td>\n",
              "      <td>0</td>\n",
              "    </tr>\n",
              "    <tr>\n",
              "      <th>27</th>\n",
              "      <td>7</td>\n",
              "      <td>those patients with preexisting liver disease ...</td>\n",
              "      <td>0</td>\n",
              "    </tr>\n",
              "    <tr>\n",
              "      <th>28</th>\n",
              "      <td>7</td>\n",
              "      <td>pyrazinamide should be discontinued and not be...</td>\n",
              "      <td>1</td>\n",
              "    </tr>\n",
              "    <tr>\n",
              "      <th>29</th>\n",
              "      <td>7</td>\n",
              "      <td>baseline liver function studies [especially al...</td>\n",
              "      <td>0</td>\n",
              "    </tr>\n",
              "    <tr>\n",
              "      <th>30</th>\n",
              "      <td>7</td>\n",
              "      <td>in general, dose selection for an elderly pati...</td>\n",
              "      <td>0</td>\n",
              "    </tr>\n",
              "  </tbody>\n",
              "</table>\n",
              "</div>"
            ],
            "text/plain": [
              "    doc_id  ... liver_sent_labels\n",
              "0        0  ...                 0\n",
              "1        0  ...                 0\n",
              "2        0  ...                 0\n",
              "3        0  ...                 1\n",
              "4        0  ...                 0\n",
              "5        1  ...                 1\n",
              "6        2  ...                 1\n",
              "7        2  ...                 0\n",
              "8        2  ...                 0\n",
              "9        3  ...                 0\n",
              "10       3  ...                 0\n",
              "11       3  ...                 1\n",
              "12       3  ...                 0\n",
              "13       3  ...                 0\n",
              "14       4  ...                 0\n",
              "15       4  ...                 1\n",
              "16       4  ...                 0\n",
              "17       4  ...                 0\n",
              "18       4  ...                 1\n",
              "19       5  ...                 1\n",
              "20       5  ...                 0\n",
              "21       5  ...                 0\n",
              "22       5  ...                 0\n",
              "23       5  ...                 0\n",
              "24       6  ...                 0\n",
              "25       6  ...                 1\n",
              "26       7  ...                 0\n",
              "27       7  ...                 0\n",
              "28       7  ...                 1\n",
              "29       7  ...                 0\n",
              "30       7  ...                 0\n",
              "\n",
              "[31 rows x 3 columns]"
            ]
          },
          "metadata": {},
          "execution_count": 66
        }
      ]
    },
    {
      "cell_type": "code",
      "metadata": {
        "colab": {
          "base_uri": "https://localhost:8080/"
        },
        "id": "dj8iTJom6L7p",
        "outputId": "a0b3c70a-e5b5-45d0-c4d0-d842967f5877"
      },
      "source": [
        "any(keyword in df_result.liver_sentences[0] for keyword in keywords_positive)"
      ],
      "execution_count": null,
      "outputs": [
        {
          "output_type": "execute_result",
          "data": {
            "text/plain": [
              "True"
            ]
          },
          "metadata": {},
          "execution_count": 59
        }
      ]
    },
    {
      "cell_type": "code",
      "metadata": {
        "colab": {
          "base_uri": "https://localhost:8080/"
        },
        "id": "n4ItSb9c6WBx",
        "outputId": "606a2573-57aa-4a9f-a0e6-933bcd7799d8"
      },
      "source": [
        "any(keyword in word_tokenize(df_result.liver_sentences[0]) for keyword in keywords_negative)"
      ],
      "execution_count": null,
      "outputs": [
        {
          "output_type": "execute_result",
          "data": {
            "text/plain": [
              "False"
            ]
          },
          "metadata": {},
          "execution_count": 64
        }
      ]
    },
    {
      "cell_type": "code",
      "metadata": {
        "id": "JSTWvq-rb_ZS"
      },
      "source": [
        "df_result.to_excel(os.path.join(dirpath_test, 'sentence_inspection_AI_model_20210930.xlsx'))"
      ],
      "execution_count": null,
      "outputs": []
    },
    {
      "cell_type": "markdown",
      "metadata": {
        "id": "TEwPLjjNQbN-"
      },
      "source": [
        "### hybrid AI model inspection"
      ]
    },
    {
      "cell_type": "code",
      "metadata": {
        "colab": {
          "base_uri": "https://localhost:8080/"
        },
        "id": "Yp3Rx7EjgaDO",
        "outputId": "a46ee31b-adfb-46d1-e2cf-35aa72d5bfed"
      },
      "source": [
        "doc_labels_hybrid, df_result_hybrid = Hybrid_AI_model_inspection(test_doc)"
      ],
      "execution_count": null,
      "outputs": [
        {
          "output_type": "stream",
          "name": "stderr",
          "text": [
            "100%|██████████| 8/8 [00:03<00:00,  2.47it/s]\n"
          ]
        }
      ]
    },
    {
      "cell_type": "code",
      "metadata": {
        "colab": {
          "base_uri": "https://localhost:8080/"
        },
        "id": "Wa6WAzEzgZ_L",
        "outputId": "03847c35-f381-4bd7-9391-0f56c148c15a"
      },
      "source": [
        "doc_labels_hybrid"
      ],
      "execution_count": null,
      "outputs": [
        {
          "output_type": "execute_result",
          "data": {
            "text/plain": [
              "[0, 0, 0, 0, 0, 0, 0, 0]"
            ]
          },
          "metadata": {},
          "execution_count": 77
        }
      ]
    },
    {
      "cell_type": "code",
      "metadata": {
        "colab": {
          "base_uri": "https://localhost:8080/",
          "height": 610
        },
        "id": "l-O5uzTTgZ39",
        "outputId": "d8e6e334-c3dd-4f02-e3dc-e3322266dadb"
      },
      "source": [
        "df_result_hybrid"
      ],
      "execution_count": null,
      "outputs": [
        {
          "output_type": "execute_result",
          "data": {
            "text/html": [
              "<div>\n",
              "<style scoped>\n",
              "    .dataframe tbody tr th:only-of-type {\n",
              "        vertical-align: middle;\n",
              "    }\n",
              "\n",
              "    .dataframe tbody tr th {\n",
              "        vertical-align: top;\n",
              "    }\n",
              "\n",
              "    .dataframe thead th {\n",
              "        text-align: right;\n",
              "    }\n",
              "</style>\n",
              "<table border=\"1\" class=\"dataframe\">\n",
              "  <thead>\n",
              "    <tr style=\"text-align: right;\">\n",
              "      <th></th>\n",
              "      <th>doc_id</th>\n",
              "      <th>liver_sentences</th>\n",
              "      <th>liver_sent_labels</th>\n",
              "    </tr>\n",
              "  </thead>\n",
              "  <tbody>\n",
              "    <tr>\n",
              "      <th>0</th>\n",
              "      <td>0</td>\n",
              "      <td>hepatitis b reactivation reactivation of hepat...</td>\n",
              "      <td>0</td>\n",
              "    </tr>\n",
              "    <tr>\n",
              "      <th>1</th>\n",
              "      <td>0</td>\n",
              "      <td>for patients who test positive for hepatitis b...</td>\n",
              "      <td>0</td>\n",
              "    </tr>\n",
              "    <tr>\n",
              "      <th>2</th>\n",
              "      <td>3</td>\n",
              "      <td>the risk of hypokalemia is increased when larg...</td>\n",
              "      <td>0</td>\n",
              "    </tr>\n",
              "    <tr>\n",
              "      <th>3</th>\n",
              "      <td>3</td>\n",
              "      <td>these hazards include fetal or neonatal jaundi...</td>\n",
              "      <td>0</td>\n",
              "    </tr>\n",
              "    <tr>\n",
              "      <th>4</th>\n",
              "      <td>3</td>\n",
              "      <td>in general, dose selection for an elderly pati...</td>\n",
              "      <td>0</td>\n",
              "    </tr>\n",
              "    <tr>\n",
              "      <th>5</th>\n",
              "      <td>3</td>\n",
              "      <td>the risk of hypokalemia is increased when larg...</td>\n",
              "      <td>0</td>\n",
              "    </tr>\n",
              "    <tr>\n",
              "      <th>6</th>\n",
              "      <td>4</td>\n",
              "      <td>trimipramine maleate capsules should be used w...</td>\n",
              "      <td>0</td>\n",
              "    </tr>\n",
              "    <tr>\n",
              "      <th>7</th>\n",
              "      <td>4</td>\n",
              "      <td>clinical circumstances, some of which may be m...</td>\n",
              "      <td>0</td>\n",
              "    </tr>\n",
              "    <tr>\n",
              "      <th>8</th>\n",
              "      <td>4</td>\n",
              "      <td>trimipramine maleate capsules should be used w...</td>\n",
              "      <td>0</td>\n",
              "    </tr>\n",
              "    <tr>\n",
              "      <th>9</th>\n",
              "      <td>5</td>\n",
              "      <td>in a similar study attempting to replicate thi...</td>\n",
              "      <td>0</td>\n",
              "    </tr>\n",
              "    <tr>\n",
              "      <th>10</th>\n",
              "      <td>5</td>\n",
              "      <td>buspirone is metabolized by the liver and excr...</td>\n",
              "      <td>0</td>\n",
              "    </tr>\n",
              "    <tr>\n",
              "      <th>11</th>\n",
              "      <td>5</td>\n",
              "      <td>a pharmacokinetic study in patients with impai...</td>\n",
              "      <td>0</td>\n",
              "    </tr>\n",
              "    <tr>\n",
              "      <th>12</th>\n",
              "      <td>5</td>\n",
              "      <td>therefore, the administration of buspirone hyd...</td>\n",
              "      <td>0</td>\n",
              "    </tr>\n",
              "    <tr>\n",
              "      <th>13</th>\n",
              "      <td>6</td>\n",
              "      <td>some monoamine oxidase inhibitors have occasio...</td>\n",
              "      <td>0</td>\n",
              "    </tr>\n",
              "    <tr>\n",
              "      <th>14</th>\n",
              "      <td>7</td>\n",
              "      <td>patients started on pyrazinamide should have ...</td>\n",
              "      <td>0</td>\n",
              "    </tr>\n",
              "    <tr>\n",
              "      <th>15</th>\n",
              "      <td>7</td>\n",
              "      <td>those patients with preexisting liver disease ...</td>\n",
              "      <td>0</td>\n",
              "    </tr>\n",
              "    <tr>\n",
              "      <th>16</th>\n",
              "      <td>7</td>\n",
              "      <td>baseline liver function studies [especially al...</td>\n",
              "      <td>0</td>\n",
              "    </tr>\n",
              "    <tr>\n",
              "      <th>17</th>\n",
              "      <td>7</td>\n",
              "      <td>in general, dose selection for an elderly pati...</td>\n",
              "      <td>0</td>\n",
              "    </tr>\n",
              "  </tbody>\n",
              "</table>\n",
              "</div>"
            ],
            "text/plain": [
              "    doc_id  ... liver_sent_labels\n",
              "0        0  ...                 0\n",
              "1        0  ...                 0\n",
              "2        3  ...                 0\n",
              "3        3  ...                 0\n",
              "4        3  ...                 0\n",
              "5        3  ...                 0\n",
              "6        4  ...                 0\n",
              "7        4  ...                 0\n",
              "8        4  ...                 0\n",
              "9        5  ...                 0\n",
              "10       5  ...                 0\n",
              "11       5  ...                 0\n",
              "12       5  ...                 0\n",
              "13       6  ...                 0\n",
              "14       7  ...                 0\n",
              "15       7  ...                 0\n",
              "16       7  ...                 0\n",
              "17       7  ...                 0\n",
              "\n",
              "[18 rows x 3 columns]"
            ]
          },
          "metadata": {},
          "execution_count": 78
        }
      ]
    },
    {
      "cell_type": "code",
      "metadata": {
        "id": "gx5W19Ou4FVT"
      },
      "source": [
        "df_result_hybrid.to_excel(os.path.join(dirpath_test, 'sentence_inspection_Hybrid_AI_model_20210930.xlsx'))"
      ],
      "execution_count": null,
      "outputs": []
    },
    {
      "cell_type": "markdown",
      "metadata": {
        "id": "mR_IveCrQhOq"
      },
      "source": [
        "### Sentence classifier inspection"
      ]
    },
    {
      "cell_type": "code",
      "metadata": {
        "id": "mV9rCD8k43RP"
      },
      "source": [
        "def doc_Clf_sent_direct_inspection(documents):\n",
        "    doc_ids_all, sentences_all, labels_all = [], [], []\n",
        "    id=0\n",
        "    for doc in tqdm(documents):\n",
        "        sents_positive = []\n",
        "\n",
        "        sentences = sent_tokenize(doc)\n",
        "        sent_labels = model_SentClf_predict_batch(sentences, tokenizer, model_SentClf)\n",
        "\n",
        "        for idx, label in enumerate(sent_labels):\n",
        "            if label == 1:\n",
        "                sents_positive.append(sentences[idx])\n",
        "\n",
        "        sents_positive_labels = [1]*len(sents_positive)\n",
        "        doc_id = [id]*len(sents_positive)\n",
        "\n",
        "        sentences_all.extend(sents_positive)\n",
        "        labels_all.extend(sents_positive_labels)\n",
        "        doc_ids_all.extend(doc_id)\n",
        "        id += 1\n",
        "\n",
        "    df_result = pd.DataFrame({\n",
        "            'doc_id': doc_ids_all,\n",
        "            'liver_sentences': sentences_all,\n",
        "            'liver_sent_labels': labels_all,\n",
        "        })\n",
        "    return df_result "
      ],
      "execution_count": null,
      "outputs": []
    },
    {
      "cell_type": "markdown",
      "source": [
        "## CAMDA-2022"
      ],
      "metadata": {
        "id": "yfScVn46459A"
      }
    },
    {
      "cell_type": "markdown",
      "source": [
        "### load tables"
      ],
      "metadata": {
        "id": "bGYUdpyL7LPh"
      }
    },
    {
      "cell_type": "code",
      "source": [
        "!ls '/content/gdrive/My Drive/CAMDA2022'"
      ],
      "metadata": {
        "colab": {
          "base_uri": "https://localhost:8080/"
        },
        "id": "eRUPyezR5aIb",
        "outputId": "88593f76-1f7a-4fbb-f120-aa29f89695d5"
      },
      "execution_count": null,
      "outputs": [
        {
          "output_type": "stream",
          "name": "stdout",
          "text": [
            "CAMDA2022_2.xlsx  CAMDA2022.xlsx  Data1_pred.xlsx  Data2_pred.xlsx\n"
          ]
        }
      ]
    },
    {
      "cell_type": "code",
      "metadata": {
        "id": "Mty5csBacc3N"
      },
      "source": [
        "# set path to directory containing the pdf files for text mining\n",
        "dirpath_test = '/content/gdrive/My Drive/CAMDA2022'\n",
        "\n",
        "# filename_test = 'test_doc_multiclass_20200830.pkl'\n",
        "filename_test = 'CAMDA2022_2.xlsx'\n",
        "\n",
        "filepath = os.path.join(dirpath_test, filename_test)"
      ],
      "execution_count": null,
      "outputs": []
    },
    {
      "cell_type": "code",
      "source": [
        "test_1 = pd.read_excel(filepath, sheet_name=\"Data1\")\n",
        "test_2 = pd.read_excel(filepath, sheet_name=\"Data2\")\n",
        "test_1.head()"
      ],
      "metadata": {
        "id": "Ot4rioAK5oVQ",
        "colab": {
          "base_uri": "https://localhost:8080/",
          "height": 206
        },
        "outputId": "82c46edf-8dbc-44b7-dfb1-7a53dc6a520b"
      },
      "execution_count": null,
      "outputs": [
        {
          "output_type": "execute_result",
          "data": {
            "text/html": [
              "<div>\n",
              "<style scoped>\n",
              "    .dataframe tbody tr th:only-of-type {\n",
              "        vertical-align: middle;\n",
              "    }\n",
              "\n",
              "    .dataframe tbody tr th {\n",
              "        vertical-align: top;\n",
              "    }\n",
              "\n",
              "    .dataframe thead th {\n",
              "        text-align: right;\n",
              "    }\n",
              "</style>\n",
              "<table border=\"1\" class=\"dataframe\">\n",
              "  <thead>\n",
              "    <tr style=\"text-align: right;\">\n",
              "      <th></th>\n",
              "      <th>CAID</th>\n",
              "      <th>Description</th>\n",
              "    </tr>\n",
              "  </thead>\n",
              "  <tbody>\n",
              "    <tr>\n",
              "      <th>0</th>\n",
              "      <td>1</td>\n",
              "      <td>BACKGROUND AND  Overweight in adolescents may ...</td>\n",
              "    </tr>\n",
              "    <tr>\n",
              "      <th>1</th>\n",
              "      <td>2</td>\n",
              "      <td>Indocyanine green [ICG] testing of 55 patients...</td>\n",
              "    </tr>\n",
              "    <tr>\n",
              "      <th>2</th>\n",
              "      <td>3</td>\n",
              "      <td>Nitric oxide is a vasodilator tonically secret...</td>\n",
              "    </tr>\n",
              "    <tr>\n",
              "      <th>3</th>\n",
              "      <td>4</td>\n",
              "      <td>Two patients, 77 and 62 year old men with rena...</td>\n",
              "    </tr>\n",
              "    <tr>\n",
              "      <th>4</th>\n",
              "      <td>5</td>\n",
              "      <td>Among 18 patients with relapsed B cell lymphom...</td>\n",
              "    </tr>\n",
              "  </tbody>\n",
              "</table>\n",
              "</div>"
            ],
            "text/plain": [
              "   CAID                                        Description\n",
              "0     1  BACKGROUND AND  Overweight in adolescents may ...\n",
              "1     2  Indocyanine green [ICG] testing of 55 patients...\n",
              "2     3  Nitric oxide is a vasodilator tonically secret...\n",
              "3     4  Two patients, 77 and 62 year old men with rena...\n",
              "4     5  Among 18 patients with relapsed B cell lymphom..."
            ]
          },
          "metadata": {},
          "execution_count": 39
        }
      ]
    },
    {
      "cell_type": "code",
      "source": [
        "test_1['Description'] = test_1['Description'].apply(lowercase_text)\n",
        "test_1.head()"
      ],
      "metadata": {
        "colab": {
          "base_uri": "https://localhost:8080/",
          "height": 206
        },
        "id": "-nO2vF9Y5vuQ",
        "outputId": "bb0761be-7b84-42e2-de1c-0a9f415debc1"
      },
      "execution_count": null,
      "outputs": [
        {
          "output_type": "execute_result",
          "data": {
            "text/html": [
              "<div>\n",
              "<style scoped>\n",
              "    .dataframe tbody tr th:only-of-type {\n",
              "        vertical-align: middle;\n",
              "    }\n",
              "\n",
              "    .dataframe tbody tr th {\n",
              "        vertical-align: top;\n",
              "    }\n",
              "\n",
              "    .dataframe thead th {\n",
              "        text-align: right;\n",
              "    }\n",
              "</style>\n",
              "<table border=\"1\" class=\"dataframe\">\n",
              "  <thead>\n",
              "    <tr style=\"text-align: right;\">\n",
              "      <th></th>\n",
              "      <th>CAID</th>\n",
              "      <th>Description</th>\n",
              "    </tr>\n",
              "  </thead>\n",
              "  <tbody>\n",
              "    <tr>\n",
              "      <th>0</th>\n",
              "      <td>1</td>\n",
              "      <td>background and overweight in adolescents may h...</td>\n",
              "    </tr>\n",
              "    <tr>\n",
              "      <th>1</th>\n",
              "      <td>2</td>\n",
              "      <td>indocyanine green [icg] testing of 55 patients...</td>\n",
              "    </tr>\n",
              "    <tr>\n",
              "      <th>2</th>\n",
              "      <td>3</td>\n",
              "      <td>nitric oxide is a vasodilator tonically secret...</td>\n",
              "    </tr>\n",
              "    <tr>\n",
              "      <th>3</th>\n",
              "      <td>4</td>\n",
              "      <td>two patients, 77 and 62 year old men with rena...</td>\n",
              "    </tr>\n",
              "    <tr>\n",
              "      <th>4</th>\n",
              "      <td>5</td>\n",
              "      <td>among 18 patients with relapsed b cell lymphom...</td>\n",
              "    </tr>\n",
              "  </tbody>\n",
              "</table>\n",
              "</div>"
            ],
            "text/plain": [
              "   CAID                                        Description\n",
              "0     1  background and overweight in adolescents may h...\n",
              "1     2  indocyanine green [icg] testing of 55 patients...\n",
              "2     3  nitric oxide is a vasodilator tonically secret...\n",
              "3     4  two patients, 77 and 62 year old men with rena...\n",
              "4     5  among 18 patients with relapsed b cell lymphom..."
            ]
          },
          "metadata": {},
          "execution_count": 40
        }
      ]
    },
    {
      "cell_type": "code",
      "source": [
        "test_2['Description'] = test_2['Description'].apply(lowercase_text)\n",
        "test_2.head()"
      ],
      "metadata": {
        "colab": {
          "base_uri": "https://localhost:8080/",
          "height": 206
        },
        "id": "aZZyJBu_6fzq",
        "outputId": "2d9cc8d8-5bf9-4546-bb69-897c7cd4d01e"
      },
      "execution_count": null,
      "outputs": [
        {
          "output_type": "execute_result",
          "data": {
            "text/html": [
              "<div>\n",
              "<style scoped>\n",
              "    .dataframe tbody tr th:only-of-type {\n",
              "        vertical-align: middle;\n",
              "    }\n",
              "\n",
              "    .dataframe tbody tr th {\n",
              "        vertical-align: top;\n",
              "    }\n",
              "\n",
              "    .dataframe thead th {\n",
              "        text-align: right;\n",
              "    }\n",
              "</style>\n",
              "<table border=\"1\" class=\"dataframe\">\n",
              "  <thead>\n",
              "    <tr style=\"text-align: right;\">\n",
              "      <th></th>\n",
              "      <th>CAID</th>\n",
              "      <th>Description</th>\n",
              "    </tr>\n",
              "  </thead>\n",
              "  <tbody>\n",
              "    <tr>\n",
              "      <th>0</th>\n",
              "      <td>14001</td>\n",
              "      <td>among 4921 patients with deep venous thrombosi...</td>\n",
              "    </tr>\n",
              "    <tr>\n",
              "      <th>1</th>\n",
              "      <td>14002</td>\n",
              "      <td>a 42-year-old man presented with impaired nasa...</td>\n",
              "    </tr>\n",
              "    <tr>\n",
              "      <th>2</th>\n",
              "      <td>14003</td>\n",
              "      <td>primary sclerosing cholangitis (psc) is charac...</td>\n",
              "    </tr>\n",
              "    <tr>\n",
              "      <th>3</th>\n",
              "      <td>14004</td>\n",
              "      <td>description of 6 patients with a myeloprolifer...</td>\n",
              "    </tr>\n",
              "    <tr>\n",
              "      <th>4</th>\n",
              "      <td>14005</td>\n",
              "      <td>intravenous infusion of magnesium sulfate prev...</td>\n",
              "    </tr>\n",
              "  </tbody>\n",
              "</table>\n",
              "</div>"
            ],
            "text/plain": [
              "    CAID                                        Description\n",
              "0  14001  among 4921 patients with deep venous thrombosi...\n",
              "1  14002  a 42-year-old man presented with impaired nasa...\n",
              "2  14003  primary sclerosing cholangitis (psc) is charac...\n",
              "3  14004  description of 6 patients with a myeloprolifer...\n",
              "4  14005  intravenous infusion of magnesium sulfate prev..."
            ]
          },
          "metadata": {},
          "execution_count": 41
        }
      ]
    },
    {
      "cell_type": "markdown",
      "source": [
        "### predict"
      ],
      "metadata": {
        "id": "cl5zcTJp7NeZ"
      }
    },
    {
      "cell_type": "code",
      "source": [
        "test_doc_1 = test_1.Description.values\n",
        "test_doc_2 = test_2.Description.values"
      ],
      "metadata": {
        "id": "u3CXQdHJ6iWP"
      },
      "execution_count": null,
      "outputs": []
    },
    {
      "cell_type": "code",
      "source": [
        "print(f\"test_doc_1: {len(test_doc_1)}\")\n",
        "print(f\"test_doc_2: {len(test_doc_2)}\")"
      ],
      "metadata": {
        "colab": {
          "base_uri": "https://localhost:8080/"
        },
        "id": "W_y5ptqD7Z1N",
        "outputId": "78d36798-7bcc-4047-8245-c537fb36d6fd"
      },
      "execution_count": null,
      "outputs": [
        {
          "output_type": "stream",
          "name": "stdout",
          "text": [
            "test_doc_1: 14000\n",
            "test_doc_2: 11030\n"
          ]
        }
      ]
    },
    {
      "cell_type": "code",
      "source": [
        "# AI\n",
        "doc_1_pred_labels_AI = doc_Clf(test_doc_1)\n",
        "# doc_1_pred_labels_AI\n",
        "test_1['pred_AI'] = doc_1_pred_labels_AI"
      ],
      "metadata": {
        "colab": {
          "base_uri": "https://localhost:8080/"
        },
        "id": "DE5EwCyA7ymg",
        "outputId": "0a7580c7-ca4c-4160-e7e9-e1e5d2e8351f"
      },
      "execution_count": null,
      "outputs": [
        {
          "output_type": "stream",
          "name": "stderr",
          "text": [
            "100%|██████████| 14000/14000 [29:34<00:00,  7.89it/s]\n"
          ]
        }
      ]
    },
    {
      "cell_type": "code",
      "source": [
        "# hybrid AI\n",
        "doc_1_pred_labels_hybrid = doc_Clf_HybridAI(test_doc_1)\n",
        "# doc_1_pred_labels_hybrid\n",
        "test_1['pred_hybridAI'] = doc_1_pred_labels_hybrid"
      ],
      "metadata": {
        "colab": {
          "base_uri": "https://localhost:8080/"
        },
        "id": "9W0GNinD8dkt",
        "outputId": "149bffe9-ff40-4ebe-bb3f-f37c45252a43"
      },
      "execution_count": null,
      "outputs": [
        {
          "output_type": "stream",
          "name": "stderr",
          "text": [
            "100%|██████████| 14000/14000 [11:27<00:00, 20.36it/s]\n"
          ]
        }
      ]
    },
    {
      "cell_type": "code",
      "source": [
        "# keywords only\n",
        "doc_1_pred_labels_KWs = doc_Clf_KWs(test_doc_1)\n",
        "# doc_1_pred_labels_KWs\n",
        "test_1['pred_keywords'] = doc_1_pred_labels_KWs"
      ],
      "metadata": {
        "colab": {
          "base_uri": "https://localhost:8080/"
        },
        "id": "L2-XT3Hk8diA",
        "outputId": "be65ee77-41d9-4945-cc04-4ea96aa25d4e"
      },
      "execution_count": null,
      "outputs": [
        {
          "output_type": "stream",
          "name": "stderr",
          "text": [
            "100%|██████████| 14000/14000 [00:01<00:00, 13072.44it/s]\n"
          ]
        }
      ]
    },
    {
      "cell_type": "code",
      "source": [
        "test_1.to_excel(os.path.join(dirpath_test, \"Data1_pred_2.xlsx\"))"
      ],
      "metadata": {
        "id": "pxpYypqL8dfj"
      },
      "execution_count": null,
      "outputs": []
    },
    {
      "cell_type": "code",
      "source": [
        "# AI\n",
        "doc_2_pred_labels_AI = doc_Clf(test_doc_2)\n",
        "# doc_2_pred_labels_AI\n",
        "test_2['pred_AI'] = doc_2_pred_labels_AI"
      ],
      "metadata": {
        "colab": {
          "base_uri": "https://localhost:8080/"
        },
        "id": "7ni33efC8dc6",
        "outputId": "f3861ca5-63d2-4248-ed52-7bf647de7081"
      },
      "execution_count": null,
      "outputs": [
        {
          "output_type": "stream",
          "name": "stderr",
          "text": [
            "100%|██████████| 11030/11030 [21:58<00:00,  8.37it/s]\n"
          ]
        }
      ]
    },
    {
      "cell_type": "code",
      "source": [
        "# hybrid AI\n",
        "doc_2_pred_labels_hybrid = doc_Clf_HybridAI(test_doc_2)\n",
        "# doc_2_pred_labels_hybrid\n",
        "test_2['pred_hybridAI'] = doc_2_pred_labels_hybrid"
      ],
      "metadata": {
        "colab": {
          "base_uri": "https://localhost:8080/"
        },
        "id": "gGNLaQWURR8u",
        "outputId": "0d752e5f-6cf5-4029-818e-992de78e74be"
      },
      "execution_count": null,
      "outputs": [
        {
          "output_type": "stream",
          "name": "stderr",
          "text": [
            "100%|██████████| 11030/11030 [08:39<00:00, 21.22it/s]\n"
          ]
        }
      ]
    },
    {
      "cell_type": "code",
      "source": [
        "# keywords only\n",
        "doc_2_pred_labels_KWs = doc_Clf_KWs(test_doc_2)\n",
        "# doc_2_pred_labels_KWs\n",
        "test_2['pred_keywords'] = doc_2_pred_labels_KWs"
      ],
      "metadata": {
        "colab": {
          "base_uri": "https://localhost:8080/"
        },
        "id": "DY79kMUbRT6R",
        "outputId": "64b33c2c-cd22-436e-8890-d2f0ea3db781"
      },
      "execution_count": null,
      "outputs": [
        {
          "output_type": "stream",
          "name": "stderr",
          "text": [
            "100%|██████████| 11030/11030 [00:00<00:00, 13182.46it/s]\n"
          ]
        }
      ]
    },
    {
      "cell_type": "code",
      "source": [
        "test_2.to_excel(os.path.join(dirpath_test, \"Data2_pred_2.xlsx\"))"
      ],
      "metadata": {
        "id": "gMhvOkRcRT3T"
      },
      "execution_count": null,
      "outputs": []
    },
    {
      "cell_type": "code",
      "source": [
        "test_2_pred = pd.read_excel(os.path.join(dirpath_test, \"Data2_pred.xlsx\"))\n",
        "test_2.head()"
      ],
      "metadata": {
        "colab": {
          "base_uri": "https://localhost:8080/",
          "height": 206
        },
        "id": "dmIDkvGvRT0S",
        "outputId": "97ac2b97-fd07-4381-d6b2-25d3065ba3e8"
      },
      "execution_count": null,
      "outputs": [
        {
          "output_type": "execute_result",
          "data": {
            "text/html": [
              "<div>\n",
              "<style scoped>\n",
              "    .dataframe tbody tr th:only-of-type {\n",
              "        vertical-align: middle;\n",
              "    }\n",
              "\n",
              "    .dataframe tbody tr th {\n",
              "        vertical-align: top;\n",
              "    }\n",
              "\n",
              "    .dataframe thead th {\n",
              "        text-align: right;\n",
              "    }\n",
              "</style>\n",
              "<table border=\"1\" class=\"dataframe\">\n",
              "  <thead>\n",
              "    <tr style=\"text-align: right;\">\n",
              "      <th></th>\n",
              "      <th>CMID</th>\n",
              "      <th>Description</th>\n",
              "      <th>pred_AI</th>\n",
              "      <th>pred_hybridAI</th>\n",
              "      <th>pred_keywords</th>\n",
              "    </tr>\n",
              "  </thead>\n",
              "  <tbody>\n",
              "    <tr>\n",
              "      <th>0</th>\n",
              "      <td>14001</td>\n",
              "      <td>commentary on the who global introspection met...</td>\n",
              "      <td>0</td>\n",
              "      <td>0</td>\n",
              "      <td>1</td>\n",
              "    </tr>\n",
              "    <tr>\n",
              "      <th>1</th>\n",
              "      <td>14002</td>\n",
              "      <td>hedgehog (hh) ligand production by ballooned h...</td>\n",
              "      <td>1</td>\n",
              "      <td>1</td>\n",
              "      <td>1</td>\n",
              "    </tr>\n",
              "    <tr>\n",
              "      <th>2</th>\n",
              "      <td>14003</td>\n",
              "      <td>clinicians continue to raise questions concern...</td>\n",
              "      <td>0</td>\n",
              "      <td>0</td>\n",
              "      <td>1</td>\n",
              "    </tr>\n",
              "    <tr>\n",
              "      <th>3</th>\n",
              "      <td>14004</td>\n",
              "      <td>primary liver cancer is the third most common ...</td>\n",
              "      <td>0</td>\n",
              "      <td>0</td>\n",
              "      <td>1</td>\n",
              "    </tr>\n",
              "    <tr>\n",
              "      <th>4</th>\n",
              "      <td>14005</td>\n",
              "      <td>overview of hepatotoxicity of antidiabetic med...</td>\n",
              "      <td>0</td>\n",
              "      <td>0</td>\n",
              "      <td>1</td>\n",
              "    </tr>\n",
              "  </tbody>\n",
              "</table>\n",
              "</div>"
            ],
            "text/plain": [
              "    CMID  ... pred_keywords\n",
              "0  14001  ...             1\n",
              "1  14002  ...             1\n",
              "2  14003  ...             1\n",
              "3  14004  ...             1\n",
              "4  14005  ...             1\n",
              "\n",
              "[5 rows x 5 columns]"
            ]
          },
          "metadata": {},
          "execution_count": 67
        }
      ]
    },
    {
      "cell_type": "code",
      "source": [
        ""
      ],
      "metadata": {
        "id": "pwX7jsOwRTxX"
      },
      "execution_count": null,
      "outputs": []
    }
  ]
}